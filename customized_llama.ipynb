{
 "cells": [
  {
   "cell_type": "markdown",
   "metadata": {},
   "source": [
    "## Setup"
   ]
  },
  {
   "cell_type": "markdown",
   "metadata": {},
   "source": [
    "#### Load the API key and libaries."
   ]
  },
  {
   "cell_type": "code",
   "execution_count": 1,
   "metadata": {},
   "outputs": [],
   "source": [
    "from src.LLM_Evaluation import LLAMA\n",
    "import pandas as pd"
   ]
  },
  {
   "cell_type": "markdown",
   "metadata": {},
   "source": [
    "#### Load the Constants"
   ]
  },
  {
   "cell_type": "code",
   "execution_count": 2,
   "metadata": {},
   "outputs": [],
   "source": [
    "PATH = 'data/Portuguese_test.csv'\n",
    "MODEL = \"Llama-2-7b\"\n",
    "TEMPERATURE = 0.3\n",
    "N_REPETITIONS = 3\n",
    "REASONING = True\n",
    "LANGUAGES = ['english', 'portuguese']\n",
    "MAX_TOKENS = 512"
   ]
  },
  {
   "cell_type": "markdown",
   "metadata": {},
   "source": [
    "### Create an Instance of the model"
   ]
  },
  {
   "cell_type": "code",
   "execution_count": 3,
   "metadata": {},
   "outputs": [
    {
     "name": "stdin",
     "output_type": "stream",
     "text": [
      "The model file 'Models/Llama-2-7b.gguf' already exists. Do you want to overwrite it? (yes/no):  No\n"
     ]
    },
    {
     "name": "stdout",
     "output_type": "stream",
     "text": [
      "Model installation aborted.\n"
     ]
    },
    {
     "name": "stderr",
     "output_type": "stream",
     "text": [
      "llama_model_loader: loaded meta data with 19 key-value pairs and 291 tensors from Models/Llama-2-7b.gguf (version GGUF V2 (latest))\n",
      "llama_model_loader: - tensor    0:                token_embd.weight q8_0     [  4096, 32000,     1,     1 ]\n",
      "llama_model_loader: - tensor    1:           blk.0.attn_norm.weight f32      [  4096,     1,     1,     1 ]\n",
      "llama_model_loader: - tensor    2:            blk.0.ffn_down.weight q8_0     [ 11008,  4096,     1,     1 ]\n",
      "llama_model_loader: - tensor    3:            blk.0.ffn_gate.weight q8_0     [  4096, 11008,     1,     1 ]\n",
      "llama_model_loader: - tensor    4:              blk.0.ffn_up.weight q8_0     [  4096, 11008,     1,     1 ]\n",
      "llama_model_loader: - tensor    5:            blk.0.ffn_norm.weight f32      [  4096,     1,     1,     1 ]\n",
      "llama_model_loader: - tensor    6:              blk.0.attn_k.weight q8_0     [  4096,  4096,     1,     1 ]\n",
      "llama_model_loader: - tensor    7:         blk.0.attn_output.weight q8_0     [  4096,  4096,     1,     1 ]\n",
      "llama_model_loader: - tensor    8:              blk.0.attn_q.weight q8_0     [  4096,  4096,     1,     1 ]\n",
      "llama_model_loader: - tensor    9:              blk.0.attn_v.weight q8_0     [  4096,  4096,     1,     1 ]\n",
      "llama_model_loader: - tensor   10:           blk.1.attn_norm.weight f32      [  4096,     1,     1,     1 ]\n",
      "llama_model_loader: - tensor   11:            blk.1.ffn_down.weight q8_0     [ 11008,  4096,     1,     1 ]\n",
      "llama_model_loader: - tensor   12:            blk.1.ffn_gate.weight q8_0     [  4096, 11008,     1,     1 ]\n",
      "llama_model_loader: - tensor   13:              blk.1.ffn_up.weight q8_0     [  4096, 11008,     1,     1 ]\n",
      "llama_model_loader: - tensor   14:            blk.1.ffn_norm.weight f32      [  4096,     1,     1,     1 ]\n",
      "llama_model_loader: - tensor   15:              blk.1.attn_k.weight q8_0     [  4096,  4096,     1,     1 ]\n",
      "llama_model_loader: - tensor   16:         blk.1.attn_output.weight q8_0     [  4096,  4096,     1,     1 ]\n",
      "llama_model_loader: - tensor   17:              blk.1.attn_q.weight q8_0     [  4096,  4096,     1,     1 ]\n",
      "llama_model_loader: - tensor   18:              blk.1.attn_v.weight q8_0     [  4096,  4096,     1,     1 ]\n",
      "llama_model_loader: - tensor   19:          blk.10.attn_norm.weight f32      [  4096,     1,     1,     1 ]\n",
      "llama_model_loader: - tensor   20:           blk.10.ffn_down.weight q8_0     [ 11008,  4096,     1,     1 ]\n",
      "llama_model_loader: - tensor   21:           blk.10.ffn_gate.weight q8_0     [  4096, 11008,     1,     1 ]\n",
      "llama_model_loader: - tensor   22:             blk.10.ffn_up.weight q8_0     [  4096, 11008,     1,     1 ]\n",
      "llama_model_loader: - tensor   23:           blk.10.ffn_norm.weight f32      [  4096,     1,     1,     1 ]\n",
      "llama_model_loader: - tensor   24:             blk.10.attn_k.weight q8_0     [  4096,  4096,     1,     1 ]\n",
      "llama_model_loader: - tensor   25:        blk.10.attn_output.weight q8_0     [  4096,  4096,     1,     1 ]\n",
      "llama_model_loader: - tensor   26:             blk.10.attn_q.weight q8_0     [  4096,  4096,     1,     1 ]\n",
      "llama_model_loader: - tensor   27:             blk.10.attn_v.weight q8_0     [  4096,  4096,     1,     1 ]\n",
      "llama_model_loader: - tensor   28:          blk.11.attn_norm.weight f32      [  4096,     1,     1,     1 ]\n",
      "llama_model_loader: - tensor   29:           blk.11.ffn_down.weight q8_0     [ 11008,  4096,     1,     1 ]\n",
      "llama_model_loader: - tensor   30:           blk.11.ffn_gate.weight q8_0     [  4096, 11008,     1,     1 ]\n",
      "llama_model_loader: - tensor   31:             blk.11.ffn_up.weight q8_0     [  4096, 11008,     1,     1 ]\n",
      "llama_model_loader: - tensor   32:           blk.11.ffn_norm.weight f32      [  4096,     1,     1,     1 ]\n",
      "llama_model_loader: - tensor   33:             blk.11.attn_k.weight q8_0     [  4096,  4096,     1,     1 ]\n",
      "llama_model_loader: - tensor   34:        blk.11.attn_output.weight q8_0     [  4096,  4096,     1,     1 ]\n",
      "llama_model_loader: - tensor   35:             blk.11.attn_q.weight q8_0     [  4096,  4096,     1,     1 ]\n",
      "llama_model_loader: - tensor   36:             blk.11.attn_v.weight q8_0     [  4096,  4096,     1,     1 ]\n",
      "llama_model_loader: - tensor   37:          blk.12.attn_norm.weight f32      [  4096,     1,     1,     1 ]\n",
      "llama_model_loader: - tensor   38:           blk.12.ffn_down.weight q8_0     [ 11008,  4096,     1,     1 ]\n",
      "llama_model_loader: - tensor   39:           blk.12.ffn_gate.weight q8_0     [  4096, 11008,     1,     1 ]\n",
      "llama_model_loader: - tensor   40:             blk.12.ffn_up.weight q8_0     [  4096, 11008,     1,     1 ]\n",
      "llama_model_loader: - tensor   41:           blk.12.ffn_norm.weight f32      [  4096,     1,     1,     1 ]\n",
      "llama_model_loader: - tensor   42:             blk.12.attn_k.weight q8_0     [  4096,  4096,     1,     1 ]\n",
      "llama_model_loader: - tensor   43:        blk.12.attn_output.weight q8_0     [  4096,  4096,     1,     1 ]\n",
      "llama_model_loader: - tensor   44:             blk.12.attn_q.weight q8_0     [  4096,  4096,     1,     1 ]\n",
      "llama_model_loader: - tensor   45:             blk.12.attn_v.weight q8_0     [  4096,  4096,     1,     1 ]\n",
      "llama_model_loader: - tensor   46:          blk.13.attn_norm.weight f32      [  4096,     1,     1,     1 ]\n",
      "llama_model_loader: - tensor   47:           blk.13.ffn_down.weight q8_0     [ 11008,  4096,     1,     1 ]\n",
      "llama_model_loader: - tensor   48:           blk.13.ffn_gate.weight q8_0     [  4096, 11008,     1,     1 ]\n",
      "llama_model_loader: - tensor   49:             blk.13.ffn_up.weight q8_0     [  4096, 11008,     1,     1 ]\n",
      "llama_model_loader: - tensor   50:           blk.13.ffn_norm.weight f32      [  4096,     1,     1,     1 ]\n",
      "llama_model_loader: - tensor   51:             blk.13.attn_k.weight q8_0     [  4096,  4096,     1,     1 ]\n",
      "llama_model_loader: - tensor   52:        blk.13.attn_output.weight q8_0     [  4096,  4096,     1,     1 ]\n",
      "llama_model_loader: - tensor   53:             blk.13.attn_q.weight q8_0     [  4096,  4096,     1,     1 ]\n",
      "llama_model_loader: - tensor   54:             blk.13.attn_v.weight q8_0     [  4096,  4096,     1,     1 ]\n",
      "llama_model_loader: - tensor   55:          blk.14.attn_norm.weight f32      [  4096,     1,     1,     1 ]\n",
      "llama_model_loader: - tensor   56:           blk.14.ffn_down.weight q8_0     [ 11008,  4096,     1,     1 ]\n",
      "llama_model_loader: - tensor   57:           blk.14.ffn_gate.weight q8_0     [  4096, 11008,     1,     1 ]\n",
      "llama_model_loader: - tensor   58:             blk.14.ffn_up.weight q8_0     [  4096, 11008,     1,     1 ]\n",
      "llama_model_loader: - tensor   59:           blk.14.ffn_norm.weight f32      [  4096,     1,     1,     1 ]\n",
      "llama_model_loader: - tensor   60:             blk.14.attn_k.weight q8_0     [  4096,  4096,     1,     1 ]\n",
      "llama_model_loader: - tensor   61:        blk.14.attn_output.weight q8_0     [  4096,  4096,     1,     1 ]\n",
      "llama_model_loader: - tensor   62:             blk.14.attn_q.weight q8_0     [  4096,  4096,     1,     1 ]\n",
      "llama_model_loader: - tensor   63:             blk.14.attn_v.weight q8_0     [  4096,  4096,     1,     1 ]\n",
      "llama_model_loader: - tensor   64:          blk.15.attn_norm.weight f32      [  4096,     1,     1,     1 ]\n",
      "llama_model_loader: - tensor   65:           blk.15.ffn_down.weight q8_0     [ 11008,  4096,     1,     1 ]\n",
      "llama_model_loader: - tensor   66:           blk.15.ffn_gate.weight q8_0     [  4096, 11008,     1,     1 ]\n",
      "llama_model_loader: - tensor   67:             blk.15.ffn_up.weight q8_0     [  4096, 11008,     1,     1 ]\n",
      "llama_model_loader: - tensor   68:           blk.15.ffn_norm.weight f32      [  4096,     1,     1,     1 ]\n",
      "llama_model_loader: - tensor   69:             blk.15.attn_k.weight q8_0     [  4096,  4096,     1,     1 ]\n",
      "llama_model_loader: - tensor   70:        blk.15.attn_output.weight q8_0     [  4096,  4096,     1,     1 ]\n",
      "llama_model_loader: - tensor   71:             blk.15.attn_q.weight q8_0     [  4096,  4096,     1,     1 ]\n",
      "llama_model_loader: - tensor   72:             blk.15.attn_v.weight q8_0     [  4096,  4096,     1,     1 ]\n",
      "llama_model_loader: - tensor   73:          blk.16.attn_norm.weight f32      [  4096,     1,     1,     1 ]\n",
      "llama_model_loader: - tensor   74:           blk.16.ffn_down.weight q8_0     [ 11008,  4096,     1,     1 ]\n",
      "llama_model_loader: - tensor   75:           blk.16.ffn_gate.weight q8_0     [  4096, 11008,     1,     1 ]\n",
      "llama_model_loader: - tensor   76:             blk.16.ffn_up.weight q8_0     [  4096, 11008,     1,     1 ]\n",
      "llama_model_loader: - tensor   77:           blk.16.ffn_norm.weight f32      [  4096,     1,     1,     1 ]\n",
      "llama_model_loader: - tensor   78:             blk.16.attn_k.weight q8_0     [  4096,  4096,     1,     1 ]\n",
      "llama_model_loader: - tensor   79:        blk.16.attn_output.weight q8_0     [  4096,  4096,     1,     1 ]\n",
      "llama_model_loader: - tensor   80:             blk.16.attn_q.weight q8_0     [  4096,  4096,     1,     1 ]\n",
      "llama_model_loader: - tensor   81:             blk.16.attn_v.weight q8_0     [  4096,  4096,     1,     1 ]\n",
      "llama_model_loader: - tensor   82:          blk.17.attn_norm.weight f32      [  4096,     1,     1,     1 ]\n",
      "llama_model_loader: - tensor   83:           blk.17.ffn_down.weight q8_0     [ 11008,  4096,     1,     1 ]\n",
      "llama_model_loader: - tensor   84:           blk.17.ffn_gate.weight q8_0     [  4096, 11008,     1,     1 ]\n",
      "llama_model_loader: - tensor   85:             blk.17.ffn_up.weight q8_0     [  4096, 11008,     1,     1 ]\n",
      "llama_model_loader: - tensor   86:           blk.17.ffn_norm.weight f32      [  4096,     1,     1,     1 ]\n",
      "llama_model_loader: - tensor   87:             blk.17.attn_k.weight q8_0     [  4096,  4096,     1,     1 ]\n",
      "llama_model_loader: - tensor   88:        blk.17.attn_output.weight q8_0     [  4096,  4096,     1,     1 ]\n",
      "llama_model_loader: - tensor   89:             blk.17.attn_q.weight q8_0     [  4096,  4096,     1,     1 ]\n",
      "llama_model_loader: - tensor   90:             blk.17.attn_v.weight q8_0     [  4096,  4096,     1,     1 ]\n",
      "llama_model_loader: - tensor   91:          blk.18.attn_norm.weight f32      [  4096,     1,     1,     1 ]\n",
      "llama_model_loader: - tensor   92:           blk.18.ffn_down.weight q8_0     [ 11008,  4096,     1,     1 ]\n",
      "llama_model_loader: - tensor   93:           blk.18.ffn_gate.weight q8_0     [  4096, 11008,     1,     1 ]\n",
      "llama_model_loader: - tensor   94:             blk.18.ffn_up.weight q8_0     [  4096, 11008,     1,     1 ]\n",
      "llama_model_loader: - tensor   95:           blk.18.ffn_norm.weight f32      [  4096,     1,     1,     1 ]\n",
      "llama_model_loader: - tensor   96:             blk.18.attn_k.weight q8_0     [  4096,  4096,     1,     1 ]\n",
      "llama_model_loader: - tensor   97:        blk.18.attn_output.weight q8_0     [  4096,  4096,     1,     1 ]\n",
      "llama_model_loader: - tensor   98:             blk.18.attn_q.weight q8_0     [  4096,  4096,     1,     1 ]\n",
      "llama_model_loader: - tensor   99:             blk.18.attn_v.weight q8_0     [  4096,  4096,     1,     1 ]\n",
      "llama_model_loader: - tensor  100:          blk.19.attn_norm.weight f32      [  4096,     1,     1,     1 ]\n",
      "llama_model_loader: - tensor  101:           blk.19.ffn_down.weight q8_0     [ 11008,  4096,     1,     1 ]\n",
      "llama_model_loader: - tensor  102:           blk.19.ffn_gate.weight q8_0     [  4096, 11008,     1,     1 ]\n",
      "llama_model_loader: - tensor  103:             blk.19.ffn_up.weight q8_0     [  4096, 11008,     1,     1 ]\n",
      "llama_model_loader: - tensor  104:           blk.19.ffn_norm.weight f32      [  4096,     1,     1,     1 ]\n",
      "llama_model_loader: - tensor  105:             blk.19.attn_k.weight q8_0     [  4096,  4096,     1,     1 ]\n",
      "llama_model_loader: - tensor  106:        blk.19.attn_output.weight q8_0     [  4096,  4096,     1,     1 ]\n",
      "llama_model_loader: - tensor  107:             blk.19.attn_q.weight q8_0     [  4096,  4096,     1,     1 ]\n",
      "llama_model_loader: - tensor  108:             blk.19.attn_v.weight q8_0     [  4096,  4096,     1,     1 ]\n",
      "llama_model_loader: - tensor  109:           blk.2.attn_norm.weight f32      [  4096,     1,     1,     1 ]\n",
      "llama_model_loader: - tensor  110:            blk.2.ffn_down.weight q8_0     [ 11008,  4096,     1,     1 ]\n",
      "llama_model_loader: - tensor  111:            blk.2.ffn_gate.weight q8_0     [  4096, 11008,     1,     1 ]\n",
      "llama_model_loader: - tensor  112:              blk.2.ffn_up.weight q8_0     [  4096, 11008,     1,     1 ]\n",
      "llama_model_loader: - tensor  113:            blk.2.ffn_norm.weight f32      [  4096,     1,     1,     1 ]\n",
      "llama_model_loader: - tensor  114:              blk.2.attn_k.weight q8_0     [  4096,  4096,     1,     1 ]\n",
      "llama_model_loader: - tensor  115:         blk.2.attn_output.weight q8_0     [  4096,  4096,     1,     1 ]\n",
      "llama_model_loader: - tensor  116:              blk.2.attn_q.weight q8_0     [  4096,  4096,     1,     1 ]\n",
      "llama_model_loader: - tensor  117:              blk.2.attn_v.weight q8_0     [  4096,  4096,     1,     1 ]\n",
      "llama_model_loader: - tensor  118:          blk.20.attn_norm.weight f32      [  4096,     1,     1,     1 ]\n",
      "llama_model_loader: - tensor  119:           blk.20.ffn_down.weight q8_0     [ 11008,  4096,     1,     1 ]\n",
      "llama_model_loader: - tensor  120:           blk.20.ffn_gate.weight q8_0     [  4096, 11008,     1,     1 ]\n",
      "llama_model_loader: - tensor  121:             blk.20.ffn_up.weight q8_0     [  4096, 11008,     1,     1 ]\n",
      "llama_model_loader: - tensor  122:           blk.20.ffn_norm.weight f32      [  4096,     1,     1,     1 ]\n",
      "llama_model_loader: - tensor  123:             blk.20.attn_k.weight q8_0     [  4096,  4096,     1,     1 ]\n",
      "llama_model_loader: - tensor  124:        blk.20.attn_output.weight q8_0     [  4096,  4096,     1,     1 ]\n",
      "llama_model_loader: - tensor  125:             blk.20.attn_q.weight q8_0     [  4096,  4096,     1,     1 ]\n",
      "llama_model_loader: - tensor  126:             blk.20.attn_v.weight q8_0     [  4096,  4096,     1,     1 ]\n",
      "llama_model_loader: - tensor  127:          blk.21.attn_norm.weight f32      [  4096,     1,     1,     1 ]\n",
      "llama_model_loader: - tensor  128:           blk.21.ffn_down.weight q8_0     [ 11008,  4096,     1,     1 ]\n",
      "llama_model_loader: - tensor  129:           blk.21.ffn_gate.weight q8_0     [  4096, 11008,     1,     1 ]\n",
      "llama_model_loader: - tensor  130:             blk.21.ffn_up.weight q8_0     [  4096, 11008,     1,     1 ]\n",
      "llama_model_loader: - tensor  131:           blk.21.ffn_norm.weight f32      [  4096,     1,     1,     1 ]\n",
      "llama_model_loader: - tensor  132:             blk.21.attn_k.weight q8_0     [  4096,  4096,     1,     1 ]\n",
      "llama_model_loader: - tensor  133:        blk.21.attn_output.weight q8_0     [  4096,  4096,     1,     1 ]\n",
      "llama_model_loader: - tensor  134:             blk.21.attn_q.weight q8_0     [  4096,  4096,     1,     1 ]\n",
      "llama_model_loader: - tensor  135:             blk.21.attn_v.weight q8_0     [  4096,  4096,     1,     1 ]\n",
      "llama_model_loader: - tensor  136:          blk.22.attn_norm.weight f32      [  4096,     1,     1,     1 ]\n",
      "llama_model_loader: - tensor  137:           blk.22.ffn_down.weight q8_0     [ 11008,  4096,     1,     1 ]\n",
      "llama_model_loader: - tensor  138:           blk.22.ffn_gate.weight q8_0     [  4096, 11008,     1,     1 ]\n",
      "llama_model_loader: - tensor  139:             blk.22.ffn_up.weight q8_0     [  4096, 11008,     1,     1 ]\n",
      "llama_model_loader: - tensor  140:           blk.22.ffn_norm.weight f32      [  4096,     1,     1,     1 ]\n",
      "llama_model_loader: - tensor  141:             blk.22.attn_k.weight q8_0     [  4096,  4096,     1,     1 ]\n",
      "llama_model_loader: - tensor  142:        blk.22.attn_output.weight q8_0     [  4096,  4096,     1,     1 ]\n",
      "llama_model_loader: - tensor  143:             blk.22.attn_q.weight q8_0     [  4096,  4096,     1,     1 ]\n",
      "llama_model_loader: - tensor  144:             blk.22.attn_v.weight q8_0     [  4096,  4096,     1,     1 ]\n",
      "llama_model_loader: - tensor  145:          blk.23.attn_norm.weight f32      [  4096,     1,     1,     1 ]\n",
      "llama_model_loader: - tensor  146:           blk.23.ffn_down.weight q8_0     [ 11008,  4096,     1,     1 ]\n",
      "llama_model_loader: - tensor  147:           blk.23.ffn_gate.weight q8_0     [  4096, 11008,     1,     1 ]\n",
      "llama_model_loader: - tensor  148:             blk.23.ffn_up.weight q8_0     [  4096, 11008,     1,     1 ]\n",
      "llama_model_loader: - tensor  149:           blk.23.ffn_norm.weight f32      [  4096,     1,     1,     1 ]\n",
      "llama_model_loader: - tensor  150:             blk.23.attn_k.weight q8_0     [  4096,  4096,     1,     1 ]\n",
      "llama_model_loader: - tensor  151:        blk.23.attn_output.weight q8_0     [  4096,  4096,     1,     1 ]\n",
      "llama_model_loader: - tensor  152:             blk.23.attn_q.weight q8_0     [  4096,  4096,     1,     1 ]\n",
      "llama_model_loader: - tensor  153:             blk.23.attn_v.weight q8_0     [  4096,  4096,     1,     1 ]\n",
      "llama_model_loader: - tensor  154:           blk.3.attn_norm.weight f32      [  4096,     1,     1,     1 ]\n",
      "llama_model_loader: - tensor  155:            blk.3.ffn_down.weight q8_0     [ 11008,  4096,     1,     1 ]\n",
      "llama_model_loader: - tensor  156:            blk.3.ffn_gate.weight q8_0     [  4096, 11008,     1,     1 ]\n",
      "llama_model_loader: - tensor  157:              blk.3.ffn_up.weight q8_0     [  4096, 11008,     1,     1 ]\n",
      "llama_model_loader: - tensor  158:            blk.3.ffn_norm.weight f32      [  4096,     1,     1,     1 ]\n",
      "llama_model_loader: - tensor  159:              blk.3.attn_k.weight q8_0     [  4096,  4096,     1,     1 ]\n",
      "llama_model_loader: - tensor  160:         blk.3.attn_output.weight q8_0     [  4096,  4096,     1,     1 ]\n",
      "llama_model_loader: - tensor  161:              blk.3.attn_q.weight q8_0     [  4096,  4096,     1,     1 ]\n",
      "llama_model_loader: - tensor  162:              blk.3.attn_v.weight q8_0     [  4096,  4096,     1,     1 ]\n",
      "llama_model_loader: - tensor  163:           blk.4.attn_norm.weight f32      [  4096,     1,     1,     1 ]\n",
      "llama_model_loader: - tensor  164:            blk.4.ffn_down.weight q8_0     [ 11008,  4096,     1,     1 ]\n",
      "llama_model_loader: - tensor  165:            blk.4.ffn_gate.weight q8_0     [  4096, 11008,     1,     1 ]\n",
      "llama_model_loader: - tensor  166:              blk.4.ffn_up.weight q8_0     [  4096, 11008,     1,     1 ]\n",
      "llama_model_loader: - tensor  167:            blk.4.ffn_norm.weight f32      [  4096,     1,     1,     1 ]\n",
      "llama_model_loader: - tensor  168:              blk.4.attn_k.weight q8_0     [  4096,  4096,     1,     1 ]\n",
      "llama_model_loader: - tensor  169:         blk.4.attn_output.weight q8_0     [  4096,  4096,     1,     1 ]\n",
      "llama_model_loader: - tensor  170:              blk.4.attn_q.weight q8_0     [  4096,  4096,     1,     1 ]\n",
      "llama_model_loader: - tensor  171:              blk.4.attn_v.weight q8_0     [  4096,  4096,     1,     1 ]\n",
      "llama_model_loader: - tensor  172:           blk.5.attn_norm.weight f32      [  4096,     1,     1,     1 ]\n",
      "llama_model_loader: - tensor  173:            blk.5.ffn_down.weight q8_0     [ 11008,  4096,     1,     1 ]\n",
      "llama_model_loader: - tensor  174:            blk.5.ffn_gate.weight q8_0     [  4096, 11008,     1,     1 ]\n",
      "llama_model_loader: - tensor  175:              blk.5.ffn_up.weight q8_0     [  4096, 11008,     1,     1 ]\n",
      "llama_model_loader: - tensor  176:            blk.5.ffn_norm.weight f32      [  4096,     1,     1,     1 ]\n",
      "llama_model_loader: - tensor  177:              blk.5.attn_k.weight q8_0     [  4096,  4096,     1,     1 ]\n",
      "llama_model_loader: - tensor  178:         blk.5.attn_output.weight q8_0     [  4096,  4096,     1,     1 ]\n",
      "llama_model_loader: - tensor  179:              blk.5.attn_q.weight q8_0     [  4096,  4096,     1,     1 ]\n",
      "llama_model_loader: - tensor  180:              blk.5.attn_v.weight q8_0     [  4096,  4096,     1,     1 ]\n",
      "llama_model_loader: - tensor  181:           blk.6.attn_norm.weight f32      [  4096,     1,     1,     1 ]\n",
      "llama_model_loader: - tensor  182:            blk.6.ffn_down.weight q8_0     [ 11008,  4096,     1,     1 ]\n",
      "llama_model_loader: - tensor  183:            blk.6.ffn_gate.weight q8_0     [  4096, 11008,     1,     1 ]\n",
      "llama_model_loader: - tensor  184:              blk.6.ffn_up.weight q8_0     [  4096, 11008,     1,     1 ]\n",
      "llama_model_loader: - tensor  185:            blk.6.ffn_norm.weight f32      [  4096,     1,     1,     1 ]\n",
      "llama_model_loader: - tensor  186:              blk.6.attn_k.weight q8_0     [  4096,  4096,     1,     1 ]\n",
      "llama_model_loader: - tensor  187:         blk.6.attn_output.weight q8_0     [  4096,  4096,     1,     1 ]\n",
      "llama_model_loader: - tensor  188:              blk.6.attn_q.weight q8_0     [  4096,  4096,     1,     1 ]\n",
      "llama_model_loader: - tensor  189:              blk.6.attn_v.weight q8_0     [  4096,  4096,     1,     1 ]\n",
      "llama_model_loader: - tensor  190:           blk.7.attn_norm.weight f32      [  4096,     1,     1,     1 ]\n",
      "llama_model_loader: - tensor  191:            blk.7.ffn_down.weight q8_0     [ 11008,  4096,     1,     1 ]\n",
      "llama_model_loader: - tensor  192:            blk.7.ffn_gate.weight q8_0     [  4096, 11008,     1,     1 ]\n",
      "llama_model_loader: - tensor  193:              blk.7.ffn_up.weight q8_0     [  4096, 11008,     1,     1 ]\n",
      "llama_model_loader: - tensor  194:            blk.7.ffn_norm.weight f32      [  4096,     1,     1,     1 ]\n",
      "llama_model_loader: - tensor  195:              blk.7.attn_k.weight q8_0     [  4096,  4096,     1,     1 ]\n",
      "llama_model_loader: - tensor  196:         blk.7.attn_output.weight q8_0     [  4096,  4096,     1,     1 ]\n",
      "llama_model_loader: - tensor  197:              blk.7.attn_q.weight q8_0     [  4096,  4096,     1,     1 ]\n",
      "llama_model_loader: - tensor  198:              blk.7.attn_v.weight q8_0     [  4096,  4096,     1,     1 ]\n",
      "llama_model_loader: - tensor  199:           blk.8.attn_norm.weight f32      [  4096,     1,     1,     1 ]\n",
      "llama_model_loader: - tensor  200:            blk.8.ffn_down.weight q8_0     [ 11008,  4096,     1,     1 ]\n",
      "llama_model_loader: - tensor  201:            blk.8.ffn_gate.weight q8_0     [  4096, 11008,     1,     1 ]\n",
      "llama_model_loader: - tensor  202:              blk.8.ffn_up.weight q8_0     [  4096, 11008,     1,     1 ]\n",
      "llama_model_loader: - tensor  203:            blk.8.ffn_norm.weight f32      [  4096,     1,     1,     1 ]\n",
      "llama_model_loader: - tensor  204:              blk.8.attn_k.weight q8_0     [  4096,  4096,     1,     1 ]\n",
      "llama_model_loader: - tensor  205:         blk.8.attn_output.weight q8_0     [  4096,  4096,     1,     1 ]\n",
      "llama_model_loader: - tensor  206:              blk.8.attn_q.weight q8_0     [  4096,  4096,     1,     1 ]\n",
      "llama_model_loader: - tensor  207:              blk.8.attn_v.weight q8_0     [  4096,  4096,     1,     1 ]\n",
      "llama_model_loader: - tensor  208:           blk.9.attn_norm.weight f32      [  4096,     1,     1,     1 ]\n",
      "llama_model_loader: - tensor  209:            blk.9.ffn_down.weight q8_0     [ 11008,  4096,     1,     1 ]\n",
      "llama_model_loader: - tensor  210:            blk.9.ffn_gate.weight q8_0     [  4096, 11008,     1,     1 ]\n",
      "llama_model_loader: - tensor  211:              blk.9.ffn_up.weight q8_0     [  4096, 11008,     1,     1 ]\n",
      "llama_model_loader: - tensor  212:            blk.9.ffn_norm.weight f32      [  4096,     1,     1,     1 ]\n",
      "llama_model_loader: - tensor  213:              blk.9.attn_k.weight q8_0     [  4096,  4096,     1,     1 ]\n",
      "llama_model_loader: - tensor  214:         blk.9.attn_output.weight q8_0     [  4096,  4096,     1,     1 ]\n",
      "llama_model_loader: - tensor  215:              blk.9.attn_q.weight q8_0     [  4096,  4096,     1,     1 ]\n",
      "llama_model_loader: - tensor  216:              blk.9.attn_v.weight q8_0     [  4096,  4096,     1,     1 ]\n",
      "llama_model_loader: - tensor  217:                    output.weight q8_0     [  4096, 32000,     1,     1 ]\n",
      "llama_model_loader: - tensor  218:          blk.24.attn_norm.weight f32      [  4096,     1,     1,     1 ]\n",
      "llama_model_loader: - tensor  219:           blk.24.ffn_down.weight q8_0     [ 11008,  4096,     1,     1 ]\n",
      "llama_model_loader: - tensor  220:           blk.24.ffn_gate.weight q8_0     [  4096, 11008,     1,     1 ]\n",
      "llama_model_loader: - tensor  221:             blk.24.ffn_up.weight q8_0     [  4096, 11008,     1,     1 ]\n",
      "llama_model_loader: - tensor  222:           blk.24.ffn_norm.weight f32      [  4096,     1,     1,     1 ]\n",
      "llama_model_loader: - tensor  223:             blk.24.attn_k.weight q8_0     [  4096,  4096,     1,     1 ]\n",
      "llama_model_loader: - tensor  224:        blk.24.attn_output.weight q8_0     [  4096,  4096,     1,     1 ]\n",
      "llama_model_loader: - tensor  225:             blk.24.attn_q.weight q8_0     [  4096,  4096,     1,     1 ]\n",
      "llama_model_loader: - tensor  226:             blk.24.attn_v.weight q8_0     [  4096,  4096,     1,     1 ]\n",
      "llama_model_loader: - tensor  227:          blk.25.attn_norm.weight f32      [  4096,     1,     1,     1 ]\n",
      "llama_model_loader: - tensor  228:           blk.25.ffn_down.weight q8_0     [ 11008,  4096,     1,     1 ]\n",
      "llama_model_loader: - tensor  229:           blk.25.ffn_gate.weight q8_0     [  4096, 11008,     1,     1 ]\n",
      "llama_model_loader: - tensor  230:             blk.25.ffn_up.weight q8_0     [  4096, 11008,     1,     1 ]\n",
      "llama_model_loader: - tensor  231:           blk.25.ffn_norm.weight f32      [  4096,     1,     1,     1 ]\n",
      "llama_model_loader: - tensor  232:             blk.25.attn_k.weight q8_0     [  4096,  4096,     1,     1 ]\n",
      "llama_model_loader: - tensor  233:        blk.25.attn_output.weight q8_0     [  4096,  4096,     1,     1 ]\n",
      "llama_model_loader: - tensor  234:             blk.25.attn_q.weight q8_0     [  4096,  4096,     1,     1 ]\n",
      "llama_model_loader: - tensor  235:             blk.25.attn_v.weight q8_0     [  4096,  4096,     1,     1 ]\n",
      "llama_model_loader: - tensor  236:          blk.26.attn_norm.weight f32      [  4096,     1,     1,     1 ]\n",
      "llama_model_loader: - tensor  237:           blk.26.ffn_down.weight q8_0     [ 11008,  4096,     1,     1 ]\n",
      "llama_model_loader: - tensor  238:           blk.26.ffn_gate.weight q8_0     [  4096, 11008,     1,     1 ]\n",
      "llama_model_loader: - tensor  239:             blk.26.ffn_up.weight q8_0     [  4096, 11008,     1,     1 ]\n",
      "llama_model_loader: - tensor  240:           blk.26.ffn_norm.weight f32      [  4096,     1,     1,     1 ]\n",
      "llama_model_loader: - tensor  241:             blk.26.attn_k.weight q8_0     [  4096,  4096,     1,     1 ]\n",
      "llama_model_loader: - tensor  242:        blk.26.attn_output.weight q8_0     [  4096,  4096,     1,     1 ]\n",
      "llama_model_loader: - tensor  243:             blk.26.attn_q.weight q8_0     [  4096,  4096,     1,     1 ]\n",
      "llama_model_loader: - tensor  244:             blk.26.attn_v.weight q8_0     [  4096,  4096,     1,     1 ]\n",
      "llama_model_loader: - tensor  245:          blk.27.attn_norm.weight f32      [  4096,     1,     1,     1 ]\n",
      "llama_model_loader: - tensor  246:           blk.27.ffn_down.weight q8_0     [ 11008,  4096,     1,     1 ]\n",
      "llama_model_loader: - tensor  247:           blk.27.ffn_gate.weight q8_0     [  4096, 11008,     1,     1 ]\n",
      "llama_model_loader: - tensor  248:             blk.27.ffn_up.weight q8_0     [  4096, 11008,     1,     1 ]\n",
      "llama_model_loader: - tensor  249:           blk.27.ffn_norm.weight f32      [  4096,     1,     1,     1 ]\n",
      "llama_model_loader: - tensor  250:             blk.27.attn_k.weight q8_0     [  4096,  4096,     1,     1 ]\n",
      "llama_model_loader: - tensor  251:        blk.27.attn_output.weight q8_0     [  4096,  4096,     1,     1 ]\n",
      "llama_model_loader: - tensor  252:             blk.27.attn_q.weight q8_0     [  4096,  4096,     1,     1 ]\n",
      "llama_model_loader: - tensor  253:             blk.27.attn_v.weight q8_0     [  4096,  4096,     1,     1 ]\n",
      "llama_model_loader: - tensor  254:          blk.28.attn_norm.weight f32      [  4096,     1,     1,     1 ]\n",
      "llama_model_loader: - tensor  255:           blk.28.ffn_down.weight q8_0     [ 11008,  4096,     1,     1 ]\n",
      "llama_model_loader: - tensor  256:           blk.28.ffn_gate.weight q8_0     [  4096, 11008,     1,     1 ]\n",
      "llama_model_loader: - tensor  257:             blk.28.ffn_up.weight q8_0     [  4096, 11008,     1,     1 ]\n",
      "llama_model_loader: - tensor  258:           blk.28.ffn_norm.weight f32      [  4096,     1,     1,     1 ]\n",
      "llama_model_loader: - tensor  259:             blk.28.attn_k.weight q8_0     [  4096,  4096,     1,     1 ]\n",
      "llama_model_loader: - tensor  260:        blk.28.attn_output.weight q8_0     [  4096,  4096,     1,     1 ]\n",
      "llama_model_loader: - tensor  261:             blk.28.attn_q.weight q8_0     [  4096,  4096,     1,     1 ]\n",
      "llama_model_loader: - tensor  262:             blk.28.attn_v.weight q8_0     [  4096,  4096,     1,     1 ]\n",
      "llama_model_loader: - tensor  263:          blk.29.attn_norm.weight f32      [  4096,     1,     1,     1 ]\n",
      "llama_model_loader: - tensor  264:           blk.29.ffn_down.weight q8_0     [ 11008,  4096,     1,     1 ]\n",
      "llama_model_loader: - tensor  265:           blk.29.ffn_gate.weight q8_0     [  4096, 11008,     1,     1 ]\n",
      "llama_model_loader: - tensor  266:             blk.29.ffn_up.weight q8_0     [  4096, 11008,     1,     1 ]\n",
      "llama_model_loader: - tensor  267:           blk.29.ffn_norm.weight f32      [  4096,     1,     1,     1 ]\n",
      "llama_model_loader: - tensor  268:             blk.29.attn_k.weight q8_0     [  4096,  4096,     1,     1 ]\n",
      "llama_model_loader: - tensor  269:        blk.29.attn_output.weight q8_0     [  4096,  4096,     1,     1 ]\n",
      "llama_model_loader: - tensor  270:             blk.29.attn_q.weight q8_0     [  4096,  4096,     1,     1 ]\n",
      "llama_model_loader: - tensor  271:             blk.29.attn_v.weight q8_0     [  4096,  4096,     1,     1 ]\n",
      "llama_model_loader: - tensor  272:          blk.30.attn_norm.weight f32      [  4096,     1,     1,     1 ]\n",
      "llama_model_loader: - tensor  273:           blk.30.ffn_down.weight q8_0     [ 11008,  4096,     1,     1 ]\n",
      "llama_model_loader: - tensor  274:           blk.30.ffn_gate.weight q8_0     [  4096, 11008,     1,     1 ]\n",
      "llama_model_loader: - tensor  275:             blk.30.ffn_up.weight q8_0     [  4096, 11008,     1,     1 ]\n",
      "llama_model_loader: - tensor  276:           blk.30.ffn_norm.weight f32      [  4096,     1,     1,     1 ]\n",
      "llama_model_loader: - tensor  277:             blk.30.attn_k.weight q8_0     [  4096,  4096,     1,     1 ]\n",
      "llama_model_loader: - tensor  278:        blk.30.attn_output.weight q8_0     [  4096,  4096,     1,     1 ]\n",
      "llama_model_loader: - tensor  279:             blk.30.attn_q.weight q8_0     [  4096,  4096,     1,     1 ]\n",
      "llama_model_loader: - tensor  280:             blk.30.attn_v.weight q8_0     [  4096,  4096,     1,     1 ]\n",
      "llama_model_loader: - tensor  281:          blk.31.attn_norm.weight f32      [  4096,     1,     1,     1 ]\n",
      "llama_model_loader: - tensor  282:           blk.31.ffn_down.weight q8_0     [ 11008,  4096,     1,     1 ]\n",
      "llama_model_loader: - tensor  283:           blk.31.ffn_gate.weight q8_0     [  4096, 11008,     1,     1 ]\n",
      "llama_model_loader: - tensor  284:             blk.31.ffn_up.weight q8_0     [  4096, 11008,     1,     1 ]\n",
      "llama_model_loader: - tensor  285:           blk.31.ffn_norm.weight f32      [  4096,     1,     1,     1 ]\n",
      "llama_model_loader: - tensor  286:             blk.31.attn_k.weight q8_0     [  4096,  4096,     1,     1 ]\n",
      "llama_model_loader: - tensor  287:        blk.31.attn_output.weight q8_0     [  4096,  4096,     1,     1 ]\n",
      "llama_model_loader: - tensor  288:             blk.31.attn_q.weight q8_0     [  4096,  4096,     1,     1 ]\n",
      "llama_model_loader: - tensor  289:             blk.31.attn_v.weight q8_0     [  4096,  4096,     1,     1 ]\n",
      "llama_model_loader: - tensor  290:               output_norm.weight f32      [  4096,     1,     1,     1 ]\n",
      "llama_model_loader: - kv   0:                       general.architecture str     \n",
      "llama_model_loader: - kv   1:                               general.name str     \n",
      "llama_model_loader: - kv   2:                       llama.context_length u32     \n",
      "llama_model_loader: - kv   3:                     llama.embedding_length u32     \n",
      "llama_model_loader: - kv   4:                          llama.block_count u32     \n",
      "llama_model_loader: - kv   5:                  llama.feed_forward_length u32     \n",
      "llama_model_loader: - kv   6:                 llama.rope.dimension_count u32     \n",
      "llama_model_loader: - kv   7:                 llama.attention.head_count u32     \n",
      "llama_model_loader: - kv   8:              llama.attention.head_count_kv u32     \n",
      "llama_model_loader: - kv   9:     llama.attention.layer_norm_rms_epsilon f32     \n",
      "llama_model_loader: - kv  10:                          general.file_type u32     \n",
      "llama_model_loader: - kv  11:                       tokenizer.ggml.model str     \n",
      "llama_model_loader: - kv  12:                      tokenizer.ggml.tokens arr     \n",
      "llama_model_loader: - kv  13:                      tokenizer.ggml.scores arr     \n",
      "llama_model_loader: - kv  14:                  tokenizer.ggml.token_type arr     \n",
      "llama_model_loader: - kv  15:                tokenizer.ggml.bos_token_id u32     \n",
      "llama_model_loader: - kv  16:                tokenizer.ggml.eos_token_id u32     \n",
      "llama_model_loader: - kv  17:            tokenizer.ggml.unknown_token_id u32     \n",
      "llama_model_loader: - kv  18:               general.quantization_version u32     \n",
      "llama_model_loader: - type  f32:   65 tensors\n",
      "llama_model_loader: - type q8_0:  226 tensors\n",
      "llm_load_print_meta: format           = GGUF V2 (latest)\n",
      "llm_load_print_meta: arch             = llama\n",
      "llm_load_print_meta: vocab type       = SPM\n",
      "llm_load_print_meta: n_vocab          = 32000\n",
      "llm_load_print_meta: n_merges         = 0\n",
      "llm_load_print_meta: n_ctx_train      = 4096\n",
      "llm_load_print_meta: n_embd           = 4096\n",
      "llm_load_print_meta: n_head           = 32\n",
      "llm_load_print_meta: n_head_kv        = 32\n",
      "llm_load_print_meta: n_layer          = 32\n",
      "llm_load_print_meta: n_rot            = 128\n",
      "llm_load_print_meta: n_gqa            = 1\n",
      "llm_load_print_meta: f_norm_eps       = 0.0e+00\n",
      "llm_load_print_meta: f_norm_rms_eps   = 1.0e-06\n",
      "llm_load_print_meta: n_ff             = 11008\n",
      "llm_load_print_meta: freq_base_train  = 10000.0\n",
      "llm_load_print_meta: freq_scale_train = 1\n",
      "llm_load_print_meta: model type       = 7B\n",
      "llm_load_print_meta: model ftype      = mostly Q8_0\n",
      "llm_load_print_meta: model params     = 6.74 B\n",
      "llm_load_print_meta: model size       = 6.67 GiB (8.50 BPW) \n",
      "llm_load_print_meta: general.name   = LLaMA v2\n",
      "llm_load_print_meta: BOS token = 1 '<s>'\n",
      "llm_load_print_meta: EOS token = 2 '</s>'\n",
      "llm_load_print_meta: UNK token = 0 '<unk>'\n",
      "llm_load_print_meta: LF token  = 13 '<0x0A>'\n",
      "llm_load_tensors: ggml ctx size =    0.09 MB\n",
      "llm_load_tensors: mem required  = 6828.73 MB\n",
      "....................................................................................................\n",
      "llama_new_context_with_model: n_ctx      = 512\n",
      "llama_new_context_with_model: freq_base  = 10000.0\n",
      "llama_new_context_with_model: freq_scale = 1\n",
      "llama_new_context_with_model: kv self size  =  256.00 MB\n",
      "llama_new_context_with_model: compute buffer total size = 76.38 MB\n",
      "AVX = 1 | AVX2 = 1 | AVX512 = 0 | AVX512_VBMI = 0 | AVX512_VNNI = 0 | FMA = 1 | NEON = 0 | ARM_FMA = 0 | F16C = 1 | FP16_VA = 0 | WASM_SIMD = 0 | BLAS = 0 | SSE3 = 1 | SSSE3 = 1 | VSX = 0 | \n"
     ]
    }
   ],
   "source": [
    "model = LLAMA(model=MODEL, temperature=TEMPERATURE, n_repetitions=N_REPETITIONS, reasoning=REASONING, languages=LANGUAGES, path=PATH, max_tokens=MAX_TOKENS)"
   ]
  },
  {
   "cell_type": "markdown",
   "metadata": {},
   "source": [
    "### See characteristics of the model"
   ]
  },
  {
   "cell_type": "code",
   "execution_count": 4,
   "metadata": {},
   "outputs": [
    {
     "name": "stdout",
     "output_type": "stream",
     "text": [
      "Llama-2-7b\n"
     ]
    }
   ],
   "source": [
    "print(model.model)"
   ]
  },
  {
   "cell_type": "code",
   "execution_count": 5,
   "metadata": {},
   "outputs": [
    {
     "name": "stdout",
     "output_type": "stream",
     "text": [
      "\n",
      "            You will be provided with medical queries in this languages: english, portuguese.             The medical query will be delimited with             #### characters.\n",
      "            Each question will have 4 possible answer options.            provide the letter with the answer and a short sentence answering why the answer was selected.             \n",
      "\n",
      "            Provide your output in json format with the             keys: response, reasoning. Make sure to always use the those keys, do not modify the keys.\n",
      "            Be very careful with the resulting JSON file, make sure to add curly braces, quotes to define the strings, and commas to separate the items within the JSON.\n",
      "\n",
      "            Responses: A, B, C, D.\n",
      "            \n"
     ]
    }
   ],
   "source": [
    "print(model.system_message)"
   ]
  },
  {
   "cell_type": "markdown",
   "metadata": {},
   "source": [
    "### Test the model"
   ]
  },
  {
   "cell_type": "code",
   "execution_count": 6,
   "metadata": {},
   "outputs": [],
   "source": [
    "question = \"\"\"What is the primary function of the cornea in the human eye?\n",
    "A) Refracting light onto the retina\n",
    "B) Producing aqueous humor\n",
    "C) Regulating pupil size\n",
    "D) Transmitting visual signals to the brain\"\"\""
   ]
  },
  {
   "cell_type": "code",
   "execution_count": 7,
   "metadata": {},
   "outputs": [
    {
     "name": "stdout",
     "output_type": "stream",
     "text": [
      "Response:\n",
      "{'response': 'A', 'reasoning': 'The primary function of the cornea is to refract light onto the retina, allowing for clear vision. The cornea is the transparent outer layer of the eye that covers the iris and pupil, and it plays a crucial role in focusing light rays onto the retina. Without the cornea, light would not be able to reach the retina, resulting in blurry or distorted vision.'}\n",
      "Answer: A\n",
      "Reasoning: The primary function of the cornea is to refract light onto the retina, allowing for clear vision. The cornea is the transparent outer layer of the eye that covers the iris and pupil, and it plays a crucial role in focusing light rays onto the retina. Without the cornea, light would not be able to reach the retina, resulting in blurry or distorted vision.\n"
     ]
    },
    {
     "name": "stderr",
     "output_type": "stream",
     "text": [
      "\n",
      "llama_print_timings:        load time =  2867.29 ms\n",
      "llama_print_timings:      sample time =    60.30 ms /   103 runs   (    0.59 ms per token,  1708.27 tokens per second)\n",
      "llama_print_timings: prompt eval time =  2867.21 ms /   235 tokens (   12.20 ms per token,    81.96 tokens per second)\n",
      "llama_print_timings:        eval time =  6857.99 ms /   102 runs   (   67.24 ms per token,    14.87 tokens per second)\n",
      "llama_print_timings:       total time = 10052.48 ms\n"
     ]
    }
   ],
   "source": [
    "response = model.get_completion_from_messages(question)\n",
    "\n",
    "print('Response:')\n",
    "print(response)\n",
    "\n",
    "print(f'Answer: {response[\"response\"]}')\n",
    "print(f'Reasoning: {response[\"reasoning\"]}')"
   ]
  },
  {
   "cell_type": "markdown",
   "metadata": {},
   "source": [
    "### Modify the model"
   ]
  },
  {
   "cell_type": "code",
   "execution_count": 8,
   "metadata": {},
   "outputs": [
    {
     "name": "stdout",
     "output_type": "stream",
     "text": [
      "\n",
      "            You will be provided with medical queries in this languages: english, portuguese.             The medical query will be delimited with             #### characters.\n",
      "            Each question will have 4 possible answer options.            provide the letter with the answer and a short sentence answering why the answer was selected.             Also print the area of the medicine to which the question refers to.\n",
      "\n",
      "            Provide your output in json format with the             keys: response, reasoning, area. Make sure to always use the those keys, do not modify the keys.\n",
      "            Be very careful with the resulting JSON file, make sure to add curly braces, quotes to define the strings, and commas to separate the items within the JSON.\n",
      "\n",
      "            Responses: A, B, C, D.\n",
      "            \n"
     ]
    }
   ],
   "source": [
    "model.add_extra_message('Also print the area of the medicine to which the question refers to.')\n",
    "model.add_output_key('area')\n",
    "print(model.system_message)"
   ]
  },
  {
   "cell_type": "code",
   "execution_count": 9,
   "metadata": {},
   "outputs": [
    {
     "name": "stderr",
     "output_type": "stream",
     "text": [
      "Llama.generate: prefix-match hit\n"
     ]
    },
    {
     "name": "stdout",
     "output_type": "stream",
     "text": [
      "Response:\n",
      "{'response': 'A', 'area': 'Ophthalmology', 'reasoning': 'The cornea is the transparent outer layer of the eye that refracts light onto the retina, allowing for clear vision. Therefore, option A is the correct answer.'}\n",
      "Area: Ophthalmology\n",
      "Answer: A\n",
      "Reasoning: The cornea is the transparent outer layer of the eye that refracts light onto the retina, allowing for clear vision. Therefore, option A is the correct answer.\n"
     ]
    },
    {
     "name": "stderr",
     "output_type": "stream",
     "text": [
      "\n",
      "llama_print_timings:        load time =  2867.29 ms\n",
      "llama_print_timings:      sample time =    36.81 ms /    63 runs   (    0.58 ms per token,  1711.26 tokens per second)\n",
      "llama_print_timings: prompt eval time =  1622.90 ms /   179 tokens (    9.07 ms per token,   110.30 tokens per second)\n",
      "llama_print_timings:        eval time =  4121.31 ms /    62 runs   (   66.47 ms per token,    15.04 tokens per second)\n",
      "llama_print_timings:       total time =  5938.02 ms\n"
     ]
    }
   ],
   "source": [
    "response = model.get_completion_from_messages(question)\n",
    "\n",
    "print('Response:')\n",
    "print(response)\n",
    "\n",
    "print(f'Area: {response[\"area\"]}')\n",
    "print(f'Answer: {response[\"response\"]}')\n",
    "print(f'Reasoning: {response[\"reasoning\"]}')"
   ]
  },
  {
   "cell_type": "markdown",
   "metadata": {},
   "source": [
    "### Run multiple experiments using the csv file"
   ]
  },
  {
   "cell_type": "code",
   "execution_count": 10,
   "metadata": {},
   "outputs": [
    {
     "name": "stderr",
     "output_type": "stream",
     "text": [
      "Llama.generate: prefix-match hit\n"
     ]
    },
    {
     "name": "stdout",
     "output_type": "stream",
     "text": [
      "**************************************************\n",
      "Question 1: \n",
      "Language: english\n",
      "Question: \n",
      "In which ocular region are caliciform cells physiologically found?\n",
      "a) Cornea.\n",
      "b) Corneoscleral limbus.\n",
      "c) Gray line.\n",
      "d) Semilunar fold.\n",
      "Test #0: \n"
     ]
    },
    {
     "name": "stderr",
     "output_type": "stream",
     "text": [
      "\n",
      "llama_print_timings:        load time =  2867.29 ms\n",
      "llama_print_timings:      sample time =    51.65 ms /    88 runs   (    0.59 ms per token,  1703.68 tokens per second)\n",
      "llama_print_timings: prompt eval time =   686.34 ms /    55 tokens (   12.48 ms per token,    80.13 tokens per second)\n",
      "llama_print_timings:        eval time =  5814.99 ms /    87 runs   (   66.84 ms per token,    14.96 tokens per second)\n",
      "llama_print_timings:       total time =  6773.17 ms\n",
      "Llama.generate: prefix-match hit\n"
     ]
    },
    {
     "name": "stdout",
     "output_type": "stream",
     "text": [
      "{'response': 'a) Cornea', 'area': 'Ocular Region: Cornea', 'reasoning': \"Caliciform cells are physiologically found in the cornea, which is the clear layer on the front of the eye. They play a role in maintaining the cornea's transparency and helping to regulate the amount of light that enters the eye.\"}\n",
      "Test #1: \n"
     ]
    },
    {
     "name": "stderr",
     "output_type": "stream",
     "text": [
      "\n",
      "llama_print_timings:        load time =  2867.29 ms\n",
      "llama_print_timings:      sample time =    49.93 ms /    86 runs   (    0.58 ms per token,  1722.58 tokens per second)\n",
      "llama_print_timings: prompt eval time =     0.00 ms /     1 tokens (    0.00 ms per token,      inf tokens per second)\n",
      "llama_print_timings:        eval time =  5734.06 ms /    86 runs   (   66.68 ms per token,    15.00 tokens per second)\n",
      "llama_print_timings:       total time =  5996.24 ms\n",
      "Llama.generate: prefix-match hit\n"
     ]
    },
    {
     "name": "stdout",
     "output_type": "stream",
     "text": [
      "{'response': 'a) Cornea', 'area': 'Ocular Region: Cornea', 'reasoning': \"Caliciform cells are physiologically found in the cornea, which is the clear outer layer of the eye. They play a role in maintaining the cornea's transparency and helping to regulate the amount of light that enters the eye.\"}\n",
      "Test #2: \n"
     ]
    },
    {
     "name": "stderr",
     "output_type": "stream",
     "text": [
      "\n",
      "llama_print_timings:        load time =  2867.29 ms\n",
      "llama_print_timings:      sample time =    49.45 ms /    85 runs   (    0.58 ms per token,  1718.91 tokens per second)\n",
      "llama_print_timings: prompt eval time =     0.00 ms /     1 tokens (    0.00 ms per token,      inf tokens per second)\n",
      "llama_print_timings:        eval time =  5747.43 ms /    85 runs   (   67.62 ms per token,    14.79 tokens per second)\n",
      "llama_print_timings:       total time =  6005.78 ms\n",
      "Llama.generate: prefix-match hit\n"
     ]
    },
    {
     "name": "stdout",
     "output_type": "stream",
     "text": [
      "{'response': 'a) Cornea', 'area': 'Ocular Region: Cornea', 'reasoning': \"Caliciform cells are physiologically found in the cornea, which is the clear layer on the front surface of the eye. They help to maintain the cornea's transparency and play a role in the eye's focusing ability.\"}\n",
      "Language: portuguese\n",
      "Question: \n",
      "Em qual região ocular células caliciformes são fisiologicamente encontradas?\n",
      "a)Córnea.\n",
      "b)Limbo corneoescleral.\n",
      "c)Linha cinzenta.\n",
      "d)Prega semilunar.\n",
      "Test #0: \n",
      "{'response': 'A', 'area': 'Oculus', 'reasoning': 'Células caliciformes são fisiologicamente encontradas na córnea, que é a parte superior da esclerótica do olho e tem a função de proteger o globo ocular de impactos externos.'}\n",
      "Test #1: \n"
     ]
    },
    {
     "name": "stderr",
     "output_type": "stream",
     "text": [
      "\n",
      "llama_print_timings:        load time =  2867.29 ms\n",
      "llama_print_timings:      sample time =   136.60 ms /   257 runs   (    0.53 ms per token,  1881.36 tokens per second)\n",
      "llama_print_timings: prompt eval time =   721.45 ms /    63 tokens (   11.45 ms per token,    87.32 tokens per second)\n",
      "llama_print_timings:        eval time = 17254.09 ms /   256 runs   (   67.40 ms per token,    14.84 tokens per second)\n",
      "llama_print_timings:       total time = 18787.57 ms\n",
      "Llama.generate: prefix-match hit\n",
      "\n",
      "llama_print_timings:        load time =  2867.29 ms\n",
      "llama_print_timings:      sample time =    48.09 ms /    83 runs   (    0.58 ms per token,  1726.04 tokens per second)\n",
      "llama_print_timings: prompt eval time =     0.00 ms /     1 tokens (    0.00 ms per token,      inf tokens per second)\n",
      "llama_print_timings:        eval time =  5562.96 ms /    83 runs   (   67.02 ms per token,    14.92 tokens per second)\n",
      "llama_print_timings:       total time =  5808.74 ms\n",
      "Llama.generate: prefix-match hit\n"
     ]
    },
    {
     "name": "stdout",
     "output_type": "stream",
     "text": [
      "{'response': 'A', 'area': 'Oculofacial', 'reasoning': 'Células caliciformes são fisiologicamente encontradas na córnea, que é a parte frontal e superior do olho. É responsável pela sensibilidade ótica e por transmitir informações visuais para o cerebro.'}\n",
      "Test #2: \n",
      "{'response': 'A', 'area': 'Oculus', 'reasoning': 'Células caliciformes são fisiologicamente encontradas na córnea, que é a parte frontal e superior do olho. É responsável pela sensibilidade tactil e visual na superfície anterior do olho.'}\n",
      "**************************************************\n",
      "**************************************************\n",
      "Question 2: \n",
      "Language: english\n",
      "Question: \n",
      "Mark the alternative that best correlates the histological characteristics with the respective ocular tissues:\n",
      "\n",
      "I. Monolayer of cells tightly joined together by junctional complexes.\n",
      "II. Parallel and regular striations observed under optical microscopy, perpendicular to the epithelium.\n",
      "III. It contains bipolar cells, amacrine cells, horizontal cells and Muller cells.\n",
      "IV. It contains magnocellular, parvocellular and coniocellular cells.\n",
      "\n",
      "A. Photoreceptors.\n",
      "B. Retinal pigmented epithelium.\n",
      "C. Retinal ganglionic layer.\n",
      "D. Inner nuclear layer.\n",
      "Test #0: \n"
     ]
    },
    {
     "name": "stderr",
     "output_type": "stream",
     "text": [
      "\n",
      "llama_print_timings:        load time =  2867.29 ms\n",
      "llama_print_timings:      sample time =    44.59 ms /    77 runs   (    0.58 ms per token,  1727.00 tokens per second)\n",
      "llama_print_timings: prompt eval time =     0.00 ms /     1 tokens (    0.00 ms per token,      inf tokens per second)\n",
      "llama_print_timings:        eval time =  5210.67 ms /    77 runs   (   67.67 ms per token,    14.78 tokens per second)\n",
      "llama_print_timings:       total time =  5439.93 ms\n",
      "Llama.generate: prefix-match hit\n",
      "\n",
      "llama_print_timings:        load time =  2867.29 ms\n",
      "llama_print_timings:      sample time =    94.18 ms /   162 runs   (    0.58 ms per token,  1720.11 tokens per second)\n",
      "llama_print_timings: prompt eval time =  1587.25 ms /   158 tokens (   10.05 ms per token,    99.54 tokens per second)\n",
      "llama_print_timings:        eval time = 10841.16 ms /   161 runs   (   67.34 ms per token,    14.85 tokens per second)\n",
      "llama_print_timings:       total time = 12925.97 ms\n",
      "Llama.generate: prefix-match hit\n"
     ]
    },
    {
     "name": "stdout",
     "output_type": "stream",
     "text": [
      "{'response': 'A', 'area': 'Photoreceptors', 'reasoning': 'The histological characteristics described in option I (monolayer of cells tightly joined together by junctional complexes) best correspond to the ocular tissue of photoreceptors. Photoreceptors are composed of a monolayer of cells that are closely joined together by lateral and basement membranes, forming a tight junctional complex. This is in contrast to the other options, which describe different types of retinal cell layers or structures.'}\n",
      "Test #1: \n"
     ]
    },
    {
     "name": "stderr",
     "output_type": "stream",
     "text": [
      "\n",
      "llama_print_timings:        load time =  2867.29 ms\n",
      "llama_print_timings:      sample time =    93.41 ms /   162 runs   (    0.58 ms per token,  1734.35 tokens per second)\n",
      "llama_print_timings: prompt eval time =     0.00 ms /     1 tokens (    0.00 ms per token,      inf tokens per second)\n",
      "llama_print_timings:        eval time = 10846.08 ms /   162 runs   (   66.95 ms per token,    14.94 tokens per second)\n",
      "llama_print_timings:       total time = 11335.35 ms\n",
      "Llama.generate: prefix-match hit\n"
     ]
    },
    {
     "name": "stdout",
     "output_type": "stream",
     "text": [
      "{'response': 'A', 'area': 'Retina', 'reasoning': 'The histological characteristics described in option I (monolayer of cells tightly joined together by junctional complexes) best correlate with the ocular tissue of photoreceptors. Photoreceptors are composed of a monolayer of cells that are closely joined together by junctional complexes, allowing for efficient light absorption and signal transmission.'}\n",
      "Test #2: \n",
      "{'response': 'A', 'area': 'Retina', 'reasoning': 'The histological characteristics described in option I (monolayer of cells tightly joined together by junctional complexes) best correspond to the ocular tissue of photoreceptors. Photoreceptors are composed of a monolayer of cells that are tightly joined together by junctional complexes, allowing for efficient transmission of light signals.'}\n",
      "Language: portuguese\n",
      "Question: \n",
      "Assinale a alternativa que melhor correlaciona as características histológicas com os respectivos tecidos oculares:\n",
      "\n",
      "I. Monocamada de células fortemente unidas por complexos juncionais.\n",
      "II. Estriações paralelas e regulares observadas à microscopia óptica, perpendiculares ao epitélio.\n",
      "III. Contém células bipolares, células amácrinas, células horizontais e células de Muller.\n",
      "IV. Contém células magnocelulares, parvocelulares e coniocelulares.\n",
      "\n",
      "A. Fotorreceptores.\n",
      "B. Epitélio pigmentado da pigmentado da retina.\n",
      "C. Camada ganglionar retiniana.\n",
      "D. Camada nuclear interna.\n",
      "Test #0: \n"
     ]
    },
    {
     "name": "stderr",
     "output_type": "stream",
     "text": [
      "\n",
      "llama_print_timings:        load time =  2867.29 ms\n",
      "llama_print_timings:      sample time =    93.39 ms /   162 runs   (    0.58 ms per token,  1734.59 tokens per second)\n",
      "llama_print_timings: prompt eval time =     0.00 ms /     1 tokens (    0.00 ms per token,      inf tokens per second)\n",
      "llama_print_timings:        eval time = 10891.55 ms /   162 runs   (   67.23 ms per token,    14.87 tokens per second)\n",
      "llama_print_timings:       total time = 11377.92 ms\n",
      "Llama.generate: prefix-match hit\n",
      "\n",
      "llama_print_timings:        load time =  2867.29 ms\n",
      "llama_print_timings:      sample time =    73.27 ms /   124 runs   (    0.59 ms per token,  1692.46 tokens per second)\n",
      "llama_print_timings: prompt eval time =  1918.29 ms /   196 tokens (    9.79 ms per token,   102.17 tokens per second)\n",
      "llama_print_timings:        eval time =  8384.67 ms /   123 runs   (   68.17 ms per token,    14.67 tokens per second)\n",
      "llama_print_timings:       total time = 10678.11 ms\n",
      "Llama.generate: prefix-match hit\n"
     ]
    },
    {
     "name": "stdout",
     "output_type": "stream",
     "text": [
      "{'response': 'A', 'area': 'Neurology', 'reasoning': 'The correct answer is A, photoreceptors, because the description mentions monocamada de células fortemente unidas por complexos juncionais, which is a characteristic of photoreceptor cells. These cells are highly specialized and have a unique organization of cellular processes that allow them to detect light and transmit signals to the brain.'}\n",
      "Test #1: \n",
      "{'response': 'A', 'area': 'Retina', 'reasoning': 'The cells in this layer are strongly united by complex junctional connections, which suggests that they are involved in transmitting visual information. Therefore, the best answer is (A) Photoreceptors.'}\n",
      "Test #2: \n"
     ]
    },
    {
     "name": "stderr",
     "output_type": "stream",
     "text": [
      "\n",
      "llama_print_timings:        load time =  2867.29 ms\n",
      "llama_print_timings:      sample time =    71.46 ms /   124 runs   (    0.58 ms per token,  1735.14 tokens per second)\n",
      "llama_print_timings: prompt eval time =     0.00 ms /     1 tokens (    0.00 ms per token,      inf tokens per second)\n",
      "llama_print_timings:        eval time =  8336.70 ms /   124 runs   (   67.23 ms per token,    14.87 tokens per second)\n",
      "llama_print_timings:       total time =  8704.43 ms\n",
      "Llama.generate: prefix-match hit\n",
      "\n",
      "llama_print_timings:        load time =  2867.29 ms\n",
      "llama_print_timings:      sample time =    72.02 ms /   124 runs   (    0.58 ms per token,  1721.70 tokens per second)\n",
      "llama_print_timings: prompt eval time =     0.00 ms /     1 tokens (    0.00 ms per token,      inf tokens per second)\n",
      "llama_print_timings:        eval time =  8478.04 ms /   124 runs   (   68.37 ms per token,    14.63 tokens per second)\n",
      "llama_print_timings:       total time =  8846.46 ms\n",
      "Llama.generate: prefix-match hit\n"
     ]
    },
    {
     "name": "stdout",
     "output_type": "stream",
     "text": [
      "Error converting respose to json:  Here is the output in JSON format:\n",
      "{\n",
      "\"response\": \"A\",\n",
      "\"reasoning\": \"The monocellular layer of tightly connected cells with complex junctions best correlates with the retinal pigment epithelium (RPE). The RPE is a single layer of cuboidal cells that are closely apposed and highly interconnected via tight junctions, forming a specialized barrier between the photoreceptor layer and the choroid. The monocellular layer shares similarities with the RPE in terms of its cell-cell connections and\n",
      "Generating new response...\n"
     ]
    },
    {
     "name": "stderr",
     "output_type": "stream",
     "text": [
      "\n",
      "llama_print_timings:        load time =  2867.29 ms\n",
      "llama_print_timings:      sample time =    71.70 ms /   124 runs   (    0.58 ms per token,  1729.31 tokens per second)\n",
      "llama_print_timings: prompt eval time =     0.00 ms /     1 tokens (    0.00 ms per token,      inf tokens per second)\n",
      "llama_print_timings:        eval time =  8504.74 ms /   124 runs   (   68.59 ms per token,    14.58 tokens per second)\n",
      "llama_print_timings:       total time =  8874.90 ms\n",
      "Llama.generate: prefix-match hit\n"
     ]
    },
    {
     "name": "stdout",
     "output_type": "stream",
     "text": [
      "{'response': 'A', 'area': 'Neurology', 'reasoning': \"The correct answer is A, photoreceptors, because the description mentions 'monocamada de células fortemente unidas por complexos juncionais', which is a characteristic of photoreceptor cells. These cells are highly specialized to detect light and transmit signals to the brain.\"}\n",
      "**************************************************\n",
      "**************************************************\n",
      "Question 3: \n",
      "Language: english\n",
      "Question: \n",
      "Order the three cell names found in the corneal epithelium, starting with the most superficial, followed by the intermediate and the deep.\n",
      "a) Flat, wing, basal.\n",
      "b) wing, basal, flat.\n",
      "c) Basal, flat, wing.\n",
      "d) wing, flat, basal.\n",
      "Test #0: \n"
     ]
    },
    {
     "name": "stderr",
     "output_type": "stream",
     "text": [
      "\n",
      "llama_print_timings:        load time =  2867.29 ms\n",
      "llama_print_timings:      sample time =    62.05 ms /   110 runs   (    0.56 ms per token,  1772.88 tokens per second)\n",
      "llama_print_timings: prompt eval time =   846.93 ms /    79 tokens (   10.72 ms per token,    93.28 tokens per second)\n",
      "llama_print_timings:        eval time =  7406.97 ms /   109 runs   (   67.95 ms per token,    14.72 tokens per second)\n",
      "llama_print_timings:       total time =  8580.54 ms\n",
      "Llama.generate: prefix-match hit\n"
     ]
    },
    {
     "name": "stdout",
     "output_type": "stream",
     "text": [
      "{'response': 'a) Flat, wing, basal.', 'area': 'Corneal Epithelium', 'reasoning': 'The corneal epithelium consists of three layers: the superficial, intermediate, and deep layers. The most superficial layer is the flat layer, followed by the wing layer, and finally the basal layer. Therefore, the correct order is a).'}\n",
      "Test #1: \n"
     ]
    },
    {
     "name": "stderr",
     "output_type": "stream",
     "text": [
      "\n",
      "llama_print_timings:        load time =  2867.29 ms\n",
      "llama_print_timings:      sample time =    62.20 ms /   110 runs   (    0.57 ms per token,  1768.63 tokens per second)\n",
      "llama_print_timings: prompt eval time =     0.00 ms /     1 tokens (    0.00 ms per token,      inf tokens per second)\n",
      "llama_print_timings:        eval time =  7386.82 ms /   110 runs   (   67.15 ms per token,    14.89 tokens per second)\n",
      "llama_print_timings:       total time =  7711.90 ms\n",
      "Llama.generate: prefix-match hit\n"
     ]
    },
    {
     "name": "stdout",
     "output_type": "stream",
     "text": [
      "{'response': 'a) Flat, wing, basal.', 'area': 'Corneal Epithelium', 'reasoning': 'The corneal epithelium consists of three layers: the superficial, intermediate, and deep layers. The most superficial layer is the flat layer, followed by the wing layer, and finally the basal layer. Therefore, the correct order is a).'}\n",
      "Test #2: \n",
      "{'response': 'a) Flat, wing, basal.', 'area': 'Corneal Epithelium', 'reasoning': 'The corneal epithelium consists of three layers: the superficial, intermediate, and deep. The superficial layer is the most outermost layer and is composed of flat cells, while the intermediate layer contains wing cells, and the deep layer has basal cells. Therefore, the correct order from most superficial to deep is: flat, wing, basal.'}\n",
      "Language: portuguese\n",
      "Question: \n",
      "Ordene as três denominações celulares encontradas no epitélio da córnea, iniciando pelo mais superficial, seguido do intermediário e do profundo.\n",
      "a)Plana, alada, basal.\n",
      "b)Alada, basal, plana.\n",
      "c)Basal, plana, alada.\n",
      "d)Alada, plana, basal.\n",
      "Test #0: \n"
     ]
    },
    {
     "name": "stderr",
     "output_type": "stream",
     "text": [
      "\n",
      "llama_print_timings:        load time =  2867.29 ms\n",
      "llama_print_timings:      sample time =    73.79 ms /   132 runs   (    0.56 ms per token,  1788.84 tokens per second)\n",
      "llama_print_timings: prompt eval time =     0.00 ms /     1 tokens (    0.00 ms per token,      inf tokens per second)\n",
      "llama_print_timings:        eval time =  8934.76 ms /   132 runs   (   67.69 ms per token,    14.77 tokens per second)\n",
      "llama_print_timings:       total time =  9324.80 ms\n",
      "Llama.generate: prefix-match hit\n"
     ]
    },
    {
     "name": "stdout",
     "output_type": "stream",
     "text": [
      "{'response': 'a', 'area': 'Epithelium', 'reasoning': 'The most superficial layer of the corneal epithelium is the plana layer.'}\n",
      "Test #1: \n"
     ]
    },
    {
     "name": "stderr",
     "output_type": "stream",
     "text": [
      "\n",
      "llama_print_timings:        load time =  2867.29 ms\n",
      "llama_print_timings:      sample time =   116.63 ms /   224 runs   (    0.52 ms per token,  1920.62 tokens per second)\n",
      "llama_print_timings: prompt eval time =  1175.74 ms /    96 tokens (   12.25 ms per token,    81.65 tokens per second)\n",
      "llama_print_timings:        eval time = 15152.35 ms /   223 runs   (   67.95 ms per token,    14.72 tokens per second)\n",
      "llama_print_timings:       total time = 16996.76 ms\n",
      "Llama.generate: prefix-match hit\n",
      "\n",
      "llama_print_timings:        load time =  2867.29 ms\n",
      "llama_print_timings:      sample time =   116.66 ms /   224 runs   (    0.52 ms per token,  1920.11 tokens per second)\n",
      "llama_print_timings: prompt eval time =     0.00 ms /     1 tokens (    0.00 ms per token,      inf tokens per second)\n",
      "llama_print_timings:        eval time = 15206.95 ms /   224 runs   (   67.89 ms per token,    14.73 tokens per second)\n",
      "llama_print_timings:       total time = 15878.86 ms\n",
      "Llama.generate: prefix-match hit\n"
     ]
    },
    {
     "name": "stdout",
     "output_type": "stream",
     "text": [
      "{'response': 'a', 'area': 'Epithelium', 'reasoning': 'The most superficial layer of the corneal epithelium is the plana layer.'}\n",
      "Test #2: \n"
     ]
    },
    {
     "name": "stderr",
     "output_type": "stream",
     "text": [
      "\n",
      "llama_print_timings:        load time =  2867.29 ms\n",
      "llama_print_timings:      sample time =   113.07 ms /   197 runs   (    0.57 ms per token,  1742.31 tokens per second)\n",
      "llama_print_timings: prompt eval time =     0.00 ms /     1 tokens (    0.00 ms per token,      inf tokens per second)\n",
      "llama_print_timings:        eval time = 13262.05 ms /   197 runs   (   67.32 ms per token,    14.85 tokens per second)\n",
      "llama_print_timings:       total time = 13860.42 ms\n",
      "Llama.generate: prefix-match hit\n"
     ]
    },
    {
     "name": "stdout",
     "output_type": "stream",
     "text": [
      "Error converting respose to json: {\n",
      "\"response\": \"a\",\n",
      "\"reasoning\": \"The most superficial layer of the corneal epithelium is the plana layer.\",\n",
      "\"area\": \"Epithelium\"\n",
      "}\n",
      "\n",
      "{\n",
      "\"response\": \"b\",\n",
      "\"reasoning\": \"The intermediate layer of the corneal epithelium is the alada layer.\",\n",
      "\"area\": \"Epithelium\"\n",
      "}\n",
      "\n",
      "{\n",
      "\"response\": \"c\",\n",
      "\"reasoning\": \"The deepest layer of the corneal epithelium is the basal layer.\",\n",
      "\"area\": \"Epithelium\"\n",
      "}\n",
      "\n",
      "{\n",
      "\"response\": \"d\",\n",
      "\"reasoning\": \"The alada layer is located between the plana and basal layers.\",\n",
      "\"area\": \"Epithelium\"\n",
      "}\n",
      "Generating new response...\n",
      "{'response': 'a', 'area': 'Epithelium', 'reasoning': 'The most superficial layer of the corneal epithelium is the plasma layer, which is responsible for producing the mucin that helps to keep the cornea moist and transparent. Therefore, option a is the correct answer.'}\n",
      "**************************************************\n"
     ]
    },
    {
     "name": "stderr",
     "output_type": "stream",
     "text": [
      "\n",
      "llama_print_timings:        load time =  2867.29 ms\n",
      "llama_print_timings:      sample time =   121.60 ms /   224 runs   (    0.54 ms per token,  1842.07 tokens per second)\n",
      "llama_print_timings: prompt eval time =     0.00 ms /     1 tokens (    0.00 ms per token,      inf tokens per second)\n",
      "llama_print_timings:        eval time = 15313.18 ms /   224 runs   (   68.36 ms per token,    14.63 tokens per second)\n",
      "llama_print_timings:       total time = 15993.16 ms\n"
     ]
    },
    {
     "data": {
      "text/html": [
       "<div>\n",
       "<style scoped>\n",
       "    .dataframe tbody tr th:only-of-type {\n",
       "        vertical-align: middle;\n",
       "    }\n",
       "\n",
       "    .dataframe tbody tr th {\n",
       "        vertical-align: top;\n",
       "    }\n",
       "\n",
       "    .dataframe thead th {\n",
       "        text-align: right;\n",
       "    }\n",
       "</style>\n",
       "<table border=\"1\" class=\"dataframe\">\n",
       "  <thead>\n",
       "    <tr style=\"text-align: right;\">\n",
       "      <th></th>\n",
       "      <th>ID</th>\n",
       "      <th>year</th>\n",
       "      <th>test</th>\n",
       "      <th>theme</th>\n",
       "      <th>subtheme</th>\n",
       "      <th>portuguese</th>\n",
       "      <th>english</th>\n",
       "      <th>answer</th>\n",
       "      <th>response_english_0</th>\n",
       "      <th>reasoning_english_0</th>\n",
       "      <th>...</th>\n",
       "      <th>area_english_2</th>\n",
       "      <th>response_portuguese_0</th>\n",
       "      <th>reasoning_portuguese_0</th>\n",
       "      <th>area_portuguese_0</th>\n",
       "      <th>response_portuguese_1</th>\n",
       "      <th>reasoning_portuguese_1</th>\n",
       "      <th>area_portuguese_1</th>\n",
       "      <th>response_portuguese_2</th>\n",
       "      <th>reasoning_portuguese_2</th>\n",
       "      <th>area_portuguese_2</th>\n",
       "    </tr>\n",
       "  </thead>\n",
       "  <tbody>\n",
       "    <tr>\n",
       "      <th>0</th>\n",
       "      <td>1</td>\n",
       "      <td>2022</td>\n",
       "      <td>Teórica I</td>\n",
       "      <td>Anatomia</td>\n",
       "      <td>cornea</td>\n",
       "      <td>Em qual região ocular células caliciformes são...</td>\n",
       "      <td>In which ocular region are caliciform cells ph...</td>\n",
       "      <td>D</td>\n",
       "      <td>a) Cornea</td>\n",
       "      <td>Caliciform cells are physiologically found in ...</td>\n",
       "      <td>...</td>\n",
       "      <td>Ocular Region: Cornea</td>\n",
       "      <td>A</td>\n",
       "      <td>Células caliciformes são fisiologicamente enco...</td>\n",
       "      <td>Oculus</td>\n",
       "      <td>A</td>\n",
       "      <td>Células caliciformes são fisiologicamente enco...</td>\n",
       "      <td>Oculofacial</td>\n",
       "      <td>A</td>\n",
       "      <td>Células caliciformes são fisiologicamente enco...</td>\n",
       "      <td>Oculus</td>\n",
       "    </tr>\n",
       "    <tr>\n",
       "      <th>1</th>\n",
       "      <td>2</td>\n",
       "      <td>2022</td>\n",
       "      <td>Teórica I</td>\n",
       "      <td>Anatomia</td>\n",
       "      <td>retina</td>\n",
       "      <td>Assinale a alternativa que melhor correlaciona...</td>\n",
       "      <td>Mark the alternative that best correlates the ...</td>\n",
       "      <td>B</td>\n",
       "      <td>A</td>\n",
       "      <td>The histological characteristics described in ...</td>\n",
       "      <td>...</td>\n",
       "      <td>Retina</td>\n",
       "      <td>A</td>\n",
       "      <td>The correct answer is A, photoreceptors, becau...</td>\n",
       "      <td>Neurology</td>\n",
       "      <td>A</td>\n",
       "      <td>The cells in this layer are strongly united by...</td>\n",
       "      <td>Retina</td>\n",
       "      <td>A</td>\n",
       "      <td>The correct answer is A, photoreceptors, becau...</td>\n",
       "      <td>Neurology</td>\n",
       "    </tr>\n",
       "    <tr>\n",
       "      <th>2</th>\n",
       "      <td>3</td>\n",
       "      <td>2022</td>\n",
       "      <td>Teórica I</td>\n",
       "      <td>Anatomia</td>\n",
       "      <td>cornea</td>\n",
       "      <td>Ordene as três denominações celulares encontra...</td>\n",
       "      <td>Order the three cell names found in the cornea...</td>\n",
       "      <td>A</td>\n",
       "      <td>a) Flat, wing, basal.</td>\n",
       "      <td>The corneal epithelium consists of three layer...</td>\n",
       "      <td>...</td>\n",
       "      <td>Corneal Epithelium</td>\n",
       "      <td>a</td>\n",
       "      <td>The most superficial layer of the corneal epit...</td>\n",
       "      <td>Epithelium</td>\n",
       "      <td>a</td>\n",
       "      <td>The most superficial layer of the corneal epit...</td>\n",
       "      <td>Epithelium</td>\n",
       "      <td>a</td>\n",
       "      <td>The most superficial layer of the corneal epit...</td>\n",
       "      <td>Epithelium</td>\n",
       "    </tr>\n",
       "  </tbody>\n",
       "</table>\n",
       "<p>3 rows × 26 columns</p>\n",
       "</div>"
      ],
      "text/plain": [
       "   ID  year       test     theme subtheme  \\\n",
       "0   1  2022  Teórica I  Anatomia   cornea   \n",
       "1   2  2022  Teórica I  Anatomia   retina   \n",
       "2   3  2022  Teórica I  Anatomia   cornea   \n",
       "\n",
       "                                          portuguese  \\\n",
       "0  Em qual região ocular células caliciformes são...   \n",
       "1  Assinale a alternativa que melhor correlaciona...   \n",
       "2  Ordene as três denominações celulares encontra...   \n",
       "\n",
       "                                             english answer  \\\n",
       "0  In which ocular region are caliciform cells ph...      D   \n",
       "1  Mark the alternative that best correlates the ...      B   \n",
       "2  Order the three cell names found in the cornea...      A   \n",
       "\n",
       "      response_english_0                                reasoning_english_0  \\\n",
       "0              a) Cornea  Caliciform cells are physiologically found in ...   \n",
       "1                      A  The histological characteristics described in ...   \n",
       "2  a) Flat, wing, basal.  The corneal epithelium consists of three layer...   \n",
       "\n",
       "   ...         area_english_2 response_portuguese_0  \\\n",
       "0  ...  Ocular Region: Cornea                     A   \n",
       "1  ...                 Retina                     A   \n",
       "2  ...     Corneal Epithelium                     a   \n",
       "\n",
       "                              reasoning_portuguese_0 area_portuguese_0  \\\n",
       "0  Células caliciformes são fisiologicamente enco...            Oculus   \n",
       "1  The correct answer is A, photoreceptors, becau...         Neurology   \n",
       "2  The most superficial layer of the corneal epit...        Epithelium   \n",
       "\n",
       "  response_portuguese_1                             reasoning_portuguese_1  \\\n",
       "0                     A  Células caliciformes são fisiologicamente enco...   \n",
       "1                     A  The cells in this layer are strongly united by...   \n",
       "2                     a  The most superficial layer of the corneal epit...   \n",
       "\n",
       "  area_portuguese_1 response_portuguese_2  \\\n",
       "0       Oculofacial                     A   \n",
       "1            Retina                     A   \n",
       "2        Epithelium                     a   \n",
       "\n",
       "                              reasoning_portuguese_2 area_portuguese_2  \n",
       "0  Células caliciformes são fisiologicamente enco...            Oculus  \n",
       "1  The correct answer is A, photoreceptors, becau...         Neurology  \n",
       "2  The most superficial layer of the corneal epit...        Epithelium  \n",
       "\n",
       "[3 rows x 26 columns]"
      ]
     },
     "execution_count": 10,
     "metadata": {},
     "output_type": "execute_result"
    }
   ],
   "source": [
    "df = model.llm_language_evaluation(save=False)\n",
    "df"
   ]
  },
  {
   "cell_type": "code",
   "execution_count": 11,
   "metadata": {},
   "outputs": [
    {
     "name": "stderr",
     "output_type": "stream",
     "text": [
      "Llama.generate: prefix-match hit\n"
     ]
    },
    {
     "name": "stdout",
     "output_type": "stream",
     "text": [
      "**************************************************\n",
      "Question 1: \n",
      "Language: english\n",
      "Question: \n",
      "In which ocular region are caliciform cells physiologically found?\n",
      "a) Cornea.\n",
      "b) Corneoscleral limbus.\n",
      "c) Gray line.\n",
      "d) Semilunar fold.\n",
      "Test #0: \n"
     ]
    },
    {
     "name": "stderr",
     "output_type": "stream",
     "text": [
      "\n",
      "llama_print_timings:        load time =  2867.29 ms\n",
      "llama_print_timings:      sample time =    31.21 ms /    54 runs   (    0.58 ms per token,  1730.49 tokens per second)\n",
      "llama_print_timings: prompt eval time =  1530.38 ms /   172 tokens (    8.90 ms per token,   112.39 tokens per second)\n",
      "llama_print_timings:        eval time =  3555.79 ms /    53 runs   (   67.09 ms per token,    14.91 tokens per second)\n",
      "llama_print_timings:       total time =  5249.12 ms\n",
      "Llama.generate: prefix-match hit\n"
     ]
    },
    {
     "name": "stdout",
     "output_type": "stream",
     "text": [
      "{'response': 'A', 'area': 'Ocular region'}\n",
      "Test #1: \n"
     ]
    },
    {
     "name": "stderr",
     "output_type": "stream",
     "text": [
      "\n",
      "llama_print_timings:        load time =  2867.29 ms\n",
      "llama_print_timings:      sample time =   137.93 ms /   285 runs   (    0.48 ms per token,  2066.28 tokens per second)\n",
      "llama_print_timings: prompt eval time =     0.00 ms /     1 tokens (    0.00 ms per token,      inf tokens per second)\n",
      "llama_print_timings:        eval time = 19245.19 ms /   285 runs   (   67.53 ms per token,    14.81 tokens per second)\n",
      "llama_print_timings:       total time = 20113.04 ms\n",
      "Llama.generate: prefix-match hit\n"
     ]
    },
    {
     "name": "stdout",
     "output_type": "stream",
     "text": [
      "{'response': 'A', 'area': 'Ocular region'}\n",
      "Test #2: \n"
     ]
    },
    {
     "name": "stderr",
     "output_type": "stream",
     "text": [
      "\n",
      "llama_print_timings:        load time =  2867.29 ms\n",
      "llama_print_timings:      sample time =    30.77 ms /    53 runs   (    0.58 ms per token,  1722.46 tokens per second)\n",
      "llama_print_timings: prompt eval time =     0.00 ms /     1 tokens (    0.00 ms per token,      inf tokens per second)\n",
      "llama_print_timings:        eval time =  3552.28 ms /    53 runs   (   67.02 ms per token,    14.92 tokens per second)\n",
      "llama_print_timings:       total time =  3709.21 ms\n",
      "Llama.generate: prefix-match hit\n"
     ]
    },
    {
     "name": "stdout",
     "output_type": "stream",
     "text": [
      "{'response': 'A', 'area': 'Ocular Region'}\n",
      "Language: portuguese\n",
      "Question: \n",
      "Em qual região ocular células caliciformes são fisiologicamente encontradas?\n",
      "a)Córnea.\n",
      "b)Limbo corneoescleral.\n",
      "c)Linha cinzenta.\n",
      "d)Prega semilunar.\n",
      "Test #0: \n"
     ]
    },
    {
     "name": "stderr",
     "output_type": "stream",
     "text": [
      "\n",
      "llama_print_timings:        load time =  2867.29 ms\n",
      "llama_print_timings:      sample time =    16.12 ms /    28 runs   (    0.58 ms per token,  1737.30 tokens per second)\n",
      "llama_print_timings: prompt eval time =   782.60 ms /    63 tokens (   12.42 ms per token,    80.50 tokens per second)\n",
      "llama_print_timings:        eval time =  1795.01 ms /    27 runs   (   66.48 ms per token,    15.04 tokens per second)\n",
      "llama_print_timings:       total time =  2659.84 ms\n",
      "Llama.generate: prefix-match hit\n"
     ]
    },
    {
     "name": "stdout",
     "output_type": "stream",
     "text": [
      "{'response': 'A', 'area': 'Células caliciformes'}\n",
      "Test #1: \n"
     ]
    },
    {
     "name": "stderr",
     "output_type": "stream",
     "text": [
      "\n",
      "llama_print_timings:        load time =  2867.29 ms\n",
      "llama_print_timings:      sample time =    26.05 ms /    45 runs   (    0.58 ms per token,  1727.65 tokens per second)\n",
      "llama_print_timings: prompt eval time =     0.00 ms /     1 tokens (    0.00 ms per token,      inf tokens per second)\n",
      "llama_print_timings:        eval time =  2992.46 ms /    45 runs   (   66.50 ms per token,    15.04 tokens per second)\n",
      "llama_print_timings:       total time =  3126.37 ms\n",
      "Llama.generate: prefix-match hit\n"
     ]
    },
    {
     "name": "stdout",
     "output_type": "stream",
     "text": [
      "{'response': 'A', 'area': 'Células caliciformes são fisiologicamente encontradas na área da córnea.'}\n",
      "Test #2: \n"
     ]
    },
    {
     "name": "stderr",
     "output_type": "stream",
     "text": [
      "\n",
      "llama_print_timings:        load time =  2867.29 ms\n",
      "llama_print_timings:      sample time =    26.09 ms /    45 runs   (    0.58 ms per token,  1724.73 tokens per second)\n",
      "llama_print_timings: prompt eval time =     0.00 ms /     1 tokens (    0.00 ms per token,      inf tokens per second)\n",
      "llama_print_timings:        eval time =  2992.89 ms /    45 runs   (   66.51 ms per token,    15.04 tokens per second)\n",
      "llama_print_timings:       total time =  3126.46 ms\n",
      "Llama.generate: prefix-match hit\n"
     ]
    },
    {
     "name": "stdout",
     "output_type": "stream",
     "text": [
      "{'response': 'A', 'area': 'Células caliciformes são fisiologicamente encontradas na área da córnea.'}\n",
      "**************************************************\n",
      "**************************************************\n",
      "Question 2: \n",
      "Language: english\n",
      "Question: \n",
      "Mark the alternative that best correlates the histological characteristics with the respective ocular tissues:\n",
      "\n",
      "I. Monolayer of cells tightly joined together by junctional complexes.\n",
      "II. Parallel and regular striations observed under optical microscopy, perpendicular to the epithelium.\n",
      "III. It contains bipolar cells, amacrine cells, horizontal cells and Muller cells.\n",
      "IV. It contains magnocellular, parvocellular and coniocellular cells.\n",
      "\n",
      "A. Photoreceptors.\n",
      "B. Retinal pigmented epithelium.\n",
      "C. Retinal ganglionic layer.\n",
      "D. Inner nuclear layer.\n",
      "Test #0: \n"
     ]
    },
    {
     "name": "stderr",
     "output_type": "stream",
     "text": [
      "\n",
      "llama_print_timings:        load time =  2867.29 ms\n",
      "llama_print_timings:      sample time =    57.90 ms /    99 runs   (    0.58 ms per token,  1709.90 tokens per second)\n",
      "llama_print_timings: prompt eval time =  1482.80 ms /   158 tokens (    9.38 ms per token,   106.56 tokens per second)\n",
      "llama_print_timings:        eval time =  6608.46 ms /    98 runs   (   67.43 ms per token,    14.83 tokens per second)\n",
      "llama_print_timings:       total time =  8395.04 ms\n",
      "Llama.generate: prefix-match hit\n"
     ]
    },
    {
     "name": "stdout",
     "output_type": "stream",
     "text": [
      "{'response': 'B', 'area': 'Retinal pigmented epithelium'}\n",
      "Test #1: \n"
     ]
    },
    {
     "name": "stderr",
     "output_type": "stream",
     "text": [
      "\n",
      "llama_print_timings:        load time =  2867.29 ms\n",
      "llama_print_timings:      sample time =    57.41 ms /    99 runs   (    0.58 ms per token,  1724.47 tokens per second)\n",
      "llama_print_timings: prompt eval time =     0.00 ms /     1 tokens (    0.00 ms per token,      inf tokens per second)\n",
      "llama_print_timings:        eval time =  6785.98 ms /    99 runs   (   68.55 ms per token,    14.59 tokens per second)\n",
      "llama_print_timings:       total time =  7082.55 ms\n",
      "Llama.generate: prefix-match hit\n"
     ]
    },
    {
     "name": "stdout",
     "output_type": "stream",
     "text": [
      "{'response': 'B', 'area': 'Retinal pigmented epithelium'}\n",
      "Test #2: \n"
     ]
    },
    {
     "name": "stderr",
     "output_type": "stream",
     "text": [
      "\n",
      "llama_print_timings:        load time =  2867.29 ms\n",
      "llama_print_timings:      sample time =    57.95 ms /    99 runs   (    0.59 ms per token,  1708.22 tokens per second)\n",
      "llama_print_timings: prompt eval time =     0.00 ms /     1 tokens (    0.00 ms per token,      inf tokens per second)\n",
      "llama_print_timings:        eval time =  6784.67 ms /    99 runs   (   68.53 ms per token,    14.59 tokens per second)\n",
      "llama_print_timings:       total time =  7081.01 ms\n",
      "Llama.generate: prefix-match hit\n"
     ]
    },
    {
     "name": "stdout",
     "output_type": "stream",
     "text": [
      "{'response': 'B', 'area': 'Retinal pigmented epithelium'}\n",
      "Language: portuguese\n",
      "Question: \n",
      "Assinale a alternativa que melhor correlaciona as características histológicas com os respectivos tecidos oculares:\n",
      "\n",
      "I. Monocamada de células fortemente unidas por complexos juncionais.\n",
      "II. Estriações paralelas e regulares observadas à microscopia óptica, perpendiculares ao epitélio.\n",
      "III. Contém células bipolares, células amácrinas, células horizontais e células de Muller.\n",
      "IV. Contém células magnocelulares, parvocelulares e coniocelulares.\n",
      "\n",
      "A. Fotorreceptores.\n",
      "B. Epitélio pigmentado da pigmentado da retina.\n",
      "C. Camada ganglionar retiniana.\n",
      "D. Camada nuclear interna.\n",
      "Test #0: \n"
     ]
    },
    {
     "name": "stderr",
     "output_type": "stream",
     "text": [
      "\n",
      "llama_print_timings:        load time =  2867.29 ms\n",
      "llama_print_timings:      sample time =    83.65 ms /   144 runs   (    0.58 ms per token,  1721.42 tokens per second)\n",
      "llama_print_timings: prompt eval time =  1874.13 ms /   196 tokens (    9.56 ms per token,   104.58 tokens per second)\n",
      "llama_print_timings:        eval time =  9603.64 ms /   143 runs   (   67.16 ms per token,    14.89 tokens per second)\n",
      "llama_print_timings:       total time = 11912.91 ms\n",
      "Llama.generate: prefix-match hit\n"
     ]
    },
    {
     "name": "stdout",
     "output_type": "stream",
     "text": [
      "{'response': 'A', 'area': 'Fotorreceptores'}\n",
      "Test #1: \n"
     ]
    },
    {
     "name": "stderr",
     "output_type": "stream",
     "text": [
      "\n",
      "llama_print_timings:        load time =  2867.29 ms\n",
      "llama_print_timings:      sample time =    34.00 ms /    59 runs   (    0.58 ms per token,  1735.09 tokens per second)\n",
      "llama_print_timings: prompt eval time =     0.00 ms /     1 tokens (    0.00 ms per token,      inf tokens per second)\n",
      "llama_print_timings:        eval time =  4007.48 ms /    59 runs   (   67.92 ms per token,    14.72 tokens per second)\n",
      "llama_print_timings:       total time =  4178.24 ms\n",
      "Llama.generate: prefix-match hit\n"
     ]
    },
    {
     "name": "stdout",
     "output_type": "stream",
     "text": [
      "{'response': {'I': 'A', 'II': 'B', 'III': 'C', 'IV': 'D'}, 'area': 'NEUROLOGY'}\n",
      "Test #2: \n"
     ]
    },
    {
     "name": "stderr",
     "output_type": "stream",
     "text": [
      "\n",
      "llama_print_timings:        load time =  2867.29 ms\n",
      "llama_print_timings:      sample time =    83.37 ms /   144 runs   (    0.58 ms per token,  1727.26 tokens per second)\n",
      "llama_print_timings: prompt eval time =     0.00 ms /     1 tokens (    0.00 ms per token,      inf tokens per second)\n",
      "llama_print_timings:        eval time =  9822.09 ms /   144 runs   (   68.21 ms per token,    14.66 tokens per second)\n",
      "llama_print_timings:       total time = 10252.06 ms\n",
      "Llama.generate: prefix-match hit\n"
     ]
    },
    {
     "name": "stdout",
     "output_type": "stream",
     "text": [
      "{'response': 'A', 'area': 'Fotorreceptores'}\n",
      "**************************************************\n",
      "**************************************************\n",
      "Question 3: \n",
      "Language: english\n",
      "Question: \n",
      "Order the three cell names found in the corneal epithelium, starting with the most superficial, followed by the intermediate and the deep.\n",
      "a) Flat, wing, basal.\n",
      "b) wing, basal, flat.\n",
      "c) Basal, flat, wing.\n",
      "d) wing, flat, basal.\n",
      "Test #0: \n"
     ]
    },
    {
     "name": "stderr",
     "output_type": "stream",
     "text": [
      "\n",
      "llama_print_timings:        load time =  2867.29 ms\n",
      "llama_print_timings:      sample time =   140.41 ms /   247 runs   (    0.57 ms per token,  1759.16 tokens per second)\n",
      "llama_print_timings: prompt eval time =   885.52 ms /    79 tokens (   11.21 ms per token,    89.21 tokens per second)\n",
      "llama_print_timings:        eval time = 16528.01 ms /   246 runs   (   67.19 ms per token,    14.88 tokens per second)\n",
      "llama_print_timings:       total time = 18181.11 ms\n",
      "Llama.generate: prefix-match hit\n"
     ]
    },
    {
     "name": "stdout",
     "output_type": "stream",
     "text": [
      "{'response': 'a) Flat, wing, basal.', 'area': 'Corneal Epithelium'}\n",
      "Test #1: \n"
     ]
    },
    {
     "name": "stderr",
     "output_type": "stream",
     "text": [
      "\n",
      "llama_print_timings:        load time =  2867.29 ms\n",
      "llama_print_timings:      sample time =    66.87 ms /   120 runs   (    0.56 ms per token,  1794.47 tokens per second)\n",
      "llama_print_timings: prompt eval time =     0.00 ms /     1 tokens (    0.00 ms per token,      inf tokens per second)\n",
      "llama_print_timings:        eval time =  8148.55 ms /   120 runs   (   67.90 ms per token,    14.73 tokens per second)\n",
      "llama_print_timings:       total time =  8506.37 ms\n",
      "Llama.generate: prefix-match hit\n"
     ]
    },
    {
     "name": "stdout",
     "output_type": "stream",
     "text": [
      "{'response': 'c) Basal, flat, wing.', 'area': 'Corneal Epithelium'}\n",
      "Test #2: \n"
     ]
    },
    {
     "name": "stderr",
     "output_type": "stream",
     "text": [
      "\n",
      "llama_print_timings:        load time =  2867.29 ms\n",
      "llama_print_timings:      sample time =    67.08 ms /   118 runs   (    0.57 ms per token,  1759.09 tokens per second)\n",
      "llama_print_timings: prompt eval time =     0.00 ms /     1 tokens (    0.00 ms per token,      inf tokens per second)\n",
      "llama_print_timings:        eval time =  8013.39 ms /   118 runs   (   67.91 ms per token,    14.73 tokens per second)\n",
      "llama_print_timings:       total time =  8370.25 ms\n",
      "Llama.generate: prefix-match hit\n"
     ]
    },
    {
     "name": "stdout",
     "output_type": "stream",
     "text": [
      "{'response': 'a) Flat, wing, basal.', 'area': 'Corneal Epithelium'}\n",
      "Language: portuguese\n",
      "Question: \n",
      "Ordene as três denominações celulares encontradas no epitélio da córnea, iniciando pelo mais superficial, seguido do intermediário e do profundo.\n",
      "a)Plana, alada, basal.\n",
      "b)Alada, basal, plana.\n",
      "c)Basal, plana, alada.\n",
      "d)Alada, plana, basal.\n",
      "Test #0: \n"
     ]
    },
    {
     "name": "stderr",
     "output_type": "stream",
     "text": [
      "\n",
      "llama_print_timings:        load time =  2867.29 ms\n",
      "llama_print_timings:      sample time =    70.30 ms /   123 runs   (    0.57 ms per token,  1749.54 tokens per second)\n",
      "llama_print_timings: prompt eval time =  1224.14 ms /    96 tokens (   12.75 ms per token,    78.42 tokens per second)\n",
      "llama_print_timings:        eval time =  8229.86 ms /   122 runs   (   67.46 ms per token,    14.82 tokens per second)\n",
      "llama_print_timings:       total time =  9828.78 ms\n",
      "Llama.generate: prefix-match hit\n"
     ]
    },
    {
     "name": "stdout",
     "output_type": "stream",
     "text": [
      "Error converting respose to json: {\n",
      "\"response\": \"a\",\n",
      "\"area\": \"Celulares da córnea\"\n",
      "}\n",
      "\n",
      "or\n",
      "\n",
      "{\n",
      "\"response\": \"b\",\n",
      "\"area\": \"Epitélio da córnea\"\n",
      "}\n",
      "\n",
      "or\n",
      "\n",
      "{\n",
      "\"response\": \"c\",\n",
      "\"area\": \"Células basais da córnea\"\n",
      "}\n",
      "\n",
      "or\n",
      "\n",
      "{\n",
      "\"response\": \"d\",\n",
      "\"area\": \"Células aladas da córnea\"\n",
      "}\n",
      "Generating new response...\n"
     ]
    },
    {
     "name": "stderr",
     "output_type": "stream",
     "text": [
      "\n",
      "llama_print_timings:        load time =  2867.29 ms\n",
      "llama_print_timings:      sample time =    70.10 ms /   123 runs   (    0.57 ms per token,  1754.64 tokens per second)\n",
      "llama_print_timings: prompt eval time =     0.00 ms /     1 tokens (    0.00 ms per token,      inf tokens per second)\n",
      "llama_print_timings:        eval time =  8452.30 ms /   123 runs   (   68.72 ms per token,    14.55 tokens per second)\n",
      "llama_print_timings:       total time =  8828.53 ms\n",
      "Llama.generate: prefix-match hit\n"
     ]
    },
    {
     "name": "stdout",
     "output_type": "stream",
     "text": [
      "Error converting respose to json: {\n",
      "\"response\": \"a\",\n",
      "\"area\": \"Celulares da córnea\"\n",
      "}\n",
      "\n",
      "or\n",
      "\n",
      "{\n",
      "\"response\": \"b\",\n",
      "\"area\": \"Epitélio da córnea\"\n",
      "}\n",
      "\n",
      "or\n",
      "\n",
      "{\n",
      "\"response\": \"c\",\n",
      "\"area\": \"Células basais da córnea\"\n",
      "}\n",
      "\n",
      "or\n",
      "\n",
      "{\n",
      "\"response\": \"d\",\n",
      "\"area\": \"Células aladas da córnea\"\n",
      "}\n",
      "Generating new response...\n"
     ]
    },
    {
     "name": "stderr",
     "output_type": "stream",
     "text": [
      "\n",
      "llama_print_timings:        load time =  2867.29 ms\n",
      "llama_print_timings:      sample time =    69.51 ms /   123 runs   (    0.57 ms per token,  1769.43 tokens per second)\n",
      "llama_print_timings: prompt eval time =     0.00 ms /     1 tokens (    0.00 ms per token,      inf tokens per second)\n",
      "llama_print_timings:        eval time =  8272.29 ms /   123 runs   (   67.25 ms per token,    14.87 tokens per second)\n",
      "llama_print_timings:       total time =  8637.06 ms\n",
      "Llama.generate: prefix-match hit\n"
     ]
    },
    {
     "name": "stdout",
     "output_type": "stream",
     "text": [
      "Error converting respose to json: {\n",
      "\"response\": \"a\",\n",
      "\"area\": \"Celulares da córnea\"\n",
      "}\n",
      "\n",
      "or\n",
      "\n",
      "{\n",
      "\"response\": \"b\",\n",
      "\"area\": \"Epitélio da córnea\"\n",
      "}\n",
      "\n",
      "or\n",
      "\n",
      "{\n",
      "\"response\": \"c\",\n",
      "\"area\": \"Células basais da córnea\"\n",
      "}\n",
      "\n",
      "or\n",
      "\n",
      "{\n",
      "\"response\": \"d\",\n",
      "\"area\": \"Células aladas da córnea\"\n",
      "}\n",
      "Generating new response...\n"
     ]
    },
    {
     "name": "stderr",
     "output_type": "stream",
     "text": [
      "\n",
      "llama_print_timings:        load time =  2867.29 ms\n",
      "llama_print_timings:      sample time =    69.80 ms /   123 runs   (    0.57 ms per token,  1762.30 tokens per second)\n",
      "llama_print_timings: prompt eval time =     0.00 ms /     1 tokens (    0.00 ms per token,      inf tokens per second)\n",
      "llama_print_timings:        eval time =  8266.23 ms /   123 runs   (   67.21 ms per token,    14.88 tokens per second)\n",
      "llama_print_timings:       total time =  8633.91 ms\n",
      "Llama.generate: prefix-match hit\n"
     ]
    },
    {
     "name": "stdout",
     "output_type": "stream",
     "text": [
      "Error converting respose to json: {\n",
      "\"response\": \"a\",\n",
      "\"area\": \"Celulares da córnea\"\n",
      "}\n",
      "\n",
      "or\n",
      "\n",
      "{\n",
      "\"response\": \"b\",\n",
      "\"area\": \"Epitélio da córnea\"\n",
      "}\n",
      "\n",
      "or\n",
      "\n",
      "{\n",
      "\"response\": \"c\",\n",
      "\"area\": \"Células basais da córnea\"\n",
      "}\n",
      "\n",
      "or\n",
      "\n",
      "{\n",
      "\"response\": \"d\",\n",
      "\"area\": \"Células aladas da córnea\"\n",
      "}\n",
      "Generating new response...\n"
     ]
    },
    {
     "name": "stderr",
     "output_type": "stream",
     "text": [
      "\n",
      "llama_print_timings:        load time =  2867.29 ms\n",
      "llama_print_timings:      sample time =    65.47 ms /   115 runs   (    0.57 ms per token,  1756.61 tokens per second)\n",
      "llama_print_timings: prompt eval time =     0.00 ms /     1 tokens (    0.00 ms per token,      inf tokens per second)\n",
      "llama_print_timings:        eval time =  7770.69 ms /   115 runs   (   67.57 ms per token,    14.80 tokens per second)\n",
      "llama_print_timings:       total time =  8115.78 ms\n",
      "Llama.generate: prefix-match hit\n"
     ]
    },
    {
     "name": "stdout",
     "output_type": "stream",
     "text": [
      "Error converting respose to json: {\n",
      "\"response\": \"a\",\n",
      "\"area\": \"Celulares da córnea\"\n",
      "}\n",
      "\n",
      "or\n",
      "\n",
      "{\n",
      "\"response\": \"b\",\n",
      "\"area\": \"Epitélio da córnea\"\n",
      "}\n",
      "\n",
      "or\n",
      "\n",
      "{\n",
      "\"response\": \"c\",\n",
      "\"area\": \"Córnea\"\n",
      "\n",
      "}\n",
      "\n",
      "or\n",
      "\n",
      "{\n",
      "\"response\": \"d\",\n",
      "\"area\": \"Medicina ocular\"\n",
      "\n",
      "}\n",
      "Generating new response...\n"
     ]
    },
    {
     "name": "stderr",
     "output_type": "stream",
     "text": [
      "\n",
      "llama_print_timings:        load time =  2867.29 ms\n",
      "llama_print_timings:      sample time =   110.33 ms /   193 runs   (    0.57 ms per token,  1749.30 tokens per second)\n",
      "llama_print_timings: prompt eval time =     0.00 ms /     1 tokens (    0.00 ms per token,      inf tokens per second)\n",
      "llama_print_timings:        eval time = 13113.66 ms /   193 runs   (   67.95 ms per token,    14.72 tokens per second)\n",
      "llama_print_timings:       total time = 13709.34 ms\n",
      "Llama.generate: prefix-match hit\n"
     ]
    },
    {
     "name": "stdout",
     "output_type": "stream",
     "text": [
      "Error converting respose to json: {\n",
      "\"response\": \"a\",\n",
      "\"area\": \"Celulares da córnea\"\n",
      "}\n",
      "\n",
      "or\n",
      "\n",
      "{\n",
      "\"response\": \"b\",\n",
      "\"area\": \"Epitélio da córnea\"\n",
      "}\n",
      "Generating new response...\n"
     ]
    },
    {
     "name": "stderr",
     "output_type": "stream",
     "text": [
      "\n",
      "llama_print_timings:        load time =  2867.29 ms\n",
      "llama_print_timings:      sample time =    88.58 ms /   152 runs   (    0.58 ms per token,  1716.02 tokens per second)\n",
      "llama_print_timings: prompt eval time =     0.00 ms /     1 tokens (    0.00 ms per token,      inf tokens per second)\n",
      "llama_print_timings:        eval time = 10288.55 ms /   152 runs   (   67.69 ms per token,    14.77 tokens per second)\n",
      "llama_print_timings:       total time = 10762.16 ms\n",
      "Llama.generate: prefix-match hit\n"
     ]
    },
    {
     "name": "stdout",
     "output_type": "stream",
     "text": [
      "{'response': 'a', 'area': 'Celulares da córnea'}\n",
      "Test #1: \n",
      "Error converting respose to json: {\n",
      "\"response\": \"a\",\n",
      "\"area\": \"Celulares da córnea\"\n",
      "}\n",
      "\n",
      "or\n",
      "\n",
      "{\n",
      "\"response\": \"b\",\n",
      "\"area\": \"Epitélio da córnea\"\n",
      "}\n",
      "\n",
      "or\n",
      "\n",
      "{\n",
      "\"response\": \"c\",\n",
      "\"area\": \"Células basais da córnea\"\n",
      "}\n",
      "\n",
      "or\n",
      "\n",
      "{\n",
      "\"response\": \"d\",\n",
      "\"area\": \"Células aladas da córnea\"\n",
      "}\n",
      "Generating new response...\n"
     ]
    },
    {
     "name": "stderr",
     "output_type": "stream",
     "text": [
      "\n",
      "llama_print_timings:        load time =  2867.29 ms\n",
      "llama_print_timings:      sample time =    69.67 ms /   123 runs   (    0.57 ms per token,  1765.52 tokens per second)\n",
      "llama_print_timings: prompt eval time =     0.00 ms /     1 tokens (    0.00 ms per token,      inf tokens per second)\n",
      "llama_print_timings:        eval time =  8412.07 ms /   123 runs   (   68.39 ms per token,    14.62 tokens per second)\n",
      "llama_print_timings:       total time =  8785.88 ms\n",
      "Llama.generate: prefix-match hit\n",
      "\n",
      "llama_print_timings:        load time =  2867.29 ms\n",
      "llama_print_timings:      sample time =    69.73 ms /   123 runs   (    0.57 ms per token,  1763.85 tokens per second)\n",
      "llama_print_timings: prompt eval time =     0.00 ms /     1 tokens (    0.00 ms per token,      inf tokens per second)\n",
      "llama_print_timings:        eval time =  8307.11 ms /   123 runs   (   67.54 ms per token,    14.81 tokens per second)\n",
      "llama_print_timings:       total time =  8686.33 ms\n",
      "Llama.generate: prefix-match hit\n"
     ]
    },
    {
     "name": "stdout",
     "output_type": "stream",
     "text": [
      "Error converting respose to json: {\n",
      "\"response\": \"a\",\n",
      "\"area\": \"Celulares da córnea\"\n",
      "}\n",
      "\n",
      "or\n",
      "\n",
      "{\n",
      "\"response\": \"b\",\n",
      "\"area\": \"Epitélio da córnea\"\n",
      "}\n",
      "\n",
      "or\n",
      "\n",
      "{\n",
      "\"response\": \"c\",\n",
      "\"area\": \"Células basais da córnea\"\n",
      "}\n",
      "\n",
      "or\n",
      "\n",
      "{\n",
      "\"response\": \"d\",\n",
      "\"area\": \"Células aladas da córnea\"\n",
      "}\n",
      "Generating new response...\n"
     ]
    },
    {
     "name": "stderr",
     "output_type": "stream",
     "text": [
      "\n",
      "llama_print_timings:        load time =  2867.29 ms\n",
      "llama_print_timings:      sample time =    15.73 ms /    28 runs   (    0.56 ms per token,  1780.04 tokens per second)\n",
      "llama_print_timings: prompt eval time =     0.00 ms /     1 tokens (    0.00 ms per token,      inf tokens per second)\n",
      "llama_print_timings:        eval time =  1876.20 ms /    28 runs   (   67.01 ms per token,    14.92 tokens per second)\n",
      "llama_print_timings:       total time =  1959.99 ms\n",
      "Llama.generate: prefix-match hit\n"
     ]
    },
    {
     "name": "stdout",
     "output_type": "stream",
     "text": [
      "{'response': 'D) Alada, plana, basal.', 'area': 'Cornea'}\n",
      "Test #2: \n"
     ]
    },
    {
     "name": "stderr",
     "output_type": "stream",
     "text": [
      "\n",
      "llama_print_timings:        load time =  2867.29 ms\n",
      "llama_print_timings:      sample time =    48.05 ms /    89 runs   (    0.54 ms per token,  1852.12 tokens per second)\n",
      "llama_print_timings: prompt eval time =     0.00 ms /     1 tokens (    0.00 ms per token,      inf tokens per second)\n",
      "llama_print_timings:        eval time =  5966.78 ms /    89 runs   (   67.04 ms per token,    14.92 tokens per second)\n",
      "llama_print_timings:       total time =  6234.20 ms\n",
      "Llama.generate: prefix-match hit\n"
     ]
    },
    {
     "name": "stdout",
     "output_type": "stream",
     "text": [
      "Error converting respose to json: {\n",
      "\"response\": \"A\",\n",
      "\"area\": \"Córnea\"\n",
      "}\n",
      "\n",
      "or\n",
      "{\n",
      "\"response\": \"B\",\n",
      "\"area\": \"Córnea\"\n",
      "}\n",
      "\n",
      "or\n",
      "{\n",
      "\"response\": \"C\",\n",
      "\"area\": \"Córnea\"\n",
      "}\n",
      "\n",
      "or\n",
      "{\n",
      "\"response\": \"D\",\n",
      "\"area\": \"Córnea\"\n",
      "}\n",
      "Generating new response...\n"
     ]
    },
    {
     "name": "stderr",
     "output_type": "stream",
     "text": [
      "\n",
      "llama_print_timings:        load time =  2867.29 ms\n",
      "llama_print_timings:      sample time =    69.86 ms /   123 runs   (    0.57 ms per token,  1760.66 tokens per second)\n",
      "llama_print_timings: prompt eval time =     0.00 ms /     1 tokens (    0.00 ms per token,      inf tokens per second)\n",
      "llama_print_timings:        eval time =  8314.71 ms /   123 runs   (   67.60 ms per token,    14.79 tokens per second)\n",
      "llama_print_timings:       total time =  8692.23 ms\n",
      "Llama.generate: prefix-match hit\n"
     ]
    },
    {
     "name": "stdout",
     "output_type": "stream",
     "text": [
      "Error converting respose to json: {\n",
      "\"response\": \"a\",\n",
      "\"area\": \"Celulares da córnea\"\n",
      "}\n",
      "\n",
      "or\n",
      "\n",
      "{\n",
      "\"response\": \"b\",\n",
      "\"area\": \"Epitélio da córnea\"\n",
      "}\n",
      "\n",
      "or\n",
      "\n",
      "{\n",
      "\"response\": \"c\",\n",
      "\"area\": \"Células basais da córnea\"\n",
      "}\n",
      "\n",
      "or\n",
      "\n",
      "{\n",
      "\"response\": \"d\",\n",
      "\"area\": \"Células aladas da córnea\"\n",
      "}\n",
      "Generating new response...\n",
      "Error converting respose to json: {\n",
      "\"response\": \"a\",\n",
      "\"area\": \"Celulares da córnea\"\n",
      "}\n",
      "\n",
      "or\n",
      "\n",
      "{\n",
      "\"response\": \"b\",\n",
      "\"area\": \"Epitélio da córnea\"\n",
      "}\n",
      "\n",
      "or\n",
      "\n",
      "{\n",
      "\"response\": \"c\",\n",
      "\"area\": \"Córnea\"\n",
      "\n",
      "}\n",
      "\n",
      "or\n",
      "\n",
      "{\n",
      "\"response\": \"d\",\n",
      "\"area\": \"Medicina ocular\"\n",
      "\n",
      "}\n",
      "Generating new response...\n"
     ]
    },
    {
     "name": "stderr",
     "output_type": "stream",
     "text": [
      "\n",
      "llama_print_timings:        load time =  2867.29 ms\n",
      "llama_print_timings:      sample time =    64.59 ms /   115 runs   (    0.56 ms per token,  1780.54 tokens per second)\n",
      "llama_print_timings: prompt eval time =     0.00 ms /     1 tokens (    0.00 ms per token,      inf tokens per second)\n",
      "llama_print_timings:        eval time =  7851.70 ms /   115 runs   (   68.28 ms per token,    14.65 tokens per second)\n",
      "llama_print_timings:       total time =  8199.26 ms\n",
      "Llama.generate: prefix-match hit\n"
     ]
    },
    {
     "name": "stdout",
     "output_type": "stream",
     "text": [
      "Error converting respose to json: {\n",
      "\"response\": \"a\",\n",
      "\"area\": \"Celular epitélio da córnea\"\n",
      "}\n",
      "\n",
      "or\n",
      "\n",
      "{\n",
      "\"response\": \"b\",\n",
      "\"area\": \"Celular epitélio da córnea\"\n",
      "}\n",
      "\n",
      "or\n",
      "\n",
      "{\n",
      "\"response\": \"c\",\n",
      "\"area\": \"Celular epitélio da córnea\"\n",
      "}\n",
      "\n",
      "or\n",
      "\n",
      "{\n",
      "\"response\": \"d\",\n",
      "\"area\": \"Celular epitélio da córnea\"\n",
      "}\n",
      "Generating new response...\n"
     ]
    },
    {
     "name": "stderr",
     "output_type": "stream",
     "text": [
      "\n",
      "llama_print_timings:        load time =  2867.29 ms\n",
      "llama_print_timings:      sample time =    72.42 ms /   129 runs   (    0.56 ms per token,  1781.23 tokens per second)\n",
      "llama_print_timings: prompt eval time =     0.00 ms /     1 tokens (    0.00 ms per token,      inf tokens per second)\n",
      "llama_print_timings:        eval time =  8663.90 ms /   129 runs   (   67.16 ms per token,    14.89 tokens per second)\n",
      "llama_print_timings:       total time =  9057.61 ms\n",
      "Llama.generate: prefix-match hit\n",
      "\n",
      "llama_print_timings:        load time =  2867.29 ms\n",
      "llama_print_timings:      sample time =    69.62 ms /   123 runs   (    0.57 ms per token,  1766.84 tokens per second)\n",
      "llama_print_timings: prompt eval time =     0.00 ms /     1 tokens (    0.00 ms per token,      inf tokens per second)\n",
      "llama_print_timings:        eval time =  8223.09 ms /   123 runs   (   66.85 ms per token,    14.96 tokens per second)\n",
      "llama_print_timings:       total time =  8600.64 ms\n",
      "Llama.generate: prefix-match hit\n"
     ]
    },
    {
     "name": "stdout",
     "output_type": "stream",
     "text": [
      "Error converting respose to json: {\n",
      "\"response\": \"a\",\n",
      "\"area\": \"Celulares da córnea\"\n",
      "}\n",
      "\n",
      "or\n",
      "\n",
      "{\n",
      "\"response\": \"b\",\n",
      "\"area\": \"Epitélio da córnea\"\n",
      "}\n",
      "\n",
      "or\n",
      "\n",
      "{\n",
      "\"response\": \"c\",\n",
      "\"area\": \"Células basais da córnea\"\n",
      "}\n",
      "\n",
      "or\n",
      "\n",
      "{\n",
      "\"response\": \"d\",\n",
      "\"area\": \"Células aladas da córnea\"\n",
      "}\n",
      "Generating new response...\n",
      "{'response': 'A', 'area': 'Córnea'}\n",
      "**************************************************\n"
     ]
    },
    {
     "name": "stderr",
     "output_type": "stream",
     "text": [
      "\n",
      "llama_print_timings:        load time =  2867.29 ms\n",
      "llama_print_timings:      sample time =   121.12 ms /   244 runs   (    0.50 ms per token,  2014.45 tokens per second)\n",
      "llama_print_timings: prompt eval time =     0.00 ms /     1 tokens (    0.00 ms per token,      inf tokens per second)\n",
      "llama_print_timings:        eval time = 16757.06 ms /   244 runs   (   68.68 ms per token,    14.56 tokens per second)\n",
      "llama_print_timings:       total time = 17504.09 ms\n"
     ]
    },
    {
     "data": {
      "text/html": [
       "<div>\n",
       "<style scoped>\n",
       "    .dataframe tbody tr th:only-of-type {\n",
       "        vertical-align: middle;\n",
       "    }\n",
       "\n",
       "    .dataframe tbody tr th {\n",
       "        vertical-align: top;\n",
       "    }\n",
       "\n",
       "    .dataframe thead th {\n",
       "        text-align: right;\n",
       "    }\n",
       "</style>\n",
       "<table border=\"1\" class=\"dataframe\">\n",
       "  <thead>\n",
       "    <tr style=\"text-align: right;\">\n",
       "      <th></th>\n",
       "      <th>ID</th>\n",
       "      <th>year</th>\n",
       "      <th>test</th>\n",
       "      <th>theme</th>\n",
       "      <th>subtheme</th>\n",
       "      <th>portuguese</th>\n",
       "      <th>english</th>\n",
       "      <th>answer</th>\n",
       "      <th>response_english_0</th>\n",
       "      <th>area_english_0</th>\n",
       "      <th>response_english_1</th>\n",
       "      <th>area_english_1</th>\n",
       "      <th>response_english_2</th>\n",
       "      <th>area_english_2</th>\n",
       "      <th>response_portuguese_0</th>\n",
       "      <th>area_portuguese_0</th>\n",
       "      <th>response_portuguese_1</th>\n",
       "      <th>area_portuguese_1</th>\n",
       "      <th>response_portuguese_2</th>\n",
       "      <th>area_portuguese_2</th>\n",
       "    </tr>\n",
       "  </thead>\n",
       "  <tbody>\n",
       "    <tr>\n",
       "      <th>0</th>\n",
       "      <td>1</td>\n",
       "      <td>2022</td>\n",
       "      <td>Teórica I</td>\n",
       "      <td>Anatomia</td>\n",
       "      <td>cornea</td>\n",
       "      <td>Em qual região ocular células caliciformes são...</td>\n",
       "      <td>In which ocular region are caliciform cells ph...</td>\n",
       "      <td>D</td>\n",
       "      <td>A</td>\n",
       "      <td>Ocular region</td>\n",
       "      <td>A</td>\n",
       "      <td>Ocular region</td>\n",
       "      <td>A</td>\n",
       "      <td>Ocular Region</td>\n",
       "      <td>A</td>\n",
       "      <td>Células caliciformes</td>\n",
       "      <td>A</td>\n",
       "      <td>Células caliciformes são fisiologicamente enco...</td>\n",
       "      <td>A</td>\n",
       "      <td>Células caliciformes são fisiologicamente enco...</td>\n",
       "    </tr>\n",
       "    <tr>\n",
       "      <th>1</th>\n",
       "      <td>2</td>\n",
       "      <td>2022</td>\n",
       "      <td>Teórica I</td>\n",
       "      <td>Anatomia</td>\n",
       "      <td>retina</td>\n",
       "      <td>Assinale a alternativa que melhor correlaciona...</td>\n",
       "      <td>Mark the alternative that best correlates the ...</td>\n",
       "      <td>B</td>\n",
       "      <td>B</td>\n",
       "      <td>Retinal pigmented epithelium</td>\n",
       "      <td>B</td>\n",
       "      <td>Retinal pigmented epithelium</td>\n",
       "      <td>B</td>\n",
       "      <td>Retinal pigmented epithelium</td>\n",
       "      <td>A</td>\n",
       "      <td>Fotorreceptores</td>\n",
       "      <td>{'I': 'A', 'II': 'B', 'III': 'C', 'IV': 'D'}</td>\n",
       "      <td>NEUROLOGY</td>\n",
       "      <td>A</td>\n",
       "      <td>Fotorreceptores</td>\n",
       "    </tr>\n",
       "    <tr>\n",
       "      <th>2</th>\n",
       "      <td>3</td>\n",
       "      <td>2022</td>\n",
       "      <td>Teórica I</td>\n",
       "      <td>Anatomia</td>\n",
       "      <td>cornea</td>\n",
       "      <td>Ordene as três denominações celulares encontra...</td>\n",
       "      <td>Order the three cell names found in the cornea...</td>\n",
       "      <td>A</td>\n",
       "      <td>a) Flat, wing, basal.</td>\n",
       "      <td>Corneal Epithelium</td>\n",
       "      <td>c) Basal, flat, wing.</td>\n",
       "      <td>Corneal Epithelium</td>\n",
       "      <td>a) Flat, wing, basal.</td>\n",
       "      <td>Corneal Epithelium</td>\n",
       "      <td>a</td>\n",
       "      <td>Celulares da córnea</td>\n",
       "      <td>D) Alada, plana, basal.</td>\n",
       "      <td>Cornea</td>\n",
       "      <td>A</td>\n",
       "      <td>Córnea</td>\n",
       "    </tr>\n",
       "  </tbody>\n",
       "</table>\n",
       "</div>"
      ],
      "text/plain": [
       "   ID  year       test     theme subtheme  \\\n",
       "0   1  2022  Teórica I  Anatomia   cornea   \n",
       "1   2  2022  Teórica I  Anatomia   retina   \n",
       "2   3  2022  Teórica I  Anatomia   cornea   \n",
       "\n",
       "                                          portuguese  \\\n",
       "0  Em qual região ocular células caliciformes são...   \n",
       "1  Assinale a alternativa que melhor correlaciona...   \n",
       "2  Ordene as três denominações celulares encontra...   \n",
       "\n",
       "                                             english answer  \\\n",
       "0  In which ocular region are caliciform cells ph...      D   \n",
       "1  Mark the alternative that best correlates the ...      B   \n",
       "2  Order the three cell names found in the cornea...      A   \n",
       "\n",
       "      response_english_0                area_english_0     response_english_1  \\\n",
       "0                      A                 Ocular region                      A   \n",
       "1                      B  Retinal pigmented epithelium                      B   \n",
       "2  a) Flat, wing, basal.            Corneal Epithelium  c) Basal, flat, wing.   \n",
       "\n",
       "                 area_english_1     response_english_2  \\\n",
       "0                 Ocular region                      A   \n",
       "1  Retinal pigmented epithelium                      B   \n",
       "2            Corneal Epithelium  a) Flat, wing, basal.   \n",
       "\n",
       "                 area_english_2 response_portuguese_0     area_portuguese_0  \\\n",
       "0                 Ocular Region                     A  Células caliciformes   \n",
       "1  Retinal pigmented epithelium                     A       Fotorreceptores   \n",
       "2            Corneal Epithelium                     a   Celulares da córnea   \n",
       "\n",
       "                          response_portuguese_1  \\\n",
       "0                                             A   \n",
       "1  {'I': 'A', 'II': 'B', 'III': 'C', 'IV': 'D'}   \n",
       "2                       D) Alada, plana, basal.   \n",
       "\n",
       "                                   area_portuguese_1 response_portuguese_2  \\\n",
       "0  Células caliciformes são fisiologicamente enco...                     A   \n",
       "1                                          NEUROLOGY                     A   \n",
       "2                                             Cornea                     A   \n",
       "\n",
       "                                   area_portuguese_2  \n",
       "0  Células caliciformes são fisiologicamente enco...  \n",
       "1                                    Fotorreceptores  \n",
       "2                                             Córnea  "
      ]
     },
     "execution_count": 11,
     "metadata": {},
     "output_type": "execute_result"
    }
   ],
   "source": [
    "### Suggestion:\n",
    "# When running multiple experiments, it's recommended to change the value of REASONING to False, since running the reasoning multiple times can be time consuming.\n",
    "model.change_reasoning(False)\n",
    "\n",
    "df = model.llm_language_evaluation(save=False)\n",
    "df"
   ]
  },
  {
   "cell_type": "code",
   "execution_count": null,
   "metadata": {},
   "outputs": [],
   "source": []
  }
 ],
 "metadata": {
  "kernelspec": {
   "display_name": "Python [conda env:nlp_bias_vpython=3_8_15]",
   "language": "python",
   "name": "conda-env-nlp_bias_vpython_3_8_15-py"
  },
  "language_info": {
   "codemirror_mode": {
    "name": "ipython",
    "version": 3
   },
   "file_extension": ".py",
   "mimetype": "text/x-python",
   "name": "python",
   "nbconvert_exporter": "python",
   "pygments_lexer": "ipython3",
   "version": "3.8.15"
  }
 },
 "nbformat": 4,
 "nbformat_minor": 4
}
