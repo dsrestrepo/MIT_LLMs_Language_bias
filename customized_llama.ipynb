{
 "cells": [
  {
   "cell_type": "markdown",
   "metadata": {},
   "source": [
    "## Setup"
   ]
  },
  {
   "cell_type": "markdown",
   "metadata": {},
   "source": [
    "#### Load the API key and libaries."
   ]
  },
  {
   "cell_type": "code",
   "execution_count": 1,
   "metadata": {},
   "outputs": [],
   "source": [
    "from src.LLM_Evaluation import LLAMA\n",
    "import pandas as pd"
   ]
  },
  {
   "cell_type": "markdown",
   "metadata": {},
   "source": [
    "#### Load the Constants"
   ]
  },
  {
   "cell_type": "code",
   "execution_count": 2,
   "metadata": {},
   "outputs": [],
   "source": [
    "PATH = 'data/Portuguese_test.csv'\n",
    "MODEL = \"Llama-2-7b\"\n",
    "TEMPERATURE = 0.3\n",
    "N_REPETITIONS = 3\n",
    "REASONING = True\n",
    "LANGUAGES = ['english', 'portuguese']\n",
    "MAX_TOKENS = 500"
   ]
  },
  {
   "cell_type": "markdown",
   "metadata": {},
   "source": [
    "### Create an Instance of the model"
   ]
  },
  {
   "cell_type": "code",
   "execution_count": 3,
   "metadata": {},
   "outputs": [
    {
     "name": "stdin",
     "output_type": "stream",
     "text": [
      "The model file 'Models/Llama-2-7b.gguf' already exists. Do you want to overwrite it? (yes/no):  No\n"
     ]
    },
    {
     "name": "stdout",
     "output_type": "stream",
     "text": [
      "Model installation aborted.\n"
     ]
    },
    {
     "name": "stderr",
     "output_type": "stream",
     "text": [
      "llama_model_loader: loaded meta data with 19 key-value pairs and 291 tensors from Models/Llama-2-7b.gguf (version GGUF V2 (latest))\n",
      "llama_model_loader: - tensor    0:                token_embd.weight q8_0     [  4096, 32000,     1,     1 ]\n",
      "llama_model_loader: - tensor    1:           blk.0.attn_norm.weight f32      [  4096,     1,     1,     1 ]\n",
      "llama_model_loader: - tensor    2:            blk.0.ffn_down.weight q8_0     [ 11008,  4096,     1,     1 ]\n",
      "llama_model_loader: - tensor    3:            blk.0.ffn_gate.weight q8_0     [  4096, 11008,     1,     1 ]\n",
      "llama_model_loader: - tensor    4:              blk.0.ffn_up.weight q8_0     [  4096, 11008,     1,     1 ]\n",
      "llama_model_loader: - tensor    5:            blk.0.ffn_norm.weight f32      [  4096,     1,     1,     1 ]\n",
      "llama_model_loader: - tensor    6:              blk.0.attn_k.weight q8_0     [  4096,  4096,     1,     1 ]\n",
      "llama_model_loader: - tensor    7:         blk.0.attn_output.weight q8_0     [  4096,  4096,     1,     1 ]\n",
      "llama_model_loader: - tensor    8:              blk.0.attn_q.weight q8_0     [  4096,  4096,     1,     1 ]\n",
      "llama_model_loader: - tensor    9:              blk.0.attn_v.weight q8_0     [  4096,  4096,     1,     1 ]\n",
      "llama_model_loader: - tensor   10:           blk.1.attn_norm.weight f32      [  4096,     1,     1,     1 ]\n",
      "llama_model_loader: - tensor   11:            blk.1.ffn_down.weight q8_0     [ 11008,  4096,     1,     1 ]\n",
      "llama_model_loader: - tensor   12:            blk.1.ffn_gate.weight q8_0     [  4096, 11008,     1,     1 ]\n",
      "llama_model_loader: - tensor   13:              blk.1.ffn_up.weight q8_0     [  4096, 11008,     1,     1 ]\n",
      "llama_model_loader: - tensor   14:            blk.1.ffn_norm.weight f32      [  4096,     1,     1,     1 ]\n",
      "llama_model_loader: - tensor   15:              blk.1.attn_k.weight q8_0     [  4096,  4096,     1,     1 ]\n",
      "llama_model_loader: - tensor   16:         blk.1.attn_output.weight q8_0     [  4096,  4096,     1,     1 ]\n",
      "llama_model_loader: - tensor   17:              blk.1.attn_q.weight q8_0     [  4096,  4096,     1,     1 ]\n",
      "llama_model_loader: - tensor   18:              blk.1.attn_v.weight q8_0     [  4096,  4096,     1,     1 ]\n",
      "llama_model_loader: - tensor   19:          blk.10.attn_norm.weight f32      [  4096,     1,     1,     1 ]\n",
      "llama_model_loader: - tensor   20:           blk.10.ffn_down.weight q8_0     [ 11008,  4096,     1,     1 ]\n",
      "llama_model_loader: - tensor   21:           blk.10.ffn_gate.weight q8_0     [  4096, 11008,     1,     1 ]\n",
      "llama_model_loader: - tensor   22:             blk.10.ffn_up.weight q8_0     [  4096, 11008,     1,     1 ]\n",
      "llama_model_loader: - tensor   23:           blk.10.ffn_norm.weight f32      [  4096,     1,     1,     1 ]\n",
      "llama_model_loader: - tensor   24:             blk.10.attn_k.weight q8_0     [  4096,  4096,     1,     1 ]\n",
      "llama_model_loader: - tensor   25:        blk.10.attn_output.weight q8_0     [  4096,  4096,     1,     1 ]\n",
      "llama_model_loader: - tensor   26:             blk.10.attn_q.weight q8_0     [  4096,  4096,     1,     1 ]\n",
      "llama_model_loader: - tensor   27:             blk.10.attn_v.weight q8_0     [  4096,  4096,     1,     1 ]\n",
      "llama_model_loader: - tensor   28:          blk.11.attn_norm.weight f32      [  4096,     1,     1,     1 ]\n",
      "llama_model_loader: - tensor   29:           blk.11.ffn_down.weight q8_0     [ 11008,  4096,     1,     1 ]\n",
      "llama_model_loader: - tensor   30:           blk.11.ffn_gate.weight q8_0     [  4096, 11008,     1,     1 ]\n",
      "llama_model_loader: - tensor   31:             blk.11.ffn_up.weight q8_0     [  4096, 11008,     1,     1 ]\n",
      "llama_model_loader: - tensor   32:           blk.11.ffn_norm.weight f32      [  4096,     1,     1,     1 ]\n",
      "llama_model_loader: - tensor   33:             blk.11.attn_k.weight q8_0     [  4096,  4096,     1,     1 ]\n",
      "llama_model_loader: - tensor   34:        blk.11.attn_output.weight q8_0     [  4096,  4096,     1,     1 ]\n",
      "llama_model_loader: - tensor   35:             blk.11.attn_q.weight q8_0     [  4096,  4096,     1,     1 ]\n",
      "llama_model_loader: - tensor   36:             blk.11.attn_v.weight q8_0     [  4096,  4096,     1,     1 ]\n",
      "llama_model_loader: - tensor   37:          blk.12.attn_norm.weight f32      [  4096,     1,     1,     1 ]\n",
      "llama_model_loader: - tensor   38:           blk.12.ffn_down.weight q8_0     [ 11008,  4096,     1,     1 ]\n",
      "llama_model_loader: - tensor   39:           blk.12.ffn_gate.weight q8_0     [  4096, 11008,     1,     1 ]\n",
      "llama_model_loader: - tensor   40:             blk.12.ffn_up.weight q8_0     [  4096, 11008,     1,     1 ]\n",
      "llama_model_loader: - tensor   41:           blk.12.ffn_norm.weight f32      [  4096,     1,     1,     1 ]\n",
      "llama_model_loader: - tensor   42:             blk.12.attn_k.weight q8_0     [  4096,  4096,     1,     1 ]\n",
      "llama_model_loader: - tensor   43:        blk.12.attn_output.weight q8_0     [  4096,  4096,     1,     1 ]\n",
      "llama_model_loader: - tensor   44:             blk.12.attn_q.weight q8_0     [  4096,  4096,     1,     1 ]\n",
      "llama_model_loader: - tensor   45:             blk.12.attn_v.weight q8_0     [  4096,  4096,     1,     1 ]\n",
      "llama_model_loader: - tensor   46:          blk.13.attn_norm.weight f32      [  4096,     1,     1,     1 ]\n",
      "llama_model_loader: - tensor   47:           blk.13.ffn_down.weight q8_0     [ 11008,  4096,     1,     1 ]\n",
      "llama_model_loader: - tensor   48:           blk.13.ffn_gate.weight q8_0     [  4096, 11008,     1,     1 ]\n",
      "llama_model_loader: - tensor   49:             blk.13.ffn_up.weight q8_0     [  4096, 11008,     1,     1 ]\n",
      "llama_model_loader: - tensor   50:           blk.13.ffn_norm.weight f32      [  4096,     1,     1,     1 ]\n",
      "llama_model_loader: - tensor   51:             blk.13.attn_k.weight q8_0     [  4096,  4096,     1,     1 ]\n",
      "llama_model_loader: - tensor   52:        blk.13.attn_output.weight q8_0     [  4096,  4096,     1,     1 ]\n",
      "llama_model_loader: - tensor   53:             blk.13.attn_q.weight q8_0     [  4096,  4096,     1,     1 ]\n",
      "llama_model_loader: - tensor   54:             blk.13.attn_v.weight q8_0     [  4096,  4096,     1,     1 ]\n",
      "llama_model_loader: - tensor   55:          blk.14.attn_norm.weight f32      [  4096,     1,     1,     1 ]\n",
      "llama_model_loader: - tensor   56:           blk.14.ffn_down.weight q8_0     [ 11008,  4096,     1,     1 ]\n",
      "llama_model_loader: - tensor   57:           blk.14.ffn_gate.weight q8_0     [  4096, 11008,     1,     1 ]\n",
      "llama_model_loader: - tensor   58:             blk.14.ffn_up.weight q8_0     [  4096, 11008,     1,     1 ]\n",
      "llama_model_loader: - tensor   59:           blk.14.ffn_norm.weight f32      [  4096,     1,     1,     1 ]\n",
      "llama_model_loader: - tensor   60:             blk.14.attn_k.weight q8_0     [  4096,  4096,     1,     1 ]\n",
      "llama_model_loader: - tensor   61:        blk.14.attn_output.weight q8_0     [  4096,  4096,     1,     1 ]\n",
      "llama_model_loader: - tensor   62:             blk.14.attn_q.weight q8_0     [  4096,  4096,     1,     1 ]\n",
      "llama_model_loader: - tensor   63:             blk.14.attn_v.weight q8_0     [  4096,  4096,     1,     1 ]\n",
      "llama_model_loader: - tensor   64:          blk.15.attn_norm.weight f32      [  4096,     1,     1,     1 ]\n",
      "llama_model_loader: - tensor   65:           blk.15.ffn_down.weight q8_0     [ 11008,  4096,     1,     1 ]\n",
      "llama_model_loader: - tensor   66:           blk.15.ffn_gate.weight q8_0     [  4096, 11008,     1,     1 ]\n",
      "llama_model_loader: - tensor   67:             blk.15.ffn_up.weight q8_0     [  4096, 11008,     1,     1 ]\n",
      "llama_model_loader: - tensor   68:           blk.15.ffn_norm.weight f32      [  4096,     1,     1,     1 ]\n",
      "llama_model_loader: - tensor   69:             blk.15.attn_k.weight q8_0     [  4096,  4096,     1,     1 ]\n",
      "llama_model_loader: - tensor   70:        blk.15.attn_output.weight q8_0     [  4096,  4096,     1,     1 ]\n",
      "llama_model_loader: - tensor   71:             blk.15.attn_q.weight q8_0     [  4096,  4096,     1,     1 ]\n",
      "llama_model_loader: - tensor   72:             blk.15.attn_v.weight q8_0     [  4096,  4096,     1,     1 ]\n",
      "llama_model_loader: - tensor   73:          blk.16.attn_norm.weight f32      [  4096,     1,     1,     1 ]\n",
      "llama_model_loader: - tensor   74:           blk.16.ffn_down.weight q8_0     [ 11008,  4096,     1,     1 ]\n",
      "llama_model_loader: - tensor   75:           blk.16.ffn_gate.weight q8_0     [  4096, 11008,     1,     1 ]\n",
      "llama_model_loader: - tensor   76:             blk.16.ffn_up.weight q8_0     [  4096, 11008,     1,     1 ]\n",
      "llama_model_loader: - tensor   77:           blk.16.ffn_norm.weight f32      [  4096,     1,     1,     1 ]\n",
      "llama_model_loader: - tensor   78:             blk.16.attn_k.weight q8_0     [  4096,  4096,     1,     1 ]\n",
      "llama_model_loader: - tensor   79:        blk.16.attn_output.weight q8_0     [  4096,  4096,     1,     1 ]\n",
      "llama_model_loader: - tensor   80:             blk.16.attn_q.weight q8_0     [  4096,  4096,     1,     1 ]\n",
      "llama_model_loader: - tensor   81:             blk.16.attn_v.weight q8_0     [  4096,  4096,     1,     1 ]\n",
      "llama_model_loader: - tensor   82:          blk.17.attn_norm.weight f32      [  4096,     1,     1,     1 ]\n",
      "llama_model_loader: - tensor   83:           blk.17.ffn_down.weight q8_0     [ 11008,  4096,     1,     1 ]\n",
      "llama_model_loader: - tensor   84:           blk.17.ffn_gate.weight q8_0     [  4096, 11008,     1,     1 ]\n",
      "llama_model_loader: - tensor   85:             blk.17.ffn_up.weight q8_0     [  4096, 11008,     1,     1 ]\n",
      "llama_model_loader: - tensor   86:           blk.17.ffn_norm.weight f32      [  4096,     1,     1,     1 ]\n",
      "llama_model_loader: - tensor   87:             blk.17.attn_k.weight q8_0     [  4096,  4096,     1,     1 ]\n",
      "llama_model_loader: - tensor   88:        blk.17.attn_output.weight q8_0     [  4096,  4096,     1,     1 ]\n",
      "llama_model_loader: - tensor   89:             blk.17.attn_q.weight q8_0     [  4096,  4096,     1,     1 ]\n",
      "llama_model_loader: - tensor   90:             blk.17.attn_v.weight q8_0     [  4096,  4096,     1,     1 ]\n",
      "llama_model_loader: - tensor   91:          blk.18.attn_norm.weight f32      [  4096,     1,     1,     1 ]\n",
      "llama_model_loader: - tensor   92:           blk.18.ffn_down.weight q8_0     [ 11008,  4096,     1,     1 ]\n",
      "llama_model_loader: - tensor   93:           blk.18.ffn_gate.weight q8_0     [  4096, 11008,     1,     1 ]\n",
      "llama_model_loader: - tensor   94:             blk.18.ffn_up.weight q8_0     [  4096, 11008,     1,     1 ]\n",
      "llama_model_loader: - tensor   95:           blk.18.ffn_norm.weight f32      [  4096,     1,     1,     1 ]\n",
      "llama_model_loader: - tensor   96:             blk.18.attn_k.weight q8_0     [  4096,  4096,     1,     1 ]\n",
      "llama_model_loader: - tensor   97:        blk.18.attn_output.weight q8_0     [  4096,  4096,     1,     1 ]\n",
      "llama_model_loader: - tensor   98:             blk.18.attn_q.weight q8_0     [  4096,  4096,     1,     1 ]\n",
      "llama_model_loader: - tensor   99:             blk.18.attn_v.weight q8_0     [  4096,  4096,     1,     1 ]\n",
      "llama_model_loader: - tensor  100:          blk.19.attn_norm.weight f32      [  4096,     1,     1,     1 ]\n",
      "llama_model_loader: - tensor  101:           blk.19.ffn_down.weight q8_0     [ 11008,  4096,     1,     1 ]\n",
      "llama_model_loader: - tensor  102:           blk.19.ffn_gate.weight q8_0     [  4096, 11008,     1,     1 ]\n",
      "llama_model_loader: - tensor  103:             blk.19.ffn_up.weight q8_0     [  4096, 11008,     1,     1 ]\n",
      "llama_model_loader: - tensor  104:           blk.19.ffn_norm.weight f32      [  4096,     1,     1,     1 ]\n",
      "llama_model_loader: - tensor  105:             blk.19.attn_k.weight q8_0     [  4096,  4096,     1,     1 ]\n",
      "llama_model_loader: - tensor  106:        blk.19.attn_output.weight q8_0     [  4096,  4096,     1,     1 ]\n",
      "llama_model_loader: - tensor  107:             blk.19.attn_q.weight q8_0     [  4096,  4096,     1,     1 ]\n",
      "llama_model_loader: - tensor  108:             blk.19.attn_v.weight q8_0     [  4096,  4096,     1,     1 ]\n",
      "llama_model_loader: - tensor  109:           blk.2.attn_norm.weight f32      [  4096,     1,     1,     1 ]\n",
      "llama_model_loader: - tensor  110:            blk.2.ffn_down.weight q8_0     [ 11008,  4096,     1,     1 ]\n",
      "llama_model_loader: - tensor  111:            blk.2.ffn_gate.weight q8_0     [  4096, 11008,     1,     1 ]\n",
      "llama_model_loader: - tensor  112:              blk.2.ffn_up.weight q8_0     [  4096, 11008,     1,     1 ]\n",
      "llama_model_loader: - tensor  113:            blk.2.ffn_norm.weight f32      [  4096,     1,     1,     1 ]\n",
      "llama_model_loader: - tensor  114:              blk.2.attn_k.weight q8_0     [  4096,  4096,     1,     1 ]\n",
      "llama_model_loader: - tensor  115:         blk.2.attn_output.weight q8_0     [  4096,  4096,     1,     1 ]\n",
      "llama_model_loader: - tensor  116:              blk.2.attn_q.weight q8_0     [  4096,  4096,     1,     1 ]\n",
      "llama_model_loader: - tensor  117:              blk.2.attn_v.weight q8_0     [  4096,  4096,     1,     1 ]\n",
      "llama_model_loader: - tensor  118:          blk.20.attn_norm.weight f32      [  4096,     1,     1,     1 ]\n",
      "llama_model_loader: - tensor  119:           blk.20.ffn_down.weight q8_0     [ 11008,  4096,     1,     1 ]\n",
      "llama_model_loader: - tensor  120:           blk.20.ffn_gate.weight q8_0     [  4096, 11008,     1,     1 ]\n",
      "llama_model_loader: - tensor  121:             blk.20.ffn_up.weight q8_0     [  4096, 11008,     1,     1 ]\n",
      "llama_model_loader: - tensor  122:           blk.20.ffn_norm.weight f32      [  4096,     1,     1,     1 ]\n",
      "llama_model_loader: - tensor  123:             blk.20.attn_k.weight q8_0     [  4096,  4096,     1,     1 ]\n",
      "llama_model_loader: - tensor  124:        blk.20.attn_output.weight q8_0     [  4096,  4096,     1,     1 ]\n",
      "llama_model_loader: - tensor  125:             blk.20.attn_q.weight q8_0     [  4096,  4096,     1,     1 ]\n",
      "llama_model_loader: - tensor  126:             blk.20.attn_v.weight q8_0     [  4096,  4096,     1,     1 ]\n",
      "llama_model_loader: - tensor  127:          blk.21.attn_norm.weight f32      [  4096,     1,     1,     1 ]\n",
      "llama_model_loader: - tensor  128:           blk.21.ffn_down.weight q8_0     [ 11008,  4096,     1,     1 ]\n",
      "llama_model_loader: - tensor  129:           blk.21.ffn_gate.weight q8_0     [  4096, 11008,     1,     1 ]\n",
      "llama_model_loader: - tensor  130:             blk.21.ffn_up.weight q8_0     [  4096, 11008,     1,     1 ]\n",
      "llama_model_loader: - tensor  131:           blk.21.ffn_norm.weight f32      [  4096,     1,     1,     1 ]\n",
      "llama_model_loader: - tensor  132:             blk.21.attn_k.weight q8_0     [  4096,  4096,     1,     1 ]\n",
      "llama_model_loader: - tensor  133:        blk.21.attn_output.weight q8_0     [  4096,  4096,     1,     1 ]\n",
      "llama_model_loader: - tensor  134:             blk.21.attn_q.weight q8_0     [  4096,  4096,     1,     1 ]\n",
      "llama_model_loader: - tensor  135:             blk.21.attn_v.weight q8_0     [  4096,  4096,     1,     1 ]\n",
      "llama_model_loader: - tensor  136:          blk.22.attn_norm.weight f32      [  4096,     1,     1,     1 ]\n",
      "llama_model_loader: - tensor  137:           blk.22.ffn_down.weight q8_0     [ 11008,  4096,     1,     1 ]\n",
      "llama_model_loader: - tensor  138:           blk.22.ffn_gate.weight q8_0     [  4096, 11008,     1,     1 ]\n",
      "llama_model_loader: - tensor  139:             blk.22.ffn_up.weight q8_0     [  4096, 11008,     1,     1 ]\n",
      "llama_model_loader: - tensor  140:           blk.22.ffn_norm.weight f32      [  4096,     1,     1,     1 ]\n",
      "llama_model_loader: - tensor  141:             blk.22.attn_k.weight q8_0     [  4096,  4096,     1,     1 ]\n",
      "llama_model_loader: - tensor  142:        blk.22.attn_output.weight q8_0     [  4096,  4096,     1,     1 ]\n",
      "llama_model_loader: - tensor  143:             blk.22.attn_q.weight q8_0     [  4096,  4096,     1,     1 ]\n",
      "llama_model_loader: - tensor  144:             blk.22.attn_v.weight q8_0     [  4096,  4096,     1,     1 ]\n",
      "llama_model_loader: - tensor  145:          blk.23.attn_norm.weight f32      [  4096,     1,     1,     1 ]\n",
      "llama_model_loader: - tensor  146:           blk.23.ffn_down.weight q8_0     [ 11008,  4096,     1,     1 ]\n",
      "llama_model_loader: - tensor  147:           blk.23.ffn_gate.weight q8_0     [  4096, 11008,     1,     1 ]\n",
      "llama_model_loader: - tensor  148:             blk.23.ffn_up.weight q8_0     [  4096, 11008,     1,     1 ]\n",
      "llama_model_loader: - tensor  149:           blk.23.ffn_norm.weight f32      [  4096,     1,     1,     1 ]\n",
      "llama_model_loader: - tensor  150:             blk.23.attn_k.weight q8_0     [  4096,  4096,     1,     1 ]\n",
      "llama_model_loader: - tensor  151:        blk.23.attn_output.weight q8_0     [  4096,  4096,     1,     1 ]\n",
      "llama_model_loader: - tensor  152:             blk.23.attn_q.weight q8_0     [  4096,  4096,     1,     1 ]\n",
      "llama_model_loader: - tensor  153:             blk.23.attn_v.weight q8_0     [  4096,  4096,     1,     1 ]\n",
      "llama_model_loader: - tensor  154:           blk.3.attn_norm.weight f32      [  4096,     1,     1,     1 ]\n",
      "llama_model_loader: - tensor  155:            blk.3.ffn_down.weight q8_0     [ 11008,  4096,     1,     1 ]\n",
      "llama_model_loader: - tensor  156:            blk.3.ffn_gate.weight q8_0     [  4096, 11008,     1,     1 ]\n",
      "llama_model_loader: - tensor  157:              blk.3.ffn_up.weight q8_0     [  4096, 11008,     1,     1 ]\n",
      "llama_model_loader: - tensor  158:            blk.3.ffn_norm.weight f32      [  4096,     1,     1,     1 ]\n",
      "llama_model_loader: - tensor  159:              blk.3.attn_k.weight q8_0     [  4096,  4096,     1,     1 ]\n",
      "llama_model_loader: - tensor  160:         blk.3.attn_output.weight q8_0     [  4096,  4096,     1,     1 ]\n",
      "llama_model_loader: - tensor  161:              blk.3.attn_q.weight q8_0     [  4096,  4096,     1,     1 ]\n",
      "llama_model_loader: - tensor  162:              blk.3.attn_v.weight q8_0     [  4096,  4096,     1,     1 ]\n",
      "llama_model_loader: - tensor  163:           blk.4.attn_norm.weight f32      [  4096,     1,     1,     1 ]\n",
      "llama_model_loader: - tensor  164:            blk.4.ffn_down.weight q8_0     [ 11008,  4096,     1,     1 ]\n",
      "llama_model_loader: - tensor  165:            blk.4.ffn_gate.weight q8_0     [  4096, 11008,     1,     1 ]\n",
      "llama_model_loader: - tensor  166:              blk.4.ffn_up.weight q8_0     [  4096, 11008,     1,     1 ]\n",
      "llama_model_loader: - tensor  167:            blk.4.ffn_norm.weight f32      [  4096,     1,     1,     1 ]\n",
      "llama_model_loader: - tensor  168:              blk.4.attn_k.weight q8_0     [  4096,  4096,     1,     1 ]\n",
      "llama_model_loader: - tensor  169:         blk.4.attn_output.weight q8_0     [  4096,  4096,     1,     1 ]\n",
      "llama_model_loader: - tensor  170:              blk.4.attn_q.weight q8_0     [  4096,  4096,     1,     1 ]\n",
      "llama_model_loader: - tensor  171:              blk.4.attn_v.weight q8_0     [  4096,  4096,     1,     1 ]\n",
      "llama_model_loader: - tensor  172:           blk.5.attn_norm.weight f32      [  4096,     1,     1,     1 ]\n",
      "llama_model_loader: - tensor  173:            blk.5.ffn_down.weight q8_0     [ 11008,  4096,     1,     1 ]\n",
      "llama_model_loader: - tensor  174:            blk.5.ffn_gate.weight q8_0     [  4096, 11008,     1,     1 ]\n",
      "llama_model_loader: - tensor  175:              blk.5.ffn_up.weight q8_0     [  4096, 11008,     1,     1 ]\n",
      "llama_model_loader: - tensor  176:            blk.5.ffn_norm.weight f32      [  4096,     1,     1,     1 ]\n",
      "llama_model_loader: - tensor  177:              blk.5.attn_k.weight q8_0     [  4096,  4096,     1,     1 ]\n",
      "llama_model_loader: - tensor  178:         blk.5.attn_output.weight q8_0     [  4096,  4096,     1,     1 ]\n",
      "llama_model_loader: - tensor  179:              blk.5.attn_q.weight q8_0     [  4096,  4096,     1,     1 ]\n",
      "llama_model_loader: - tensor  180:              blk.5.attn_v.weight q8_0     [  4096,  4096,     1,     1 ]\n",
      "llama_model_loader: - tensor  181:           blk.6.attn_norm.weight f32      [  4096,     1,     1,     1 ]\n",
      "llama_model_loader: - tensor  182:            blk.6.ffn_down.weight q8_0     [ 11008,  4096,     1,     1 ]\n",
      "llama_model_loader: - tensor  183:            blk.6.ffn_gate.weight q8_0     [  4096, 11008,     1,     1 ]\n",
      "llama_model_loader: - tensor  184:              blk.6.ffn_up.weight q8_0     [  4096, 11008,     1,     1 ]\n",
      "llama_model_loader: - tensor  185:            blk.6.ffn_norm.weight f32      [  4096,     1,     1,     1 ]\n",
      "llama_model_loader: - tensor  186:              blk.6.attn_k.weight q8_0     [  4096,  4096,     1,     1 ]\n",
      "llama_model_loader: - tensor  187:         blk.6.attn_output.weight q8_0     [  4096,  4096,     1,     1 ]\n",
      "llama_model_loader: - tensor  188:              blk.6.attn_q.weight q8_0     [  4096,  4096,     1,     1 ]\n",
      "llama_model_loader: - tensor  189:              blk.6.attn_v.weight q8_0     [  4096,  4096,     1,     1 ]\n",
      "llama_model_loader: - tensor  190:           blk.7.attn_norm.weight f32      [  4096,     1,     1,     1 ]\n",
      "llama_model_loader: - tensor  191:            blk.7.ffn_down.weight q8_0     [ 11008,  4096,     1,     1 ]\n",
      "llama_model_loader: - tensor  192:            blk.7.ffn_gate.weight q8_0     [  4096, 11008,     1,     1 ]\n",
      "llama_model_loader: - tensor  193:              blk.7.ffn_up.weight q8_0     [  4096, 11008,     1,     1 ]\n",
      "llama_model_loader: - tensor  194:            blk.7.ffn_norm.weight f32      [  4096,     1,     1,     1 ]\n",
      "llama_model_loader: - tensor  195:              blk.7.attn_k.weight q8_0     [  4096,  4096,     1,     1 ]\n",
      "llama_model_loader: - tensor  196:         blk.7.attn_output.weight q8_0     [  4096,  4096,     1,     1 ]\n",
      "llama_model_loader: - tensor  197:              blk.7.attn_q.weight q8_0     [  4096,  4096,     1,     1 ]\n",
      "llama_model_loader: - tensor  198:              blk.7.attn_v.weight q8_0     [  4096,  4096,     1,     1 ]\n",
      "llama_model_loader: - tensor  199:           blk.8.attn_norm.weight f32      [  4096,     1,     1,     1 ]\n",
      "llama_model_loader: - tensor  200:            blk.8.ffn_down.weight q8_0     [ 11008,  4096,     1,     1 ]\n",
      "llama_model_loader: - tensor  201:            blk.8.ffn_gate.weight q8_0     [  4096, 11008,     1,     1 ]\n",
      "llama_model_loader: - tensor  202:              blk.8.ffn_up.weight q8_0     [  4096, 11008,     1,     1 ]\n",
      "llama_model_loader: - tensor  203:            blk.8.ffn_norm.weight f32      [  4096,     1,     1,     1 ]\n",
      "llama_model_loader: - tensor  204:              blk.8.attn_k.weight q8_0     [  4096,  4096,     1,     1 ]\n",
      "llama_model_loader: - tensor  205:         blk.8.attn_output.weight q8_0     [  4096,  4096,     1,     1 ]\n",
      "llama_model_loader: - tensor  206:              blk.8.attn_q.weight q8_0     [  4096,  4096,     1,     1 ]\n",
      "llama_model_loader: - tensor  207:              blk.8.attn_v.weight q8_0     [  4096,  4096,     1,     1 ]\n",
      "llama_model_loader: - tensor  208:           blk.9.attn_norm.weight f32      [  4096,     1,     1,     1 ]\n",
      "llama_model_loader: - tensor  209:            blk.9.ffn_down.weight q8_0     [ 11008,  4096,     1,     1 ]\n",
      "llama_model_loader: - tensor  210:            blk.9.ffn_gate.weight q8_0     [  4096, 11008,     1,     1 ]\n",
      "llama_model_loader: - tensor  211:              blk.9.ffn_up.weight q8_0     [  4096, 11008,     1,     1 ]\n",
      "llama_model_loader: - tensor  212:            blk.9.ffn_norm.weight f32      [  4096,     1,     1,     1 ]\n",
      "llama_model_loader: - tensor  213:              blk.9.attn_k.weight q8_0     [  4096,  4096,     1,     1 ]\n",
      "llama_model_loader: - tensor  214:         blk.9.attn_output.weight q8_0     [  4096,  4096,     1,     1 ]\n",
      "llama_model_loader: - tensor  215:              blk.9.attn_q.weight q8_0     [  4096,  4096,     1,     1 ]\n",
      "llama_model_loader: - tensor  216:              blk.9.attn_v.weight q8_0     [  4096,  4096,     1,     1 ]\n",
      "llama_model_loader: - tensor  217:                    output.weight q8_0     [  4096, 32000,     1,     1 ]\n",
      "llama_model_loader: - tensor  218:          blk.24.attn_norm.weight f32      [  4096,     1,     1,     1 ]\n",
      "llama_model_loader: - tensor  219:           blk.24.ffn_down.weight q8_0     [ 11008,  4096,     1,     1 ]\n",
      "llama_model_loader: - tensor  220:           blk.24.ffn_gate.weight q8_0     [  4096, 11008,     1,     1 ]\n",
      "llama_model_loader: - tensor  221:             blk.24.ffn_up.weight q8_0     [  4096, 11008,     1,     1 ]\n",
      "llama_model_loader: - tensor  222:           blk.24.ffn_norm.weight f32      [  4096,     1,     1,     1 ]\n",
      "llama_model_loader: - tensor  223:             blk.24.attn_k.weight q8_0     [  4096,  4096,     1,     1 ]\n",
      "llama_model_loader: - tensor  224:        blk.24.attn_output.weight q8_0     [  4096,  4096,     1,     1 ]\n",
      "llama_model_loader: - tensor  225:             blk.24.attn_q.weight q8_0     [  4096,  4096,     1,     1 ]\n",
      "llama_model_loader: - tensor  226:             blk.24.attn_v.weight q8_0     [  4096,  4096,     1,     1 ]\n",
      "llama_model_loader: - tensor  227:          blk.25.attn_norm.weight f32      [  4096,     1,     1,     1 ]\n",
      "llama_model_loader: - tensor  228:           blk.25.ffn_down.weight q8_0     [ 11008,  4096,     1,     1 ]\n",
      "llama_model_loader: - tensor  229:           blk.25.ffn_gate.weight q8_0     [  4096, 11008,     1,     1 ]\n",
      "llama_model_loader: - tensor  230:             blk.25.ffn_up.weight q8_0     [  4096, 11008,     1,     1 ]\n",
      "llama_model_loader: - tensor  231:           blk.25.ffn_norm.weight f32      [  4096,     1,     1,     1 ]\n",
      "llama_model_loader: - tensor  232:             blk.25.attn_k.weight q8_0     [  4096,  4096,     1,     1 ]\n",
      "llama_model_loader: - tensor  233:        blk.25.attn_output.weight q8_0     [  4096,  4096,     1,     1 ]\n",
      "llama_model_loader: - tensor  234:             blk.25.attn_q.weight q8_0     [  4096,  4096,     1,     1 ]\n",
      "llama_model_loader: - tensor  235:             blk.25.attn_v.weight q8_0     [  4096,  4096,     1,     1 ]\n",
      "llama_model_loader: - tensor  236:          blk.26.attn_norm.weight f32      [  4096,     1,     1,     1 ]\n",
      "llama_model_loader: - tensor  237:           blk.26.ffn_down.weight q8_0     [ 11008,  4096,     1,     1 ]\n",
      "llama_model_loader: - tensor  238:           blk.26.ffn_gate.weight q8_0     [  4096, 11008,     1,     1 ]\n",
      "llama_model_loader: - tensor  239:             blk.26.ffn_up.weight q8_0     [  4096, 11008,     1,     1 ]\n",
      "llama_model_loader: - tensor  240:           blk.26.ffn_norm.weight f32      [  4096,     1,     1,     1 ]\n",
      "llama_model_loader: - tensor  241:             blk.26.attn_k.weight q8_0     [  4096,  4096,     1,     1 ]\n",
      "llama_model_loader: - tensor  242:        blk.26.attn_output.weight q8_0     [  4096,  4096,     1,     1 ]\n",
      "llama_model_loader: - tensor  243:             blk.26.attn_q.weight q8_0     [  4096,  4096,     1,     1 ]\n",
      "llama_model_loader: - tensor  244:             blk.26.attn_v.weight q8_0     [  4096,  4096,     1,     1 ]\n",
      "llama_model_loader: - tensor  245:          blk.27.attn_norm.weight f32      [  4096,     1,     1,     1 ]\n",
      "llama_model_loader: - tensor  246:           blk.27.ffn_down.weight q8_0     [ 11008,  4096,     1,     1 ]\n",
      "llama_model_loader: - tensor  247:           blk.27.ffn_gate.weight q8_0     [  4096, 11008,     1,     1 ]\n",
      "llama_model_loader: - tensor  248:             blk.27.ffn_up.weight q8_0     [  4096, 11008,     1,     1 ]\n",
      "llama_model_loader: - tensor  249:           blk.27.ffn_norm.weight f32      [  4096,     1,     1,     1 ]\n",
      "llama_model_loader: - tensor  250:             blk.27.attn_k.weight q8_0     [  4096,  4096,     1,     1 ]\n",
      "llama_model_loader: - tensor  251:        blk.27.attn_output.weight q8_0     [  4096,  4096,     1,     1 ]\n",
      "llama_model_loader: - tensor  252:             blk.27.attn_q.weight q8_0     [  4096,  4096,     1,     1 ]\n",
      "llama_model_loader: - tensor  253:             blk.27.attn_v.weight q8_0     [  4096,  4096,     1,     1 ]\n",
      "llama_model_loader: - tensor  254:          blk.28.attn_norm.weight f32      [  4096,     1,     1,     1 ]\n",
      "llama_model_loader: - tensor  255:           blk.28.ffn_down.weight q8_0     [ 11008,  4096,     1,     1 ]\n",
      "llama_model_loader: - tensor  256:           blk.28.ffn_gate.weight q8_0     [  4096, 11008,     1,     1 ]\n",
      "llama_model_loader: - tensor  257:             blk.28.ffn_up.weight q8_0     [  4096, 11008,     1,     1 ]\n",
      "llama_model_loader: - tensor  258:           blk.28.ffn_norm.weight f32      [  4096,     1,     1,     1 ]\n",
      "llama_model_loader: - tensor  259:             blk.28.attn_k.weight q8_0     [  4096,  4096,     1,     1 ]\n",
      "llama_model_loader: - tensor  260:        blk.28.attn_output.weight q8_0     [  4096,  4096,     1,     1 ]\n",
      "llama_model_loader: - tensor  261:             blk.28.attn_q.weight q8_0     [  4096,  4096,     1,     1 ]\n",
      "llama_model_loader: - tensor  262:             blk.28.attn_v.weight q8_0     [  4096,  4096,     1,     1 ]\n",
      "llama_model_loader: - tensor  263:          blk.29.attn_norm.weight f32      [  4096,     1,     1,     1 ]\n",
      "llama_model_loader: - tensor  264:           blk.29.ffn_down.weight q8_0     [ 11008,  4096,     1,     1 ]\n",
      "llama_model_loader: - tensor  265:           blk.29.ffn_gate.weight q8_0     [  4096, 11008,     1,     1 ]\n",
      "llama_model_loader: - tensor  266:             blk.29.ffn_up.weight q8_0     [  4096, 11008,     1,     1 ]\n",
      "llama_model_loader: - tensor  267:           blk.29.ffn_norm.weight f32      [  4096,     1,     1,     1 ]\n",
      "llama_model_loader: - tensor  268:             blk.29.attn_k.weight q8_0     [  4096,  4096,     1,     1 ]\n",
      "llama_model_loader: - tensor  269:        blk.29.attn_output.weight q8_0     [  4096,  4096,     1,     1 ]\n",
      "llama_model_loader: - tensor  270:             blk.29.attn_q.weight q8_0     [  4096,  4096,     1,     1 ]\n",
      "llama_model_loader: - tensor  271:             blk.29.attn_v.weight q8_0     [  4096,  4096,     1,     1 ]\n",
      "llama_model_loader: - tensor  272:          blk.30.attn_norm.weight f32      [  4096,     1,     1,     1 ]\n",
      "llama_model_loader: - tensor  273:           blk.30.ffn_down.weight q8_0     [ 11008,  4096,     1,     1 ]\n",
      "llama_model_loader: - tensor  274:           blk.30.ffn_gate.weight q8_0     [  4096, 11008,     1,     1 ]\n",
      "llama_model_loader: - tensor  275:             blk.30.ffn_up.weight q8_0     [  4096, 11008,     1,     1 ]\n",
      "llama_model_loader: - tensor  276:           blk.30.ffn_norm.weight f32      [  4096,     1,     1,     1 ]\n",
      "llama_model_loader: - tensor  277:             blk.30.attn_k.weight q8_0     [  4096,  4096,     1,     1 ]\n",
      "llama_model_loader: - tensor  278:        blk.30.attn_output.weight q8_0     [  4096,  4096,     1,     1 ]\n",
      "llama_model_loader: - tensor  279:             blk.30.attn_q.weight q8_0     [  4096,  4096,     1,     1 ]\n",
      "llama_model_loader: - tensor  280:             blk.30.attn_v.weight q8_0     [  4096,  4096,     1,     1 ]\n",
      "llama_model_loader: - tensor  281:          blk.31.attn_norm.weight f32      [  4096,     1,     1,     1 ]\n",
      "llama_model_loader: - tensor  282:           blk.31.ffn_down.weight q8_0     [ 11008,  4096,     1,     1 ]\n",
      "llama_model_loader: - tensor  283:           blk.31.ffn_gate.weight q8_0     [  4096, 11008,     1,     1 ]\n",
      "llama_model_loader: - tensor  284:             blk.31.ffn_up.weight q8_0     [  4096, 11008,     1,     1 ]\n",
      "llama_model_loader: - tensor  285:           blk.31.ffn_norm.weight f32      [  4096,     1,     1,     1 ]\n",
      "llama_model_loader: - tensor  286:             blk.31.attn_k.weight q8_0     [  4096,  4096,     1,     1 ]\n",
      "llama_model_loader: - tensor  287:        blk.31.attn_output.weight q8_0     [  4096,  4096,     1,     1 ]\n",
      "llama_model_loader: - tensor  288:             blk.31.attn_q.weight q8_0     [  4096,  4096,     1,     1 ]\n",
      "llama_model_loader: - tensor  289:             blk.31.attn_v.weight q8_0     [  4096,  4096,     1,     1 ]\n",
      "llama_model_loader: - tensor  290:               output_norm.weight f32      [  4096,     1,     1,     1 ]\n",
      "llama_model_loader: - kv   0:                       general.architecture str     \n",
      "llama_model_loader: - kv   1:                               general.name str     \n",
      "llama_model_loader: - kv   2:                       llama.context_length u32     \n",
      "llama_model_loader: - kv   3:                     llama.embedding_length u32     \n",
      "llama_model_loader: - kv   4:                          llama.block_count u32     \n",
      "llama_model_loader: - kv   5:                  llama.feed_forward_length u32     \n",
      "llama_model_loader: - kv   6:                 llama.rope.dimension_count u32     \n",
      "llama_model_loader: - kv   7:                 llama.attention.head_count u32     \n",
      "llama_model_loader: - kv   8:              llama.attention.head_count_kv u32     \n",
      "llama_model_loader: - kv   9:     llama.attention.layer_norm_rms_epsilon f32     \n",
      "llama_model_loader: - kv  10:                          general.file_type u32     \n",
      "llama_model_loader: - kv  11:                       tokenizer.ggml.model str     \n",
      "llama_model_loader: - kv  12:                      tokenizer.ggml.tokens arr     \n",
      "llama_model_loader: - kv  13:                      tokenizer.ggml.scores arr     \n",
      "llama_model_loader: - kv  14:                  tokenizer.ggml.token_type arr     \n",
      "llama_model_loader: - kv  15:                tokenizer.ggml.bos_token_id u32     \n",
      "llama_model_loader: - kv  16:                tokenizer.ggml.eos_token_id u32     \n",
      "llama_model_loader: - kv  17:            tokenizer.ggml.unknown_token_id u32     \n",
      "llama_model_loader: - kv  18:               general.quantization_version u32     \n",
      "llama_model_loader: - type  f32:   65 tensors\n",
      "llama_model_loader: - type q8_0:  226 tensors\n",
      "llm_load_print_meta: format           = GGUF V2 (latest)\n",
      "llm_load_print_meta: arch             = llama\n",
      "llm_load_print_meta: vocab type       = SPM\n",
      "llm_load_print_meta: n_vocab          = 32000\n",
      "llm_load_print_meta: n_merges         = 0\n",
      "llm_load_print_meta: n_ctx_train      = 4096\n",
      "llm_load_print_meta: n_embd           = 4096\n",
      "llm_load_print_meta: n_head           = 32\n",
      "llm_load_print_meta: n_head_kv        = 32\n",
      "llm_load_print_meta: n_layer          = 32\n",
      "llm_load_print_meta: n_rot            = 128\n",
      "llm_load_print_meta: n_gqa            = 1\n",
      "llm_load_print_meta: f_norm_eps       = 0.0e+00\n",
      "llm_load_print_meta: f_norm_rms_eps   = 1.0e-06\n",
      "llm_load_print_meta: n_ff             = 11008\n",
      "llm_load_print_meta: freq_base_train  = 10000.0\n",
      "llm_load_print_meta: freq_scale_train = 1\n",
      "llm_load_print_meta: model type       = 7B\n",
      "llm_load_print_meta: model ftype      = mostly Q8_0\n",
      "llm_load_print_meta: model params     = 6.74 B\n",
      "llm_load_print_meta: model size       = 6.67 GiB (8.50 BPW) \n",
      "llm_load_print_meta: general.name   = LLaMA v2\n",
      "llm_load_print_meta: BOS token = 1 '<s>'\n",
      "llm_load_print_meta: EOS token = 2 '</s>'\n",
      "llm_load_print_meta: UNK token = 0 '<unk>'\n",
      "llm_load_print_meta: LF token  = 13 '<0x0A>'\n",
      "llm_load_tensors: ggml ctx size =    0.09 MB\n",
      "llm_load_tensors: mem required  = 6828.73 MB\n",
      "....................................................................................................\n",
      "llama_new_context_with_model: n_ctx      = 512\n",
      "llama_new_context_with_model: freq_base  = 10000.0\n",
      "llama_new_context_with_model: freq_scale = 1\n",
      "llama_new_context_with_model: kv self size  =  256.00 MB\n",
      "llama_new_context_with_model: compute buffer total size = 76.38 MB\n",
      "AVX = 1 | AVX2 = 1 | AVX512 = 0 | AVX512_VBMI = 0 | AVX512_VNNI = 0 | FMA = 1 | NEON = 0 | ARM_FMA = 0 | F16C = 1 | FP16_VA = 0 | WASM_SIMD = 0 | BLAS = 0 | SSE3 = 1 | SSSE3 = 1 | VSX = 0 | \n"
     ]
    }
   ],
   "source": [
    "model = LLAMA(model=MODEL, temperature=TEMPERATURE, n_repetitions=N_REPETITIONS, reasoning=REASONING, languages=LANGUAGES, path=PATH, max_tokens=MAX_TOKENS)"
   ]
  },
  {
   "cell_type": "markdown",
   "metadata": {},
   "source": [
    "### See characteristics of the model"
   ]
  },
  {
   "cell_type": "code",
   "execution_count": 4,
   "metadata": {},
   "outputs": [
    {
     "name": "stdout",
     "output_type": "stream",
     "text": [
      "Llama-2-7b\n"
     ]
    }
   ],
   "source": [
    "print(model.model)"
   ]
  },
  {
   "cell_type": "code",
   "execution_count": 5,
   "metadata": {},
   "outputs": [
    {
     "name": "stdout",
     "output_type": "stream",
     "text": [
      "\n",
      "            You will be provided with medical queries in this languages: english, portuguese.             The medical query will be delimited with             #### characters.\n",
      "            Each question will have 4 possible answer options.            provide the letter with the answer and a short sentence answering why the answer was selected.             \n",
      "\n",
      "            Provide your output in json format with the             keys: response, reasoning. Make sure to always use the those keys, do not modify the keys.\n",
      "            Be very careful with the resulting JSON file, make sure to add curly braces, quotes to define the strings, and commas to separate the items within the JSON.\n",
      "\n",
      "            Responses: ', [, ', A, ', ,,  , ', B, ', ,,  , ', C, ', ,,  , ', D, ', ], '.\n",
      "            \n"
     ]
    }
   ],
   "source": [
    "print(model.system_message)"
   ]
  },
  {
   "cell_type": "markdown",
   "metadata": {},
   "source": [
    "### Test the model"
   ]
  },
  {
   "cell_type": "code",
   "execution_count": 6,
   "metadata": {},
   "outputs": [],
   "source": [
    "question = \"\"\"What is the primary function of the cornea in the human eye?\n",
    "A) Refracting light onto the retina\n",
    "B) Producing aqueous humor\n",
    "C) Regulating pupil size\n",
    "D) Transmitting visual signals to the brain\"\"\""
   ]
  },
  {
   "cell_type": "code",
   "execution_count": 7,
   "metadata": {},
   "outputs": [
    {
     "name": "stdout",
     "output_type": "stream",
     "text": [
      "Response:\n",
      "{'response': 'A', 'reasoning': 'The primary function of the cornea is to refract light onto the retina, allowing for clear vision. Therefore, option A is the correct answer.'}\n",
      "Answer: A\n",
      "Reasoning: The primary function of the cornea is to refract light onto the retina, allowing for clear vision. Therefore, option A is the correct answer.\n"
     ]
    },
    {
     "name": "stderr",
     "output_type": "stream",
     "text": [
      "\n",
      "llama_print_timings:        load time =  2623.68 ms\n",
      "llama_print_timings:      sample time =    27.93 ms /    48 runs   (    0.58 ms per token,  1718.52 tokens per second)\n",
      "llama_print_timings: prompt eval time =  2623.60 ms /   260 tokens (   10.09 ms per token,    99.10 tokens per second)\n",
      "llama_print_timings:        eval time =  3121.56 ms /    47 runs   (   66.42 ms per token,    15.06 tokens per second)\n",
      "llama_print_timings:       total time =  5897.80 ms\n"
     ]
    }
   ],
   "source": [
    "response = model.get_completion_from_messages(question)\n",
    "\n",
    "print('Response:')\n",
    "print(response)\n",
    "\n",
    "print(f'Answer: {response[\"response\"]}')\n",
    "print(f'Reasoning: {response[\"reasoning\"]}')"
   ]
  },
  {
   "cell_type": "markdown",
   "metadata": {},
   "source": [
    "### Modify the model"
   ]
  },
  {
   "cell_type": "code",
   "execution_count": 8,
   "metadata": {},
   "outputs": [
    {
     "name": "stdout",
     "output_type": "stream",
     "text": [
      "\n",
      "            You will be provided with medical queries in this languages: english, portuguese.             The medical query will be delimited with             #### characters.\n",
      "            Each question will have 4 possible answer options.            provide the letter with the answer and a short sentence answering why the answer was selected.             Also print the area of the medicine to which the question refers to.\n",
      "\n",
      "            Provide your output in json format with the             keys: response, reasoning, area. Make sure to always use the those keys, do not modify the keys.\n",
      "            Be very careful with the resulting JSON file, make sure to add curly braces, quotes to define the strings, and commas to separate the items within the JSON.\n",
      "\n",
      "            Responses: ', [, ', A, ', ,,  , ', B, ', ,,  , ', C, ', ,,  , ', D, ', ], '.\n",
      "            \n"
     ]
    }
   ],
   "source": [
    "model.add_extra_message('Also print the area of the medicine to which the question refers to.')\n",
    "model.add_output_key('area')\n",
    "print(model.system_message)"
   ]
  },
  {
   "cell_type": "code",
   "execution_count": 9,
   "metadata": {},
   "outputs": [
    {
     "name": "stderr",
     "output_type": "stream",
     "text": [
      "Llama.generate: prefix-match hit\n"
     ]
    },
    {
     "name": "stdout",
     "output_type": "stream",
     "text": [
      "Response:\n",
      "{'response': 'A', 'area': 'Ophthalmology', 'reasoning': \"The cornea's primary function is to refract light onto the retina, allowing for clear vision. This is because the cornea is the transparent outer layer of the eye that covers the iris and pupil, and it plays a crucial role in focusing light rays onto the retina. Without the cornea's refractive properties, light would not be able to reach the retina and vision would be impossible.\"}\n",
      "Area: Ophthalmology\n",
      "Answer: A\n",
      "Reasoning: The cornea's primary function is to refract light onto the retina, allowing for clear vision. This is because the cornea is the transparent outer layer of the eye that covers the iris and pupil, and it plays a crucial role in focusing light rays onto the retina. Without the cornea's refractive properties, light would not be able to reach the retina and vision would be impossible.\n"
     ]
    },
    {
     "name": "stderr",
     "output_type": "stream",
     "text": [
      "\n",
      "llama_print_timings:        load time =  2623.68 ms\n",
      "llama_print_timings:      sample time =    77.04 ms /   133 runs   (    0.58 ms per token,  1726.47 tokens per second)\n",
      "llama_print_timings: prompt eval time =  2651.19 ms /   204 tokens (   13.00 ms per token,    76.95 tokens per second)\n",
      "llama_print_timings:        eval time =  8891.73 ms /   132 runs   (   67.36 ms per token,    14.85 tokens per second)\n",
      "llama_print_timings:       total time = 11948.46 ms\n"
     ]
    }
   ],
   "source": [
    "response = model.get_completion_from_messages(question)\n",
    "\n",
    "print('Response:')\n",
    "print(response)\n",
    "\n",
    "print(f'Area: {response[\"area\"]}')\n",
    "print(f'Answer: {response[\"response\"]}')\n",
    "print(f'Reasoning: {response[\"reasoning\"]}')"
   ]
  },
  {
   "cell_type": "markdown",
   "metadata": {},
   "source": [
    "### Run multiple experiments using the csv file"
   ]
  },
  {
   "cell_type": "code",
   "execution_count": 10,
   "metadata": {},
   "outputs": [
    {
     "name": "stderr",
     "output_type": "stream",
     "text": [
      "Llama.generate: prefix-match hit\n"
     ]
    },
    {
     "name": "stdout",
     "output_type": "stream",
     "text": [
      "**************************************************\n",
      "Question 1: \n",
      "Language: english\n",
      "Question: \n",
      "In which ocular region are caliciform cells physiologically found?\n",
      "a) Cornea.\n",
      "b) Corneoscleral limbus.\n",
      "c) Gray line.\n",
      "d) Semilunar fold.\n",
      "Test #0: \n"
     ]
    },
    {
     "name": "stderr",
     "output_type": "stream",
     "text": [
      "\n",
      "llama_print_timings:        load time =  2623.68 ms\n",
      "llama_print_timings:      sample time =   123.60 ms /   240 runs   (    0.51 ms per token,  1941.78 tokens per second)\n",
      "llama_print_timings: prompt eval time =   671.06 ms /    55 tokens (   12.20 ms per token,    81.96 tokens per second)\n",
      "llama_print_timings:        eval time = 16177.60 ms /   239 runs   (   67.69 ms per token,    14.77 tokens per second)\n",
      "llama_print_timings:       total time = 17596.26 ms\n",
      "Llama.generate: prefix-match hit\n"
     ]
    },
    {
     "name": "stdout",
     "output_type": "stream",
     "text": [
      "{'response': 'A', 'area': 'Ocular region', 'reasoning': 'Caliciform cells are physiologically found in the cornea.'}\n",
      "Test #1: \n"
     ]
    },
    {
     "name": "stderr",
     "output_type": "stream",
     "text": [
      "\n",
      "llama_print_timings:        load time =  2623.68 ms\n",
      "llama_print_timings:      sample time =    30.09 ms /    52 runs   (    0.58 ms per token,  1727.98 tokens per second)\n",
      "llama_print_timings: prompt eval time =     0.00 ms /     1 tokens (    0.00 ms per token,      inf tokens per second)\n",
      "llama_print_timings:        eval time =  3526.97 ms /    52 runs   (   67.83 ms per token,    14.74 tokens per second)\n",
      "llama_print_timings:       total time =  3683.03 ms\n",
      "Llama.generate: prefix-match hit\n"
     ]
    },
    {
     "name": "stdout",
     "output_type": "stream",
     "text": [
      "{'response': 'A', 'area': 'Ocular region', 'reasoning': 'Caliciform cells are physiologically found in the cornea.'}\n",
      "Test #2: \n"
     ]
    },
    {
     "name": "stderr",
     "output_type": "stream",
     "text": [
      "\n",
      "llama_print_timings:        load time =  2623.68 ms\n",
      "llama_print_timings:      sample time =   124.26 ms /   240 runs   (    0.52 ms per token,  1931.48 tokens per second)\n",
      "llama_print_timings: prompt eval time =     0.00 ms /     1 tokens (    0.00 ms per token,      inf tokens per second)\n",
      "llama_print_timings:        eval time = 16149.73 ms /   240 runs   (   67.29 ms per token,    14.86 tokens per second)\n",
      "llama_print_timings:       total time = 16881.71 ms\n",
      "Llama.generate: prefix-match hit\n"
     ]
    },
    {
     "name": "stdout",
     "output_type": "stream",
     "text": [
      "{'response': 'A', 'area': 'Ocular region', 'reasoning': 'Caliciform cells are physiologically found in the cornea.'}\n",
      "Language: portuguese\n",
      "Question: \n",
      "Em qual região ocular células caliciformes são fisiologicamente encontradas?\n",
      "a)Córnea.\n",
      "b)Limbo corneoescleral.\n",
      "c)Linha cinzenta.\n",
      "d)Prega semilunar.\n",
      "Test #0: \n"
     ]
    },
    {
     "name": "stderr",
     "output_type": "stream",
     "text": [
      "\n",
      "llama_print_timings:        load time =  2623.68 ms\n",
      "llama_print_timings:      sample time =   120.72 ms /   232 runs   (    0.52 ms per token,  1921.77 tokens per second)\n",
      "llama_print_timings: prompt eval time =   778.23 ms /    63 tokens (   12.35 ms per token,    80.95 tokens per second)\n",
      "llama_print_timings:        eval time = 15725.63 ms /   231 runs   (   68.08 ms per token,    14.69 tokens per second)\n",
      "llama_print_timings:       total time = 17216.86 ms\n",
      "Llama.generate: prefix-match hit\n"
     ]
    },
    {
     "name": "stdout",
     "output_type": "stream",
     "text": [
      "{'response': 'A', 'area': 'Córnea', 'reasoning': 'Células caliciformes são fisiologicamente encontradas na área da córnea.'}\n",
      "Test #1: \n",
      "{'response': 'A', 'area': 'Córnea', 'reasoning': 'Células caliciformes são fisiologicamente encontradas na área da córnea.'}\n",
      "Test #2: \n"
     ]
    },
    {
     "name": "stderr",
     "output_type": "stream",
     "text": [
      "\n",
      "llama_print_timings:        load time =  2623.68 ms\n",
      "llama_print_timings:      sample time =   119.42 ms /   232 runs   (    0.51 ms per token,  1942.80 tokens per second)\n",
      "llama_print_timings: prompt eval time =     0.00 ms /     1 tokens (    0.00 ms per token,      inf tokens per second)\n",
      "llama_print_timings:        eval time = 15581.95 ms /   232 runs   (   67.16 ms per token,    14.89 tokens per second)\n",
      "llama_print_timings:       total time = 16287.96 ms\n",
      "Llama.generate: prefix-match hit\n",
      "\n",
      "llama_print_timings:        load time =  2623.68 ms\n",
      "llama_print_timings:      sample time =    41.53 ms /    72 runs   (    0.58 ms per token,  1733.77 tokens per second)\n",
      "llama_print_timings: prompt eval time =     0.00 ms /     1 tokens (    0.00 ms per token,      inf tokens per second)\n",
      "llama_print_timings:        eval time =  4794.26 ms /    72 runs   (   66.59 ms per token,    15.02 tokens per second)\n",
      "llama_print_timings:       total time =  5008.77 ms\n",
      "Llama.generate: prefix-match hit\n"
     ]
    },
    {
     "name": "stdout",
     "output_type": "stream",
     "text": [
      "{'response': 'A', 'area': 'Olho', 'reasoning': 'Células caliciformes são fisiologicamente encontradas na área circumcular do olho, incluindo a córnea e o limbo corneoescleral.'}\n",
      "**************************************************\n",
      "**************************************************\n",
      "Question 2: \n",
      "Language: english\n",
      "Question: \n",
      "Mark the alternative that best correlates the histological characteristics with the respective ocular tissues:\n",
      "\n",
      "I. Monolayer of cells tightly joined together by junctional complexes.\n",
      "II. Parallel and regular striations observed under optical microscopy, perpendicular to the epithelium.\n",
      "III. It contains bipolar cells, amacrine cells, horizontal cells and Muller cells.\n",
      "IV. It contains magnocellular, parvocellular and coniocellular cells.\n",
      "\n",
      "A. Photoreceptors.\n",
      "B. Retinal pigmented epithelium.\n",
      "C. Retinal ganglionic layer.\n",
      "D. Inner nuclear layer.\n",
      "Test #0: \n"
     ]
    },
    {
     "name": "stderr",
     "output_type": "stream",
     "text": [
      "\n",
      "llama_print_timings:        load time =  2623.68 ms\n",
      "llama_print_timings:      sample time =    79.73 ms /   137 runs   (    0.58 ms per token,  1718.26 tokens per second)\n",
      "llama_print_timings: prompt eval time =  1539.87 ms /   158 tokens (    9.75 ms per token,   102.61 tokens per second)\n",
      "llama_print_timings:        eval time =  9279.76 ms /   136 runs   (   68.23 ms per token,    14.66 tokens per second)\n",
      "llama_print_timings:       total time = 11234.38 ms\n",
      "Llama.generate: prefix-match hit\n"
     ]
    },
    {
     "name": "stdout",
     "output_type": "stream",
     "text": [
      "Error converting respose to json:  Here is the output in JSON format:\n",
      "{\n",
      "\"response\": A,\n",
      "\"reasoning\": \"The histological characteristics described in option A (monolayer of cells tightly joined together by junctional complexes) best correlate with the retinal pigment epithelium (RPE). The RPE is a layer of cells that lies between the choroid and the retina, and it plays a critical role in maintaining the health and function of the retina. The tight junctions between RPE cells help to form a barrier against fluid and ions, and they also allow for the exchange of nutrients and waste products\n",
      "Generating new response...\n"
     ]
    },
    {
     "name": "stderr",
     "output_type": "stream",
     "text": [
      "\n",
      "llama_print_timings:        load time =  2623.68 ms\n",
      "llama_print_timings:      sample time =    78.84 ms /   137 runs   (    0.58 ms per token,  1737.63 tokens per second)\n",
      "llama_print_timings: prompt eval time =     0.00 ms /     1 tokens (    0.00 ms per token,      inf tokens per second)\n",
      "llama_print_timings:        eval time =  9221.13 ms /   137 runs   (   67.31 ms per token,    14.86 tokens per second)\n",
      "llama_print_timings:       total time =  9630.42 ms\n",
      "Llama.generate: prefix-match hit\n"
     ]
    },
    {
     "name": "stdout",
     "output_type": "stream",
     "text": [
      "{'response': 'B', 'area': 'Retina', 'reasoning': 'The parallel and regular striations observed under optical microscopy, perpendicular to the epithelium, are characteristic of retinal pigmented epithelium (RPE). Therefore, option II best correlates with the histological characteristics of RPE.'}\n",
      "Test #1: \n"
     ]
    },
    {
     "name": "stderr",
     "output_type": "stream",
     "text": [
      "\n",
      "llama_print_timings:        load time =  2623.68 ms\n",
      "llama_print_timings:      sample time =    79.94 ms /   137 runs   (    0.58 ms per token,  1713.89 tokens per second)\n",
      "llama_print_timings: prompt eval time =     0.00 ms /     1 tokens (    0.00 ms per token,      inf tokens per second)\n",
      "llama_print_timings:        eval time =  9274.22 ms /   137 runs   (   67.70 ms per token,    14.77 tokens per second)\n",
      "llama_print_timings:       total time =  9683.22 ms\n",
      "Llama.generate: prefix-match hit\n"
     ]
    },
    {
     "name": "stdout",
     "output_type": "stream",
     "text": [
      "Error converting respose to json:  Here is the output in JSON format:\n",
      "{\n",
      "\"response\": \"B\",\n",
      "\"reasoning\": \"The histological characteristics described in option B (parallel and regular striations observed under optical microscopy, perpendicular to the epithelium) are consistent with the structure of the retinal pigmented epithelium (RPE). The RPE is a monolayer of cells tightly joined together by junctional complexes, which allows for efficient exchange of nutrients and waste products between cells. Therefore, option B is the best answer.\",\n",
      "\"area\": \"Retinal pigmented epithelium\"\n",
      "\n",
      "Generating new response...\n"
     ]
    },
    {
     "name": "stderr",
     "output_type": "stream",
     "text": [
      "\n",
      "llama_print_timings:        load time =  2623.68 ms\n",
      "llama_print_timings:      sample time =    79.52 ms /   137 runs   (    0.58 ms per token,  1722.75 tokens per second)\n",
      "llama_print_timings: prompt eval time =     0.00 ms /     1 tokens (    0.00 ms per token,      inf tokens per second)\n",
      "llama_print_timings:        eval time =  9281.77 ms /   137 runs   (   67.75 ms per token,    14.76 tokens per second)\n",
      "llama_print_timings:       total time =  9692.15 ms\n",
      "Llama.generate: prefix-match hit\n"
     ]
    },
    {
     "name": "stdout",
     "output_type": "stream",
     "text": [
      "Error converting respose to json: {\n",
      "\"response\": \"A\",\n",
      "\"reasoning\": \"The histological characteristics described in option I (monolayer of cells tightly joined together by junctional complexes) best correspond to the ocular tissue of photoreceptors. Photoreceptors are composed of a monolayer of cells that are closely joined together by lateral and basement membranes, forming a tight junctional complex. This is in contrast to the other options, which describe different types of retinal cell layers or structures.\"\n",
      "\"area\": \"Retina\"\n",
      "}\n",
      "Generating new response...\n"
     ]
    },
    {
     "name": "stderr",
     "output_type": "stream",
     "text": [
      "\n",
      "llama_print_timings:        load time =  2623.68 ms\n",
      "llama_print_timings:      sample time =    79.61 ms /   137 runs   (    0.58 ms per token,  1720.80 tokens per second)\n",
      "llama_print_timings: prompt eval time =     0.00 ms /     1 tokens (    0.00 ms per token,      inf tokens per second)\n",
      "llama_print_timings:        eval time =  9222.36 ms /   137 runs   (   67.32 ms per token,    14.86 tokens per second)\n",
      "llama_print_timings:       total time =  9632.45 ms\n",
      "Llama.generate: prefix-match hit\n"
     ]
    },
    {
     "name": "stdout",
     "output_type": "stream",
     "text": [
      "{'response': 'A', 'area': 'Retina', 'reasoning': 'The histological characteristics described in option A (monolayer of cells tightly joined together by junctional complexes) best correspond to the ocular tissue of photoreceptors. Photoreceptors are arranged in a monolayer and are connected by synapses, which are formed by junctional complexes.'}\n",
      "Test #2: \n"
     ]
    },
    {
     "name": "stderr",
     "output_type": "stream",
     "text": [
      "\n",
      "llama_print_timings:        load time =  2623.68 ms\n",
      "llama_print_timings:      sample time =    79.50 ms /   137 runs   (    0.58 ms per token,  1723.36 tokens per second)\n",
      "llama_print_timings: prompt eval time =     0.00 ms /     1 tokens (    0.00 ms per token,      inf tokens per second)\n",
      "llama_print_timings:        eval time =  9239.24 ms /   137 runs   (   67.44 ms per token,    14.83 tokens per second)\n",
      "llama_print_timings:       total time =  9648.20 ms\n",
      "Llama.generate: prefix-match hit\n"
     ]
    },
    {
     "name": "stdout",
     "output_type": "stream",
     "text": [
      "{'response': 'A', 'area': 'Retina', 'reasoning': 'The histological characteristics described in option I (monolayer of cells tightly joined together by junctional complexes) best correspond to the ocular tissue of photoreceptors. Photoreceptors are composed of a monolayer of cells that are closely joined together by lateral and basement membranes, forming a tight barrier against the entry of fluids and ions. This is consistent with the description provided in option I.'}\n",
      "Language: portuguese\n",
      "Question: \n",
      "Assinale a alternativa que melhor correlaciona as características histológicas com os respectivos tecidos oculares:\n",
      "\n",
      "I. Monocamada de células fortemente unidas por complexos juncionais.\n",
      "II. Estriações paralelas e regulares observadas à microscopia óptica, perpendiculares ao epitélio.\n",
      "III. Contém células bipolares, células amácrinas, células horizontais e células de Muller.\n",
      "IV. Contém células magnocelulares, parvocelulares e coniocelulares.\n",
      "\n",
      "A. Fotorreceptores.\n",
      "B. Epitélio pigmentado da pigmentado da retina.\n",
      "C. Camada ganglionar retiniana.\n",
      "D. Camada nuclear interna.\n",
      "Test #0: \n"
     ]
    },
    {
     "name": "stderr",
     "output_type": "stream",
     "text": [
      "\n",
      "llama_print_timings:        load time =  2623.68 ms\n",
      "llama_print_timings:      sample time =    57.74 ms /    99 runs   (    0.58 ms per token,  1714.64 tokens per second)\n",
      "llama_print_timings: prompt eval time =  1875.95 ms /   196 tokens (    9.57 ms per token,   104.48 tokens per second)\n",
      "llama_print_timings:        eval time =  6715.45 ms /    98 runs   (   68.52 ms per token,    14.59 tokens per second)\n",
      "llama_print_timings:       total time =  8888.29 ms\n",
      "Llama.generate: prefix-match hit\n"
     ]
    },
    {
     "name": "stdout",
     "output_type": "stream",
     "text": [
      "{'response': 'A', 'area': 'Retina', 'reasoning': 'The cells in this layer are strongly united by complex junctional connections, which suggests that they are involved in the transmission of signals between neurons. This is consistent with the function of photoreceptors as light-sensitive neurons.'}\n",
      "Test #1: \n"
     ]
    },
    {
     "name": "stderr",
     "output_type": "stream",
     "text": [
      "\n",
      "llama_print_timings:        load time =  2623.68 ms\n",
      "llama_print_timings:      sample time =    57.78 ms /    99 runs   (    0.58 ms per token,  1713.40 tokens per second)\n",
      "llama_print_timings: prompt eval time =     0.00 ms /     1 tokens (    0.00 ms per token,      inf tokens per second)\n",
      "llama_print_timings:        eval time =  6714.02 ms /    99 runs   (   67.82 ms per token,    14.75 tokens per second)\n",
      "llama_print_timings:       total time =  7007.33 ms\n",
      "Llama.generate: prefix-match hit\n"
     ]
    },
    {
     "name": "stdout",
     "output_type": "stream",
     "text": [
      "Error converting respose to json:  Here is the output in JSON format:\n",
      "{\n",
      "\"response\": \"A\",\n",
      "\"reasoning\": \"The cells in this layer are strongly united by complex junctional connections, which suggests that they are involved in the transmission of signals between neurons. This is consistent with the function of photoreceptors as light-sensitive neurons in the retina.\",\n",
      "\"area\": \"I. Monocamada de células fortemente unidas por complexos j\n",
      "Generating new response...\n"
     ]
    },
    {
     "name": "stderr",
     "output_type": "stream",
     "text": [
      "\n",
      "llama_print_timings:        load time =  2623.68 ms\n",
      "llama_print_timings:      sample time =    57.48 ms /    99 runs   (    0.58 ms per token,  1722.49 tokens per second)\n",
      "llama_print_timings: prompt eval time =     0.00 ms /     1 tokens (    0.00 ms per token,      inf tokens per second)\n",
      "llama_print_timings:        eval time =  6659.78 ms /    99 runs   (   67.27 ms per token,    14.87 tokens per second)\n",
      "llama_print_timings:       total time =  6952.61 ms\n",
      "Llama.generate: prefix-match hit\n"
     ]
    },
    {
     "name": "stdout",
     "output_type": "stream",
     "text": [
      "Error converting respose to json:  Here is the output in JSON format:\n",
      "{\n",
      "\"response\": \"A\",\n",
      "\"reasoning\": \"The cells in this layer are strongly united by complex junctional connections, which suggests that they are involved in the transmission of visual signals. This is consistent with the function of photoreceptors as light-sensitive cells in the retina.\",\n",
      "\"area\": \"I. Monocamada de células fortemente unidas por complexos juncionais\n",
      "Generating new response...\n"
     ]
    },
    {
     "name": "stderr",
     "output_type": "stream",
     "text": [
      "\n",
      "llama_print_timings:        load time =  2623.68 ms\n",
      "llama_print_timings:      sample time =    57.62 ms /    99 runs   (    0.58 ms per token,  1718.09 tokens per second)\n",
      "llama_print_timings: prompt eval time =     0.00 ms /     1 tokens (    0.00 ms per token,      inf tokens per second)\n",
      "llama_print_timings:        eval time =  6684.08 ms /    99 runs   (   67.52 ms per token,    14.81 tokens per second)\n",
      "llama_print_timings:       total time =  6981.06 ms\n",
      "Llama.generate: prefix-match hit\n"
     ]
    },
    {
     "name": "stdout",
     "output_type": "stream",
     "text": [
      "Error converting respose to json:  Here is the output in JSON format:\n",
      "{\n",
      "\"response\": \"A\",\n",
      "\"reasoning\": \"The correct answer is A because the description mentions 'monocamada de células fortemente unidas por complexos juncionais', which is a characteristic of the retina. The retina is a layer of neural tissue in the eye that contains photoreceptors, such as rods and cones, which are responsible for detecting light and transmitting\n",
      "Generating new response...\n"
     ]
    },
    {
     "name": "stderr",
     "output_type": "stream",
     "text": [
      "\n",
      "llama_print_timings:        load time =  2623.68 ms\n",
      "llama_print_timings:      sample time =    57.51 ms /    99 runs   (    0.58 ms per token,  1721.50 tokens per second)\n",
      "llama_print_timings: prompt eval time =     0.00 ms /     1 tokens (    0.00 ms per token,      inf tokens per second)\n",
      "llama_print_timings:        eval time =  6763.97 ms /    99 runs   (   68.32 ms per token,    14.64 tokens per second)\n",
      "llama_print_timings:       total time =  7063.02 ms\n",
      "Llama.generate: prefix-match hit\n"
     ]
    },
    {
     "name": "stdout",
     "output_type": "stream",
     "text": [
      "{'response': 'A', 'area': 'Retina', 'reasoning': 'The cells in this layer are strongly united by complex junctional connections, which suggests that they are involved in the transmission of signals between neurons. This is consistent with the function of photoreceptors as light-sensitive neurons.'}\n",
      "Test #2: \n"
     ]
    },
    {
     "name": "stderr",
     "output_type": "stream",
     "text": [
      "\n",
      "llama_print_timings:        load time =  2623.68 ms\n",
      "llama_print_timings:      sample time =    57.38 ms /    99 runs   (    0.58 ms per token,  1725.19 tokens per second)\n",
      "llama_print_timings: prompt eval time =     0.00 ms /     1 tokens (    0.00 ms per token,      inf tokens per second)\n",
      "llama_print_timings:        eval time =  6696.26 ms /    99 runs   (   67.64 ms per token,    14.78 tokens per second)\n",
      "llama_print_timings:       total time =  6993.09 ms\n",
      "Llama.generate: prefix-match hit\n"
     ]
    },
    {
     "name": "stdout",
     "output_type": "stream",
     "text": [
      "{'response': 'B', 'area': 'II. Retina', 'reasoning': 'The cells in this layer are estranged and regular, perpendicular to the epithelium, which matches the histological features of the retinal pigmented epithelium. Therefore, option B is the best answer.'}\n",
      "**************************************************\n",
      "**************************************************\n",
      "Question 3: \n",
      "Language: english\n",
      "Question: \n",
      "Order the three cell names found in the corneal epithelium, starting with the most superficial, followed by the intermediate and the deep.\n",
      "a) Flat, wing, basal.\n",
      "b) wing, basal, flat.\n",
      "c) Basal, flat, wing.\n",
      "d) wing, flat, basal.\n",
      "Test #0: \n"
     ]
    },
    {
     "name": "stderr",
     "output_type": "stream",
     "text": [
      "\n",
      "llama_print_timings:        load time =  2623.68 ms\n",
      "llama_print_timings:      sample time =   116.27 ms /   216 runs   (    0.54 ms per token,  1857.74 tokens per second)\n",
      "llama_print_timings: prompt eval time =   972.84 ms /    79 tokens (   12.31 ms per token,    81.21 tokens per second)\n",
      "llama_print_timings:        eval time = 14546.62 ms /   215 runs   (   67.66 ms per token,    14.78 tokens per second)\n",
      "llama_print_timings:       total time = 16183.18 ms\n",
      "Llama.generate: prefix-match hit\n"
     ]
    },
    {
     "name": "stdout",
     "output_type": "stream",
     "text": [
      "Error converting respose to json: {\n",
      "\"response\": \"a) Flat, wing, basal.\",\n",
      "\"reasoning\": \"The three cell names found in the corneal epithelium, starting with the most superficial, are: flat, wing, and basal. These cells are arranged in this order from superficial to deep.\"\n",
      "\"area\": \"Corneal Epithelium\"\n",
      "}\n",
      "Generating new response...\n"
     ]
    },
    {
     "name": "stderr",
     "output_type": "stream",
     "text": [
      "\n",
      "llama_print_timings:        load time =  2623.68 ms\n",
      "llama_print_timings:      sample time =    74.47 ms /   131 runs   (    0.57 ms per token,  1759.22 tokens per second)\n",
      "llama_print_timings: prompt eval time =     0.00 ms /     1 tokens (    0.00 ms per token,      inf tokens per second)\n",
      "llama_print_timings:        eval time =  8882.59 ms /   131 runs   (   67.81 ms per token,    14.75 tokens per second)\n",
      "llama_print_timings:       total time =  9279.90 ms\n",
      "Llama.generate: prefix-match hit\n"
     ]
    },
    {
     "name": "stdout",
     "output_type": "stream",
     "text": [
      "Error converting respose to json: {\n",
      "\"response\": \"a) Flat, wing, basal.\",\n",
      "\"reasing\": \"The correct order of the three cell names found in the corneal epithelium, starting with the most superficial, followed by the intermediate and the deep, is: flat, wing, basal. This is because the flat cells are the most superficial, followed by the wing cells, and then the basal cells at the deepest layer.\"\n",
      "\"area\": \"Corneal epithelium\"\n",
      "}\n",
      "Generating new response...\n"
     ]
    },
    {
     "name": "stderr",
     "output_type": "stream",
     "text": [
      "\n",
      "llama_print_timings:        load time =  2623.68 ms\n",
      "llama_print_timings:      sample time =    56.70 ms /   100 runs   (    0.57 ms per token,  1763.73 tokens per second)\n",
      "llama_print_timings: prompt eval time =     0.00 ms /     1 tokens (    0.00 ms per token,      inf tokens per second)\n",
      "llama_print_timings:        eval time =  6717.43 ms /   100 runs   (   67.17 ms per token,    14.89 tokens per second)\n",
      "llama_print_timings:       total time =  7014.33 ms\n",
      "Llama.generate: prefix-match hit\n"
     ]
    },
    {
     "name": "stdout",
     "output_type": "stream",
     "text": [
      "Error converting respose to json: {\n",
      "\"response\": \"a) Flat, wing, basal.\",\n",
      "\"reasoning\": \"The three cell names found in the corneal epithelium, starting with the most superficial, are: flat, wing, and basal. These cells are arranged in this order from superficial to deep.\"\n",
      "\"area\": \"Corneal Epithelium\"\n",
      "}\n",
      "Generating new response...\n"
     ]
    },
    {
     "name": "stderr",
     "output_type": "stream",
     "text": [
      "\n",
      "llama_print_timings:        load time =  2623.68 ms\n",
      "llama_print_timings:      sample time =    55.21 ms /    98 runs   (    0.56 ms per token,  1774.98 tokens per second)\n",
      "llama_print_timings: prompt eval time =     0.00 ms /     1 tokens (    0.00 ms per token,      inf tokens per second)\n",
      "llama_print_timings:        eval time =  6586.07 ms /    98 runs   (   67.20 ms per token,    14.88 tokens per second)\n",
      "llama_print_timings:       total time =  6874.39 ms\n",
      "Llama.generate: prefix-match hit\n"
     ]
    },
    {
     "name": "stdout",
     "output_type": "stream",
     "text": [
      "Error converting respose to json: {\n",
      "\"response\": \"a) Flat, wing, basal.\",\n",
      "\"reasoning\": \"The three cell names found in the corneal epithelium, starting with the most superficial, are: flat, wing, and basal. These cells are arranged in this order from top to bottom.\"\n",
      "\"area\": \"Corneal Epithelium\"\n",
      "}\n",
      "Generating new response...\n",
      "Error converting respose to json: {\n",
      "\"response\": \"a) Flat, wing, basal.\",\n",
      "\"reasoning\": \"The three cell names found in the corneal epithelium, starting with the most superficial, are: flat, wing, and basal. These cells are arranged in this order from deep to superficial.\"\n",
      "\"area\": \"Corneal Epithelium\"\n",
      "}\n",
      "Generating new response...\n"
     ]
    },
    {
     "name": "stderr",
     "output_type": "stream",
     "text": [
      "\n",
      "llama_print_timings:        load time =  2623.68 ms\n",
      "llama_print_timings:      sample time =    56.59 ms /   100 runs   (    0.57 ms per token,  1767.25 tokens per second)\n",
      "llama_print_timings: prompt eval time =     0.00 ms /     1 tokens (    0.00 ms per token,      inf tokens per second)\n",
      "llama_print_timings:        eval time =  6698.34 ms /   100 runs   (   66.98 ms per token,    14.93 tokens per second)\n",
      "llama_print_timings:       total time =  6992.70 ms\n",
      "Llama.generate: prefix-match hit\n",
      "\n",
      "llama_print_timings:        load time =  2623.68 ms\n",
      "llama_print_timings:      sample time =   120.77 ms /   216 runs   (    0.56 ms per token,  1788.58 tokens per second)\n",
      "llama_print_timings: prompt eval time =     0.00 ms /     1 tokens (    0.00 ms per token,      inf tokens per second)\n",
      "llama_print_timings:        eval time = 14716.77 ms /   216 runs   (   68.13 ms per token,    14.68 tokens per second)\n",
      "llama_print_timings:       total time = 15377.29 ms\n",
      "Llama.generate: prefix-match hit\n"
     ]
    },
    {
     "name": "stdout",
     "output_type": "stream",
     "text": [
      "{'response': 'a) Flat, wing, basal.', 'area': 'Corneal Epithelium', 'reasoning': 'The correct order of the three cell names found in the corneal epithelium, starting with the most superficial, followed by the intermediate and the deep, is: flat, wing, basal. This is because the flat cells are the most superficial, followed by the wing cells, and then the basal cells at the deepest layer.'}\n",
      "Test #1: \n"
     ]
    },
    {
     "name": "stderr",
     "output_type": "stream",
     "text": [
      "\n",
      "llama_print_timings:        load time =  2623.68 ms\n",
      "llama_print_timings:      sample time =    71.48 ms /   125 runs   (    0.57 ms per token,  1748.74 tokens per second)\n",
      "llama_print_timings: prompt eval time =     0.00 ms /     1 tokens (    0.00 ms per token,      inf tokens per second)\n",
      "llama_print_timings:        eval time =  8395.92 ms /   125 runs   (   67.17 ms per token,    14.89 tokens per second)\n",
      "llama_print_timings:       total time =  8768.30 ms\n",
      "Llama.generate: prefix-match hit\n"
     ]
    },
    {
     "name": "stdout",
     "output_type": "stream",
     "text": [
      "Error converting respose to json: {\n",
      "\"response\": \"c), Basal, flat, wing.\",\n",
      "\"reasoning\": \"The correct order for the three cell names found in the corneal epithelium, starting with the most superficial, followed by the intermediate and the deep, is: Basal, flat, wing. This is because the basal cells are the innermost layer of the corneal epithelium, followed by the flat cells, and then the wing cells.\"\n",
      "\"area\": \"Corneal Epithelium\"\n",
      "}\n",
      "Generating new response...\n"
     ]
    },
    {
     "name": "stderr",
     "output_type": "stream",
     "text": [
      "\n",
      "llama_print_timings:        load time =  2623.68 ms\n",
      "llama_print_timings:      sample time =   117.36 ms /   216 runs   (    0.54 ms per token,  1840.48 tokens per second)\n",
      "llama_print_timings: prompt eval time =     0.00 ms /     1 tokens (    0.00 ms per token,      inf tokens per second)\n",
      "llama_print_timings:        eval time = 14652.15 ms /   216 runs   (   67.83 ms per token,    14.74 tokens per second)\n",
      "llama_print_timings:       total time = 15309.96 ms\n",
      "Llama.generate: prefix-match hit\n"
     ]
    },
    {
     "name": "stdout",
     "output_type": "stream",
     "text": [
      "Error converting respose to json: {\n",
      "\"response\": \"a) Flat, wing, basal.\",\n",
      "\"reasoning\": \"The three cell names found in the corneal epithelium, starting with the most superficial, are: flat, wing, and basal. These cells are arranged in this order from superficial to deep.\"\n",
      "\"area\": \"Corneal Epithelium\"\n",
      "}\n",
      "Generating new response...\n"
     ]
    },
    {
     "name": "stderr",
     "output_type": "stream",
     "text": [
      "\n",
      "llama_print_timings:        load time =  2623.68 ms\n",
      "llama_print_timings:      sample time =    59.27 ms /   103 runs   (    0.58 ms per token,  1737.72 tokens per second)\n",
      "llama_print_timings: prompt eval time =     0.00 ms /     1 tokens (    0.00 ms per token,      inf tokens per second)\n",
      "llama_print_timings:        eval time =  6949.50 ms /   103 runs   (   67.47 ms per token,    14.82 tokens per second)\n",
      "llama_print_timings:       total time =  7257.77 ms\n",
      "Llama.generate: prefix-match hit\n"
     ]
    },
    {
     "name": "stdout",
     "output_type": "stream",
     "text": [
      "{'response': 'd), wing, flat, basal.', 'area': 'Corneal Epithelium', 'reasoning': 'The correct order is wing, flat, basal because the three cell names are listed in decreasing order of their depth within the corneal epithelium. Wing cells are the most superficial, followed by flat cells and basal cells which are the deepest.'}\n",
      "Test #2: \n"
     ]
    },
    {
     "name": "stderr",
     "output_type": "stream",
     "text": [
      "\n",
      "llama_print_timings:        load time =  2623.68 ms\n",
      "llama_print_timings:      sample time =    63.48 ms /   111 runs   (    0.57 ms per token,  1748.58 tokens per second)\n",
      "llama_print_timings: prompt eval time =     0.00 ms /     1 tokens (    0.00 ms per token,      inf tokens per second)\n",
      "llama_print_timings:        eval time =  7469.51 ms /   111 runs   (   67.29 ms per token,    14.86 tokens per second)\n",
      "llama_print_timings:       total time =  7802.15 ms\n",
      "Llama.generate: prefix-match hit\n"
     ]
    },
    {
     "name": "stdout",
     "output_type": "stream",
     "text": [
      "{'response': 'd) wing, flat, basal', 'area': 'Corneal Epithelium', 'reasoning': 'The three cell names found in the corneal epithelium, in order from most superficial to deep, are: wing, flat, basal. This is because the wing cells are the most superficial, followed by the flat cells, and then the basal cells at the deepest layer.'}\n",
      "Language: portuguese\n",
      "Question: \n",
      "Ordene as três denominações celulares encontradas no epitélio da córnea, iniciando pelo mais superficial, seguido do intermediário e do profundo.\n",
      "a)Plana, alada, basal.\n",
      "b)Alada, basal, plana.\n",
      "c)Basal, plana, alada.\n",
      "d)Alada, plana, basal.\n",
      "Test #0: \n",
      "{'response': 'D', 'area': 'Medicine/Ophthalmology', 'reasoning': 'The correct answer is (D) Alada, plana, basal. The three layers of cells found in the epithelium of the cornea, listed from superficial to deep, are: alada (superficial), plana (intermediate), and basal (deep).'}\n",
      "Test #1: \n"
     ]
    },
    {
     "name": "stderr",
     "output_type": "stream",
     "text": [
      "\n",
      "llama_print_timings:        load time =  2623.68 ms\n",
      "llama_print_timings:      sample time =    60.05 ms /   104 runs   (    0.58 ms per token,  1731.80 tokens per second)\n",
      "llama_print_timings: prompt eval time =  1195.51 ms /    96 tokens (   12.45 ms per token,    80.30 tokens per second)\n",
      "llama_print_timings:        eval time =  6918.58 ms /   103 runs   (   67.17 ms per token,    14.89 tokens per second)\n",
      "llama_print_timings:       total time =  8423.89 ms\n",
      "Llama.generate: prefix-match hit\n",
      "\n",
      "llama_print_timings:        load time =  2623.68 ms\n",
      "llama_print_timings:      sample time =    79.39 ms /   139 runs   (    0.57 ms per token,  1750.94 tokens per second)\n",
      "llama_print_timings: prompt eval time =     0.00 ms /     1 tokens (    0.00 ms per token,      inf tokens per second)\n",
      "llama_print_timings:        eval time =  9431.19 ms /   139 runs   (   67.85 ms per token,    14.74 tokens per second)\n",
      "llama_print_timings:       total time =  9846.48 ms\n",
      "Llama.generate: prefix-match hit\n"
     ]
    },
    {
     "name": "stdout",
     "output_type": "stream",
     "text": [
      "Error converting respose to json: {\n",
      "\"response\": \"D\",\n",
      "\"reasoning\": \"The correct answer is (D) Alada, plana, basal. The three layers of cells found in the epithelium of the cornea, listed from superficial to deep, are:\n",
      "* Alada (superficial)\n",
      "* Plana (intermediário)\n",
      "* Basal (profundo)\n",
      "Therefore, the correct answer is (D) Alada, plana, basal.\",\n",
      "\"area\": \"Medicine/Ophthalmology\"\n",
      "}\n",
      "Generating new response...\n"
     ]
    },
    {
     "name": "stderr",
     "output_type": "stream",
     "text": [
      "\n",
      "llama_print_timings:        load time =  2623.68 ms\n",
      "llama_print_timings:      sample time =    59.16 ms /   103 runs   (    0.57 ms per token,  1741.16 tokens per second)\n",
      "llama_print_timings: prompt eval time =     0.00 ms /     1 tokens (    0.00 ms per token,      inf tokens per second)\n",
      "llama_print_timings:        eval time =  7036.36 ms /   103 runs   (   68.31 ms per token,    14.64 tokens per second)\n",
      "llama_print_timings:       total time =  7343.52 ms\n",
      "Llama.generate: prefix-match hit\n"
     ]
    },
    {
     "name": "stdout",
     "output_type": "stream",
     "text": [
      "{'response': 'B', 'area': 'Microbiology and Immunology', 'reasoning': 'The three cell layers found in the epithelium of the cornea, listed from superficial to deep, are: basal, intermediate, and superficial. Therefore, the correct answer is (b) Alada, basal, plana.'}\n",
      "Test #2: \n",
      "{'response': 'D', 'area': 'Microscopic Anatomy of the Cornea', 'reasoning': 'The correct answer is (D) Alada, plana, basal. The epithelium of the cornea consists of three layers: the superficial, intermediate, and deep layers. The superficial layer is called the alae, the intermediate layer is called the basal, and the deep layer is called the stroma.'}\n",
      "**************************************************\n"
     ]
    },
    {
     "name": "stderr",
     "output_type": "stream",
     "text": [
      "\n",
      "llama_print_timings:        load time =  2623.68 ms\n",
      "llama_print_timings:      sample time =    66.43 ms /   115 runs   (    0.58 ms per token,  1731.12 tokens per second)\n",
      "llama_print_timings: prompt eval time =     0.00 ms /     1 tokens (    0.00 ms per token,      inf tokens per second)\n",
      "llama_print_timings:        eval time =  7741.01 ms /   115 runs   (   67.31 ms per token,    14.86 tokens per second)\n",
      "llama_print_timings:       total time =  8083.73 ms\n"
     ]
    },
    {
     "data": {
      "text/html": [
       "<div>\n",
       "<style scoped>\n",
       "    .dataframe tbody tr th:only-of-type {\n",
       "        vertical-align: middle;\n",
       "    }\n",
       "\n",
       "    .dataframe tbody tr th {\n",
       "        vertical-align: top;\n",
       "    }\n",
       "\n",
       "    .dataframe thead th {\n",
       "        text-align: right;\n",
       "    }\n",
       "</style>\n",
       "<table border=\"1\" class=\"dataframe\">\n",
       "  <thead>\n",
       "    <tr style=\"text-align: right;\">\n",
       "      <th></th>\n",
       "      <th>ID</th>\n",
       "      <th>year</th>\n",
       "      <th>test</th>\n",
       "      <th>theme</th>\n",
       "      <th>subtheme</th>\n",
       "      <th>portuguese</th>\n",
       "      <th>english</th>\n",
       "      <th>answer</th>\n",
       "      <th>response_english_0</th>\n",
       "      <th>reasoning_english_0</th>\n",
       "      <th>...</th>\n",
       "      <th>area_english_2</th>\n",
       "      <th>response_portuguese_0</th>\n",
       "      <th>reasoning_portuguese_0</th>\n",
       "      <th>area_portuguese_0</th>\n",
       "      <th>response_portuguese_1</th>\n",
       "      <th>reasoning_portuguese_1</th>\n",
       "      <th>area_portuguese_1</th>\n",
       "      <th>response_portuguese_2</th>\n",
       "      <th>reasoning_portuguese_2</th>\n",
       "      <th>area_portuguese_2</th>\n",
       "    </tr>\n",
       "  </thead>\n",
       "  <tbody>\n",
       "    <tr>\n",
       "      <th>0</th>\n",
       "      <td>1</td>\n",
       "      <td>2022</td>\n",
       "      <td>Teórica I</td>\n",
       "      <td>Anatomia</td>\n",
       "      <td>cornea</td>\n",
       "      <td>Em qual região ocular células caliciformes são...</td>\n",
       "      <td>In which ocular region are caliciform cells ph...</td>\n",
       "      <td>D</td>\n",
       "      <td>A</td>\n",
       "      <td>Caliciform cells are physiologically found in ...</td>\n",
       "      <td>...</td>\n",
       "      <td>Ocular region</td>\n",
       "      <td>A</td>\n",
       "      <td>Células caliciformes são fisiologicamente enco...</td>\n",
       "      <td>Córnea</td>\n",
       "      <td>A</td>\n",
       "      <td>Células caliciformes são fisiologicamente enco...</td>\n",
       "      <td>Córnea</td>\n",
       "      <td>A</td>\n",
       "      <td>Células caliciformes são fisiologicamente enco...</td>\n",
       "      <td>Olho</td>\n",
       "    </tr>\n",
       "    <tr>\n",
       "      <th>1</th>\n",
       "      <td>2</td>\n",
       "      <td>2022</td>\n",
       "      <td>Teórica I</td>\n",
       "      <td>Anatomia</td>\n",
       "      <td>retina</td>\n",
       "      <td>Assinale a alternativa que melhor correlaciona...</td>\n",
       "      <td>Mark the alternative that best correlates the ...</td>\n",
       "      <td>B</td>\n",
       "      <td>B</td>\n",
       "      <td>The parallel and regular striations observed u...</td>\n",
       "      <td>...</td>\n",
       "      <td>Retina</td>\n",
       "      <td>A</td>\n",
       "      <td>The cells in this layer are strongly united by...</td>\n",
       "      <td>Retina</td>\n",
       "      <td>A</td>\n",
       "      <td>The cells in this layer are strongly united by...</td>\n",
       "      <td>Retina</td>\n",
       "      <td>B</td>\n",
       "      <td>The cells in this layer are estranged and regu...</td>\n",
       "      <td>II. Retina</td>\n",
       "    </tr>\n",
       "    <tr>\n",
       "      <th>2</th>\n",
       "      <td>3</td>\n",
       "      <td>2022</td>\n",
       "      <td>Teórica I</td>\n",
       "      <td>Anatomia</td>\n",
       "      <td>cornea</td>\n",
       "      <td>Ordene as três denominações celulares encontra...</td>\n",
       "      <td>Order the three cell names found in the cornea...</td>\n",
       "      <td>A</td>\n",
       "      <td>a) Flat, wing, basal.</td>\n",
       "      <td>The correct order of the three cell names foun...</td>\n",
       "      <td>...</td>\n",
       "      <td>Corneal Epithelium</td>\n",
       "      <td>D</td>\n",
       "      <td>The correct answer is (D) Alada, plana, basal....</td>\n",
       "      <td>Medicine/Ophthalmology</td>\n",
       "      <td>B</td>\n",
       "      <td>The three cell layers found in the epithelium ...</td>\n",
       "      <td>Microbiology and Immunology</td>\n",
       "      <td>D</td>\n",
       "      <td>The correct answer is (D) Alada, plana, basal....</td>\n",
       "      <td>Microscopic Anatomy of the Cornea</td>\n",
       "    </tr>\n",
       "  </tbody>\n",
       "</table>\n",
       "<p>3 rows × 26 columns</p>\n",
       "</div>"
      ],
      "text/plain": [
       "   ID  year       test     theme subtheme  \\\n",
       "0   1  2022  Teórica I  Anatomia   cornea   \n",
       "1   2  2022  Teórica I  Anatomia   retina   \n",
       "2   3  2022  Teórica I  Anatomia   cornea   \n",
       "\n",
       "                                          portuguese  \\\n",
       "0  Em qual região ocular células caliciformes são...   \n",
       "1  Assinale a alternativa que melhor correlaciona...   \n",
       "2  Ordene as três denominações celulares encontra...   \n",
       "\n",
       "                                             english answer  \\\n",
       "0  In which ocular region are caliciform cells ph...      D   \n",
       "1  Mark the alternative that best correlates the ...      B   \n",
       "2  Order the three cell names found in the cornea...      A   \n",
       "\n",
       "      response_english_0                                reasoning_english_0  \\\n",
       "0                      A  Caliciform cells are physiologically found in ...   \n",
       "1                      B  The parallel and regular striations observed u...   \n",
       "2  a) Flat, wing, basal.  The correct order of the three cell names foun...   \n",
       "\n",
       "   ...      area_english_2 response_portuguese_0  \\\n",
       "0  ...       Ocular region                     A   \n",
       "1  ...              Retina                     A   \n",
       "2  ...  Corneal Epithelium                     D   \n",
       "\n",
       "                              reasoning_portuguese_0       area_portuguese_0  \\\n",
       "0  Células caliciformes são fisiologicamente enco...                  Córnea   \n",
       "1  The cells in this layer are strongly united by...                  Retina   \n",
       "2  The correct answer is (D) Alada, plana, basal....  Medicine/Ophthalmology   \n",
       "\n",
       "  response_portuguese_1                             reasoning_portuguese_1  \\\n",
       "0                     A  Células caliciformes são fisiologicamente enco...   \n",
       "1                     A  The cells in this layer are strongly united by...   \n",
       "2                     B  The three cell layers found in the epithelium ...   \n",
       "\n",
       "             area_portuguese_1 response_portuguese_2  \\\n",
       "0                       Córnea                     A   \n",
       "1                       Retina                     B   \n",
       "2  Microbiology and Immunology                     D   \n",
       "\n",
       "                              reasoning_portuguese_2  \\\n",
       "0  Células caliciformes são fisiologicamente enco...   \n",
       "1  The cells in this layer are estranged and regu...   \n",
       "2  The correct answer is (D) Alada, plana, basal....   \n",
       "\n",
       "                   area_portuguese_2  \n",
       "0                               Olho  \n",
       "1                         II. Retina  \n",
       "2  Microscopic Anatomy of the Cornea  \n",
       "\n",
       "[3 rows x 26 columns]"
      ]
     },
     "execution_count": 10,
     "metadata": {},
     "output_type": "execute_result"
    }
   ],
   "source": [
    "df = model.llm_language_evaluation(save=False)\n",
    "df"
   ]
  },
  {
   "cell_type": "code",
   "execution_count": 11,
   "metadata": {},
   "outputs": [
    {
     "name": "stderr",
     "output_type": "stream",
     "text": [
      "Llama.generate: prefix-match hit\n"
     ]
    },
    {
     "name": "stdout",
     "output_type": "stream",
     "text": [
      "**************************************************\n",
      "Question 1: \n",
      "Language: english\n",
      "Question: \n",
      "In which ocular region are caliciform cells physiologically found?\n",
      "a) Cornea.\n",
      "b) Corneoscleral limbus.\n",
      "c) Gray line.\n",
      "d) Semilunar fold.\n",
      "Test #0: \n"
     ]
    },
    {
     "name": "stderr",
     "output_type": "stream",
     "text": [
      "\n",
      "llama_print_timings:        load time =  2623.68 ms\n",
      "llama_print_timings:      sample time =    11.71 ms /    20 runs   (    0.59 ms per token,  1707.65 tokens per second)\n",
      "llama_print_timings: prompt eval time =  1680.94 ms /   197 tokens (    8.53 ms per token,   117.20 tokens per second)\n",
      "llama_print_timings:        eval time =  1278.85 ms /    19 runs   (   67.31 ms per token,    14.86 tokens per second)\n",
      "llama_print_timings:       total time =  3020.14 ms\n",
      "Llama.generate: prefix-match hit\n"
     ]
    },
    {
     "name": "stdout",
     "output_type": "stream",
     "text": [
      "{'response': 'A', 'area': 'Ocular region'}\n",
      "Test #1: \n"
     ]
    },
    {
     "name": "stderr",
     "output_type": "stream",
     "text": [
      "\n",
      "llama_print_timings:        load time =  2623.68 ms\n",
      "llama_print_timings:      sample time =    11.13 ms /    19 runs   (    0.59 ms per token,  1706.48 tokens per second)\n",
      "llama_print_timings: prompt eval time =     0.00 ms /     1 tokens (    0.00 ms per token,      inf tokens per second)\n",
      "llama_print_timings:        eval time =  1262.95 ms /    19 runs   (   66.47 ms per token,    15.04 tokens per second)\n",
      "llama_print_timings:       total time =  1320.88 ms\n",
      "Llama.generate: prefix-match hit\n"
     ]
    },
    {
     "name": "stdout",
     "output_type": "stream",
     "text": [
      "{'response': 'A', 'area': 'Retina'}\n",
      "Test #2: \n",
      "{'response': 'A', 'area': 'Retina'}\n",
      "Language: portuguese\n",
      "Question: \n",
      "Em qual região ocular células caliciformes são fisiologicamente encontradas?\n",
      "a)Córnea.\n",
      "b)Limbo corneoescleral.\n",
      "c)Linha cinzenta.\n",
      "d)Prega semilunar.\n",
      "Test #0: \n"
     ]
    },
    {
     "name": "stderr",
     "output_type": "stream",
     "text": [
      "\n",
      "llama_print_timings:        load time =  2623.68 ms\n",
      "llama_print_timings:      sample time =    49.34 ms /    85 runs   (    0.58 ms per token,  1722.67 tokens per second)\n",
      "llama_print_timings: prompt eval time =     0.00 ms /     1 tokens (    0.00 ms per token,      inf tokens per second)\n",
      "llama_print_timings:        eval time =  5775.63 ms /    85 runs   (   67.95 ms per token,    14.72 tokens per second)\n",
      "llama_print_timings:       total time =  6034.85 ms\n",
      "Llama.generate: prefix-match hit\n",
      "\n",
      "llama_print_timings:        load time =  2623.68 ms\n",
      "llama_print_timings:      sample time =    54.99 ms /    95 runs   (    0.58 ms per token,  1727.65 tokens per second)\n",
      "llama_print_timings: prompt eval time =   764.18 ms /    63 tokens (   12.13 ms per token,    82.44 tokens per second)\n",
      "llama_print_timings:        eval time =  6339.28 ms /    94 runs   (   67.44 ms per token,    14.83 tokens per second)\n",
      "llama_print_timings:       total time =  7393.45 ms\n",
      "Llama.generate: prefix-match hit\n"
     ]
    },
    {
     "name": "stdout",
     "output_type": "stream",
     "text": [
      "Error converting respose to json:  Area: Ophthalmology\n",
      "Response: b) Limbo corneoscleral.\n",
      "Explanation: Células caliciformes are found in the limbus, which is the area where the cornea and sclera meet. The limbus is the transition zone between these two layers of the eye, and it contains cells that play a role in the development and maintenance of the cornea. Therefore, option b is the correct answer.\n",
      "Generating new response...\n"
     ]
    },
    {
     "name": "stderr",
     "output_type": "stream",
     "text": [
      "\n",
      "llama_print_timings:        load time =  2623.68 ms\n",
      "llama_print_timings:      sample time =    58.75 ms /   102 runs   (    0.58 ms per token,  1736.14 tokens per second)\n",
      "llama_print_timings: prompt eval time =     0.00 ms /     1 tokens (    0.00 ms per token,      inf tokens per second)\n",
      "llama_print_timings:        eval time =  6801.17 ms /   102 runs   (   66.68 ms per token,    15.00 tokens per second)\n",
      "llama_print_timings:       total time =  7111.48 ms\n",
      "Llama.generate: prefix-match hit\n"
     ]
    },
    {
     "name": "stdout",
     "output_type": "stream",
     "text": [
      "{'response': 'A', 'area': 'Ocular'}\n",
      "Test #1: \n"
     ]
    },
    {
     "name": "stderr",
     "output_type": "stream",
     "text": [
      "\n",
      "llama_print_timings:        load time =  2623.68 ms\n",
      "llama_print_timings:      sample time =   104.37 ms /   181 runs   (    0.58 ms per token,  1734.16 tokens per second)\n",
      "llama_print_timings: prompt eval time =     0.00 ms /     1 tokens (    0.00 ms per token,      inf tokens per second)\n",
      "llama_print_timings:        eval time = 12308.71 ms /   181 runs   (   68.00 ms per token,    14.71 tokens per second)\n",
      "llama_print_timings:       total time = 12871.58 ms\n",
      "Llama.generate: prefix-match hit\n"
     ]
    },
    {
     "name": "stdout",
     "output_type": "stream",
     "text": [
      "{'response': 'A', 'area': 'Células caliciformes'}\n",
      "Test #2: \n"
     ]
    },
    {
     "name": "stderr",
     "output_type": "stream",
     "text": [
      "\n",
      "llama_print_timings:        load time =  2623.68 ms\n",
      "llama_print_timings:      sample time =    52.66 ms /    91 runs   (    0.58 ms per token,  1728.23 tokens per second)\n",
      "llama_print_timings: prompt eval time =     0.00 ms /     1 tokens (    0.00 ms per token,      inf tokens per second)\n",
      "llama_print_timings:        eval time =  6066.50 ms /    91 runs   (   66.66 ms per token,    15.00 tokens per second)\n",
      "llama_print_timings:       total time =  6342.52 ms\n",
      "Llama.generate: prefix-match hit\n"
     ]
    },
    {
     "name": "stdout",
     "output_type": "stream",
     "text": [
      "{'response': 'B', 'area': 'Oculofacial'}\n",
      "**************************************************\n",
      "**************************************************\n",
      "Question 2: \n",
      "Language: english\n",
      "Question: \n",
      "Mark the alternative that best correlates the histological characteristics with the respective ocular tissues:\n",
      "\n",
      "I. Monolayer of cells tightly joined together by junctional complexes.\n",
      "II. Parallel and regular striations observed under optical microscopy, perpendicular to the epithelium.\n",
      "III. It contains bipolar cells, amacrine cells, horizontal cells and Muller cells.\n",
      "IV. It contains magnocellular, parvocellular and coniocellular cells.\n",
      "\n",
      "A. Photoreceptors.\n",
      "B. Retinal pigmented epithelium.\n",
      "C. Retinal ganglionic layer.\n",
      "D. Inner nuclear layer.\n",
      "Test #0: \n"
     ]
    },
    {
     "name": "stderr",
     "output_type": "stream",
     "text": [
      "\n",
      "llama_print_timings:        load time =  2623.68 ms\n",
      "llama_print_timings:      sample time =    58.05 ms /    98 runs   (    0.59 ms per token,  1688.26 tokens per second)\n",
      "llama_print_timings: prompt eval time =  1649.99 ms /   158 tokens (   10.44 ms per token,    95.76 tokens per second)\n",
      "llama_print_timings:        eval time =  6563.78 ms /    97 runs   (   67.67 ms per token,    14.78 tokens per second)\n",
      "llama_print_timings:       total time =  8518.83 ms\n",
      "Llama.generate: prefix-match hit\n"
     ]
    },
    {
     "name": "stdout",
     "output_type": "stream",
     "text": [
      "{'response': 'B', 'area': 'Retinal pigmented epithelium'}\n",
      "Test #1: \n"
     ]
    },
    {
     "name": "stderr",
     "output_type": "stream",
     "text": [
      "\n",
      "llama_print_timings:        load time =  2623.68 ms\n",
      "llama_print_timings:      sample time =    91.48 ms /   157 runs   (    0.58 ms per token,  1716.30 tokens per second)\n",
      "llama_print_timings: prompt eval time =     0.00 ms /     1 tokens (    0.00 ms per token,      inf tokens per second)\n",
      "llama_print_timings:        eval time = 10623.26 ms /   157 runs   (   67.66 ms per token,    14.78 tokens per second)\n",
      "llama_print_timings:       total time = 11113.56 ms\n",
      "Llama.generate: prefix-match hit\n"
     ]
    },
    {
     "name": "stdout",
     "output_type": "stream",
     "text": [
      "{'response': 'B', 'area': 'Retinal pigmented epithelium'}\n",
      "Test #2: \n"
     ]
    },
    {
     "name": "stderr",
     "output_type": "stream",
     "text": [
      "\n",
      "llama_print_timings:        load time =  2623.68 ms\n",
      "llama_print_timings:      sample time =    33.78 ms /    59 runs   (    0.57 ms per token,  1746.44 tokens per second)\n",
      "llama_print_timings: prompt eval time =     0.00 ms /     1 tokens (    0.00 ms per token,      inf tokens per second)\n",
      "llama_print_timings:        eval time =  4030.63 ms /    59 runs   (   68.32 ms per token,    14.64 tokens per second)\n",
      "llama_print_timings:       total time =  4209.59 ms\n",
      "Llama.generate: prefix-match hit\n"
     ]
    },
    {
     "name": "stdout",
     "output_type": "stream",
     "text": [
      "{'response': {'I': 'A', 'II': 'B', 'III': 'C', 'IV': 'D'}, 'area': 'retina'}\n",
      "Language: portuguese\n",
      "Question: \n",
      "Assinale a alternativa que melhor correlaciona as características histológicas com os respectivos tecidos oculares:\n",
      "\n",
      "I. Monocamada de células fortemente unidas por complexos juncionais.\n",
      "II. Estriações paralelas e regulares observadas à microscopia óptica, perpendiculares ao epitélio.\n",
      "III. Contém células bipolares, células amácrinas, células horizontais e células de Muller.\n",
      "IV. Contém células magnocelulares, parvocelulares e coniocelulares.\n",
      "\n",
      "A. Fotorreceptores.\n",
      "B. Epitélio pigmentado da pigmentado da retina.\n",
      "C. Camada ganglionar retiniana.\n",
      "D. Camada nuclear interna.\n",
      "Test #0: \n"
     ]
    },
    {
     "name": "stderr",
     "output_type": "stream",
     "text": [
      "\n",
      "llama_print_timings:        load time =  2623.68 ms\n",
      "llama_print_timings:      sample time =    33.29 ms /    56 runs   (    0.59 ms per token,  1682.24 tokens per second)\n",
      "llama_print_timings: prompt eval time =  1880.14 ms /   196 tokens (    9.59 ms per token,   104.25 tokens per second)\n",
      "llama_print_timings:        eval time =  3724.88 ms /    55 runs   (   67.73 ms per token,    14.77 tokens per second)\n",
      "llama_print_timings:       total time =  5779.06 ms\n",
      "Llama.generate: prefix-match hit\n"
     ]
    },
    {
     "name": "stdout",
     "output_type": "stream",
     "text": [
      "{'response': {'I': 'A', 'II': 'B', 'III': 'C', 'IV': 'D'}, 'area': 'Retina'}\n",
      "Test #1: \n"
     ]
    },
    {
     "name": "stderr",
     "output_type": "stream",
     "text": [
      "\n",
      "llama_print_timings:        load time =  2623.68 ms\n",
      "llama_print_timings:      sample time =    70.39 ms /   119 runs   (    0.59 ms per token,  1690.70 tokens per second)\n",
      "llama_print_timings: prompt eval time =     0.00 ms /     1 tokens (    0.00 ms per token,      inf tokens per second)\n",
      "llama_print_timings:        eval time =  8079.04 ms /   119 runs   (   67.89 ms per token,    14.73 tokens per second)\n",
      "llama_print_timings:       total time =  8456.41 ms\n",
      "Llama.generate: prefix-match hit\n"
     ]
    },
    {
     "name": "stdout",
     "output_type": "stream",
     "text": [
      "{'response': 'B', 'area': 'Retina'}\n",
      "Test #2: \n"
     ]
    },
    {
     "name": "stderr",
     "output_type": "stream",
     "text": [
      "\n",
      "llama_print_timings:        load time =  2623.68 ms\n",
      "llama_print_timings:      sample time =    64.09 ms /   119 runs   (    0.54 ms per token,  1856.85 tokens per second)\n",
      "llama_print_timings: prompt eval time =     0.00 ms /     1 tokens (    0.00 ms per token,      inf tokens per second)\n",
      "llama_print_timings:        eval time =  8150.21 ms /   119 runs   (   68.49 ms per token,    14.60 tokens per second)\n",
      "llama_print_timings:       total time =  8510.65 ms\n",
      "Llama.generate: prefix-match hit\n"
     ]
    },
    {
     "name": "stdout",
     "output_type": "stream",
     "text": [
      "{'response': 'A', 'area': 'Reticular layer'}\n",
      "**************************************************\n",
      "**************************************************\n",
      "Question 3: \n",
      "Language: english\n",
      "Question: \n",
      "Order the three cell names found in the corneal epithelium, starting with the most superficial, followed by the intermediate and the deep.\n",
      "a) Flat, wing, basal.\n",
      "b) wing, basal, flat.\n",
      "c) Basal, flat, wing.\n",
      "d) wing, flat, basal.\n",
      "Test #0: \n"
     ]
    },
    {
     "name": "stderr",
     "output_type": "stream",
     "text": [
      "\n",
      "llama_print_timings:        load time =  2623.68 ms\n",
      "llama_print_timings:      sample time =   130.03 ms /   228 runs   (    0.57 ms per token,  1753.37 tokens per second)\n",
      "llama_print_timings: prompt eval time =   979.02 ms /    79 tokens (   12.39 ms per token,    80.69 tokens per second)\n",
      "llama_print_timings:        eval time = 15387.78 ms /   227 runs   (   67.79 ms per token,    14.75 tokens per second)\n",
      "llama_print_timings:       total time = 17085.13 ms\n",
      "Llama.generate: prefix-match hit\n"
     ]
    },
    {
     "name": "stdout",
     "output_type": "stream",
     "text": [
      "{'response': 'a) Flat, wing, basal.', 'area': 'Corneal Epithelium'}\n",
      "Test #1: \n",
      "{'response': 'd) wing, flat, basal.', 'area': 'Corneal Epithelium'}\n",
      "Test #2: \n"
     ]
    },
    {
     "name": "stderr",
     "output_type": "stream",
     "text": [
      "\n",
      "llama_print_timings:        load time =  2623.68 ms\n",
      "llama_print_timings:      sample time =    80.01 ms /   142 runs   (    0.56 ms per token,  1774.76 tokens per second)\n",
      "llama_print_timings: prompt eval time =     0.00 ms /     1 tokens (    0.00 ms per token,      inf tokens per second)\n",
      "llama_print_timings:        eval time =  9497.23 ms /   142 runs   (   66.88 ms per token,    14.95 tokens per second)\n",
      "llama_print_timings:       total time =  9932.00 ms\n",
      "Llama.generate: prefix-match hit\n",
      "\n",
      "llama_print_timings:        load time =  2623.68 ms\n",
      "llama_print_timings:      sample time =    70.97 ms /   124 runs   (    0.57 ms per token,  1747.22 tokens per second)\n",
      "llama_print_timings: prompt eval time =     0.00 ms /     1 tokens (    0.00 ms per token,      inf tokens per second)\n",
      "llama_print_timings:        eval time =  8358.67 ms /   124 runs   (   67.41 ms per token,    14.83 tokens per second)\n",
      "llama_print_timings:       total time =  8740.57 ms\n",
      "Llama.generate: prefix-match hit\n"
     ]
    },
    {
     "name": "stdout",
     "output_type": "stream",
     "text": [
      "{'response': 'a) Flat, wing, basal.', 'area': 'Corneal Epithelium'}\n",
      "Language: portuguese\n",
      "Question: \n",
      "Ordene as três denominações celulares encontradas no epitélio da córnea, iniciando pelo mais superficial, seguido do intermediário e do profundo.\n",
      "a)Plana, alada, basal.\n",
      "b)Alada, basal, plana.\n",
      "c)Basal, plana, alada.\n",
      "d)Alada, plana, basal.\n",
      "Test #0: \n"
     ]
    },
    {
     "name": "stderr",
     "output_type": "stream",
     "text": [
      "\n",
      "llama_print_timings:        load time =  2623.68 ms\n",
      "llama_print_timings:      sample time =    43.19 ms /    74 runs   (    0.58 ms per token,  1713.48 tokens per second)\n",
      "llama_print_timings: prompt eval time =  1209.53 ms /    96 tokens (   12.60 ms per token,    79.37 tokens per second)\n",
      "llama_print_timings:        eval time =  4912.93 ms /    73 runs   (   67.30 ms per token,    14.86 tokens per second)\n",
      "llama_print_timings:       total time =  6348.78 ms\n",
      "Llama.generate: prefix-match hit\n"
     ]
    },
    {
     "name": "stdout",
     "output_type": "stream",
     "text": [
      "{'response': 'D', 'area': 'Córnea'}\n",
      "Test #1: \n"
     ]
    },
    {
     "name": "stderr",
     "output_type": "stream",
     "text": [
      "\n",
      "llama_print_timings:        load time =  2623.68 ms\n",
      "llama_print_timings:      sample time =   114.81 ms /   198 runs   (    0.58 ms per token,  1724.62 tokens per second)\n",
      "llama_print_timings: prompt eval time =     0.00 ms /     1 tokens (    0.00 ms per token,      inf tokens per second)\n",
      "llama_print_timings:        eval time = 13415.11 ms /   198 runs   (   67.75 ms per token,    14.76 tokens per second)\n",
      "llama_print_timings:       total time = 14036.70 ms\n",
      "Llama.generate: prefix-match hit\n"
     ]
    },
    {
     "name": "stdout",
     "output_type": "stream",
     "text": [
      "{'response': 'D', 'area': 'Córnea'}\n",
      "Test #2: \n",
      "{'response': 'D', 'area': 'Córnea'}\n",
      "**************************************************\n"
     ]
    },
    {
     "name": "stderr",
     "output_type": "stream",
     "text": [
      "\n",
      "llama_print_timings:        load time =  2623.68 ms\n",
      "llama_print_timings:      sample time =    94.95 ms /   166 runs   (    0.57 ms per token,  1748.25 tokens per second)\n",
      "llama_print_timings: prompt eval time =     0.00 ms /     1 tokens (    0.00 ms per token,      inf tokens per second)\n",
      "llama_print_timings:        eval time = 11159.64 ms /   166 runs   (   67.23 ms per token,    14.88 tokens per second)\n",
      "llama_print_timings:       total time = 11675.88 ms\n"
     ]
    },
    {
     "data": {
      "text/html": [
       "<div>\n",
       "<style scoped>\n",
       "    .dataframe tbody tr th:only-of-type {\n",
       "        vertical-align: middle;\n",
       "    }\n",
       "\n",
       "    .dataframe tbody tr th {\n",
       "        vertical-align: top;\n",
       "    }\n",
       "\n",
       "    .dataframe thead th {\n",
       "        text-align: right;\n",
       "    }\n",
       "</style>\n",
       "<table border=\"1\" class=\"dataframe\">\n",
       "  <thead>\n",
       "    <tr style=\"text-align: right;\">\n",
       "      <th></th>\n",
       "      <th>ID</th>\n",
       "      <th>year</th>\n",
       "      <th>test</th>\n",
       "      <th>theme</th>\n",
       "      <th>subtheme</th>\n",
       "      <th>portuguese</th>\n",
       "      <th>english</th>\n",
       "      <th>answer</th>\n",
       "      <th>response_english_0</th>\n",
       "      <th>area_english_0</th>\n",
       "      <th>response_english_1</th>\n",
       "      <th>area_english_1</th>\n",
       "      <th>response_english_2</th>\n",
       "      <th>area_english_2</th>\n",
       "      <th>response_portuguese_0</th>\n",
       "      <th>area_portuguese_0</th>\n",
       "      <th>response_portuguese_1</th>\n",
       "      <th>area_portuguese_1</th>\n",
       "      <th>response_portuguese_2</th>\n",
       "      <th>area_portuguese_2</th>\n",
       "    </tr>\n",
       "  </thead>\n",
       "  <tbody>\n",
       "    <tr>\n",
       "      <th>0</th>\n",
       "      <td>1</td>\n",
       "      <td>2022</td>\n",
       "      <td>Teórica I</td>\n",
       "      <td>Anatomia</td>\n",
       "      <td>cornea</td>\n",
       "      <td>Em qual região ocular células caliciformes são...</td>\n",
       "      <td>In which ocular region are caliciform cells ph...</td>\n",
       "      <td>D</td>\n",
       "      <td>A</td>\n",
       "      <td>Ocular region</td>\n",
       "      <td>A</td>\n",
       "      <td>Retina</td>\n",
       "      <td>A</td>\n",
       "      <td>Retina</td>\n",
       "      <td>A</td>\n",
       "      <td>Ocular</td>\n",
       "      <td>A</td>\n",
       "      <td>Células caliciformes</td>\n",
       "      <td>B</td>\n",
       "      <td>Oculofacial</td>\n",
       "    </tr>\n",
       "    <tr>\n",
       "      <th>1</th>\n",
       "      <td>2</td>\n",
       "      <td>2022</td>\n",
       "      <td>Teórica I</td>\n",
       "      <td>Anatomia</td>\n",
       "      <td>retina</td>\n",
       "      <td>Assinale a alternativa que melhor correlaciona...</td>\n",
       "      <td>Mark the alternative that best correlates the ...</td>\n",
       "      <td>B</td>\n",
       "      <td>B</td>\n",
       "      <td>Retinal pigmented epithelium</td>\n",
       "      <td>B</td>\n",
       "      <td>Retinal pigmented epithelium</td>\n",
       "      <td>{'I': 'A', 'II': 'B', 'III': 'C', 'IV': 'D'}</td>\n",
       "      <td>retina</td>\n",
       "      <td>{'I': 'A', 'II': 'B', 'III': 'C', 'IV': 'D'}</td>\n",
       "      <td>Retina</td>\n",
       "      <td>B</td>\n",
       "      <td>Retina</td>\n",
       "      <td>A</td>\n",
       "      <td>Reticular layer</td>\n",
       "    </tr>\n",
       "    <tr>\n",
       "      <th>2</th>\n",
       "      <td>3</td>\n",
       "      <td>2022</td>\n",
       "      <td>Teórica I</td>\n",
       "      <td>Anatomia</td>\n",
       "      <td>cornea</td>\n",
       "      <td>Ordene as três denominações celulares encontra...</td>\n",
       "      <td>Order the three cell names found in the cornea...</td>\n",
       "      <td>A</td>\n",
       "      <td>a) Flat, wing, basal.</td>\n",
       "      <td>Corneal Epithelium</td>\n",
       "      <td>d) wing, flat, basal.</td>\n",
       "      <td>Corneal Epithelium</td>\n",
       "      <td>a) Flat, wing, basal.</td>\n",
       "      <td>Corneal Epithelium</td>\n",
       "      <td>D</td>\n",
       "      <td>Córnea</td>\n",
       "      <td>D</td>\n",
       "      <td>Córnea</td>\n",
       "      <td>D</td>\n",
       "      <td>Córnea</td>\n",
       "    </tr>\n",
       "  </tbody>\n",
       "</table>\n",
       "</div>"
      ],
      "text/plain": [
       "   ID  year       test     theme subtheme  \\\n",
       "0   1  2022  Teórica I  Anatomia   cornea   \n",
       "1   2  2022  Teórica I  Anatomia   retina   \n",
       "2   3  2022  Teórica I  Anatomia   cornea   \n",
       "\n",
       "                                          portuguese  \\\n",
       "0  Em qual região ocular células caliciformes são...   \n",
       "1  Assinale a alternativa que melhor correlaciona...   \n",
       "2  Ordene as três denominações celulares encontra...   \n",
       "\n",
       "                                             english answer  \\\n",
       "0  In which ocular region are caliciform cells ph...      D   \n",
       "1  Mark the alternative that best correlates the ...      B   \n",
       "2  Order the three cell names found in the cornea...      A   \n",
       "\n",
       "      response_english_0                area_english_0     response_english_1  \\\n",
       "0                      A                 Ocular region                      A   \n",
       "1                      B  Retinal pigmented epithelium                      B   \n",
       "2  a) Flat, wing, basal.            Corneal Epithelium  d) wing, flat, basal.   \n",
       "\n",
       "                 area_english_1                            response_english_2  \\\n",
       "0                        Retina                                             A   \n",
       "1  Retinal pigmented epithelium  {'I': 'A', 'II': 'B', 'III': 'C', 'IV': 'D'}   \n",
       "2            Corneal Epithelium                         a) Flat, wing, basal.   \n",
       "\n",
       "       area_english_2                         response_portuguese_0  \\\n",
       "0              Retina                                             A   \n",
       "1              retina  {'I': 'A', 'II': 'B', 'III': 'C', 'IV': 'D'}   \n",
       "2  Corneal Epithelium                                             D   \n",
       "\n",
       "  area_portuguese_0 response_portuguese_1     area_portuguese_1  \\\n",
       "0            Ocular                     A  Células caliciformes   \n",
       "1            Retina                     B                Retina   \n",
       "2            Córnea                     D                Córnea   \n",
       "\n",
       "  response_portuguese_2 area_portuguese_2  \n",
       "0                     B       Oculofacial  \n",
       "1                     A   Reticular layer  \n",
       "2                     D            Córnea  "
      ]
     },
     "execution_count": 11,
     "metadata": {},
     "output_type": "execute_result"
    }
   ],
   "source": [
    "### Suggestion:\n",
    "# When running multiple experiments, it's recommended to change the value of REASONING to False, since running the reasoning multiple times can be time consuming.\n",
    "model.change_reasoning(False)\n",
    "\n",
    "df = model.llm_language_evaluation(save=False)\n",
    "df"
   ]
  },
  {
   "cell_type": "code",
   "execution_count": null,
   "metadata": {},
   "outputs": [],
   "source": []
  }
 ],
 "metadata": {
  "kernelspec": {
   "display_name": "Python [conda env:nlp_bias_vpython=3_8_15]",
   "language": "python",
   "name": "conda-env-nlp_bias_vpython_3_8_15-py"
  },
  "language_info": {
   "codemirror_mode": {
    "name": "ipython",
    "version": 3
   },
   "file_extension": ".py",
   "mimetype": "text/x-python",
   "name": "python",
   "nbconvert_exporter": "python",
   "pygments_lexer": "ipython3",
   "version": "3.8.15"
  }
 },
 "nbformat": 4,
 "nbformat_minor": 4
}
