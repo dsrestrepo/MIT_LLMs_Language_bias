{
 "cells": [
  {
   "cell_type": "markdown",
   "id": "f14c4442-3fc5-4070-9ef2-bb33d30e6b38",
   "metadata": {},
   "source": [
    "# Evaluate Medical Tests Classification"
   ]
  },
  {
   "cell_type": "markdown",
   "id": "26fd0696-18e6-4029-8738-fecba92851db",
   "metadata": {},
   "source": [
    "## Setup"
   ]
  },
  {
   "cell_type": "markdown",
   "id": "ae2ee53f",
   "metadata": {},
   "source": [
    "#### Load the API key and libaries."
   ]
  },
  {
   "cell_type": "code",
   "execution_count": 1,
   "id": "87f647e2",
   "metadata": {
    "height": 115
   },
   "outputs": [],
   "source": [
    "import json\n",
    "import pandas as pd\n",
    "\n",
    "import os\n",
    "import openai\n",
    "from dotenv import load_dotenv, find_dotenv\n",
    "_ = load_dotenv(find_dotenv()) # read local .env file\n",
    "\n",
    "openai.api_key  = os.environ['OPENAI_API_KEY']"
   ]
  },
  {
   "cell_type": "markdown",
   "id": "7d3a79d4",
   "metadata": {},
   "source": [
    "#### Load the Constants"
   ]
  },
  {
   "cell_type": "code",
   "execution_count": 2,
   "id": "5493db09",
   "metadata": {
    "height": 47
   },
   "outputs": [],
   "source": [
    "PATH = 'Portuguese.csv'\n",
    "MODEL = \"gpt-3.5-turbo\"\n",
    "TEMPERATURE = 0.0\n",
    "N_REPETITIONS = 5\n",
    "REASONING = False\n",
    "LANGUAGES = ['english', 'portuguese']"
   ]
  },
  {
   "cell_type": "markdown",
   "id": "5612aec6",
   "metadata": {},
   "source": [
    "### Model:"
   ]
  },
  {
   "cell_type": "code",
   "execution_count": 11,
   "id": "101624a2",
   "metadata": {
    "height": 234
   },
   "outputs": [],
   "source": [
    "def get_completion_from_messages(messages, \n",
    "                                 model=\"gpt-3.5-turbo\", \n",
    "                                 temperature=0, \n",
    "                                 max_tokens=500):\n",
    "    \n",
    "    response = openai.ChatCompletion.create(\n",
    "        model=model,\n",
    "        messages=messages,\n",
    "        temperature=temperature, \n",
    "        max_tokens=max_tokens,\n",
    "    )\n",
    "    \n",
    "    return response.choices[0].message[\"content\"]"
   ]
  },
  {
   "cell_type": "markdown",
   "id": "d3db09d1-6253-4c9e-9ad1-5a6134df3e6c",
   "metadata": {},
   "source": [
    "#### Template for the Questions"
   ]
  },
  {
   "cell_type": "code",
   "execution_count": 4,
   "id": "8db30f42",
   "metadata": {
    "height": 523
   },
   "outputs": [],
   "source": [
    "def generate_question(question, LANGUAGES, REASONING, Responses=['A', 'B', 'C', 'D']):\n",
    "    \n",
    "    delimiter = \"####\"\n",
    "\n",
    "    languages_text = \", \".join(LANGUAGES)\n",
    "\n",
    "    if REASONING:\n",
    "        system_message = f\"\"\"\n",
    "        You will be provided with medical queries in this languages: {languages_text}. \\\n",
    "        The medical query will be delimited with \\\n",
    "        {delimiter} characters.\n",
    "        Each question will have {len(Responses)} possible answer options.\\\n",
    "        provide the letter with the answer and a short sentence answering why the answer was selected \\\n",
    "\n",
    "        Provide your output in json format with the \\\n",
    "        keys: response and reasoning.\n",
    "\n",
    "        Responses: {\", \".join(Responses)}.\n",
    "\n",
    "        \"\"\"\n",
    "    else:\n",
    "        system_message = f\"\"\"\n",
    "        You will be provided with medical queries in this languages: {languages_text}. \\\n",
    "        The medical query will be delimited with \\\n",
    "        {delimiter} characters.\n",
    "        Each question will have {len(Responses)} possible answer options.\\\n",
    "        provide the letter with the answer.\n",
    "\n",
    "        Provide your output in json format with the \\\n",
    "        key: response.\n",
    "\n",
    "        Responses: {\", \".join(Responses)}.\n",
    "\n",
    "        \"\"\"\n",
    "\n",
    "    user_message = f\"\"\"/\n",
    "    {question}\"\"\"\n",
    "    \n",
    "    messages =  [  \n",
    "    {'role':'system', \n",
    "     'content': system_message},    \n",
    "    {'role':'user', \n",
    "     'content': f\"{delimiter}{user_message}{delimiter}\"},  \n",
    "    ] \n",
    "    \n",
    "    return messages\n"
   ]
  },
  {
   "cell_type": "markdown",
   "id": "6f5eb7d0",
   "metadata": {
    "height": 30
   },
   "source": [
    "### Questions from a csv file:"
   ]
  },
  {
   "cell_type": "code",
   "execution_count": 14,
   "id": "197e0242",
   "metadata": {
    "height": 64
   },
   "outputs": [],
   "source": [
    "df = pd.read_csv(PATH)"
   ]
  },
  {
   "cell_type": "markdown",
   "id": "59d0b3a0",
   "metadata": {
    "height": 30
   },
   "source": [
    "### Evaluate the model in question answering per language:"
   ]
  },
  {
   "cell_type": "code",
   "execution_count": 18,
   "id": "660e707e",
   "metadata": {
    "height": 98
   },
   "outputs": [],
   "source": [
    "responses = {}\n",
    "reasoning = {}\n",
    "for language in LANGUAGES:\n",
    "    responses[language] = [[] for n in range(N_REPETITIONS)]\n",
    "\n",
    "    if REASONING:\n",
    "        reasoning[language] = [[] for n in range(N_REPETITIONS)]"
   ]
  },
  {
   "cell_type": "code",
   "execution_count": null,
   "id": "2663d767",
   "metadata": {
    "height": 234
   },
   "outputs": [
    {
     "name": "stdout",
     "output_type": "stream",
     "text": [
      "**************************************************\n",
      "Question 1: \n",
      "English:\n",
      "Test # 0\n",
      "In which ocular region are caliciform cells physiologically found?\n",
      "a) Cornea.\n",
      "b) Corneoscleral limbus.\n",
      "c) Gray line.\n",
      "d) Semilunar fold.\n"
     ]
    }
   ],
   "source": [
    "for row in range(df.shape[0]):\n",
    "    print('*'*50)\n",
    "    print(f'Question {row+1}: ')\n",
    "    for language in LANGUAGES:\n",
    "        print(f'Language: {language}')\n",
    "        question = df[language][row]\n",
    "        print('Question: ')\n",
    "        print(question)\n",
    "        messages = generate_question(question, LANGUAGES, REASONING)\n",
    "\n",
    "        for n in range(N_REPETITIONS): \n",
    "            print(f'Test #{n}: ')\n",
    "            response = get_completion_from_messages(messages, MODEL, TEMPERATURE)\n",
    "            # Convert the string into a JSON object\n",
    "            response = json.loads(response)\n",
    "            print(response)\n",
    "        \n",
    "            # Append to the list:\n",
    "            responses[language][n].append(response['response'])\n",
    "            if REASONING:\n",
    "                reasoning[language][n].append(response['reasoning'])\n",
    "            \n",
    "    print('*'*50)"
   ]
  },
  {
   "cell_type": "markdown",
   "id": "7901b3fe",
   "metadata": {},
   "source": [
    "### Save the results in a csv file:"
   ]
  },
  {
   "cell_type": "code",
   "execution_count": 13,
   "id": "f9a5a790",
   "metadata": {
    "height": 47
   },
   "outputs": [],
   "source": [
    "for language in LANGUAGES:\n",
    "    for n in range(N_REPETITIONS):\n",
    "        df[f'responses_{language}_{n}'] = responses[language][n]\n",
    "        if REASONING:\n",
    "            df[f'reasoning_{language}_{n}'] = reasoning[language][n]"
   ]
  },
  {
   "cell_type": "code",
   "execution_count": 14,
   "id": "5cfd2fae",
   "metadata": {
    "height": 30
   },
   "outputs": [],
   "source": [
    "if not os.path.exists('responses'):\n",
    "    os.makedirs('responses')\n",
    "df.to_csv(f\"responses/{MODEL}_Temperature{str(TEMPERATURE).replace('.', '_')}_{N_REPETITIONS}Repetitions.csv\", index=False)"
   ]
  }
 ],
 "metadata": {
  "kernelspec": {
   "display_name": "Python 3 (ipykernel)",
   "language": "python",
   "name": "python3"
  },
  "language_info": {
   "codemirror_mode": {
    "name": "ipython",
    "version": 3
   },
   "file_extension": ".py",
   "mimetype": "text/x-python",
   "name": "python",
   "nbconvert_exporter": "python",
   "pygments_lexer": "ipython3",
   "version": "3.9.18"
  }
 },
 "nbformat": 4,
 "nbformat_minor": 5
}
