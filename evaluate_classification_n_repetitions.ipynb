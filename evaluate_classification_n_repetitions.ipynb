{
 "cells": [
  {
   "cell_type": "markdown",
   "id": "f14c4442-3fc5-4070-9ef2-bb33d30e6b38",
   "metadata": {},
   "source": [
    "# Evaluate Classification"
   ]
  },
  {
   "cell_type": "markdown",
   "id": "26fd0696-18e6-4029-8738-fecba92851db",
   "metadata": {},
   "source": [
    "## Setup\n",
    "#### Load the API key and relevant Python libaries.\n",
    "In this course, we've provided some code that loads the OpenAI API key for you."
   ]
  },
  {
   "cell_type": "code",
   "execution_count": 1,
   "id": "87f647e2",
   "metadata": {
    "height": 115
   },
   "outputs": [],
   "source": [
    "import json\n",
    "import pandas as pd\n",
    "\n",
    "import os\n",
    "import openai\n",
    "from dotenv import load_dotenv, find_dotenv\n",
    "_ = load_dotenv(find_dotenv()) # read local .env file\n",
    "\n",
    "openai.api_key  = os.environ['OPENAI_API_KEY']"
   ]
  },
  {
   "cell_type": "markdown",
   "id": "9c00785e",
   "metadata": {
    "height": 30
   },
   "source": [
    "### Model:"
   ]
  },
  {
   "cell_type": "code",
   "execution_count": 16,
   "id": "5493db09",
   "metadata": {
    "height": 47
   },
   "outputs": [],
   "source": [
    "PATH = 'Portuguese.csv'\n",
    "MODEL = \"gpt-3.5-turbo\"\n",
    "TEMPERATURE = 0.0\n",
    "N_REPETITIONS = 5"
   ]
  },
  {
   "cell_type": "code",
   "execution_count": 11,
   "id": "101624a2",
   "metadata": {
    "height": 234
   },
   "outputs": [],
   "source": [
    "def get_completion_from_messages(messages, \n",
    "                                 model=\"gpt-3.5-turbo\", \n",
    "                                 temperature=0, \n",
    "                                 max_tokens=500):\n",
    "    \n",
    "    response = openai.ChatCompletion.create(\n",
    "        model=model,\n",
    "        messages=messages,\n",
    "        temperature=temperature, \n",
    "        max_tokens=max_tokens,\n",
    "    )\n",
    "    \n",
    "    return response.choices[0].message[\"content\"]"
   ]
  },
  {
   "cell_type": "markdown",
   "id": "d3db09d1-6253-4c9e-9ad1-5a6134df3e6c",
   "metadata": {},
   "source": [
    "#### Deffine a template for the questions"
   ]
  },
  {
   "cell_type": "code",
   "execution_count": 12,
   "id": "8db30f42",
   "metadata": {
    "height": 523
   },
   "outputs": [],
   "source": [
    "def generate_question(question):\n",
    "    \n",
    "    delimiter = \"####\"\n",
    "\n",
    "    system_message = f\"\"\"\n",
    "    You will be provided with medical queries in both English and Portuguese. \\\n",
    "    The medical query will be delimited with \\\n",
    "    {delimiter} characters.\n",
    "    Each question will have 4 possible answer options.\\\n",
    "    provide the letter with the answer.\n",
    "\n",
    "    Provide your output in json format with the \\\n",
    "    key: response.\n",
    "\n",
    "    Responses: A, B, C, D.\n",
    "\n",
    "    \"\"\"\n",
    "\n",
    "    user_message = f\"\"\"/\n",
    "    {question}\"\"\"\n",
    "    \n",
    "    messages =  [  \n",
    "    {'role':'system', \n",
    "     'content': system_message},    \n",
    "    {'role':'user', \n",
    "     'content': f\"{delimiter}{user_message}{delimiter}\"},  \n",
    "    ] \n",
    "    \n",
    "    return messages\n"
   ]
  },
  {
   "cell_type": "markdown",
   "id": "6f5eb7d0",
   "metadata": {
    "height": 30
   },
   "source": [
    "### Questions:"
   ]
  },
  {
   "cell_type": "code",
   "execution_count": 14,
   "id": "197e0242",
   "metadata": {
    "height": 64
   },
   "outputs": [],
   "source": [
    "df = pd.read_csv(PATH)"
   ]
  },
  {
   "cell_type": "markdown",
   "id": "59d0b3a0",
   "metadata": {
    "height": 30
   },
   "source": [
    "### Ask to GPT"
   ]
  },
  {
   "cell_type": "code",
   "execution_count": 18,
   "id": "660e707e",
   "metadata": {
    "height": 98
   },
   "outputs": [],
   "source": [
    "responses_english = [[] for n in range(N_REPETITIONS)]\n",
    "#reasoning_english = [[] for n in range(N_REPETITIONS)]\n",
    "\n",
    "responses_portuguese = [[] for n in range(N_REPETITIONS)]\n",
    "#reasoning_portuguese = [[] for n in range(N_REPETITIONS)]"
   ]
  },
  {
   "cell_type": "code",
   "execution_count": null,
   "id": "2663d767",
   "metadata": {
    "height": 234
   },
   "outputs": [
    {
     "name": "stdout",
     "output_type": "stream",
     "text": [
      "**************************************************\n",
      "Question 1: \n",
      "English:\n",
      "Test # 0\n",
      "In which ocular region are caliciform cells physiologically found?\n",
      "a) Cornea.\n",
      "b) Corneoscleral limbus.\n",
      "c) Gray line.\n",
      "d) Semilunar fold.\n"
     ]
    }
   ],
   "source": [
    "for col in range(df.shape[0]):\n",
    "    print('*'*50)\n",
    "    print(f'Question {col+1}: ')\n",
    "    print(f'English:')\n",
    "    \n",
    "    for n in range(N_REPETITIONS):\n",
    "        \n",
    "        print(f'Test # {n}')\n",
    "        \n",
    "        question = df['english'][col]\n",
    "        if n == 0:\n",
    "            print(question)\n",
    "        messages = generate_question(question)\n",
    "    \n",
    "        response = get_completion_from_messages(messages, MODEL, TEMPERATURE)\n",
    "        # Convert the string into a JSON object\n",
    "        response = json.loads(response)\n",
    "        print(response)\n",
    "        # Append to the list:\n",
    "        responses_english[n].append(response['response'])\n",
    "        #reasoning_english[n].append(response['reasoning'])\n",
    "    \n",
    "        print(f'\\nPortuguese:')\n",
    "        question = df['portuguese'][col]\n",
    "        \n",
    "        if n == 0:\n",
    "            print(question)\n",
    "            \n",
    "        messages = generate_question(question)\n",
    "\n",
    "        response = get_completion_from_messages(messages, MODEL, TEMPERATURE)\n",
    "        # Convert the string into a JSON object\n",
    "        response = json.loads(response)\n",
    "        print(response)\n",
    "        # Append to the list:\n",
    "        responses_portuguese[n].append(response['response'])\n",
    "        #reasoning_portuguese[n].append(response['reasoning'])\n",
    "\n",
    "        print('*'*50)\n",
    "        \n",
    "    if col == 2:\n",
    "        break"
   ]
  },
  {
   "cell_type": "code",
   "execution_count": 13,
   "id": "f9a5a790",
   "metadata": {
    "height": 47
   },
   "outputs": [],
   "source": [
    "for n in range(N_REPETITIONS):\n",
    "    df[f'responses_english_{n}'] = responses_english[n]\n",
    "    #df[f'reasoning_english_{n}'] = reasoning_english[n]\n",
    "\n",
    "    df[f'responses_portuguese_{n}'] = responses_portuguese[n]\n",
    "    #df[f'reasoning_portuguese_{n}'] = reasoning_portuguese[n]"
   ]
  },
  {
   "cell_type": "code",
   "execution_count": 14,
   "id": "5cfd2fae",
   "metadata": {
    "height": 30
   },
   "outputs": [],
   "source": [
    "if not os.path.exists('responses'):\n",
    "    os.makedirs('responses')\n",
    "df.to_csv(f\"responses/{MODEL}_Temperature{str(TEMPERATURE).replace('.', '_')}_{N_REPETITIONS}Repetitions.csv\", index=False)"
   ]
  }
 ],
 "metadata": {
  "kernelspec": {
   "display_name": "Python 3 (ipykernel)",
   "language": "python",
   "name": "python3"
  },
  "language_info": {
   "codemirror_mode": {
    "name": "ipython",
    "version": 3
   },
   "file_extension": ".py",
   "mimetype": "text/x-python",
   "name": "python",
   "nbconvert_exporter": "python",
   "pygments_lexer": "ipython3",
   "version": "3.9.16"
  }
 },
 "nbformat": 4,
 "nbformat_minor": 5
}
