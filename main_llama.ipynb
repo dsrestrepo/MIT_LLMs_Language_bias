{
 "cells": [
  {
   "cell_type": "markdown",
   "id": "f2e61d54",
   "metadata": {},
   "source": [
    "# Evaluate Classification"
   ]
  },
  {
   "cell_type": "markdown",
   "id": "6d2eb025",
   "metadata": {},
   "source": [
    "## Setup"
   ]
  },
  {
   "cell_type": "markdown",
   "id": "cda3ac55",
   "metadata": {},
   "source": [
    "#### Load the Model and libaries."
   ]
  },
  {
   "cell_type": "code",
   "execution_count": 1,
   "id": "6002a482",
   "metadata": {
    "height": 115
   },
   "outputs": [],
   "source": [
    "from src.Language_Evaluation import llm_language_evaluation\n",
    "from src.data_analysis import run_analysis\n",
    "import pandas as pd"
   ]
  },
  {
   "cell_type": "markdown",
   "id": "68e0a5ae",
   "metadata": {
    "height": 30
   },
   "source": [
    "#### Load the Constants"
   ]
  },
  {
   "cell_type": "code",
   "execution_count": 2,
   "id": "46aa9b57",
   "metadata": {
    "height": 47
   },
   "outputs": [],
   "source": [
    "PATH = 'data/Portuguese.csv'\n",
    "MODEL = \"Llama-2-13b\"\n",
    "TEMPERATURE = 0\n",
    "N_REPETITIONS = 1\n",
    "REASONING = False\n",
    "LANGUAGES = ['english', 'portuguese']"
   ]
  },
  {
   "cell_type": "markdown",
   "id": "c4b23df0",
   "metadata": {},
   "source": [
    "#### Run The Experiments:"
   ]
  },
  {
   "cell_type": "code",
   "execution_count": null,
   "id": "2d4bbaef",
   "metadata": {},
   "outputs": [
    {
     "name": "stdin",
     "output_type": "stream",
     "text": [
      "The model file 'Models/Llama-2-13b.gguf' already exists. Do you want to overwrite it? (yes/no):  No\n"
     ]
    },
    {
     "name": "stdout",
     "output_type": "stream",
     "text": [
      "Model installation aborted.\n"
     ]
    },
    {
     "name": "stderr",
     "output_type": "stream",
     "text": [
      "llama_model_loader: loaded meta data with 19 key-value pairs and 363 tensors from Models/Llama-2-13b.gguf (version GGUF V2 (latest))\n",
      "llama_model_loader: - tensor    0:                token_embd.weight q8_0     [  5120, 32000,     1,     1 ]\n",
      "llama_model_loader: - tensor    1:           blk.0.attn_norm.weight f32      [  5120,     1,     1,     1 ]\n",
      "llama_model_loader: - tensor    2:            blk.0.ffn_down.weight q8_0     [ 13824,  5120,     1,     1 ]\n",
      "llama_model_loader: - tensor    3:            blk.0.ffn_gate.weight q8_0     [  5120, 13824,     1,     1 ]\n",
      "llama_model_loader: - tensor    4:              blk.0.ffn_up.weight q8_0     [  5120, 13824,     1,     1 ]\n",
      "llama_model_loader: - tensor    5:            blk.0.ffn_norm.weight f32      [  5120,     1,     1,     1 ]\n",
      "llama_model_loader: - tensor    6:              blk.0.attn_k.weight q8_0     [  5120,  5120,     1,     1 ]\n",
      "llama_model_loader: - tensor    7:         blk.0.attn_output.weight q8_0     [  5120,  5120,     1,     1 ]\n",
      "llama_model_loader: - tensor    8:              blk.0.attn_q.weight q8_0     [  5120,  5120,     1,     1 ]\n",
      "llama_model_loader: - tensor    9:              blk.0.attn_v.weight q8_0     [  5120,  5120,     1,     1 ]\n",
      "llama_model_loader: - tensor   10:           blk.1.attn_norm.weight f32      [  5120,     1,     1,     1 ]\n",
      "llama_model_loader: - tensor   11:            blk.1.ffn_down.weight q8_0     [ 13824,  5120,     1,     1 ]\n",
      "llama_model_loader: - tensor   12:            blk.1.ffn_gate.weight q8_0     [  5120, 13824,     1,     1 ]\n",
      "llama_model_loader: - tensor   13:              blk.1.ffn_up.weight q8_0     [  5120, 13824,     1,     1 ]\n",
      "llama_model_loader: - tensor   14:            blk.1.ffn_norm.weight f32      [  5120,     1,     1,     1 ]\n",
      "llama_model_loader: - tensor   15:              blk.1.attn_k.weight q8_0     [  5120,  5120,     1,     1 ]\n",
      "llama_model_loader: - tensor   16:         blk.1.attn_output.weight q8_0     [  5120,  5120,     1,     1 ]\n",
      "llama_model_loader: - tensor   17:              blk.1.attn_q.weight q8_0     [  5120,  5120,     1,     1 ]\n",
      "llama_model_loader: - tensor   18:              blk.1.attn_v.weight q8_0     [  5120,  5120,     1,     1 ]\n",
      "llama_model_loader: - tensor   19:          blk.10.attn_norm.weight f32      [  5120,     1,     1,     1 ]\n",
      "llama_model_loader: - tensor   20:           blk.10.ffn_down.weight q8_0     [ 13824,  5120,     1,     1 ]\n",
      "llama_model_loader: - tensor   21:           blk.10.ffn_gate.weight q8_0     [  5120, 13824,     1,     1 ]\n",
      "llama_model_loader: - tensor   22:             blk.10.ffn_up.weight q8_0     [  5120, 13824,     1,     1 ]\n",
      "llama_model_loader: - tensor   23:           blk.10.ffn_norm.weight f32      [  5120,     1,     1,     1 ]\n",
      "llama_model_loader: - tensor   24:             blk.10.attn_k.weight q8_0     [  5120,  5120,     1,     1 ]\n",
      "llama_model_loader: - tensor   25:        blk.10.attn_output.weight q8_0     [  5120,  5120,     1,     1 ]\n",
      "llama_model_loader: - tensor   26:             blk.10.attn_q.weight q8_0     [  5120,  5120,     1,     1 ]\n",
      "llama_model_loader: - tensor   27:             blk.10.attn_v.weight q8_0     [  5120,  5120,     1,     1 ]\n",
      "llama_model_loader: - tensor   28:          blk.11.attn_norm.weight f32      [  5120,     1,     1,     1 ]\n",
      "llama_model_loader: - tensor   29:           blk.11.ffn_down.weight q8_0     [ 13824,  5120,     1,     1 ]\n",
      "llama_model_loader: - tensor   30:           blk.11.ffn_gate.weight q8_0     [  5120, 13824,     1,     1 ]\n",
      "llama_model_loader: - tensor   31:             blk.11.ffn_up.weight q8_0     [  5120, 13824,     1,     1 ]\n",
      "llama_model_loader: - tensor   32:           blk.11.ffn_norm.weight f32      [  5120,     1,     1,     1 ]\n",
      "llama_model_loader: - tensor   33:             blk.11.attn_k.weight q8_0     [  5120,  5120,     1,     1 ]\n",
      "llama_model_loader: - tensor   34:        blk.11.attn_output.weight q8_0     [  5120,  5120,     1,     1 ]\n",
      "llama_model_loader: - tensor   35:             blk.11.attn_q.weight q8_0     [  5120,  5120,     1,     1 ]\n",
      "llama_model_loader: - tensor   36:             blk.11.attn_v.weight q8_0     [  5120,  5120,     1,     1 ]\n",
      "llama_model_loader: - tensor   37:          blk.12.attn_norm.weight f32      [  5120,     1,     1,     1 ]\n",
      "llama_model_loader: - tensor   38:           blk.12.ffn_down.weight q8_0     [ 13824,  5120,     1,     1 ]\n",
      "llama_model_loader: - tensor   39:           blk.12.ffn_gate.weight q8_0     [  5120, 13824,     1,     1 ]\n",
      "llama_model_loader: - tensor   40:             blk.12.ffn_up.weight q8_0     [  5120, 13824,     1,     1 ]\n",
      "llama_model_loader: - tensor   41:           blk.12.ffn_norm.weight f32      [  5120,     1,     1,     1 ]\n",
      "llama_model_loader: - tensor   42:             blk.12.attn_k.weight q8_0     [  5120,  5120,     1,     1 ]\n",
      "llama_model_loader: - tensor   43:        blk.12.attn_output.weight q8_0     [  5120,  5120,     1,     1 ]\n",
      "llama_model_loader: - tensor   44:             blk.12.attn_q.weight q8_0     [  5120,  5120,     1,     1 ]\n",
      "llama_model_loader: - tensor   45:             blk.12.attn_v.weight q8_0     [  5120,  5120,     1,     1 ]\n",
      "llama_model_loader: - tensor   46:          blk.13.attn_norm.weight f32      [  5120,     1,     1,     1 ]\n",
      "llama_model_loader: - tensor   47:           blk.13.ffn_down.weight q8_0     [ 13824,  5120,     1,     1 ]\n",
      "llama_model_loader: - tensor   48:           blk.13.ffn_gate.weight q8_0     [  5120, 13824,     1,     1 ]\n",
      "llama_model_loader: - tensor   49:             blk.13.ffn_up.weight q8_0     [  5120, 13824,     1,     1 ]\n",
      "llama_model_loader: - tensor   50:           blk.13.ffn_norm.weight f32      [  5120,     1,     1,     1 ]\n",
      "llama_model_loader: - tensor   51:             blk.13.attn_k.weight q8_0     [  5120,  5120,     1,     1 ]\n",
      "llama_model_loader: - tensor   52:        blk.13.attn_output.weight q8_0     [  5120,  5120,     1,     1 ]\n",
      "llama_model_loader: - tensor   53:             blk.13.attn_q.weight q8_0     [  5120,  5120,     1,     1 ]\n",
      "llama_model_loader: - tensor   54:             blk.13.attn_v.weight q8_0     [  5120,  5120,     1,     1 ]\n",
      "llama_model_loader: - tensor   55:          blk.14.attn_norm.weight f32      [  5120,     1,     1,     1 ]\n",
      "llama_model_loader: - tensor   56:           blk.14.ffn_down.weight q8_0     [ 13824,  5120,     1,     1 ]\n",
      "llama_model_loader: - tensor   57:           blk.14.ffn_gate.weight q8_0     [  5120, 13824,     1,     1 ]\n",
      "llama_model_loader: - tensor   58:             blk.14.ffn_up.weight q8_0     [  5120, 13824,     1,     1 ]\n",
      "llama_model_loader: - tensor   59:           blk.14.ffn_norm.weight f32      [  5120,     1,     1,     1 ]\n",
      "llama_model_loader: - tensor   60:             blk.14.attn_k.weight q8_0     [  5120,  5120,     1,     1 ]\n",
      "llama_model_loader: - tensor   61:        blk.14.attn_output.weight q8_0     [  5120,  5120,     1,     1 ]\n",
      "llama_model_loader: - tensor   62:             blk.14.attn_q.weight q8_0     [  5120,  5120,     1,     1 ]\n",
      "llama_model_loader: - tensor   63:             blk.14.attn_v.weight q8_0     [  5120,  5120,     1,     1 ]\n",
      "llama_model_loader: - tensor   64:             blk.15.attn_k.weight q8_0     [  5120,  5120,     1,     1 ]\n",
      "llama_model_loader: - tensor   65:             blk.15.attn_q.weight q8_0     [  5120,  5120,     1,     1 ]\n",
      "llama_model_loader: - tensor   66:           blk.2.attn_norm.weight f32      [  5120,     1,     1,     1 ]\n",
      "llama_model_loader: - tensor   67:            blk.2.ffn_down.weight q8_0     [ 13824,  5120,     1,     1 ]\n",
      "llama_model_loader: - tensor   68:            blk.2.ffn_gate.weight q8_0     [  5120, 13824,     1,     1 ]\n",
      "llama_model_loader: - tensor   69:              blk.2.ffn_up.weight q8_0     [  5120, 13824,     1,     1 ]\n",
      "llama_model_loader: - tensor   70:            blk.2.ffn_norm.weight f32      [  5120,     1,     1,     1 ]\n",
      "llama_model_loader: - tensor   71:              blk.2.attn_k.weight q8_0     [  5120,  5120,     1,     1 ]\n",
      "llama_model_loader: - tensor   72:         blk.2.attn_output.weight q8_0     [  5120,  5120,     1,     1 ]\n",
      "llama_model_loader: - tensor   73:              blk.2.attn_q.weight q8_0     [  5120,  5120,     1,     1 ]\n",
      "llama_model_loader: - tensor   74:              blk.2.attn_v.weight q8_0     [  5120,  5120,     1,     1 ]\n",
      "llama_model_loader: - tensor   75:           blk.3.attn_norm.weight f32      [  5120,     1,     1,     1 ]\n",
      "llama_model_loader: - tensor   76:            blk.3.ffn_down.weight q8_0     [ 13824,  5120,     1,     1 ]\n",
      "llama_model_loader: - tensor   77:            blk.3.ffn_gate.weight q8_0     [  5120, 13824,     1,     1 ]\n",
      "llama_model_loader: - tensor   78:              blk.3.ffn_up.weight q8_0     [  5120, 13824,     1,     1 ]\n",
      "llama_model_loader: - tensor   79:            blk.3.ffn_norm.weight f32      [  5120,     1,     1,     1 ]\n",
      "llama_model_loader: - tensor   80:              blk.3.attn_k.weight q8_0     [  5120,  5120,     1,     1 ]\n",
      "llama_model_loader: - tensor   81:         blk.3.attn_output.weight q8_0     [  5120,  5120,     1,     1 ]\n",
      "llama_model_loader: - tensor   82:              blk.3.attn_q.weight q8_0     [  5120,  5120,     1,     1 ]\n",
      "llama_model_loader: - tensor   83:              blk.3.attn_v.weight q8_0     [  5120,  5120,     1,     1 ]\n",
      "llama_model_loader: - tensor   84:           blk.4.attn_norm.weight f32      [  5120,     1,     1,     1 ]\n",
      "llama_model_loader: - tensor   85:            blk.4.ffn_down.weight q8_0     [ 13824,  5120,     1,     1 ]\n",
      "llama_model_loader: - tensor   86:            blk.4.ffn_gate.weight q8_0     [  5120, 13824,     1,     1 ]\n",
      "llama_model_loader: - tensor   87:              blk.4.ffn_up.weight q8_0     [  5120, 13824,     1,     1 ]\n",
      "llama_model_loader: - tensor   88:            blk.4.ffn_norm.weight f32      [  5120,     1,     1,     1 ]\n",
      "llama_model_loader: - tensor   89:              blk.4.attn_k.weight q8_0     [  5120,  5120,     1,     1 ]\n",
      "llama_model_loader: - tensor   90:         blk.4.attn_output.weight q8_0     [  5120,  5120,     1,     1 ]\n",
      "llama_model_loader: - tensor   91:              blk.4.attn_q.weight q8_0     [  5120,  5120,     1,     1 ]\n",
      "llama_model_loader: - tensor   92:              blk.4.attn_v.weight q8_0     [  5120,  5120,     1,     1 ]\n",
      "llama_model_loader: - tensor   93:           blk.5.attn_norm.weight f32      [  5120,     1,     1,     1 ]\n",
      "llama_model_loader: - tensor   94:            blk.5.ffn_down.weight q8_0     [ 13824,  5120,     1,     1 ]\n",
      "llama_model_loader: - tensor   95:            blk.5.ffn_gate.weight q8_0     [  5120, 13824,     1,     1 ]\n",
      "llama_model_loader: - tensor   96:              blk.5.ffn_up.weight q8_0     [  5120, 13824,     1,     1 ]\n",
      "llama_model_loader: - tensor   97:            blk.5.ffn_norm.weight f32      [  5120,     1,     1,     1 ]\n",
      "llama_model_loader: - tensor   98:              blk.5.attn_k.weight q8_0     [  5120,  5120,     1,     1 ]\n",
      "llama_model_loader: - tensor   99:         blk.5.attn_output.weight q8_0     [  5120,  5120,     1,     1 ]\n",
      "llama_model_loader: - tensor  100:              blk.5.attn_q.weight q8_0     [  5120,  5120,     1,     1 ]\n",
      "llama_model_loader: - tensor  101:              blk.5.attn_v.weight q8_0     [  5120,  5120,     1,     1 ]\n",
      "llama_model_loader: - tensor  102:           blk.6.attn_norm.weight f32      [  5120,     1,     1,     1 ]\n",
      "llama_model_loader: - tensor  103:            blk.6.ffn_down.weight q8_0     [ 13824,  5120,     1,     1 ]\n",
      "llama_model_loader: - tensor  104:            blk.6.ffn_gate.weight q8_0     [  5120, 13824,     1,     1 ]\n",
      "llama_model_loader: - tensor  105:              blk.6.ffn_up.weight q8_0     [  5120, 13824,     1,     1 ]\n",
      "llama_model_loader: - tensor  106:            blk.6.ffn_norm.weight f32      [  5120,     1,     1,     1 ]\n",
      "llama_model_loader: - tensor  107:              blk.6.attn_k.weight q8_0     [  5120,  5120,     1,     1 ]\n",
      "llama_model_loader: - tensor  108:         blk.6.attn_output.weight q8_0     [  5120,  5120,     1,     1 ]\n",
      "llama_model_loader: - tensor  109:              blk.6.attn_q.weight q8_0     [  5120,  5120,     1,     1 ]\n",
      "llama_model_loader: - tensor  110:              blk.6.attn_v.weight q8_0     [  5120,  5120,     1,     1 ]\n",
      "llama_model_loader: - tensor  111:           blk.7.attn_norm.weight f32      [  5120,     1,     1,     1 ]\n",
      "llama_model_loader: - tensor  112:            blk.7.ffn_down.weight q8_0     [ 13824,  5120,     1,     1 ]\n",
      "llama_model_loader: - tensor  113:            blk.7.ffn_gate.weight q8_0     [  5120, 13824,     1,     1 ]\n",
      "llama_model_loader: - tensor  114:              blk.7.ffn_up.weight q8_0     [  5120, 13824,     1,     1 ]\n",
      "llama_model_loader: - tensor  115:            blk.7.ffn_norm.weight f32      [  5120,     1,     1,     1 ]\n",
      "llama_model_loader: - tensor  116:              blk.7.attn_k.weight q8_0     [  5120,  5120,     1,     1 ]\n",
      "llama_model_loader: - tensor  117:         blk.7.attn_output.weight q8_0     [  5120,  5120,     1,     1 ]\n",
      "llama_model_loader: - tensor  118:              blk.7.attn_q.weight q8_0     [  5120,  5120,     1,     1 ]\n",
      "llama_model_loader: - tensor  119:              blk.7.attn_v.weight q8_0     [  5120,  5120,     1,     1 ]\n",
      "llama_model_loader: - tensor  120:           blk.8.attn_norm.weight f32      [  5120,     1,     1,     1 ]\n",
      "llama_model_loader: - tensor  121:            blk.8.ffn_down.weight q8_0     [ 13824,  5120,     1,     1 ]\n",
      "llama_model_loader: - tensor  122:            blk.8.ffn_gate.weight q8_0     [  5120, 13824,     1,     1 ]\n",
      "llama_model_loader: - tensor  123:              blk.8.ffn_up.weight q8_0     [  5120, 13824,     1,     1 ]\n",
      "llama_model_loader: - tensor  124:            blk.8.ffn_norm.weight f32      [  5120,     1,     1,     1 ]\n",
      "llama_model_loader: - tensor  125:              blk.8.attn_k.weight q8_0     [  5120,  5120,     1,     1 ]\n",
      "llama_model_loader: - tensor  126:         blk.8.attn_output.weight q8_0     [  5120,  5120,     1,     1 ]\n",
      "llama_model_loader: - tensor  127:              blk.8.attn_q.weight q8_0     [  5120,  5120,     1,     1 ]\n",
      "llama_model_loader: - tensor  128:              blk.8.attn_v.weight q8_0     [  5120,  5120,     1,     1 ]\n",
      "llama_model_loader: - tensor  129:           blk.9.attn_norm.weight f32      [  5120,     1,     1,     1 ]\n",
      "llama_model_loader: - tensor  130:            blk.9.ffn_down.weight q8_0     [ 13824,  5120,     1,     1 ]\n",
      "llama_model_loader: - tensor  131:            blk.9.ffn_gate.weight q8_0     [  5120, 13824,     1,     1 ]\n",
      "llama_model_loader: - tensor  132:              blk.9.ffn_up.weight q8_0     [  5120, 13824,     1,     1 ]\n",
      "llama_model_loader: - tensor  133:            blk.9.ffn_norm.weight f32      [  5120,     1,     1,     1 ]\n",
      "llama_model_loader: - tensor  134:              blk.9.attn_k.weight q8_0     [  5120,  5120,     1,     1 ]\n",
      "llama_model_loader: - tensor  135:         blk.9.attn_output.weight q8_0     [  5120,  5120,     1,     1 ]\n",
      "llama_model_loader: - tensor  136:              blk.9.attn_q.weight q8_0     [  5120,  5120,     1,     1 ]\n",
      "llama_model_loader: - tensor  137:              blk.9.attn_v.weight q8_0     [  5120,  5120,     1,     1 ]\n",
      "llama_model_loader: - tensor  138:          blk.15.attn_norm.weight f32      [  5120,     1,     1,     1 ]\n",
      "llama_model_loader: - tensor  139:           blk.15.ffn_down.weight q8_0     [ 13824,  5120,     1,     1 ]\n",
      "llama_model_loader: - tensor  140:           blk.15.ffn_gate.weight q8_0     [  5120, 13824,     1,     1 ]\n",
      "llama_model_loader: - tensor  141:             blk.15.ffn_up.weight q8_0     [  5120, 13824,     1,     1 ]\n",
      "llama_model_loader: - tensor  142:           blk.15.ffn_norm.weight f32      [  5120,     1,     1,     1 ]\n",
      "llama_model_loader: - tensor  143:        blk.15.attn_output.weight q8_0     [  5120,  5120,     1,     1 ]\n",
      "llama_model_loader: - tensor  144:             blk.15.attn_v.weight q8_0     [  5120,  5120,     1,     1 ]\n",
      "llama_model_loader: - tensor  145:          blk.16.attn_norm.weight f32      [  5120,     1,     1,     1 ]\n",
      "llama_model_loader: - tensor  146:           blk.16.ffn_down.weight q8_0     [ 13824,  5120,     1,     1 ]\n",
      "llama_model_loader: - tensor  147:           blk.16.ffn_gate.weight q8_0     [  5120, 13824,     1,     1 ]\n",
      "llama_model_loader: - tensor  148:             blk.16.ffn_up.weight q8_0     [  5120, 13824,     1,     1 ]\n",
      "llama_model_loader: - tensor  149:           blk.16.ffn_norm.weight f32      [  5120,     1,     1,     1 ]\n",
      "llama_model_loader: - tensor  150:             blk.16.attn_k.weight q8_0     [  5120,  5120,     1,     1 ]\n",
      "llama_model_loader: - tensor  151:        blk.16.attn_output.weight q8_0     [  5120,  5120,     1,     1 ]\n",
      "llama_model_loader: - tensor  152:             blk.16.attn_q.weight q8_0     [  5120,  5120,     1,     1 ]\n",
      "llama_model_loader: - tensor  153:             blk.16.attn_v.weight q8_0     [  5120,  5120,     1,     1 ]\n",
      "llama_model_loader: - tensor  154:          blk.17.attn_norm.weight f32      [  5120,     1,     1,     1 ]\n",
      "llama_model_loader: - tensor  155:           blk.17.ffn_down.weight q8_0     [ 13824,  5120,     1,     1 ]\n",
      "llama_model_loader: - tensor  156:           blk.17.ffn_gate.weight q8_0     [  5120, 13824,     1,     1 ]\n",
      "llama_model_loader: - tensor  157:             blk.17.ffn_up.weight q8_0     [  5120, 13824,     1,     1 ]\n",
      "llama_model_loader: - tensor  158:           blk.17.ffn_norm.weight f32      [  5120,     1,     1,     1 ]\n",
      "llama_model_loader: - tensor  159:             blk.17.attn_k.weight q8_0     [  5120,  5120,     1,     1 ]\n",
      "llama_model_loader: - tensor  160:        blk.17.attn_output.weight q8_0     [  5120,  5120,     1,     1 ]\n",
      "llama_model_loader: - tensor  161:             blk.17.attn_q.weight q8_0     [  5120,  5120,     1,     1 ]\n",
      "llama_model_loader: - tensor  162:             blk.17.attn_v.weight q8_0     [  5120,  5120,     1,     1 ]\n",
      "llama_model_loader: - tensor  163:          blk.18.attn_norm.weight f32      [  5120,     1,     1,     1 ]\n",
      "llama_model_loader: - tensor  164:           blk.18.ffn_down.weight q8_0     [ 13824,  5120,     1,     1 ]\n",
      "llama_model_loader: - tensor  165:           blk.18.ffn_gate.weight q8_0     [  5120, 13824,     1,     1 ]\n",
      "llama_model_loader: - tensor  166:             blk.18.ffn_up.weight q8_0     [  5120, 13824,     1,     1 ]\n",
      "llama_model_loader: - tensor  167:           blk.18.ffn_norm.weight f32      [  5120,     1,     1,     1 ]\n",
      "llama_model_loader: - tensor  168:             blk.18.attn_k.weight q8_0     [  5120,  5120,     1,     1 ]\n",
      "llama_model_loader: - tensor  169:        blk.18.attn_output.weight q8_0     [  5120,  5120,     1,     1 ]\n",
      "llama_model_loader: - tensor  170:             blk.18.attn_q.weight q8_0     [  5120,  5120,     1,     1 ]\n",
      "llama_model_loader: - tensor  171:             blk.18.attn_v.weight q8_0     [  5120,  5120,     1,     1 ]\n",
      "llama_model_loader: - tensor  172:          blk.19.attn_norm.weight f32      [  5120,     1,     1,     1 ]\n",
      "llama_model_loader: - tensor  173:           blk.19.ffn_down.weight q8_0     [ 13824,  5120,     1,     1 ]\n",
      "llama_model_loader: - tensor  174:           blk.19.ffn_gate.weight q8_0     [  5120, 13824,     1,     1 ]\n",
      "llama_model_loader: - tensor  175:             blk.19.ffn_up.weight q8_0     [  5120, 13824,     1,     1 ]\n",
      "llama_model_loader: - tensor  176:           blk.19.ffn_norm.weight f32      [  5120,     1,     1,     1 ]\n",
      "llama_model_loader: - tensor  177:             blk.19.attn_k.weight q8_0     [  5120,  5120,     1,     1 ]\n",
      "llama_model_loader: - tensor  178:        blk.19.attn_output.weight q8_0     [  5120,  5120,     1,     1 ]\n",
      "llama_model_loader: - tensor  179:             blk.19.attn_q.weight q8_0     [  5120,  5120,     1,     1 ]\n",
      "llama_model_loader: - tensor  180:             blk.19.attn_v.weight q8_0     [  5120,  5120,     1,     1 ]\n",
      "llama_model_loader: - tensor  181:          blk.20.attn_norm.weight f32      [  5120,     1,     1,     1 ]\n",
      "llama_model_loader: - tensor  182:           blk.20.ffn_down.weight q8_0     [ 13824,  5120,     1,     1 ]\n",
      "llama_model_loader: - tensor  183:           blk.20.ffn_gate.weight q8_0     [  5120, 13824,     1,     1 ]\n",
      "llama_model_loader: - tensor  184:             blk.20.ffn_up.weight q8_0     [  5120, 13824,     1,     1 ]\n",
      "llama_model_loader: - tensor  185:           blk.20.ffn_norm.weight f32      [  5120,     1,     1,     1 ]\n",
      "llama_model_loader: - tensor  186:             blk.20.attn_k.weight q8_0     [  5120,  5120,     1,     1 ]\n",
      "llama_model_loader: - tensor  187:        blk.20.attn_output.weight q8_0     [  5120,  5120,     1,     1 ]\n",
      "llama_model_loader: - tensor  188:             blk.20.attn_q.weight q8_0     [  5120,  5120,     1,     1 ]\n",
      "llama_model_loader: - tensor  189:             blk.20.attn_v.weight q8_0     [  5120,  5120,     1,     1 ]\n",
      "llama_model_loader: - tensor  190:          blk.21.attn_norm.weight f32      [  5120,     1,     1,     1 ]\n",
      "llama_model_loader: - tensor  191:           blk.21.ffn_down.weight q8_0     [ 13824,  5120,     1,     1 ]\n",
      "llama_model_loader: - tensor  192:           blk.21.ffn_gate.weight q8_0     [  5120, 13824,     1,     1 ]\n",
      "llama_model_loader: - tensor  193:             blk.21.ffn_up.weight q8_0     [  5120, 13824,     1,     1 ]\n",
      "llama_model_loader: - tensor  194:           blk.21.ffn_norm.weight f32      [  5120,     1,     1,     1 ]\n",
      "llama_model_loader: - tensor  195:             blk.21.attn_k.weight q8_0     [  5120,  5120,     1,     1 ]\n",
      "llama_model_loader: - tensor  196:        blk.21.attn_output.weight q8_0     [  5120,  5120,     1,     1 ]\n",
      "llama_model_loader: - tensor  197:             blk.21.attn_q.weight q8_0     [  5120,  5120,     1,     1 ]\n",
      "llama_model_loader: - tensor  198:             blk.21.attn_v.weight q8_0     [  5120,  5120,     1,     1 ]\n",
      "llama_model_loader: - tensor  199:          blk.22.attn_norm.weight f32      [  5120,     1,     1,     1 ]\n",
      "llama_model_loader: - tensor  200:           blk.22.ffn_down.weight q8_0     [ 13824,  5120,     1,     1 ]\n",
      "llama_model_loader: - tensor  201:           blk.22.ffn_gate.weight q8_0     [  5120, 13824,     1,     1 ]\n",
      "llama_model_loader: - tensor  202:             blk.22.ffn_up.weight q8_0     [  5120, 13824,     1,     1 ]\n",
      "llama_model_loader: - tensor  203:           blk.22.ffn_norm.weight f32      [  5120,     1,     1,     1 ]\n",
      "llama_model_loader: - tensor  204:             blk.22.attn_k.weight q8_0     [  5120,  5120,     1,     1 ]\n",
      "llama_model_loader: - tensor  205:        blk.22.attn_output.weight q8_0     [  5120,  5120,     1,     1 ]\n",
      "llama_model_loader: - tensor  206:             blk.22.attn_q.weight q8_0     [  5120,  5120,     1,     1 ]\n",
      "llama_model_loader: - tensor  207:             blk.22.attn_v.weight q8_0     [  5120,  5120,     1,     1 ]\n",
      "llama_model_loader: - tensor  208:          blk.23.attn_norm.weight f32      [  5120,     1,     1,     1 ]\n",
      "llama_model_loader: - tensor  209:           blk.23.ffn_down.weight q8_0     [ 13824,  5120,     1,     1 ]\n",
      "llama_model_loader: - tensor  210:           blk.23.ffn_gate.weight q8_0     [  5120, 13824,     1,     1 ]\n",
      "llama_model_loader: - tensor  211:             blk.23.ffn_up.weight q8_0     [  5120, 13824,     1,     1 ]\n",
      "llama_model_loader: - tensor  212:           blk.23.ffn_norm.weight f32      [  5120,     1,     1,     1 ]\n",
      "llama_model_loader: - tensor  213:             blk.23.attn_k.weight q8_0     [  5120,  5120,     1,     1 ]\n",
      "llama_model_loader: - tensor  214:        blk.23.attn_output.weight q8_0     [  5120,  5120,     1,     1 ]\n",
      "llama_model_loader: - tensor  215:             blk.23.attn_q.weight q8_0     [  5120,  5120,     1,     1 ]\n",
      "llama_model_loader: - tensor  216:             blk.23.attn_v.weight q8_0     [  5120,  5120,     1,     1 ]\n",
      "llama_model_loader: - tensor  217:          blk.24.attn_norm.weight f32      [  5120,     1,     1,     1 ]\n",
      "llama_model_loader: - tensor  218:           blk.24.ffn_down.weight q8_0     [ 13824,  5120,     1,     1 ]\n",
      "llama_model_loader: - tensor  219:           blk.24.ffn_gate.weight q8_0     [  5120, 13824,     1,     1 ]\n",
      "llama_model_loader: - tensor  220:             blk.24.ffn_up.weight q8_0     [  5120, 13824,     1,     1 ]\n",
      "llama_model_loader: - tensor  221:           blk.24.ffn_norm.weight f32      [  5120,     1,     1,     1 ]\n",
      "llama_model_loader: - tensor  222:             blk.24.attn_k.weight q8_0     [  5120,  5120,     1,     1 ]\n",
      "llama_model_loader: - tensor  223:        blk.24.attn_output.weight q8_0     [  5120,  5120,     1,     1 ]\n",
      "llama_model_loader: - tensor  224:             blk.24.attn_q.weight q8_0     [  5120,  5120,     1,     1 ]\n",
      "llama_model_loader: - tensor  225:             blk.24.attn_v.weight q8_0     [  5120,  5120,     1,     1 ]\n",
      "llama_model_loader: - tensor  226:          blk.25.attn_norm.weight f32      [  5120,     1,     1,     1 ]\n",
      "llama_model_loader: - tensor  227:           blk.25.ffn_down.weight q8_0     [ 13824,  5120,     1,     1 ]\n",
      "llama_model_loader: - tensor  228:           blk.25.ffn_gate.weight q8_0     [  5120, 13824,     1,     1 ]\n",
      "llama_model_loader: - tensor  229:             blk.25.ffn_up.weight q8_0     [  5120, 13824,     1,     1 ]\n",
      "llama_model_loader: - tensor  230:           blk.25.ffn_norm.weight f32      [  5120,     1,     1,     1 ]\n",
      "llama_model_loader: - tensor  231:             blk.25.attn_k.weight q8_0     [  5120,  5120,     1,     1 ]\n",
      "llama_model_loader: - tensor  232:        blk.25.attn_output.weight q8_0     [  5120,  5120,     1,     1 ]\n",
      "llama_model_loader: - tensor  233:             blk.25.attn_q.weight q8_0     [  5120,  5120,     1,     1 ]\n",
      "llama_model_loader: - tensor  234:             blk.25.attn_v.weight q8_0     [  5120,  5120,     1,     1 ]\n",
      "llama_model_loader: - tensor  235:          blk.26.attn_norm.weight f32      [  5120,     1,     1,     1 ]\n",
      "llama_model_loader: - tensor  236:           blk.26.ffn_down.weight q8_0     [ 13824,  5120,     1,     1 ]\n",
      "llama_model_loader: - tensor  237:           blk.26.ffn_gate.weight q8_0     [  5120, 13824,     1,     1 ]\n",
      "llama_model_loader: - tensor  238:             blk.26.ffn_up.weight q8_0     [  5120, 13824,     1,     1 ]\n",
      "llama_model_loader: - tensor  239:           blk.26.ffn_norm.weight f32      [  5120,     1,     1,     1 ]\n",
      "llama_model_loader: - tensor  240:             blk.26.attn_k.weight q8_0     [  5120,  5120,     1,     1 ]\n",
      "llama_model_loader: - tensor  241:        blk.26.attn_output.weight q8_0     [  5120,  5120,     1,     1 ]\n",
      "llama_model_loader: - tensor  242:             blk.26.attn_q.weight q8_0     [  5120,  5120,     1,     1 ]\n",
      "llama_model_loader: - tensor  243:             blk.26.attn_v.weight q8_0     [  5120,  5120,     1,     1 ]\n",
      "llama_model_loader: - tensor  244:          blk.27.attn_norm.weight f32      [  5120,     1,     1,     1 ]\n",
      "llama_model_loader: - tensor  245:           blk.27.ffn_down.weight q8_0     [ 13824,  5120,     1,     1 ]\n",
      "llama_model_loader: - tensor  246:           blk.27.ffn_gate.weight q8_0     [  5120, 13824,     1,     1 ]\n",
      "llama_model_loader: - tensor  247:             blk.27.ffn_up.weight q8_0     [  5120, 13824,     1,     1 ]\n",
      "llama_model_loader: - tensor  248:           blk.27.ffn_norm.weight f32      [  5120,     1,     1,     1 ]\n",
      "llama_model_loader: - tensor  249:             blk.27.attn_k.weight q8_0     [  5120,  5120,     1,     1 ]\n",
      "llama_model_loader: - tensor  250:        blk.27.attn_output.weight q8_0     [  5120,  5120,     1,     1 ]\n",
      "llama_model_loader: - tensor  251:             blk.27.attn_q.weight q8_0     [  5120,  5120,     1,     1 ]\n",
      "llama_model_loader: - tensor  252:             blk.27.attn_v.weight q8_0     [  5120,  5120,     1,     1 ]\n",
      "llama_model_loader: - tensor  253:          blk.28.attn_norm.weight f32      [  5120,     1,     1,     1 ]\n",
      "llama_model_loader: - tensor  254:           blk.28.ffn_down.weight q8_0     [ 13824,  5120,     1,     1 ]\n",
      "llama_model_loader: - tensor  255:           blk.28.ffn_gate.weight q8_0     [  5120, 13824,     1,     1 ]\n",
      "llama_model_loader: - tensor  256:             blk.28.ffn_up.weight q8_0     [  5120, 13824,     1,     1 ]\n",
      "llama_model_loader: - tensor  257:           blk.28.ffn_norm.weight f32      [  5120,     1,     1,     1 ]\n",
      "llama_model_loader: - tensor  258:             blk.28.attn_k.weight q8_0     [  5120,  5120,     1,     1 ]\n",
      "llama_model_loader: - tensor  259:        blk.28.attn_output.weight q8_0     [  5120,  5120,     1,     1 ]\n",
      "llama_model_loader: - tensor  260:             blk.28.attn_q.weight q8_0     [  5120,  5120,     1,     1 ]\n",
      "llama_model_loader: - tensor  261:             blk.28.attn_v.weight q8_0     [  5120,  5120,     1,     1 ]\n",
      "llama_model_loader: - tensor  262:          blk.29.attn_norm.weight f32      [  5120,     1,     1,     1 ]\n",
      "llama_model_loader: - tensor  263:           blk.29.ffn_down.weight q8_0     [ 13824,  5120,     1,     1 ]\n",
      "llama_model_loader: - tensor  264:           blk.29.ffn_gate.weight q8_0     [  5120, 13824,     1,     1 ]\n",
      "llama_model_loader: - tensor  265:             blk.29.ffn_up.weight q8_0     [  5120, 13824,     1,     1 ]\n",
      "llama_model_loader: - tensor  266:           blk.29.ffn_norm.weight f32      [  5120,     1,     1,     1 ]\n",
      "llama_model_loader: - tensor  267:             blk.29.attn_k.weight q8_0     [  5120,  5120,     1,     1 ]\n",
      "llama_model_loader: - tensor  268:        blk.29.attn_output.weight q8_0     [  5120,  5120,     1,     1 ]\n",
      "llama_model_loader: - tensor  269:             blk.29.attn_q.weight q8_0     [  5120,  5120,     1,     1 ]\n",
      "llama_model_loader: - tensor  270:             blk.29.attn_v.weight q8_0     [  5120,  5120,     1,     1 ]\n",
      "llama_model_loader: - tensor  271:           blk.30.ffn_gate.weight q8_0     [  5120, 13824,     1,     1 ]\n",
      "llama_model_loader: - tensor  272:             blk.30.ffn_up.weight q8_0     [  5120, 13824,     1,     1 ]\n",
      "llama_model_loader: - tensor  273:             blk.30.attn_k.weight q8_0     [  5120,  5120,     1,     1 ]\n",
      "llama_model_loader: - tensor  274:        blk.30.attn_output.weight q8_0     [  5120,  5120,     1,     1 ]\n",
      "llama_model_loader: - tensor  275:             blk.30.attn_q.weight q8_0     [  5120,  5120,     1,     1 ]\n",
      "llama_model_loader: - tensor  276:             blk.30.attn_v.weight q8_0     [  5120,  5120,     1,     1 ]\n",
      "llama_model_loader: - tensor  277:                    output.weight q8_0     [  5120, 32000,     1,     1 ]\n",
      "llama_model_loader: - tensor  278:          blk.30.attn_norm.weight f32      [  5120,     1,     1,     1 ]\n",
      "llama_model_loader: - tensor  279:           blk.30.ffn_down.weight q8_0     [ 13824,  5120,     1,     1 ]\n",
      "llama_model_loader: - tensor  280:           blk.30.ffn_norm.weight f32      [  5120,     1,     1,     1 ]\n",
      "llama_model_loader: - tensor  281:          blk.31.attn_norm.weight f32      [  5120,     1,     1,     1 ]\n",
      "llama_model_loader: - tensor  282:           blk.31.ffn_down.weight q8_0     [ 13824,  5120,     1,     1 ]\n",
      "llama_model_loader: - tensor  283:           blk.31.ffn_gate.weight q8_0     [  5120, 13824,     1,     1 ]\n",
      "llama_model_loader: - tensor  284:             blk.31.ffn_up.weight q8_0     [  5120, 13824,     1,     1 ]\n",
      "llama_model_loader: - tensor  285:           blk.31.ffn_norm.weight f32      [  5120,     1,     1,     1 ]\n",
      "llama_model_loader: - tensor  286:             blk.31.attn_k.weight q8_0     [  5120,  5120,     1,     1 ]\n",
      "llama_model_loader: - tensor  287:        blk.31.attn_output.weight q8_0     [  5120,  5120,     1,     1 ]\n",
      "llama_model_loader: - tensor  288:             blk.31.attn_q.weight q8_0     [  5120,  5120,     1,     1 ]\n",
      "llama_model_loader: - tensor  289:             blk.31.attn_v.weight q8_0     [  5120,  5120,     1,     1 ]\n",
      "llama_model_loader: - tensor  290:          blk.32.attn_norm.weight f32      [  5120,     1,     1,     1 ]\n",
      "llama_model_loader: - tensor  291:           blk.32.ffn_down.weight q8_0     [ 13824,  5120,     1,     1 ]\n",
      "llama_model_loader: - tensor  292:           blk.32.ffn_gate.weight q8_0     [  5120, 13824,     1,     1 ]\n",
      "llama_model_loader: - tensor  293:             blk.32.ffn_up.weight q8_0     [  5120, 13824,     1,     1 ]\n",
      "llama_model_loader: - tensor  294:           blk.32.ffn_norm.weight f32      [  5120,     1,     1,     1 ]\n",
      "llama_model_loader: - tensor  295:             blk.32.attn_k.weight q8_0     [  5120,  5120,     1,     1 ]\n",
      "llama_model_loader: - tensor  296:        blk.32.attn_output.weight q8_0     [  5120,  5120,     1,     1 ]\n",
      "llama_model_loader: - tensor  297:             blk.32.attn_q.weight q8_0     [  5120,  5120,     1,     1 ]\n",
      "llama_model_loader: - tensor  298:             blk.32.attn_v.weight q8_0     [  5120,  5120,     1,     1 ]\n",
      "llama_model_loader: - tensor  299:          blk.33.attn_norm.weight f32      [  5120,     1,     1,     1 ]\n",
      "llama_model_loader: - tensor  300:           blk.33.ffn_down.weight q8_0     [ 13824,  5120,     1,     1 ]\n",
      "llama_model_loader: - tensor  301:           blk.33.ffn_gate.weight q8_0     [  5120, 13824,     1,     1 ]\n",
      "llama_model_loader: - tensor  302:             blk.33.ffn_up.weight q8_0     [  5120, 13824,     1,     1 ]\n",
      "llama_model_loader: - tensor  303:           blk.33.ffn_norm.weight f32      [  5120,     1,     1,     1 ]\n",
      "llama_model_loader: - tensor  304:             blk.33.attn_k.weight q8_0     [  5120,  5120,     1,     1 ]\n",
      "llama_model_loader: - tensor  305:        blk.33.attn_output.weight q8_0     [  5120,  5120,     1,     1 ]\n",
      "llama_model_loader: - tensor  306:             blk.33.attn_q.weight q8_0     [  5120,  5120,     1,     1 ]\n",
      "llama_model_loader: - tensor  307:             blk.33.attn_v.weight q8_0     [  5120,  5120,     1,     1 ]\n",
      "llama_model_loader: - tensor  308:          blk.34.attn_norm.weight f32      [  5120,     1,     1,     1 ]\n",
      "llama_model_loader: - tensor  309:           blk.34.ffn_down.weight q8_0     [ 13824,  5120,     1,     1 ]\n",
      "llama_model_loader: - tensor  310:           blk.34.ffn_gate.weight q8_0     [  5120, 13824,     1,     1 ]\n",
      "llama_model_loader: - tensor  311:             blk.34.ffn_up.weight q8_0     [  5120, 13824,     1,     1 ]\n",
      "llama_model_loader: - tensor  312:           blk.34.ffn_norm.weight f32      [  5120,     1,     1,     1 ]\n",
      "llama_model_loader: - tensor  313:             blk.34.attn_k.weight q8_0     [  5120,  5120,     1,     1 ]\n",
      "llama_model_loader: - tensor  314:        blk.34.attn_output.weight q8_0     [  5120,  5120,     1,     1 ]\n",
      "llama_model_loader: - tensor  315:             blk.34.attn_q.weight q8_0     [  5120,  5120,     1,     1 ]\n",
      "llama_model_loader: - tensor  316:             blk.34.attn_v.weight q8_0     [  5120,  5120,     1,     1 ]\n",
      "llama_model_loader: - tensor  317:          blk.35.attn_norm.weight f32      [  5120,     1,     1,     1 ]\n",
      "llama_model_loader: - tensor  318:           blk.35.ffn_down.weight q8_0     [ 13824,  5120,     1,     1 ]\n",
      "llama_model_loader: - tensor  319:           blk.35.ffn_gate.weight q8_0     [  5120, 13824,     1,     1 ]\n",
      "llama_model_loader: - tensor  320:             blk.35.ffn_up.weight q8_0     [  5120, 13824,     1,     1 ]\n",
      "llama_model_loader: - tensor  321:           blk.35.ffn_norm.weight f32      [  5120,     1,     1,     1 ]\n",
      "llama_model_loader: - tensor  322:             blk.35.attn_k.weight q8_0     [  5120,  5120,     1,     1 ]\n",
      "llama_model_loader: - tensor  323:        blk.35.attn_output.weight q8_0     [  5120,  5120,     1,     1 ]\n",
      "llama_model_loader: - tensor  324:             blk.35.attn_q.weight q8_0     [  5120,  5120,     1,     1 ]\n",
      "llama_model_loader: - tensor  325:             blk.35.attn_v.weight q8_0     [  5120,  5120,     1,     1 ]\n",
      "llama_model_loader: - tensor  326:          blk.36.attn_norm.weight f32      [  5120,     1,     1,     1 ]\n",
      "llama_model_loader: - tensor  327:           blk.36.ffn_down.weight q8_0     [ 13824,  5120,     1,     1 ]\n",
      "llama_model_loader: - tensor  328:           blk.36.ffn_gate.weight q8_0     [  5120, 13824,     1,     1 ]\n",
      "llama_model_loader: - tensor  329:             blk.36.ffn_up.weight q8_0     [  5120, 13824,     1,     1 ]\n",
      "llama_model_loader: - tensor  330:           blk.36.ffn_norm.weight f32      [  5120,     1,     1,     1 ]\n",
      "llama_model_loader: - tensor  331:             blk.36.attn_k.weight q8_0     [  5120,  5120,     1,     1 ]\n",
      "llama_model_loader: - tensor  332:        blk.36.attn_output.weight q8_0     [  5120,  5120,     1,     1 ]\n",
      "llama_model_loader: - tensor  333:             blk.36.attn_q.weight q8_0     [  5120,  5120,     1,     1 ]\n",
      "llama_model_loader: - tensor  334:             blk.36.attn_v.weight q8_0     [  5120,  5120,     1,     1 ]\n",
      "llama_model_loader: - tensor  335:          blk.37.attn_norm.weight f32      [  5120,     1,     1,     1 ]\n",
      "llama_model_loader: - tensor  336:           blk.37.ffn_down.weight q8_0     [ 13824,  5120,     1,     1 ]\n",
      "llama_model_loader: - tensor  337:           blk.37.ffn_gate.weight q8_0     [  5120, 13824,     1,     1 ]\n",
      "llama_model_loader: - tensor  338:             blk.37.ffn_up.weight q8_0     [  5120, 13824,     1,     1 ]\n",
      "llama_model_loader: - tensor  339:           blk.37.ffn_norm.weight f32      [  5120,     1,     1,     1 ]\n",
      "llama_model_loader: - tensor  340:             blk.37.attn_k.weight q8_0     [  5120,  5120,     1,     1 ]\n",
      "llama_model_loader: - tensor  341:        blk.37.attn_output.weight q8_0     [  5120,  5120,     1,     1 ]\n",
      "llama_model_loader: - tensor  342:             blk.37.attn_q.weight q8_0     [  5120,  5120,     1,     1 ]\n",
      "llama_model_loader: - tensor  343:             blk.37.attn_v.weight q8_0     [  5120,  5120,     1,     1 ]\n",
      "llama_model_loader: - tensor  344:          blk.38.attn_norm.weight f32      [  5120,     1,     1,     1 ]\n",
      "llama_model_loader: - tensor  345:           blk.38.ffn_down.weight q8_0     [ 13824,  5120,     1,     1 ]\n",
      "llama_model_loader: - tensor  346:           blk.38.ffn_gate.weight q8_0     [  5120, 13824,     1,     1 ]\n",
      "llama_model_loader: - tensor  347:             blk.38.ffn_up.weight q8_0     [  5120, 13824,     1,     1 ]\n",
      "llama_model_loader: - tensor  348:           blk.38.ffn_norm.weight f32      [  5120,     1,     1,     1 ]\n",
      "llama_model_loader: - tensor  349:             blk.38.attn_k.weight q8_0     [  5120,  5120,     1,     1 ]\n",
      "llama_model_loader: - tensor  350:        blk.38.attn_output.weight q8_0     [  5120,  5120,     1,     1 ]\n",
      "llama_model_loader: - tensor  351:             blk.38.attn_q.weight q8_0     [  5120,  5120,     1,     1 ]\n",
      "llama_model_loader: - tensor  352:             blk.38.attn_v.weight q8_0     [  5120,  5120,     1,     1 ]\n",
      "llama_model_loader: - tensor  353:          blk.39.attn_norm.weight f32      [  5120,     1,     1,     1 ]\n",
      "llama_model_loader: - tensor  354:           blk.39.ffn_down.weight q8_0     [ 13824,  5120,     1,     1 ]\n",
      "llama_model_loader: - tensor  355:           blk.39.ffn_gate.weight q8_0     [  5120, 13824,     1,     1 ]\n",
      "llama_model_loader: - tensor  356:             blk.39.ffn_up.weight q8_0     [  5120, 13824,     1,     1 ]\n",
      "llama_model_loader: - tensor  357:           blk.39.ffn_norm.weight f32      [  5120,     1,     1,     1 ]\n",
      "llama_model_loader: - tensor  358:             blk.39.attn_k.weight q8_0     [  5120,  5120,     1,     1 ]\n",
      "llama_model_loader: - tensor  359:        blk.39.attn_output.weight q8_0     [  5120,  5120,     1,     1 ]\n",
      "llama_model_loader: - tensor  360:             blk.39.attn_q.weight q8_0     [  5120,  5120,     1,     1 ]\n",
      "llama_model_loader: - tensor  361:             blk.39.attn_v.weight q8_0     [  5120,  5120,     1,     1 ]\n",
      "llama_model_loader: - tensor  362:               output_norm.weight f32      [  5120,     1,     1,     1 ]\n",
      "llama_model_loader: - kv   0:                       general.architecture str     \n",
      "llama_model_loader: - kv   1:                               general.name str     \n",
      "llama_model_loader: - kv   2:                       llama.context_length u32     \n",
      "llama_model_loader: - kv   3:                     llama.embedding_length u32     \n",
      "llama_model_loader: - kv   4:                          llama.block_count u32     \n",
      "llama_model_loader: - kv   5:                  llama.feed_forward_length u32     \n",
      "llama_model_loader: - kv   6:                 llama.rope.dimension_count u32     \n",
      "llama_model_loader: - kv   7:                 llama.attention.head_count u32     \n",
      "llama_model_loader: - kv   8:              llama.attention.head_count_kv u32     \n",
      "llama_model_loader: - kv   9:     llama.attention.layer_norm_rms_epsilon f32     \n",
      "llama_model_loader: - kv  10:                          general.file_type u32     \n",
      "llama_model_loader: - kv  11:                       tokenizer.ggml.model str     \n",
      "llama_model_loader: - kv  12:                      tokenizer.ggml.tokens arr     \n",
      "llama_model_loader: - kv  13:                      tokenizer.ggml.scores arr     \n",
      "llama_model_loader: - kv  14:                  tokenizer.ggml.token_type arr     \n",
      "llama_model_loader: - kv  15:                tokenizer.ggml.bos_token_id u32     \n",
      "llama_model_loader: - kv  16:                tokenizer.ggml.eos_token_id u32     \n",
      "llama_model_loader: - kv  17:            tokenizer.ggml.unknown_token_id u32     \n",
      "llama_model_loader: - kv  18:               general.quantization_version u32     \n",
      "llama_model_loader: - type  f32:   81 tensors\n",
      "llama_model_loader: - type q8_0:  282 tensors\n",
      "llm_load_print_meta: format           = GGUF V2 (latest)\n",
      "llm_load_print_meta: arch             = llama\n",
      "llm_load_print_meta: vocab type       = SPM\n",
      "llm_load_print_meta: n_vocab          = 32000\n",
      "llm_load_print_meta: n_merges         = 0\n",
      "llm_load_print_meta: n_ctx_train      = 4096\n",
      "llm_load_print_meta: n_embd           = 5120\n",
      "llm_load_print_meta: n_head           = 40\n",
      "llm_load_print_meta: n_head_kv        = 40\n",
      "llm_load_print_meta: n_layer          = 40\n",
      "llm_load_print_meta: n_rot            = 128\n",
      "llm_load_print_meta: n_gqa            = 1\n",
      "llm_load_print_meta: f_norm_eps       = 0.0e+00\n",
      "llm_load_print_meta: f_norm_rms_eps   = 1.0e-05\n",
      "llm_load_print_meta: n_ff             = 13824\n",
      "llm_load_print_meta: freq_base_train  = 10000.0\n",
      "llm_load_print_meta: freq_scale_train = 1\n",
      "llm_load_print_meta: model type       = 13B\n",
      "llm_load_print_meta: model ftype      = mostly Q8_0\n",
      "llm_load_print_meta: model params     = 13.02 B\n",
      "llm_load_print_meta: model size       = 12.88 GiB (8.50 BPW) \n",
      "llm_load_print_meta: general.name   = LLaMA v2\n",
      "llm_load_print_meta: BOS token = 1 '<s>'\n",
      "llm_load_print_meta: EOS token = 2 '</s>'\n",
      "llm_load_print_meta: UNK token = 0 '<unk>'\n",
      "llm_load_print_meta: LF token  = 13 '<0x0A>'\n",
      "llm_load_tensors: ggml ctx size =    0.12 MB\n",
      "llm_load_tensors: mem required  = 13189.98 MB\n",
      "....................................................................................................\n",
      "llama_new_context_with_model: n_ctx      = 512\n",
      "llama_new_context_with_model: freq_base  = 10000.0\n",
      "llama_new_context_with_model: freq_scale = 1\n",
      "llama_new_context_with_model: kv self size  =  400.00 MB\n",
      "llama_new_context_with_model: compute buffer total size = 80.88 MB\n",
      "AVX = 1 | AVX2 = 1 | AVX512 = 0 | AVX512_VBMI = 0 | AVX512_VNNI = 0 | FMA = 1 | NEON = 0 | ARM_FMA = 0 | F16C = 1 | FP16_VA = 0 | WASM_SIMD = 0 | BLAS = 0 | SSE3 = 1 | SSSE3 = 1 | VSX = 0 | \n"
     ]
    },
    {
     "name": "stdout",
     "output_type": "stream",
     "text": [
      "**************************************************\n",
      "Question 1: \n",
      "Language: english\n",
      "Question: \n",
      "In which ocular region are caliciform cells physiologically found?\n",
      "a) Cornea.\n",
      "b) Corneoscleral limbus.\n",
      "c) Gray line.\n",
      "d) Semilunar fold.\n",
      "Test #0: \n"
     ]
    },
    {
     "name": "stderr",
     "output_type": "stream",
     "text": [
      "\n",
      "llama_print_timings:        load time =  3194.14 ms\n",
      "llama_print_timings:      sample time =    16.07 ms /    28 runs   (    0.57 ms per token,  1742.27 tokens per second)\n",
      "llama_print_timings: prompt eval time =  3194.06 ms /   200 tokens (   15.97 ms per token,    62.62 tokens per second)\n",
      "llama_print_timings:        eval time =  3250.24 ms /    27 runs   (  120.38 ms per token,     8.31 tokens per second)\n",
      "llama_print_timings:       total time =  6527.94 ms\n",
      "Llama.generate: prefix-match hit\n"
     ]
    },
    {
     "name": "stdout",
     "output_type": "stream",
     "text": [
      "{'response': 'b'}\n",
      "Test #1: \n"
     ]
    },
    {
     "name": "stderr",
     "output_type": "stream",
     "text": [
      "\n",
      "llama_print_timings:        load time =  3194.14 ms\n",
      "llama_print_timings:      sample time =    16.85 ms /    28 runs   (    0.60 ms per token,  1661.72 tokens per second)\n",
      "llama_print_timings: prompt eval time =     0.00 ms /     1 tokens (    0.00 ms per token,      inf tokens per second)\n",
      "llama_print_timings:        eval time =  3445.02 ms /    28 runs   (  123.04 ms per token,     8.13 tokens per second)\n",
      "llama_print_timings:       total time =  3529.73 ms\n",
      "Llama.generate: prefix-match hit\n"
     ]
    },
    {
     "name": "stdout",
     "output_type": "stream",
     "text": [
      "{'response': 'b'}\n",
      "Test #2: \n",
      "{'response': 'b'}\n",
      "Test #3: \n"
     ]
    },
    {
     "name": "stderr",
     "output_type": "stream",
     "text": [
      "\n",
      "llama_print_timings:        load time =  3194.14 ms\n",
      "llama_print_timings:      sample time =    15.63 ms /    28 runs   (    0.56 ms per token,  1791.31 tokens per second)\n",
      "llama_print_timings: prompt eval time =     0.00 ms /     1 tokens (    0.00 ms per token,      inf tokens per second)\n",
      "llama_print_timings:        eval time =  3411.77 ms /    28 runs   (  121.85 ms per token,     8.21 tokens per second)\n",
      "llama_print_timings:       total time =  3492.91 ms\n",
      "Llama.generate: prefix-match hit\n",
      "\n",
      "llama_print_timings:        load time =  3194.14 ms\n",
      "llama_print_timings:      sample time =    15.75 ms /    28 runs   (    0.56 ms per token,  1777.66 tokens per second)\n",
      "llama_print_timings: prompt eval time =     0.00 ms /     1 tokens (    0.00 ms per token,      inf tokens per second)\n",
      "llama_print_timings:        eval time =  3395.72 ms /    28 runs   (  121.28 ms per token,     8.25 tokens per second)\n",
      "llama_print_timings:       total time =  3475.71 ms\n",
      "Llama.generate: prefix-match hit\n"
     ]
    },
    {
     "name": "stdout",
     "output_type": "stream",
     "text": [
      "{'response': 'b'}\n",
      "Test #4: \n"
     ]
    },
    {
     "name": "stderr",
     "output_type": "stream",
     "text": [
      "\n",
      "llama_print_timings:        load time =  3194.14 ms\n",
      "llama_print_timings:      sample time =    15.74 ms /    28 runs   (    0.56 ms per token,  1778.57 tokens per second)\n",
      "llama_print_timings: prompt eval time =     0.00 ms /     1 tokens (    0.00 ms per token,      inf tokens per second)\n",
      "llama_print_timings:        eval time =  3447.37 ms /    28 runs   (  123.12 ms per token,     8.12 tokens per second)\n",
      "llama_print_timings:       total time =  3527.85 ms\n",
      "Llama.generate: prefix-match hit\n"
     ]
    },
    {
     "name": "stdout",
     "output_type": "stream",
     "text": [
      "{'response': 'b'}\n",
      "Test #5: \n"
     ]
    },
    {
     "name": "stderr",
     "output_type": "stream",
     "text": [
      "\n",
      "llama_print_timings:        load time =  3194.14 ms\n",
      "llama_print_timings:      sample time =    15.61 ms /    28 runs   (    0.56 ms per token,  1793.38 tokens per second)\n",
      "llama_print_timings: prompt eval time =     0.00 ms /     1 tokens (    0.00 ms per token,      inf tokens per second)\n",
      "llama_print_timings:        eval time =  3349.15 ms /    28 runs   (  119.61 ms per token,     8.36 tokens per second)\n",
      "llama_print_timings:       total time =  3428.87 ms\n",
      "Llama.generate: prefix-match hit\n"
     ]
    },
    {
     "name": "stdout",
     "output_type": "stream",
     "text": [
      "{'response': 'b'}\n",
      "Test #6: \n"
     ]
    },
    {
     "name": "stderr",
     "output_type": "stream",
     "text": [
      "\n",
      "llama_print_timings:        load time =  3194.14 ms\n",
      "llama_print_timings:      sample time =    15.78 ms /    28 runs   (    0.56 ms per token,  1774.17 tokens per second)\n",
      "llama_print_timings: prompt eval time =     0.00 ms /     1 tokens (    0.00 ms per token,      inf tokens per second)\n",
      "llama_print_timings:        eval time =  3401.10 ms /    28 runs   (  121.47 ms per token,     8.23 tokens per second)\n",
      "llama_print_timings:       total time =  3480.47 ms\n",
      "Llama.generate: prefix-match hit\n"
     ]
    },
    {
     "name": "stdout",
     "output_type": "stream",
     "text": [
      "{'response': 'b'}\n",
      "Test #7: \n"
     ]
    },
    {
     "name": "stderr",
     "output_type": "stream",
     "text": [
      "\n",
      "llama_print_timings:        load time =  3194.14 ms\n",
      "llama_print_timings:      sample time =    15.68 ms /    28 runs   (    0.56 ms per token,  1785.94 tokens per second)\n",
      "llama_print_timings: prompt eval time =     0.00 ms /     1 tokens (    0.00 ms per token,      inf tokens per second)\n",
      "llama_print_timings:        eval time =  3365.16 ms /    28 runs   (  120.18 ms per token,     8.32 tokens per second)\n",
      "llama_print_timings:       total time =  3444.29 ms\n",
      "Llama.generate: prefix-match hit\n"
     ]
    },
    {
     "name": "stdout",
     "output_type": "stream",
     "text": [
      "{'response': 'b'}\n",
      "Test #8: \n"
     ]
    },
    {
     "name": "stderr",
     "output_type": "stream",
     "text": [
      "\n",
      "llama_print_timings:        load time =  3194.14 ms\n",
      "llama_print_timings:      sample time =    15.57 ms /    28 runs   (    0.56 ms per token,  1797.87 tokens per second)\n",
      "llama_print_timings: prompt eval time =     0.00 ms /     1 tokens (    0.00 ms per token,      inf tokens per second)\n",
      "llama_print_timings:        eval time =  3388.26 ms /    28 runs   (  121.01 ms per token,     8.26 tokens per second)\n",
      "llama_print_timings:       total time =  3466.69 ms\n",
      "Llama.generate: prefix-match hit\n"
     ]
    },
    {
     "name": "stdout",
     "output_type": "stream",
     "text": [
      "{'response': 'b'}\n",
      "Test #9: \n"
     ]
    },
    {
     "name": "stderr",
     "output_type": "stream",
     "text": [
      "\n",
      "llama_print_timings:        load time =  3194.14 ms\n",
      "llama_print_timings:      sample time =    15.64 ms /    28 runs   (    0.56 ms per token,  1790.62 tokens per second)\n",
      "llama_print_timings: prompt eval time =     0.00 ms /     1 tokens (    0.00 ms per token,      inf tokens per second)\n",
      "llama_print_timings:        eval time =  3385.31 ms /    28 runs   (  120.90 ms per token,     8.27 tokens per second)\n",
      "llama_print_timings:       total time =  3465.03 ms\n",
      "Llama.generate: prefix-match hit\n"
     ]
    },
    {
     "name": "stdout",
     "output_type": "stream",
     "text": [
      "{'response': 'b'}\n",
      "Language: portuguese\n",
      "Question: \n",
      "Em qual região ocular células caliciformes são fisiologicamente encontradas?\n",
      "a)Córnea.\n",
      "b)Limbo corneoescleral.\n",
      "c)Linha cinzenta.\n",
      "d)Prega semilunar.\n",
      "Test #0: \n"
     ]
    },
    {
     "name": "stderr",
     "output_type": "stream",
     "text": [
      "\n",
      "llama_print_timings:        load time =  3194.14 ms\n",
      "llama_print_timings:      sample time =    22.36 ms /    40 runs   (    0.56 ms per token,  1789.15 tokens per second)\n",
      "llama_print_timings: prompt eval time =  1507.59 ms /    63 tokens (   23.93 ms per token,    41.79 tokens per second)\n",
      "llama_print_timings:        eval time =  4734.24 ms /    39 runs   (  121.39 ms per token,     8.24 tokens per second)\n",
      "llama_print_timings:       total time =  6357.09 ms\n",
      "Llama.generate: prefix-match hit\n"
     ]
    },
    {
     "name": "stdout",
     "output_type": "stream",
     "text": [
      "{'response': 'A'}\n",
      "Test #1: \n"
     ]
    },
    {
     "name": "stderr",
     "output_type": "stream",
     "text": [
      "\n",
      "llama_print_timings:        load time =  3194.14 ms\n",
      "llama_print_timings:      sample time =    22.10 ms /    40 runs   (    0.55 ms per token,  1810.28 tokens per second)\n",
      "llama_print_timings: prompt eval time =     0.00 ms /     1 tokens (    0.00 ms per token,      inf tokens per second)\n",
      "llama_print_timings:        eval time =  4858.49 ms /    40 runs   (  121.46 ms per token,     8.23 tokens per second)\n",
      "llama_print_timings:       total time =  4972.63 ms\n",
      "Llama.generate: prefix-match hit\n"
     ]
    },
    {
     "name": "stdout",
     "output_type": "stream",
     "text": [
      "{'response': 'A'}\n",
      "Test #2: \n"
     ]
    },
    {
     "name": "stderr",
     "output_type": "stream",
     "text": [
      "\n",
      "llama_print_timings:        load time =  3194.14 ms\n",
      "llama_print_timings:      sample time =    22.15 ms /    40 runs   (    0.55 ms per token,  1805.87 tokens per second)\n",
      "llama_print_timings: prompt eval time =     0.00 ms /     1 tokens (    0.00 ms per token,      inf tokens per second)\n",
      "llama_print_timings:        eval time =  4779.18 ms /    40 runs   (  119.48 ms per token,     8.37 tokens per second)\n",
      "llama_print_timings:       total time =  4893.04 ms\n",
      "Llama.generate: prefix-match hit\n"
     ]
    },
    {
     "name": "stdout",
     "output_type": "stream",
     "text": [
      "{'response': 'A'}\n",
      "Test #3: \n"
     ]
    },
    {
     "name": "stderr",
     "output_type": "stream",
     "text": [
      "\n",
      "llama_print_timings:        load time =  3194.14 ms\n",
      "llama_print_timings:      sample time =    22.21 ms /    40 runs   (    0.56 ms per token,  1800.91 tokens per second)\n",
      "llama_print_timings: prompt eval time =     0.00 ms /     1 tokens (    0.00 ms per token,      inf tokens per second)\n",
      "llama_print_timings:        eval time =  4872.77 ms /    40 runs   (  121.82 ms per token,     8.21 tokens per second)\n",
      "llama_print_timings:       total time =  4987.38 ms\n",
      "Llama.generate: prefix-match hit\n"
     ]
    },
    {
     "name": "stdout",
     "output_type": "stream",
     "text": [
      "{'response': 'A'}\n",
      "Test #4: \n"
     ]
    },
    {
     "name": "stderr",
     "output_type": "stream",
     "text": [
      "\n",
      "llama_print_timings:        load time =  3194.14 ms\n",
      "llama_print_timings:      sample time =    22.23 ms /    40 runs   (    0.56 ms per token,  1799.29 tokens per second)\n",
      "llama_print_timings: prompt eval time =     0.00 ms /     1 tokens (    0.00 ms per token,      inf tokens per second)\n",
      "llama_print_timings:        eval time =  4779.10 ms /    40 runs   (  119.48 ms per token,     8.37 tokens per second)\n",
      "llama_print_timings:       total time =  4893.12 ms\n",
      "Llama.generate: prefix-match hit\n"
     ]
    },
    {
     "name": "stdout",
     "output_type": "stream",
     "text": [
      "{'response': 'A'}\n",
      "Test #5: \n"
     ]
    },
    {
     "name": "stderr",
     "output_type": "stream",
     "text": [
      "\n",
      "llama_print_timings:        load time =  3194.14 ms\n",
      "llama_print_timings:      sample time =    22.30 ms /    40 runs   (    0.56 ms per token,  1794.04 tokens per second)\n",
      "llama_print_timings: prompt eval time =     0.00 ms /     1 tokens (    0.00 ms per token,      inf tokens per second)\n",
      "llama_print_timings:        eval time =  4800.06 ms /    40 runs   (  120.00 ms per token,     8.33 tokens per second)\n",
      "llama_print_timings:       total time =  4914.48 ms\n",
      "Llama.generate: prefix-match hit\n"
     ]
    },
    {
     "name": "stdout",
     "output_type": "stream",
     "text": [
      "{'response': 'A'}\n",
      "Test #6: \n"
     ]
    },
    {
     "name": "stderr",
     "output_type": "stream",
     "text": [
      "\n",
      "llama_print_timings:        load time =  3194.14 ms\n",
      "llama_print_timings:      sample time =    22.13 ms /    40 runs   (    0.55 ms per token,  1807.75 tokens per second)\n",
      "llama_print_timings: prompt eval time =     0.00 ms /     1 tokens (    0.00 ms per token,      inf tokens per second)\n",
      "llama_print_timings:        eval time =  4972.66 ms /    40 runs   (  124.32 ms per token,     8.04 tokens per second)\n",
      "llama_print_timings:       total time =  5087.31 ms\n",
      "Llama.generate: prefix-match hit\n"
     ]
    },
    {
     "name": "stdout",
     "output_type": "stream",
     "text": [
      "{'response': 'A'}\n",
      "Test #7: \n"
     ]
    },
    {
     "name": "stderr",
     "output_type": "stream",
     "text": [
      "\n",
      "llama_print_timings:        load time =  3194.14 ms\n",
      "llama_print_timings:      sample time =    22.25 ms /    40 runs   (    0.56 ms per token,  1797.91 tokens per second)\n",
      "llama_print_timings: prompt eval time =     0.00 ms /     1 tokens (    0.00 ms per token,      inf tokens per second)\n",
      "llama_print_timings:        eval time =  4809.51 ms /    40 runs   (  120.24 ms per token,     8.32 tokens per second)\n",
      "llama_print_timings:       total time =  4924.78 ms\n",
      "Llama.generate: prefix-match hit\n"
     ]
    },
    {
     "name": "stdout",
     "output_type": "stream",
     "text": [
      "{'response': 'A'}\n",
      "Test #8: \n",
      "{'response': 'A'}\n",
      "Test #9: \n"
     ]
    },
    {
     "name": "stderr",
     "output_type": "stream",
     "text": [
      "\n",
      "llama_print_timings:        load time =  3194.14 ms\n",
      "llama_print_timings:      sample time =    22.17 ms /    40 runs   (    0.55 ms per token,  1804.08 tokens per second)\n",
      "llama_print_timings: prompt eval time =     0.00 ms /     1 tokens (    0.00 ms per token,      inf tokens per second)\n",
      "llama_print_timings:        eval time =  4804.47 ms /    40 runs   (  120.11 ms per token,     8.33 tokens per second)\n",
      "llama_print_timings:       total time =  4921.58 ms\n",
      "Llama.generate: prefix-match hit\n",
      "\n",
      "llama_print_timings:        load time =  3194.14 ms\n",
      "llama_print_timings:      sample time =    22.02 ms /    40 runs   (    0.55 ms per token,  1816.28 tokens per second)\n",
      "llama_print_timings: prompt eval time =     0.00 ms /     1 tokens (    0.00 ms per token,      inf tokens per second)\n",
      "llama_print_timings:        eval time =  4845.61 ms /    40 runs   (  121.14 ms per token,     8.25 tokens per second)\n",
      "llama_print_timings:       total time =  4962.01 ms\n",
      "Llama.generate: prefix-match hit\n"
     ]
    },
    {
     "name": "stdout",
     "output_type": "stream",
     "text": [
      "{'response': 'A'}\n",
      "**************************************************\n",
      "**************************************************\n",
      "Question 2: \n",
      "Language: english\n",
      "Question: \n",
      "Mark the alternative that best correlates the histological characteristics with the respective ocular tissues:\n",
      "\n",
      "I. Monolayer of cells tightly joined together by junctional complexes.\n",
      "II. Parallel and regular striations observed under optical microscopy, perpendicular to the epithelium.\n",
      "III. It contains bipolar cells, amacrine cells, horizontal cells and Muller cells.\n",
      "IV. It contains magnocellular, parvocellular and coniocellular cells.\n",
      "\n",
      "A. Photoreceptors.\n",
      "B. Retinal pigmented epithelium.\n",
      "C. Retinal ganglionic layer.\n",
      "D. Inner nuclear layer.\n",
      "Test #0: \n",
      "{'response': 'B'}\n",
      "Test #1: \n"
     ]
    },
    {
     "name": "stderr",
     "output_type": "stream",
     "text": [
      "\n",
      "llama_print_timings:        load time =  3194.14 ms\n",
      "llama_print_timings:      sample time =    60.04 ms /   107 runs   (    0.56 ms per token,  1782.12 tokens per second)\n",
      "llama_print_timings: prompt eval time =  2380.19 ms /   158 tokens (   15.06 ms per token,    66.38 tokens per second)\n",
      "llama_print_timings:        eval time = 12941.31 ms /   106 runs   (  122.09 ms per token,     8.19 tokens per second)\n",
      "llama_print_timings:       total time = 15644.30 ms\n",
      "Llama.generate: prefix-match hit\n",
      "\n",
      "llama_print_timings:        load time =  3194.14 ms\n",
      "llama_print_timings:      sample time =    59.87 ms /   107 runs   (    0.56 ms per token,  1787.18 tokens per second)\n",
      "llama_print_timings: prompt eval time =     0.00 ms /     1 tokens (    0.00 ms per token,      inf tokens per second)\n",
      "llama_print_timings:        eval time = 13083.00 ms /   107 runs   (  122.27 ms per token,     8.18 tokens per second)\n",
      "llama_print_timings:       total time = 13396.58 ms\n",
      "Llama.generate: prefix-match hit\n"
     ]
    },
    {
     "name": "stdout",
     "output_type": "stream",
     "text": [
      "{'response': 'B'}\n",
      "Test #2: \n"
     ]
    },
    {
     "name": "stderr",
     "output_type": "stream",
     "text": [
      "\n",
      "llama_print_timings:        load time =  3194.14 ms\n",
      "llama_print_timings:      sample time =    59.93 ms /   107 runs   (    0.56 ms per token,  1785.39 tokens per second)\n",
      "llama_print_timings: prompt eval time =     0.00 ms /     1 tokens (    0.00 ms per token,      inf tokens per second)\n",
      "llama_print_timings:        eval time = 13124.74 ms /   107 runs   (  122.66 ms per token,     8.15 tokens per second)\n",
      "llama_print_timings:       total time = 13483.75 ms\n",
      "Llama.generate: prefix-match hit\n"
     ]
    },
    {
     "name": "stdout",
     "output_type": "stream",
     "text": [
      "{'response': 'B'}\n",
      "Test #3: \n"
     ]
    },
    {
     "name": "stderr",
     "output_type": "stream",
     "text": [
      "\n",
      "llama_print_timings:        load time =  3194.14 ms\n",
      "llama_print_timings:      sample time =    65.42 ms /   107 runs   (    0.61 ms per token,  1635.51 tokens per second)\n",
      "llama_print_timings: prompt eval time =     0.00 ms /     1 tokens (    0.00 ms per token,      inf tokens per second)\n",
      "llama_print_timings:        eval time = 13021.38 ms /   107 runs   (  121.70 ms per token,     8.22 tokens per second)\n",
      "llama_print_timings:       total time = 13342.68 ms\n",
      "Llama.generate: prefix-match hit\n"
     ]
    },
    {
     "name": "stdout",
     "output_type": "stream",
     "text": [
      "{'response': 'B'}\n",
      "Test #4: \n"
     ]
    },
    {
     "name": "stderr",
     "output_type": "stream",
     "text": [
      "\n",
      "llama_print_timings:        load time =  3194.14 ms\n",
      "llama_print_timings:      sample time =    65.27 ms /   107 runs   (    0.61 ms per token,  1639.32 tokens per second)\n",
      "llama_print_timings: prompt eval time =     0.00 ms /     1 tokens (    0.00 ms per token,      inf tokens per second)\n",
      "llama_print_timings:        eval time = 12993.23 ms /   107 runs   (  121.43 ms per token,     8.24 tokens per second)\n",
      "llama_print_timings:       total time = 13312.95 ms\n",
      "Llama.generate: prefix-match hit\n"
     ]
    },
    {
     "name": "stdout",
     "output_type": "stream",
     "text": [
      "{'response': 'B'}\n",
      "Test #5: \n"
     ]
    },
    {
     "name": "stderr",
     "output_type": "stream",
     "text": [
      "\n",
      "llama_print_timings:        load time =  3194.14 ms\n",
      "llama_print_timings:      sample time =    61.41 ms /   107 runs   (    0.57 ms per token,  1742.39 tokens per second)\n",
      "llama_print_timings: prompt eval time =     0.00 ms /     1 tokens (    0.00 ms per token,      inf tokens per second)\n",
      "llama_print_timings:        eval time = 13163.33 ms /   107 runs   (  123.02 ms per token,     8.13 tokens per second)\n",
      "llama_print_timings:       total time = 13473.27 ms\n",
      "Llama.generate: prefix-match hit\n"
     ]
    },
    {
     "name": "stdout",
     "output_type": "stream",
     "text": [
      "{'response': 'B'}\n",
      "Test #6: \n"
     ]
    },
    {
     "name": "stderr",
     "output_type": "stream",
     "text": [
      "\n",
      "llama_print_timings:        load time =  3194.14 ms\n",
      "llama_print_timings:      sample time =    59.78 ms /   107 runs   (    0.56 ms per token,  1789.87 tokens per second)\n",
      "llama_print_timings: prompt eval time =     0.00 ms /     1 tokens (    0.00 ms per token,      inf tokens per second)\n",
      "llama_print_timings:        eval time = 13135.30 ms /   107 runs   (  122.76 ms per token,     8.15 tokens per second)\n",
      "llama_print_timings:       total time = 13444.36 ms\n",
      "Llama.generate: prefix-match hit\n"
     ]
    },
    {
     "name": "stdout",
     "output_type": "stream",
     "text": [
      "{'response': 'B'}\n",
      "Test #7: \n"
     ]
    },
    {
     "name": "stderr",
     "output_type": "stream",
     "text": [
      "\n",
      "llama_print_timings:        load time =  3194.14 ms\n",
      "llama_print_timings:      sample time =    60.11 ms /   107 runs   (    0.56 ms per token,  1780.04 tokens per second)\n",
      "llama_print_timings: prompt eval time =     0.00 ms /     1 tokens (    0.00 ms per token,      inf tokens per second)\n",
      "llama_print_timings:        eval time = 13051.12 ms /   107 runs   (  121.97 ms per token,     8.20 tokens per second)\n",
      "llama_print_timings:       total time = 13363.50 ms\n",
      "Llama.generate: prefix-match hit\n"
     ]
    },
    {
     "name": "stdout",
     "output_type": "stream",
     "text": [
      "{'response': 'B'}\n",
      "Test #8: \n"
     ]
    },
    {
     "name": "stderr",
     "output_type": "stream",
     "text": [
      "\n",
      "llama_print_timings:        load time =  3194.14 ms\n",
      "llama_print_timings:      sample time =    59.67 ms /   107 runs   (    0.56 ms per token,  1793.32 tokens per second)\n",
      "llama_print_timings: prompt eval time =     0.00 ms /     1 tokens (    0.00 ms per token,      inf tokens per second)\n",
      "llama_print_timings:        eval time = 13042.83 ms /   107 runs   (  121.90 ms per token,     8.20 tokens per second)\n",
      "llama_print_timings:       total time = 13354.00 ms\n",
      "Llama.generate: prefix-match hit\n"
     ]
    },
    {
     "name": "stdout",
     "output_type": "stream",
     "text": [
      "{'response': 'B'}\n",
      "Test #9: \n"
     ]
    },
    {
     "name": "stderr",
     "output_type": "stream",
     "text": [
      "\n",
      "llama_print_timings:        load time =  3194.14 ms\n",
      "llama_print_timings:      sample time =    60.31 ms /   107 runs   (    0.56 ms per token,  1774.28 tokens per second)\n",
      "llama_print_timings: prompt eval time =     0.00 ms /     1 tokens (    0.00 ms per token,      inf tokens per second)\n",
      "llama_print_timings:        eval time = 13075.03 ms /   107 runs   (  122.20 ms per token,     8.18 tokens per second)\n",
      "llama_print_timings:       total time = 13387.68 ms\n",
      "Llama.generate: prefix-match hit\n"
     ]
    },
    {
     "name": "stdout",
     "output_type": "stream",
     "text": [
      "{'response': 'B'}\n",
      "Language: portuguese\n",
      "Question: \n",
      "Assinale a alternativa que melhor correlaciona as características histológicas com os respectivos tecidos oculares:\n",
      "\n",
      "I. Monocamada de células fortemente unidas por complexos juncionais.\n",
      "II. Estriações paralelas e regulares observadas à microscopia óptica, perpendiculares ao epitélio.\n",
      "III. Contém células bipolares, células amácrinas, células horizontais e células de Muller.\n",
      "IV. Contém células magnocelulares, parvocelulares e coniocelulares.\n",
      "\n",
      "A. Fotorreceptores.\n",
      "B. Epitélio pigmentado da pigmentado da retina.\n",
      "C. Camada ganglionar retiniana.\n",
      "D. Camada nuclear interna.\n",
      "Test #0: \n"
     ]
    },
    {
     "name": "stderr",
     "output_type": "stream",
     "text": [
      "\n",
      "llama_print_timings:        load time =  3194.14 ms\n",
      "llama_print_timings:      sample time =    50.59 ms /    90 runs   (    0.56 ms per token,  1779.08 tokens per second)\n",
      "llama_print_timings: prompt eval time =  2997.56 ms /   196 tokens (   15.29 ms per token,    65.39 tokens per second)\n",
      "llama_print_timings:        eval time = 10977.01 ms /    89 runs   (  123.34 ms per token,     8.11 tokens per second)\n",
      "llama_print_timings:       total time = 14235.07 ms\n",
      "Llama.generate: prefix-match hit\n"
     ]
    },
    {
     "name": "stdout",
     "output_type": "stream",
     "text": [
      "{'response': 'B'}\n",
      "Test #1: \n"
     ]
    },
    {
     "name": "stderr",
     "output_type": "stream",
     "text": [
      "\n",
      "llama_print_timings:        load time =  3194.14 ms\n",
      "llama_print_timings:      sample time =    51.12 ms /    90 runs   (    0.57 ms per token,  1760.46 tokens per second)\n",
      "llama_print_timings: prompt eval time =     0.00 ms /     1 tokens (    0.00 ms per token,      inf tokens per second)\n",
      "llama_print_timings:        eval time = 11035.43 ms /    90 runs   (  122.62 ms per token,     8.16 tokens per second)\n",
      "llama_print_timings:       total time = 11297.26 ms\n",
      "Llama.generate: prefix-match hit\n"
     ]
    },
    {
     "name": "stdout",
     "output_type": "stream",
     "text": [
      "{'response': 'B'}\n",
      "Test #2: \n"
     ]
    },
    {
     "name": "stderr",
     "output_type": "stream",
     "text": [
      "\n",
      "llama_print_timings:        load time =  3194.14 ms\n",
      "llama_print_timings:      sample time =    50.67 ms /    90 runs   (    0.56 ms per token,  1776.23 tokens per second)\n",
      "llama_print_timings: prompt eval time =     0.00 ms /     1 tokens (    0.00 ms per token,      inf tokens per second)\n",
      "llama_print_timings:        eval time = 11060.28 ms /    90 runs   (  122.89 ms per token,     8.14 tokens per second)\n",
      "llama_print_timings:       total time = 11327.13 ms\n",
      "Llama.generate: prefix-match hit\n"
     ]
    },
    {
     "name": "stdout",
     "output_type": "stream",
     "text": [
      "{'response': 'B'}\n",
      "Test #3: \n"
     ]
    },
    {
     "name": "stderr",
     "output_type": "stream",
     "text": [
      "\n",
      "llama_print_timings:        load time =  3194.14 ms\n",
      "llama_print_timings:      sample time =    50.73 ms /    90 runs   (    0.56 ms per token,  1774.06 tokens per second)\n",
      "llama_print_timings: prompt eval time =     0.00 ms /     1 tokens (    0.00 ms per token,      inf tokens per second)\n",
      "llama_print_timings:        eval time = 11034.21 ms /    90 runs   (  122.60 ms per token,     8.16 tokens per second)\n",
      "llama_print_timings:       total time = 11298.61 ms\n",
      "Llama.generate: prefix-match hit\n"
     ]
    },
    {
     "name": "stdout",
     "output_type": "stream",
     "text": [
      "{'response': 'B'}\n",
      "Test #4: \n"
     ]
    },
    {
     "name": "stderr",
     "output_type": "stream",
     "text": [
      "\n",
      "llama_print_timings:        load time =  3194.14 ms\n",
      "llama_print_timings:      sample time =    50.42 ms /    90 runs   (    0.56 ms per token,  1784.94 tokens per second)\n",
      "llama_print_timings: prompt eval time =     0.00 ms /     1 tokens (    0.00 ms per token,      inf tokens per second)\n",
      "llama_print_timings:        eval time = 11019.45 ms /    90 runs   (  122.44 ms per token,     8.17 tokens per second)\n",
      "llama_print_timings:       total time = 11279.61 ms\n",
      "Llama.generate: prefix-match hit\n"
     ]
    },
    {
     "name": "stdout",
     "output_type": "stream",
     "text": [
      "{'response': 'B'}\n",
      "Test #5: \n"
     ]
    },
    {
     "name": "stderr",
     "output_type": "stream",
     "text": [
      "\n",
      "llama_print_timings:        load time =  3194.14 ms\n",
      "llama_print_timings:      sample time =    50.61 ms /    90 runs   (    0.56 ms per token,  1778.41 tokens per second)\n",
      "llama_print_timings: prompt eval time =     0.00 ms /     1 tokens (    0.00 ms per token,      inf tokens per second)\n",
      "llama_print_timings:        eval time = 10885.68 ms /    90 runs   (  120.95 ms per token,     8.27 tokens per second)\n",
      "llama_print_timings:       total time = 11144.81 ms\n",
      "Llama.generate: prefix-match hit\n"
     ]
    },
    {
     "name": "stdout",
     "output_type": "stream",
     "text": [
      "{'response': 'B'}\n",
      "Test #6: \n"
     ]
    },
    {
     "name": "stderr",
     "output_type": "stream",
     "text": [
      "\n",
      "llama_print_timings:        load time =  3194.14 ms\n",
      "llama_print_timings:      sample time =    50.34 ms /    90 runs   (    0.56 ms per token,  1787.91 tokens per second)\n",
      "llama_print_timings: prompt eval time =     0.00 ms /     1 tokens (    0.00 ms per token,      inf tokens per second)\n",
      "llama_print_timings:        eval time = 11021.98 ms /    90 runs   (  122.47 ms per token,     8.17 tokens per second)\n",
      "llama_print_timings:       total time = 11279.18 ms\n",
      "Llama.generate: prefix-match hit\n"
     ]
    },
    {
     "name": "stdout",
     "output_type": "stream",
     "text": [
      "{'response': 'B'}\n",
      "Test #7: \n"
     ]
    },
    {
     "name": "stderr",
     "output_type": "stream",
     "text": [
      "\n",
      "llama_print_timings:        load time =  3194.14 ms\n",
      "llama_print_timings:      sample time =    50.78 ms /    90 runs   (    0.56 ms per token,  1772.28 tokens per second)\n",
      "llama_print_timings: prompt eval time =     0.00 ms /     1 tokens (    0.00 ms per token,      inf tokens per second)\n",
      "llama_print_timings:        eval time = 11013.37 ms /    90 runs   (  122.37 ms per token,     8.17 tokens per second)\n",
      "llama_print_timings:       total time = 11275.94 ms\n",
      "Llama.generate: prefix-match hit\n"
     ]
    },
    {
     "name": "stdout",
     "output_type": "stream",
     "text": [
      "{'response': 'B'}\n",
      "Test #8: \n"
     ]
    },
    {
     "name": "stderr",
     "output_type": "stream",
     "text": [
      "\n",
      "llama_print_timings:        load time =  3194.14 ms\n",
      "llama_print_timings:      sample time =    50.20 ms /    90 runs   (    0.56 ms per token,  1793.01 tokens per second)\n",
      "llama_print_timings: prompt eval time =     0.00 ms /     1 tokens (    0.00 ms per token,      inf tokens per second)\n",
      "llama_print_timings:        eval time = 11012.68 ms /    90 runs   (  122.36 ms per token,     8.17 tokens per second)\n",
      "llama_print_timings:       total time = 11270.87 ms\n",
      "Llama.generate: prefix-match hit\n"
     ]
    },
    {
     "name": "stdout",
     "output_type": "stream",
     "text": [
      "{'response': 'B'}\n",
      "Test #9: \n"
     ]
    },
    {
     "name": "stderr",
     "output_type": "stream",
     "text": [
      "\n",
      "llama_print_timings:        load time =  3194.14 ms\n",
      "llama_print_timings:      sample time =    50.72 ms /    90 runs   (    0.56 ms per token,  1774.55 tokens per second)\n",
      "llama_print_timings: prompt eval time =     0.00 ms /     1 tokens (    0.00 ms per token,      inf tokens per second)\n",
      "llama_print_timings:        eval time = 11020.11 ms /    90 runs   (  122.45 ms per token,     8.17 tokens per second)\n",
      "llama_print_timings:       total time = 11279.68 ms\n",
      "Llama.generate: prefix-match hit\n"
     ]
    },
    {
     "name": "stdout",
     "output_type": "stream",
     "text": [
      "{'response': 'B'}\n",
      "**************************************************\n",
      "**************************************************\n",
      "Question 3: \n",
      "Language: english\n",
      "Question: \n",
      "Order the three cell names found in the corneal epithelium, starting with the most superficial, followed by the intermediate and the deep.\n",
      "a) Flat, wing, basal.\n",
      "b) wing, basal, flat.\n",
      "c) Basal, flat, wing.\n",
      "d) wing, flat, basal.\n",
      "Test #0: \n"
     ]
    },
    {
     "name": "stderr",
     "output_type": "stream",
     "text": [
      "\n",
      "llama_print_timings:        load time =  3194.14 ms\n",
      "llama_print_timings:      sample time =    13.57 ms /    25 runs   (    0.54 ms per token,  1841.76 tokens per second)\n",
      "llama_print_timings: prompt eval time =  1544.00 ms /    79 tokens (   19.54 ms per token,    51.17 tokens per second)\n",
      "llama_print_timings:        eval time =  2920.80 ms /    24 runs   (  121.70 ms per token,     8.22 tokens per second)\n",
      "llama_print_timings:       total time =  4536.88 ms\n",
      "Llama.generate: prefix-match hit\n"
     ]
    },
    {
     "name": "stdout",
     "output_type": "stream",
     "text": [
      "{'response': 'c'}\n",
      "Test #1: \n"
     ]
    },
    {
     "name": "stderr",
     "output_type": "stream",
     "text": [
      "\n",
      "llama_print_timings:        load time =  3194.14 ms\n",
      "llama_print_timings:      sample time =    13.31 ms /    25 runs   (    0.53 ms per token,  1877.72 tokens per second)\n",
      "llama_print_timings: prompt eval time =     0.00 ms /     1 tokens (    0.00 ms per token,      inf tokens per second)\n",
      "llama_print_timings:        eval time =  3073.21 ms /    25 runs   (  122.93 ms per token,     8.13 tokens per second)\n",
      "llama_print_timings:       total time =  3143.95 ms\n",
      "Llama.generate: prefix-match hit\n"
     ]
    },
    {
     "name": "stdout",
     "output_type": "stream",
     "text": [
      "{'response': 'c'}\n",
      "Test #2: \n"
     ]
    },
    {
     "name": "stderr",
     "output_type": "stream",
     "text": [
      "\n",
      "llama_print_timings:        load time =  3194.14 ms\n",
      "llama_print_timings:      sample time =    13.25 ms /    25 runs   (    0.53 ms per token,  1887.22 tokens per second)\n",
      "llama_print_timings: prompt eval time =     0.00 ms /     1 tokens (    0.00 ms per token,      inf tokens per second)\n",
      "llama_print_timings:        eval time =  3034.78 ms /    25 runs   (  121.39 ms per token,     8.24 tokens per second)\n",
      "llama_print_timings:       total time =  3104.56 ms\n",
      "Llama.generate: prefix-match hit\n"
     ]
    },
    {
     "name": "stdout",
     "output_type": "stream",
     "text": [
      "{'response': 'c'}\n",
      "Test #3: \n"
     ]
    },
    {
     "name": "stderr",
     "output_type": "stream",
     "text": [
      "\n",
      "llama_print_timings:        load time =  3194.14 ms\n",
      "llama_print_timings:      sample time =    13.08 ms /    25 runs   (    0.52 ms per token,  1910.73 tokens per second)\n",
      "llama_print_timings: prompt eval time =     0.00 ms /     1 tokens (    0.00 ms per token,      inf tokens per second)\n",
      "llama_print_timings:        eval time =  3020.38 ms /    25 runs   (  120.82 ms per token,     8.28 tokens per second)\n",
      "llama_print_timings:       total time =  3089.24 ms\n",
      "Llama.generate: prefix-match hit\n"
     ]
    },
    {
     "name": "stdout",
     "output_type": "stream",
     "text": [
      "{'response': 'c'}\n",
      "Test #4: \n"
     ]
    },
    {
     "name": "stderr",
     "output_type": "stream",
     "text": [
      "\n",
      "llama_print_timings:        load time =  3194.14 ms\n",
      "llama_print_timings:      sample time =    13.11 ms /    25 runs   (    0.52 ms per token,  1907.52 tokens per second)\n",
      "llama_print_timings: prompt eval time =     0.00 ms /     1 tokens (    0.00 ms per token,      inf tokens per second)\n",
      "llama_print_timings:        eval time =  2987.87 ms /    25 runs   (  119.51 ms per token,     8.37 tokens per second)\n",
      "llama_print_timings:       total time =  3057.66 ms\n",
      "Llama.generate: prefix-match hit\n"
     ]
    },
    {
     "name": "stdout",
     "output_type": "stream",
     "text": [
      "{'response': 'c'}\n",
      "Test #5: \n"
     ]
    },
    {
     "name": "stderr",
     "output_type": "stream",
     "text": [
      "\n",
      "llama_print_timings:        load time =  3194.14 ms\n",
      "llama_print_timings:      sample time =    13.14 ms /    25 runs   (    0.53 ms per token,  1902.15 tokens per second)\n",
      "llama_print_timings: prompt eval time =     0.00 ms /     1 tokens (    0.00 ms per token,      inf tokens per second)\n",
      "llama_print_timings:        eval time =  3030.84 ms /    25 runs   (  121.23 ms per token,     8.25 tokens per second)\n",
      "llama_print_timings:       total time =  3101.54 ms\n",
      "Llama.generate: prefix-match hit\n"
     ]
    },
    {
     "name": "stdout",
     "output_type": "stream",
     "text": [
      "{'response': 'c'}\n",
      "Test #6: \n"
     ]
    },
    {
     "name": "stderr",
     "output_type": "stream",
     "text": [
      "\n",
      "llama_print_timings:        load time =  3194.14 ms\n",
      "llama_print_timings:      sample time =    12.96 ms /    25 runs   (    0.52 ms per token,  1928.57 tokens per second)\n",
      "llama_print_timings: prompt eval time =     0.00 ms /     1 tokens (    0.00 ms per token,      inf tokens per second)\n",
      "llama_print_timings:        eval time =  3013.33 ms /    25 runs   (  120.53 ms per token,     8.30 tokens per second)\n",
      "llama_print_timings:       total time =  3083.32 ms\n",
      "Llama.generate: prefix-match hit\n"
     ]
    },
    {
     "name": "stdout",
     "output_type": "stream",
     "text": [
      "{'response': 'c'}\n",
      "Test #7: \n"
     ]
    },
    {
     "name": "stderr",
     "output_type": "stream",
     "text": [
      "\n",
      "llama_print_timings:        load time =  3194.14 ms\n",
      "llama_print_timings:      sample time =    13.03 ms /    25 runs   (    0.52 ms per token,  1919.39 tokens per second)\n",
      "llama_print_timings: prompt eval time =     0.00 ms /     1 tokens (    0.00 ms per token,      inf tokens per second)\n",
      "llama_print_timings:        eval time =  3010.70 ms /    25 runs   (  120.43 ms per token,     8.30 tokens per second)\n",
      "llama_print_timings:       total time =  3079.40 ms\n",
      "Llama.generate: prefix-match hit\n"
     ]
    },
    {
     "name": "stdout",
     "output_type": "stream",
     "text": [
      "{'response': 'c'}\n",
      "Test #8: \n"
     ]
    },
    {
     "name": "stderr",
     "output_type": "stream",
     "text": [
      "\n",
      "llama_print_timings:        load time =  3194.14 ms\n",
      "llama_print_timings:      sample time =    13.22 ms /    25 runs   (    0.53 ms per token,  1891.07 tokens per second)\n",
      "llama_print_timings: prompt eval time =     0.00 ms /     1 tokens (    0.00 ms per token,      inf tokens per second)\n",
      "llama_print_timings:        eval time =  3043.81 ms /    25 runs   (  121.75 ms per token,     8.21 tokens per second)\n",
      "llama_print_timings:       total time =  3112.94 ms\n",
      "Llama.generate: prefix-match hit\n"
     ]
    },
    {
     "name": "stdout",
     "output_type": "stream",
     "text": [
      "{'response': 'c'}\n",
      "Test #9: \n"
     ]
    },
    {
     "name": "stderr",
     "output_type": "stream",
     "text": [
      "\n",
      "llama_print_timings:        load time =  3194.14 ms\n",
      "llama_print_timings:      sample time =    13.06 ms /    25 runs   (    0.52 ms per token,  1913.51 tokens per second)\n",
      "llama_print_timings: prompt eval time =     0.00 ms /     1 tokens (    0.00 ms per token,      inf tokens per second)\n",
      "llama_print_timings:        eval time =  3109.87 ms /    25 runs   (  124.39 ms per token,     8.04 tokens per second)\n",
      "llama_print_timings:       total time =  3179.66 ms\n",
      "Llama.generate: prefix-match hit\n"
     ]
    },
    {
     "name": "stdout",
     "output_type": "stream",
     "text": [
      "{'response': 'c'}\n",
      "Language: portuguese\n",
      "Question: \n",
      "Ordene as três denominações celulares encontradas no epitélio da córnea, iniciando pelo mais superficial, seguido do intermediário e do profundo.\n",
      "a)Plana, alada, basal.\n",
      "b)Alada, basal, plana.\n",
      "c)Basal, plana, alada.\n",
      "d)Alada, plana, basal.\n",
      "Test #0: \n"
     ]
    },
    {
     "name": "stderr",
     "output_type": "stream",
     "text": [
      "\n",
      "llama_print_timings:        load time =  3194.14 ms\n",
      "llama_print_timings:      sample time =    58.38 ms /   106 runs   (    0.55 ms per token,  1815.63 tokens per second)\n",
      "llama_print_timings: prompt eval time =  2115.34 ms /    96 tokens (   22.03 ms per token,    45.38 tokens per second)\n",
      "llama_print_timings:        eval time = 12644.10 ms /   105 runs   (  120.42 ms per token,     8.30 tokens per second)\n",
      "llama_print_timings:       total time = 15062.50 ms\n",
      "Llama.generate: prefix-match hit\n"
     ]
    },
    {
     "name": "stdout",
     "output_type": "stream",
     "text": [
      "{'response': 'b'}\n",
      "Test #1: \n"
     ]
    },
    {
     "name": "stderr",
     "output_type": "stream",
     "text": [
      "\n",
      "llama_print_timings:        load time =  3194.14 ms\n",
      "llama_print_timings:      sample time =    59.04 ms /   106 runs   (    0.56 ms per token,  1795.48 tokens per second)\n",
      "llama_print_timings: prompt eval time =     0.00 ms /     1 tokens (    0.00 ms per token,      inf tokens per second)\n",
      "llama_print_timings:        eval time = 12808.34 ms /   106 runs   (  120.83 ms per token,     8.28 tokens per second)\n",
      "llama_print_timings:       total time = 13112.41 ms\n",
      "Llama.generate: prefix-match hit\n"
     ]
    },
    {
     "name": "stdout",
     "output_type": "stream",
     "text": [
      "{'response': 'b'}\n",
      "Test #2: \n"
     ]
    },
    {
     "name": "stderr",
     "output_type": "stream",
     "text": [
      "\n",
      "llama_print_timings:        load time =  3194.14 ms\n",
      "llama_print_timings:      sample time =    65.54 ms /   106 runs   (    0.62 ms per token,  1617.38 tokens per second)\n",
      "llama_print_timings: prompt eval time =     0.00 ms /     1 tokens (    0.00 ms per token,      inf tokens per second)\n",
      "llama_print_timings:        eval time = 12815.08 ms /   106 runs   (  120.90 ms per token,     8.27 tokens per second)\n",
      "llama_print_timings:       total time = 13142.60 ms\n",
      "Llama.generate: prefix-match hit\n"
     ]
    },
    {
     "name": "stdout",
     "output_type": "stream",
     "text": [
      "{'response': 'b'}\n",
      "Test #3: \n"
     ]
    },
    {
     "name": "stderr",
     "output_type": "stream",
     "text": [
      "\n",
      "llama_print_timings:        load time =  3194.14 ms\n",
      "llama_print_timings:      sample time =    60.39 ms /   106 runs   (    0.57 ms per token,  1755.34 tokens per second)\n",
      "llama_print_timings: prompt eval time =     0.00 ms /     1 tokens (    0.00 ms per token,      inf tokens per second)\n",
      "llama_print_timings:        eval time = 12909.39 ms /   106 runs   (  121.79 ms per token,     8.21 tokens per second)\n",
      "llama_print_timings:       total time = 13221.77 ms\n",
      "Llama.generate: prefix-match hit\n"
     ]
    },
    {
     "name": "stdout",
     "output_type": "stream",
     "text": [
      "{'response': 'b'}\n",
      "Test #4: \n"
     ]
    },
    {
     "name": "stderr",
     "output_type": "stream",
     "text": [
      "\n",
      "llama_print_timings:        load time =  3194.14 ms\n",
      "llama_print_timings:      sample time =    61.76 ms /   106 runs   (    0.58 ms per token,  1716.40 tokens per second)\n",
      "llama_print_timings: prompt eval time =     0.00 ms /     1 tokens (    0.00 ms per token,      inf tokens per second)\n",
      "llama_print_timings:        eval time = 12888.98 ms /   106 runs   (  121.59 ms per token,     8.22 tokens per second)\n",
      "llama_print_timings:       total time = 13201.44 ms\n",
      "Llama.generate: prefix-match hit\n"
     ]
    },
    {
     "name": "stdout",
     "output_type": "stream",
     "text": [
      "{'response': 'b'}\n",
      "Test #5: \n",
      "{'response': 'b'}\n",
      "Test #6: \n"
     ]
    },
    {
     "name": "stderr",
     "output_type": "stream",
     "text": [
      "\n",
      "llama_print_timings:        load time =  3194.14 ms\n",
      "llama_print_timings:      sample time =    61.82 ms /   106 runs   (    0.58 ms per token,  1714.71 tokens per second)\n",
      "llama_print_timings: prompt eval time =     0.00 ms /     1 tokens (    0.00 ms per token,      inf tokens per second)\n",
      "llama_print_timings:        eval time = 12828.62 ms /   106 runs   (  121.02 ms per token,     8.26 tokens per second)\n",
      "llama_print_timings:       total time = 13142.50 ms\n",
      "Llama.generate: prefix-match hit\n",
      "\n",
      "llama_print_timings:        load time =  3194.14 ms\n",
      "llama_print_timings:      sample time =    58.62 ms /   106 runs   (    0.55 ms per token,  1808.19 tokens per second)\n",
      "llama_print_timings: prompt eval time =     0.00 ms /     1 tokens (    0.00 ms per token,      inf tokens per second)\n",
      "llama_print_timings:        eval time = 12932.07 ms /   106 runs   (  122.00 ms per token,     8.20 tokens per second)\n",
      "llama_print_timings:       total time = 13240.35 ms\n",
      "Llama.generate: prefix-match hit\n"
     ]
    },
    {
     "name": "stdout",
     "output_type": "stream",
     "text": [
      "{'response': 'b'}\n",
      "Test #7: \n"
     ]
    },
    {
     "name": "stderr",
     "output_type": "stream",
     "text": [
      "\n",
      "llama_print_timings:        load time =  3194.14 ms\n",
      "llama_print_timings:      sample time =    58.97 ms /   106 runs   (    0.56 ms per token,  1797.65 tokens per second)\n",
      "llama_print_timings: prompt eval time =     0.00 ms /     1 tokens (    0.00 ms per token,      inf tokens per second)\n",
      "llama_print_timings:        eval time = 12956.53 ms /   106 runs   (  122.23 ms per token,     8.18 tokens per second)\n",
      "llama_print_timings:       total time = 13265.41 ms\n",
      "Llama.generate: prefix-match hit\n"
     ]
    },
    {
     "name": "stdout",
     "output_type": "stream",
     "text": [
      "{'response': 'b'}\n",
      "Test #8: \n"
     ]
    },
    {
     "name": "stderr",
     "output_type": "stream",
     "text": [
      "\n",
      "llama_print_timings:        load time =  3194.14 ms\n",
      "llama_print_timings:      sample time =    59.08 ms /   106 runs   (    0.56 ms per token,  1794.12 tokens per second)\n",
      "llama_print_timings: prompt eval time =     0.00 ms /     1 tokens (    0.00 ms per token,      inf tokens per second)\n",
      "llama_print_timings:        eval time = 13082.92 ms /   106 runs   (  123.42 ms per token,     8.10 tokens per second)\n",
      "llama_print_timings:       total time = 13390.22 ms\n",
      "Llama.generate: prefix-match hit\n"
     ]
    },
    {
     "name": "stdout",
     "output_type": "stream",
     "text": [
      "{'response': 'b'}\n",
      "Test #9: \n"
     ]
    },
    {
     "name": "stderr",
     "output_type": "stream",
     "text": [
      "\n",
      "llama_print_timings:        load time =  3194.14 ms\n",
      "llama_print_timings:      sample time =    58.49 ms /   106 runs   (    0.55 ms per token,  1812.15 tokens per second)\n",
      "llama_print_timings: prompt eval time =     0.00 ms /     1 tokens (    0.00 ms per token,      inf tokens per second)\n",
      "llama_print_timings:        eval time = 12859.22 ms /   106 runs   (  121.31 ms per token,     8.24 tokens per second)\n",
      "llama_print_timings:       total time = 13169.22 ms\n",
      "Llama.generate: prefix-match hit\n"
     ]
    },
    {
     "name": "stdout",
     "output_type": "stream",
     "text": [
      "{'response': 'b'}\n",
      "**************************************************\n",
      "**************************************************\n",
      "Question 4: \n",
      "Language: english\n",
      "Question: \n",
      "Regarding Descemet's membrane of the cornea, it is correct to state:\n",
      "a) Endothelial cells do not participate in its formation.\n",
      "b) Its thickness in the adult is about 30 µm.\n",
      "c) Its most anterior portion is of embryonic origin.\n",
      "d) Its thickness reduces with age.\n",
      "Test #0: \n"
     ]
    },
    {
     "name": "stderr",
     "output_type": "stream",
     "text": [
      "\n",
      "llama_print_timings:        load time =  3194.14 ms\n",
      "llama_print_timings:      sample time =    38.66 ms /    69 runs   (    0.56 ms per token,  1784.70 tokens per second)\n",
      "llama_print_timings: prompt eval time =  1648.66 ms /    83 tokens (   19.86 ms per token,    50.34 tokens per second)\n",
      "llama_print_timings:        eval time =  8217.72 ms /    68 runs   (  120.85 ms per token,     8.27 tokens per second)\n",
      "llama_print_timings:       total time = 10068.34 ms\n",
      "Llama.generate: prefix-match hit\n"
     ]
    },
    {
     "name": "stdout",
     "output_type": "stream",
     "text": [
      "{'response': 'b'}\n",
      "Test #1: \n",
      "{'response': 'b'}\n",
      "Test #2: \n"
     ]
    },
    {
     "name": "stderr",
     "output_type": "stream",
     "text": [
      "\n",
      "llama_print_timings:        load time =  3194.14 ms\n",
      "llama_print_timings:      sample time =    38.89 ms /    69 runs   (    0.56 ms per token,  1774.37 tokens per second)\n",
      "llama_print_timings: prompt eval time =     0.00 ms /     1 tokens (    0.00 ms per token,      inf tokens per second)\n",
      "llama_print_timings:        eval time =  8435.99 ms /    69 runs   (  122.26 ms per token,     8.18 tokens per second)\n",
      "llama_print_timings:       total time =  8638.39 ms\n",
      "Llama.generate: prefix-match hit\n",
      "\n",
      "llama_print_timings:        load time =  3194.14 ms\n",
      "llama_print_timings:      sample time =    38.34 ms /    69 runs   (    0.56 ms per token,  1799.55 tokens per second)\n",
      "llama_print_timings: prompt eval time =     0.00 ms /     1 tokens (    0.00 ms per token,      inf tokens per second)\n",
      "llama_print_timings:        eval time =  8375.02 ms /    69 runs   (  121.38 ms per token,     8.24 tokens per second)\n",
      "llama_print_timings:       total time =  8574.98 ms\n",
      "Llama.generate: prefix-match hit\n"
     ]
    },
    {
     "name": "stdout",
     "output_type": "stream",
     "text": [
      "{'response': 'b'}\n",
      "Test #3: \n"
     ]
    },
    {
     "name": "stderr",
     "output_type": "stream",
     "text": [
      "\n",
      "llama_print_timings:        load time =  3194.14 ms\n",
      "llama_print_timings:      sample time =    38.70 ms /    69 runs   (    0.56 ms per token,  1782.95 tokens per second)\n",
      "llama_print_timings: prompt eval time =     0.00 ms /     1 tokens (    0.00 ms per token,      inf tokens per second)\n",
      "llama_print_timings:        eval time =  8293.67 ms /    69 runs   (  120.20 ms per token,     8.32 tokens per second)\n",
      "llama_print_timings:       total time =  8496.56 ms\n",
      "Llama.generate: prefix-match hit\n"
     ]
    },
    {
     "name": "stdout",
     "output_type": "stream",
     "text": [
      "{'response': 'b'}\n",
      "Test #4: \n"
     ]
    },
    {
     "name": "stderr",
     "output_type": "stream",
     "text": [
      "\n",
      "llama_print_timings:        load time =  3194.14 ms\n",
      "llama_print_timings:      sample time =    38.61 ms /    69 runs   (    0.56 ms per token,  1787.24 tokens per second)\n",
      "llama_print_timings: prompt eval time =     0.00 ms /     1 tokens (    0.00 ms per token,      inf tokens per second)\n",
      "llama_print_timings:        eval time =  8503.99 ms /    69 runs   (  123.25 ms per token,     8.11 tokens per second)\n",
      "llama_print_timings:       total time =  8707.60 ms\n",
      "Llama.generate: prefix-match hit\n"
     ]
    },
    {
     "name": "stdout",
     "output_type": "stream",
     "text": [
      "{'response': 'b'}\n",
      "Test #5: \n"
     ]
    },
    {
     "name": "stderr",
     "output_type": "stream",
     "text": [
      "\n",
      "llama_print_timings:        load time =  3194.14 ms\n",
      "llama_print_timings:      sample time =    38.56 ms /    69 runs   (    0.56 ms per token,  1789.51 tokens per second)\n",
      "llama_print_timings: prompt eval time =     0.00 ms /     1 tokens (    0.00 ms per token,      inf tokens per second)\n",
      "llama_print_timings:        eval time =  8317.47 ms /    69 runs   (  120.54 ms per token,     8.30 tokens per second)\n",
      "llama_print_timings:       total time =  8517.97 ms\n",
      "Llama.generate: prefix-match hit\n"
     ]
    },
    {
     "name": "stdout",
     "output_type": "stream",
     "text": [
      "{'response': 'b'}\n",
      "Test #6: \n",
      "{'response': 'b'}\n",
      "Test #7: \n"
     ]
    },
    {
     "name": "stderr",
     "output_type": "stream",
     "text": [
      "\n",
      "llama_print_timings:        load time =  3194.14 ms\n",
      "llama_print_timings:      sample time =    38.62 ms /    69 runs   (    0.56 ms per token,  1786.69 tokens per second)\n",
      "llama_print_timings: prompt eval time =     0.00 ms /     1 tokens (    0.00 ms per token,      inf tokens per second)\n",
      "llama_print_timings:        eval time =  8371.49 ms /    69 runs   (  121.33 ms per token,     8.24 tokens per second)\n",
      "llama_print_timings:       total time =  8571.05 ms\n",
      "Llama.generate: prefix-match hit\n",
      "\n",
      "llama_print_timings:        load time =  3194.14 ms\n",
      "llama_print_timings:      sample time =    38.81 ms /    69 runs   (    0.56 ms per token,  1778.03 tokens per second)\n",
      "llama_print_timings: prompt eval time =     0.00 ms /     1 tokens (    0.00 ms per token,      inf tokens per second)\n",
      "llama_print_timings:        eval time =  8409.35 ms /    69 runs   (  121.87 ms per token,     8.21 tokens per second)\n",
      "llama_print_timings:       total time =  8612.79 ms\n",
      "Llama.generate: prefix-match hit\n"
     ]
    },
    {
     "name": "stdout",
     "output_type": "stream",
     "text": [
      "{'response': 'b'}\n",
      "Test #8: \n"
     ]
    },
    {
     "name": "stderr",
     "output_type": "stream",
     "text": [
      "\n",
      "llama_print_timings:        load time =  3194.14 ms\n",
      "llama_print_timings:      sample time =    38.97 ms /    69 runs   (    0.56 ms per token,  1770.73 tokens per second)\n",
      "llama_print_timings: prompt eval time =     0.00 ms /     1 tokens (    0.00 ms per token,      inf tokens per second)\n",
      "llama_print_timings:        eval time =  8394.98 ms /    69 runs   (  121.67 ms per token,     8.22 tokens per second)\n",
      "llama_print_timings:       total time =  8595.50 ms\n",
      "Llama.generate: prefix-match hit\n"
     ]
    },
    {
     "name": "stdout",
     "output_type": "stream",
     "text": [
      "{'response': 'b'}\n",
      "Test #9: \n"
     ]
    },
    {
     "name": "stderr",
     "output_type": "stream",
     "text": [
      "\n",
      "llama_print_timings:        load time =  3194.14 ms\n",
      "llama_print_timings:      sample time =    38.66 ms /    69 runs   (    0.56 ms per token,  1784.93 tokens per second)\n",
      "llama_print_timings: prompt eval time =     0.00 ms /     1 tokens (    0.00 ms per token,      inf tokens per second)\n",
      "llama_print_timings:        eval time =  8353.39 ms /    69 runs   (  121.06 ms per token,     8.26 tokens per second)\n",
      "llama_print_timings:       total time =  8556.37 ms\n",
      "Llama.generate: prefix-match hit\n"
     ]
    },
    {
     "name": "stdout",
     "output_type": "stream",
     "text": [
      "{'response': 'b'}\n",
      "Language: portuguese\n",
      "Question: \n",
      "Sobre a membrana de Descemet da córnea, é correto afirmar:\n",
      "a)As células endoteliais não participam da sua formação.\n",
      "b)Sua espessura no adulto é de cerca de 30 µm.\n",
      "c)Sua porção mais anterior é de origem embrionária.\n",
      "d)Sua espessura reduz-se com a idade.\n",
      "Test #0: \n"
     ]
    },
    {
     "name": "stderr",
     "output_type": "stream",
     "text": [
      "\n",
      "llama_print_timings:        load time =  3194.14 ms\n",
      "llama_print_timings:      sample time =     4.07 ms /     7 runs   (    0.58 ms per token,  1720.32 tokens per second)\n",
      "llama_print_timings: prompt eval time =  2280.82 ms /   103 tokens (   22.14 ms per token,    45.16 tokens per second)\n",
      "llama_print_timings:        eval time =   730.36 ms /     6 runs   (  121.73 ms per token,     8.22 tokens per second)\n",
      "llama_print_timings:       total time =  3031.85 ms\n",
      "Llama.generate: prefix-match hit\n"
     ]
    },
    {
     "name": "stdout",
     "output_type": "stream",
     "text": [
      "{'response': 'b'}\n",
      "Test #1: \n"
     ]
    },
    {
     "name": "stderr",
     "output_type": "stream",
     "text": [
      "\n",
      "llama_print_timings:        load time =  3194.14 ms\n",
      "llama_print_timings:      sample time =     3.79 ms /     7 runs   (    0.54 ms per token,  1847.94 tokens per second)\n",
      "llama_print_timings: prompt eval time =     0.00 ms /     1 tokens (    0.00 ms per token,      inf tokens per second)\n",
      "llama_print_timings:        eval time =   858.61 ms /     7 runs   (  122.66 ms per token,     8.15 tokens per second)\n",
      "llama_print_timings:       total time =   878.89 ms\n",
      "Llama.generate: prefix-match hit\n"
     ]
    },
    {
     "name": "stdout",
     "output_type": "stream",
     "text": [
      "{'response': 'b'}\n",
      "Test #2: \n"
     ]
    },
    {
     "name": "stderr",
     "output_type": "stream",
     "text": [
      "\n",
      "llama_print_timings:        load time =  3194.14 ms\n",
      "llama_print_timings:      sample time =     3.82 ms /     7 runs   (    0.55 ms per token,  1831.02 tokens per second)\n",
      "llama_print_timings: prompt eval time =     0.00 ms /     1 tokens (    0.00 ms per token,      inf tokens per second)\n",
      "llama_print_timings:        eval time =   840.71 ms /     7 runs   (  120.10 ms per token,     8.33 tokens per second)\n",
      "llama_print_timings:       total time =   860.40 ms\n",
      "Llama.generate: prefix-match hit\n"
     ]
    },
    {
     "name": "stdout",
     "output_type": "stream",
     "text": [
      "{'response': 'b'}\n",
      "Test #3: \n"
     ]
    },
    {
     "name": "stderr",
     "output_type": "stream",
     "text": [
      "\n",
      "llama_print_timings:        load time =  3194.14 ms\n",
      "llama_print_timings:      sample time =     3.85 ms /     7 runs   (    0.55 ms per token,  1817.71 tokens per second)\n",
      "llama_print_timings: prompt eval time =     0.00 ms /     1 tokens (    0.00 ms per token,      inf tokens per second)\n",
      "llama_print_timings:        eval time =   844.28 ms /     7 runs   (  120.61 ms per token,     8.29 tokens per second)\n",
      "llama_print_timings:       total time =   864.07 ms\n",
      "Llama.generate: prefix-match hit\n"
     ]
    },
    {
     "name": "stdout",
     "output_type": "stream",
     "text": [
      "{'response': 'b'}\n",
      "Test #4: \n"
     ]
    },
    {
     "name": "stderr",
     "output_type": "stream",
     "text": [
      "\n",
      "llama_print_timings:        load time =  3194.14 ms\n",
      "llama_print_timings:      sample time =     3.85 ms /     7 runs   (    0.55 ms per token,  1815.82 tokens per second)\n",
      "llama_print_timings: prompt eval time =     0.00 ms /     1 tokens (    0.00 ms per token,      inf tokens per second)\n",
      "llama_print_timings:        eval time =   874.60 ms /     7 runs   (  124.94 ms per token,     8.00 tokens per second)\n",
      "llama_print_timings:       total time =   894.46 ms\n",
      "Llama.generate: prefix-match hit\n"
     ]
    },
    {
     "name": "stdout",
     "output_type": "stream",
     "text": [
      "{'response': 'b'}\n",
      "Test #5: \n"
     ]
    },
    {
     "name": "stderr",
     "output_type": "stream",
     "text": [
      "\n",
      "llama_print_timings:        load time =  3194.14 ms\n",
      "llama_print_timings:      sample time =     3.85 ms /     7 runs   (    0.55 ms per token,  1816.77 tokens per second)\n",
      "llama_print_timings: prompt eval time =     0.00 ms /     1 tokens (    0.00 ms per token,      inf tokens per second)\n",
      "llama_print_timings:        eval time =   863.99 ms /     7 runs   (  123.43 ms per token,     8.10 tokens per second)\n",
      "llama_print_timings:       total time =   884.21 ms\n",
      "Llama.generate: prefix-match hit\n"
     ]
    },
    {
     "name": "stdout",
     "output_type": "stream",
     "text": [
      "{'response': 'b'}\n",
      "Test #6: \n"
     ]
    },
    {
     "name": "stderr",
     "output_type": "stream",
     "text": [
      "\n",
      "llama_print_timings:        load time =  3194.14 ms\n",
      "llama_print_timings:      sample time =     3.79 ms /     7 runs   (    0.54 ms per token,  1845.99 tokens per second)\n",
      "llama_print_timings: prompt eval time =     0.00 ms /     1 tokens (    0.00 ms per token,      inf tokens per second)\n",
      "llama_print_timings:        eval time =   841.60 ms /     7 runs   (  120.23 ms per token,     8.32 tokens per second)\n",
      "llama_print_timings:       total time =   861.60 ms\n",
      "Llama.generate: prefix-match hit\n"
     ]
    },
    {
     "name": "stdout",
     "output_type": "stream",
     "text": [
      "{'response': 'b'}\n",
      "Test #7: \n"
     ]
    },
    {
     "name": "stderr",
     "output_type": "stream",
     "text": [
      "\n",
      "llama_print_timings:        load time =  3194.14 ms\n",
      "llama_print_timings:      sample time =     3.79 ms /     7 runs   (    0.54 ms per token,  1847.94 tokens per second)\n",
      "llama_print_timings: prompt eval time =     0.00 ms /     1 tokens (    0.00 ms per token,      inf tokens per second)\n",
      "llama_print_timings:        eval time =   851.97 ms /     7 runs   (  121.71 ms per token,     8.22 tokens per second)\n",
      "llama_print_timings:       total time =   872.41 ms\n",
      "Llama.generate: prefix-match hit\n"
     ]
    },
    {
     "name": "stdout",
     "output_type": "stream",
     "text": [
      "{'response': 'b'}\n",
      "Test #8: \n"
     ]
    },
    {
     "name": "stderr",
     "output_type": "stream",
     "text": [
      "\n",
      "llama_print_timings:        load time =  3194.14 ms\n",
      "llama_print_timings:      sample time =     3.99 ms /     7 runs   (    0.57 ms per token,  1753.51 tokens per second)\n",
      "llama_print_timings: prompt eval time =     0.00 ms /     1 tokens (    0.00 ms per token,      inf tokens per second)\n",
      "llama_print_timings:        eval time =   890.08 ms /     7 runs   (  127.15 ms per token,     7.86 tokens per second)\n",
      "llama_print_timings:       total time =   910.09 ms\n",
      "Llama.generate: prefix-match hit\n"
     ]
    },
    {
     "name": "stdout",
     "output_type": "stream",
     "text": [
      "{'response': 'b'}\n",
      "Test #9: \n"
     ]
    },
    {
     "name": "stderr",
     "output_type": "stream",
     "text": [
      "\n",
      "llama_print_timings:        load time =  3194.14 ms\n",
      "llama_print_timings:      sample time =     4.49 ms /     7 runs   (    0.64 ms per token,  1559.02 tokens per second)\n",
      "llama_print_timings: prompt eval time =     0.00 ms /     1 tokens (    0.00 ms per token,      inf tokens per second)\n",
      "llama_print_timings:        eval time =   853.86 ms /     7 runs   (  121.98 ms per token,     8.20 tokens per second)\n",
      "llama_print_timings:       total time =   875.57 ms\n",
      "Llama.generate: prefix-match hit\n"
     ]
    },
    {
     "name": "stdout",
     "output_type": "stream",
     "text": [
      "{'response': 'b'}\n",
      "**************************************************\n",
      "**************************************************\n",
      "Question 5: \n",
      "Language: english\n",
      "Question: \n",
      "About the lipidic layer of the lacrimal film, choose the right answer. a) its purpose is to stabilize the lacrimal film secreted by the meibomian and manz glans b) Cholesterol esters are within its components, and one of the functions is to delay the lacrimal film evaporation c) In meibomian gland dysfunction, the fusion point decrease, leading to stagnation d) can be evaluated by the lacrimal film break up time, keeping intact less than five seconds in healthy eyes.\n",
      "Test #0: \n"
     ]
    },
    {
     "name": "stderr",
     "output_type": "stream",
     "text": [
      "\n",
      "llama_print_timings:        load time =  3194.14 ms\n",
      "llama_print_timings:      sample time =    34.27 ms /    61 runs   (    0.56 ms per token,  1780.19 tokens per second)\n",
      "llama_print_timings: prompt eval time =  2105.92 ms /   129 tokens (   16.32 ms per token,    61.26 tokens per second)\n",
      "llama_print_timings:        eval time =  7468.86 ms /    60 runs   (  124.48 ms per token,     8.03 tokens per second)\n",
      "llama_print_timings:       total time =  9752.89 ms\n",
      "Llama.generate: prefix-match hit\n"
     ]
    },
    {
     "name": "stdout",
     "output_type": "stream",
     "text": [
      "{'response': 'B'}\n",
      "Test #1: \n"
     ]
    },
    {
     "name": "stderr",
     "output_type": "stream",
     "text": [
      "\n",
      "llama_print_timings:        load time =  3194.14 ms\n",
      "llama_print_timings:      sample time =    34.09 ms /    61 runs   (    0.56 ms per token,  1789.33 tokens per second)\n",
      "llama_print_timings: prompt eval time =     0.00 ms /     1 tokens (    0.00 ms per token,      inf tokens per second)\n",
      "llama_print_timings:        eval time =  7492.32 ms /    61 runs   (  122.82 ms per token,     8.14 tokens per second)\n",
      "llama_print_timings:       total time =  7670.49 ms\n",
      "Llama.generate: prefix-match hit\n"
     ]
    },
    {
     "name": "stdout",
     "output_type": "stream",
     "text": [
      "{'response': 'B'}\n",
      "Test #2: \n"
     ]
    },
    {
     "name": "stderr",
     "output_type": "stream",
     "text": [
      "\n",
      "llama_print_timings:        load time =  3194.14 ms\n",
      "llama_print_timings:      sample time =    34.06 ms /    61 runs   (    0.56 ms per token,  1791.06 tokens per second)\n",
      "llama_print_timings: prompt eval time =     0.00 ms /     1 tokens (    0.00 ms per token,      inf tokens per second)\n",
      "llama_print_timings:        eval time =  7439.03 ms /    61 runs   (  121.95 ms per token,     8.20 tokens per second)\n",
      "llama_print_timings:       total time =  7620.96 ms\n",
      "Llama.generate: prefix-match hit\n"
     ]
    },
    {
     "name": "stdout",
     "output_type": "stream",
     "text": [
      "{'response': 'B'}\n",
      "Test #3: \n"
     ]
    },
    {
     "name": "stderr",
     "output_type": "stream",
     "text": [
      "\n",
      "llama_print_timings:        load time =  3194.14 ms\n",
      "llama_print_timings:      sample time =    34.19 ms /    61 runs   (    0.56 ms per token,  1783.99 tokens per second)\n",
      "llama_print_timings: prompt eval time =     0.00 ms /     1 tokens (    0.00 ms per token,      inf tokens per second)\n",
      "llama_print_timings:        eval time =  7423.99 ms /    61 runs   (  121.70 ms per token,     8.22 tokens per second)\n",
      "llama_print_timings:       total time =  7601.66 ms\n",
      "Llama.generate: prefix-match hit\n"
     ]
    },
    {
     "name": "stdout",
     "output_type": "stream",
     "text": [
      "{'response': 'B'}\n",
      "Test #4: \n"
     ]
    },
    {
     "name": "stderr",
     "output_type": "stream",
     "text": [
      "\n",
      "llama_print_timings:        load time =  3194.14 ms\n",
      "llama_print_timings:      sample time =    34.22 ms /    61 runs   (    0.56 ms per token,  1782.53 tokens per second)\n",
      "llama_print_timings: prompt eval time =     0.00 ms /     1 tokens (    0.00 ms per token,      inf tokens per second)\n",
      "llama_print_timings:        eval time =  7460.07 ms /    61 runs   (  122.30 ms per token,     8.18 tokens per second)\n",
      "llama_print_timings:       total time =  7639.32 ms\n",
      "Llama.generate: prefix-match hit\n"
     ]
    },
    {
     "name": "stdout",
     "output_type": "stream",
     "text": [
      "{'response': 'B'}\n",
      "Test #5: \n"
     ]
    },
    {
     "name": "stderr",
     "output_type": "stream",
     "text": [
      "\n",
      "llama_print_timings:        load time =  3194.14 ms\n",
      "llama_print_timings:      sample time =    34.65 ms /    61 runs   (    0.57 ms per token,  1760.36 tokens per second)\n",
      "llama_print_timings: prompt eval time =     0.00 ms /     1 tokens (    0.00 ms per token,      inf tokens per second)\n",
      "llama_print_timings:        eval time =  7417.80 ms /    61 runs   (  121.60 ms per token,     8.22 tokens per second)\n",
      "llama_print_timings:       total time =  7598.36 ms\n",
      "Llama.generate: prefix-match hit\n"
     ]
    },
    {
     "name": "stdout",
     "output_type": "stream",
     "text": [
      "{'response': 'B'}\n",
      "Test #6: \n"
     ]
    },
    {
     "name": "stderr",
     "output_type": "stream",
     "text": [
      "\n",
      "llama_print_timings:        load time =  3194.14 ms\n",
      "llama_print_timings:      sample time =    34.04 ms /    61 runs   (    0.56 ms per token,  1792.06 tokens per second)\n",
      "llama_print_timings: prompt eval time =     0.00 ms /     1 tokens (    0.00 ms per token,      inf tokens per second)\n",
      "llama_print_timings:        eval time =  7416.63 ms /    61 runs   (  121.58 ms per token,     8.22 tokens per second)\n",
      "llama_print_timings:       total time =  7592.50 ms\n",
      "Llama.generate: prefix-match hit\n"
     ]
    },
    {
     "name": "stdout",
     "output_type": "stream",
     "text": [
      "{'response': 'B'}\n",
      "Test #7: \n"
     ]
    },
    {
     "name": "stderr",
     "output_type": "stream",
     "text": [
      "\n",
      "llama_print_timings:        load time =  3194.14 ms\n",
      "llama_print_timings:      sample time =    34.87 ms /    61 runs   (    0.57 ms per token,  1749.20 tokens per second)\n",
      "llama_print_timings: prompt eval time =     0.00 ms /     1 tokens (    0.00 ms per token,      inf tokens per second)\n",
      "llama_print_timings:        eval time =  7494.21 ms /    61 runs   (  122.86 ms per token,     8.14 tokens per second)\n",
      "llama_print_timings:       total time =  7675.94 ms\n",
      "Llama.generate: prefix-match hit\n"
     ]
    },
    {
     "name": "stdout",
     "output_type": "stream",
     "text": [
      "{'response': 'B'}\n",
      "Test #8: \n"
     ]
    },
    {
     "name": "stderr",
     "output_type": "stream",
     "text": [
      "\n",
      "llama_print_timings:        load time =  3194.14 ms\n",
      "llama_print_timings:      sample time =    34.25 ms /    61 runs   (    0.56 ms per token,  1780.87 tokens per second)\n",
      "llama_print_timings: prompt eval time =     0.00 ms /     1 tokens (    0.00 ms per token,      inf tokens per second)\n",
      "llama_print_timings:        eval time =  7570.34 ms /    61 runs   (  124.10 ms per token,     8.06 tokens per second)\n",
      "llama_print_timings:       total time =  7749.76 ms\n",
      "Llama.generate: prefix-match hit\n"
     ]
    },
    {
     "name": "stdout",
     "output_type": "stream",
     "text": [
      "{'response': 'B'}\n",
      "Test #9: \n",
      "{'response': 'B'}\n",
      "Language: portuguese\n",
      "Question: \n",
      "Sobre a camada lipídica do filme lacrimal, assinale a alternativa correta. a)Tem por propósito básico estabilizar o filme e é secretada pelas glândulas de Meibomius e de Manz.  b)Ésteres de colesterol estão entre seus componentes e uma de suas funções é retardar a evaporação do filme lacrimal. c)Na disfunção das glândulas de Meibomius, o ponto de fusão de sua secreção diminui, colaborando para a estagnação dessas substâncias. d)Pode ser avaliada pelo tempo de ruptura do filme lacrimal, permanecendo intacta por menos de cinco segundos em olhos saudáveis.\n",
      "Test #0: \n"
     ]
    },
    {
     "name": "stderr",
     "output_type": "stream",
     "text": [
      "\n",
      "llama_print_timings:        load time =  3194.14 ms\n",
      "llama_print_timings:      sample time =    34.22 ms /    61 runs   (    0.56 ms per token,  1782.58 tokens per second)\n",
      "llama_print_timings: prompt eval time =     0.00 ms /     1 tokens (    0.00 ms per token,      inf tokens per second)\n",
      "llama_print_timings:        eval time =  7416.56 ms /    61 runs   (  121.58 ms per token,     8.22 tokens per second)\n",
      "llama_print_timings:       total time =  7596.36 ms\n",
      "Llama.generate: prefix-match hit\n",
      "\n",
      "llama_print_timings:        load time =  3194.14 ms\n",
      "llama_print_timings:      sample time =    11.29 ms /    20 runs   (    0.56 ms per token,  1771.48 tokens per second)\n",
      "llama_print_timings: prompt eval time =  3742.95 ms /   183 tokens (   20.45 ms per token,    48.89 tokens per second)\n",
      "llama_print_timings:        eval time =  2321.89 ms /    19 runs   (  122.20 ms per token,     8.18 tokens per second)\n",
      "llama_print_timings:       total time =  6123.78 ms\n",
      "Llama.generate: prefix-match hit\n"
     ]
    },
    {
     "name": "stdout",
     "output_type": "stream",
     "text": [
      "{'response': 'B'}\n",
      "Test #1: \n"
     ]
    },
    {
     "name": "stderr",
     "output_type": "stream",
     "text": [
      "\n",
      "llama_print_timings:        load time =  3194.14 ms\n",
      "llama_print_timings:      sample time =    11.36 ms /    20 runs   (    0.57 ms per token,  1761.18 tokens per second)\n",
      "llama_print_timings: prompt eval time =     0.00 ms /     1 tokens (    0.00 ms per token,      inf tokens per second)\n",
      "llama_print_timings:        eval time =  2448.35 ms /    20 runs   (  122.42 ms per token,     8.17 tokens per second)\n",
      "llama_print_timings:       total time =  2506.88 ms\n",
      "Llama.generate: prefix-match hit\n"
     ]
    },
    {
     "name": "stdout",
     "output_type": "stream",
     "text": [
      "{'response': 'B'}\n",
      "Test #2: \n"
     ]
    },
    {
     "name": "stderr",
     "output_type": "stream",
     "text": [
      "\n",
      "llama_print_timings:        load time =  3194.14 ms\n",
      "llama_print_timings:      sample time =    11.34 ms /    20 runs   (    0.57 ms per token,  1764.29 tokens per second)\n",
      "llama_print_timings: prompt eval time =     0.00 ms /     1 tokens (    0.00 ms per token,      inf tokens per second)\n",
      "llama_print_timings:        eval time =  2426.31 ms /    20 runs   (  121.32 ms per token,     8.24 tokens per second)\n",
      "llama_print_timings:       total time =  2484.29 ms\n",
      "Llama.generate: prefix-match hit\n"
     ]
    },
    {
     "name": "stdout",
     "output_type": "stream",
     "text": [
      "{'response': 'B'}\n",
      "Test #3: \n"
     ]
    },
    {
     "name": "stderr",
     "output_type": "stream",
     "text": [
      "\n",
      "llama_print_timings:        load time =  3194.14 ms\n",
      "llama_print_timings:      sample time =    11.11 ms /    20 runs   (    0.56 ms per token,  1800.67 tokens per second)\n",
      "llama_print_timings: prompt eval time =     0.00 ms /     1 tokens (    0.00 ms per token,      inf tokens per second)\n",
      "llama_print_timings:        eval time =  2447.42 ms /    20 runs   (  122.37 ms per token,     8.17 tokens per second)\n",
      "llama_print_timings:       total time =  2505.42 ms\n",
      "Llama.generate: prefix-match hit\n"
     ]
    },
    {
     "name": "stdout",
     "output_type": "stream",
     "text": [
      "{'response': 'B'}\n",
      "Test #4: \n"
     ]
    },
    {
     "name": "stderr",
     "output_type": "stream",
     "text": [
      "\n",
      "llama_print_timings:        load time =  3194.14 ms\n",
      "llama_print_timings:      sample time =    11.75 ms /    20 runs   (    0.59 ms per token,  1702.42 tokens per second)\n",
      "llama_print_timings: prompt eval time =     0.00 ms /     1 tokens (    0.00 ms per token,      inf tokens per second)\n",
      "llama_print_timings:        eval time =  2474.62 ms /    20 runs   (  123.73 ms per token,     8.08 tokens per second)\n",
      "llama_print_timings:       total time =  2533.46 ms\n",
      "Llama.generate: prefix-match hit\n"
     ]
    },
    {
     "name": "stdout",
     "output_type": "stream",
     "text": [
      "{'response': 'B'}\n",
      "Test #5: \n"
     ]
    },
    {
     "name": "stderr",
     "output_type": "stream",
     "text": [
      "\n",
      "llama_print_timings:        load time =  3194.14 ms\n",
      "llama_print_timings:      sample time =    11.12 ms /    20 runs   (    0.56 ms per token,  1798.56 tokens per second)\n",
      "llama_print_timings: prompt eval time =     0.00 ms /     1 tokens (    0.00 ms per token,      inf tokens per second)\n",
      "llama_print_timings:        eval time =  2425.19 ms /    20 runs   (  121.26 ms per token,     8.25 tokens per second)\n",
      "llama_print_timings:       total time =  2481.89 ms\n",
      "Llama.generate: prefix-match hit\n"
     ]
    },
    {
     "name": "stdout",
     "output_type": "stream",
     "text": [
      "{'response': 'B'}\n",
      "Test #6: \n",
      "{'response': 'B'}\n",
      "Test #7: \n"
     ]
    },
    {
     "name": "stderr",
     "output_type": "stream",
     "text": [
      "\n",
      "llama_print_timings:        load time =  3194.14 ms\n",
      "llama_print_timings:      sample time =    11.22 ms /    20 runs   (    0.56 ms per token,  1782.69 tokens per second)\n",
      "llama_print_timings: prompt eval time =     0.00 ms /     1 tokens (    0.00 ms per token,      inf tokens per second)\n",
      "llama_print_timings:        eval time =  2449.49 ms /    20 runs   (  122.47 ms per token,     8.16 tokens per second)\n",
      "llama_print_timings:       total time =  2506.43 ms\n",
      "Llama.generate: prefix-match hit\n",
      "\n",
      "llama_print_timings:        load time =  3194.14 ms\n",
      "llama_print_timings:      sample time =    11.19 ms /    20 runs   (    0.56 ms per token,  1786.99 tokens per second)\n",
      "llama_print_timings: prompt eval time =     0.00 ms /     1 tokens (    0.00 ms per token,      inf tokens per second)\n",
      "llama_print_timings:        eval time =  2444.94 ms /    20 runs   (  122.25 ms per token,     8.18 tokens per second)\n",
      "llama_print_timings:       total time =  2502.52 ms\n",
      "Llama.generate: prefix-match hit\n"
     ]
    },
    {
     "name": "stdout",
     "output_type": "stream",
     "text": [
      "{'response': 'B'}\n",
      "Test #8: \n",
      "{'response': 'B'}\n",
      "Test #9: \n"
     ]
    },
    {
     "name": "stderr",
     "output_type": "stream",
     "text": [
      "\n",
      "llama_print_timings:        load time =  3194.14 ms\n",
      "llama_print_timings:      sample time =    11.73 ms /    20 runs   (    0.59 ms per token,  1704.59 tokens per second)\n",
      "llama_print_timings: prompt eval time =     0.00 ms /     1 tokens (    0.00 ms per token,      inf tokens per second)\n",
      "llama_print_timings:        eval time =  2477.34 ms /    20 runs   (  123.87 ms per token,     8.07 tokens per second)\n",
      "llama_print_timings:       total time =  2536.04 ms\n",
      "Llama.generate: prefix-match hit\n",
      "\n",
      "llama_print_timings:        load time =  3194.14 ms\n",
      "llama_print_timings:      sample time =    11.21 ms /    20 runs   (    0.56 ms per token,  1784.76 tokens per second)\n",
      "llama_print_timings: prompt eval time =     0.00 ms /     1 tokens (    0.00 ms per token,      inf tokens per second)\n",
      "llama_print_timings:        eval time =  2505.30 ms /    20 runs   (  125.27 ms per token,     7.98 tokens per second)\n",
      "llama_print_timings:       total time =  2561.83 ms\n",
      "Llama.generate: prefix-match hit\n"
     ]
    },
    {
     "name": "stdout",
     "output_type": "stream",
     "text": [
      "{'response': 'B'}\n",
      "**************************************************\n",
      "**************************************************\n",
      "Question 6: \n",
      "Language: english\n",
      "Question: \n",
      "Regarding the external ocular muscles, choose the correct answer. a) in the Hering's law, the innervation is equally distributed to the agosist and antagonist muscles, for a given ocular version. b) The persecutory movements will automatically occur, slowly, with the displacement of the fixation point c) In the sherrington's law, the contraction stimulus is distributed between the agonists of both eyes, so that it occur symmetrically. d) Saccadic movements are characterized by abrupq, uncoordinated, reflex movments.\n",
      "Test #0: \n"
     ]
    },
    {
     "name": "stderr",
     "output_type": "stream",
     "text": [
      "\n",
      "llama_print_timings:        load time =  3194.14 ms\n",
      "llama_print_timings:      sample time =    48.19 ms /    86 runs   (    0.56 ms per token,  1784.45 tokens per second)\n",
      "llama_print_timings: prompt eval time =  2823.83 ms /   137 tokens (   20.61 ms per token,    48.52 tokens per second)\n",
      "llama_print_timings:        eval time = 10393.27 ms /    85 runs   (  122.27 ms per token,     8.18 tokens per second)\n",
      "llama_print_timings:       total time = 13469.48 ms\n",
      "Llama.generate: prefix-match hit\n"
     ]
    },
    {
     "name": "stdout",
     "output_type": "stream",
     "text": [
      "{'response': 'A'}\n",
      "Test #1: \n"
     ]
    },
    {
     "name": "stderr",
     "output_type": "stream",
     "text": [
      "\n",
      "llama_print_timings:        load time =  3194.14 ms\n",
      "llama_print_timings:      sample time =    48.09 ms /    86 runs   (    0.56 ms per token,  1788.31 tokens per second)\n",
      "llama_print_timings: prompt eval time =     0.00 ms /     1 tokens (    0.00 ms per token,      inf tokens per second)\n",
      "llama_print_timings:        eval time = 10599.97 ms /    86 runs   (  123.26 ms per token,     8.11 tokens per second)\n",
      "llama_print_timings:       total time = 10854.12 ms\n",
      "Llama.generate: prefix-match hit\n"
     ]
    },
    {
     "name": "stdout",
     "output_type": "stream",
     "text": [
      "{'response': 'A'}\n",
      "Test #2: \n"
     ]
    },
    {
     "name": "stderr",
     "output_type": "stream",
     "text": [
      "\n",
      "llama_print_timings:        load time =  3194.14 ms\n",
      "llama_print_timings:      sample time =    48.08 ms /    86 runs   (    0.56 ms per token,  1788.57 tokens per second)\n",
      "llama_print_timings: prompt eval time =     0.00 ms /     1 tokens (    0.00 ms per token,      inf tokens per second)\n",
      "llama_print_timings:        eval time = 10581.26 ms /    86 runs   (  123.04 ms per token,     8.13 tokens per second)\n",
      "llama_print_timings:       total time = 10836.53 ms\n",
      "Llama.generate: prefix-match hit\n"
     ]
    },
    {
     "name": "stdout",
     "output_type": "stream",
     "text": [
      "{'response': 'A'}\n",
      "Test #3: \n"
     ]
    },
    {
     "name": "stderr",
     "output_type": "stream",
     "text": [
      "\n",
      "llama_print_timings:        load time =  3194.14 ms\n",
      "llama_print_timings:      sample time =    47.79 ms /    86 runs   (    0.56 ms per token,  1799.43 tokens per second)\n",
      "llama_print_timings: prompt eval time =     0.00 ms /     1 tokens (    0.00 ms per token,      inf tokens per second)\n",
      "llama_print_timings:        eval time = 10601.95 ms /    86 runs   (  123.28 ms per token,     8.11 tokens per second)\n",
      "llama_print_timings:       total time = 10853.54 ms\n",
      "Llama.generate: prefix-match hit\n"
     ]
    },
    {
     "name": "stdout",
     "output_type": "stream",
     "text": [
      "{'response': 'A'}\n",
      "Test #4: \n"
     ]
    },
    {
     "name": "stderr",
     "output_type": "stream",
     "text": [
      "\n",
      "llama_print_timings:        load time =  3194.14 ms\n",
      "llama_print_timings:      sample time =    47.92 ms /    86 runs   (    0.56 ms per token,  1794.51 tokens per second)\n",
      "llama_print_timings: prompt eval time =     0.00 ms /     1 tokens (    0.00 ms per token,      inf tokens per second)\n",
      "llama_print_timings:        eval time = 10541.87 ms /    86 runs   (  122.58 ms per token,     8.16 tokens per second)\n",
      "llama_print_timings:       total time = 10793.56 ms\n",
      "Llama.generate: prefix-match hit\n"
     ]
    },
    {
     "name": "stdout",
     "output_type": "stream",
     "text": [
      "{'response': 'A'}\n",
      "Test #5: \n"
     ]
    },
    {
     "name": "stderr",
     "output_type": "stream",
     "text": [
      "\n",
      "llama_print_timings:        load time =  3194.14 ms\n",
      "llama_print_timings:      sample time =    48.18 ms /    86 runs   (    0.56 ms per token,  1785.12 tokens per second)\n",
      "llama_print_timings: prompt eval time =     0.00 ms /     1 tokens (    0.00 ms per token,      inf tokens per second)\n",
      "llama_print_timings:        eval time = 10502.24 ms /    86 runs   (  122.12 ms per token,     8.19 tokens per second)\n",
      "llama_print_timings:       total time = 10754.12 ms\n",
      "Llama.generate: prefix-match hit\n"
     ]
    },
    {
     "name": "stdout",
     "output_type": "stream",
     "text": [
      "{'response': 'A'}\n",
      "Test #6: \n"
     ]
    },
    {
     "name": "stderr",
     "output_type": "stream",
     "text": [
      "\n",
      "llama_print_timings:        load time =  3194.14 ms\n",
      "llama_print_timings:      sample time =    48.64 ms /    86 runs   (    0.57 ms per token,  1768.16 tokens per second)\n",
      "llama_print_timings: prompt eval time =     0.00 ms /     1 tokens (    0.00 ms per token,      inf tokens per second)\n",
      "llama_print_timings:        eval time = 10503.90 ms /    86 runs   (  122.14 ms per token,     8.19 tokens per second)\n",
      "llama_print_timings:       total time = 10761.27 ms\n",
      "Llama.generate: prefix-match hit\n"
     ]
    },
    {
     "name": "stdout",
     "output_type": "stream",
     "text": [
      "{'response': 'A'}\n",
      "Test #7: \n"
     ]
    },
    {
     "name": "stderr",
     "output_type": "stream",
     "text": [
      "\n",
      "llama_print_timings:        load time =  3194.14 ms\n",
      "llama_print_timings:      sample time =    47.94 ms /    86 runs   (    0.56 ms per token,  1793.76 tokens per second)\n",
      "llama_print_timings: prompt eval time =     0.00 ms /     1 tokens (    0.00 ms per token,      inf tokens per second)\n",
      "llama_print_timings:        eval time = 10488.32 ms /    86 runs   (  121.96 ms per token,     8.20 tokens per second)\n",
      "llama_print_timings:       total time = 10742.85 ms\n",
      "Llama.generate: prefix-match hit\n"
     ]
    },
    {
     "name": "stdout",
     "output_type": "stream",
     "text": [
      "{'response': 'A'}\n",
      "Test #8: \n"
     ]
    },
    {
     "name": "stderr",
     "output_type": "stream",
     "text": [
      "\n",
      "llama_print_timings:        load time =  3194.14 ms\n",
      "llama_print_timings:      sample time =    48.00 ms /    86 runs   (    0.56 ms per token,  1791.78 tokens per second)\n",
      "llama_print_timings: prompt eval time =     0.00 ms /     1 tokens (    0.00 ms per token,      inf tokens per second)\n",
      "llama_print_timings:        eval time = 10562.08 ms /    86 runs   (  122.81 ms per token,     8.14 tokens per second)\n",
      "llama_print_timings:       total time = 10817.16 ms\n",
      "Llama.generate: prefix-match hit\n"
     ]
    },
    {
     "name": "stdout",
     "output_type": "stream",
     "text": [
      "{'response': 'A'}\n",
      "Test #9: \n"
     ]
    },
    {
     "name": "stderr",
     "output_type": "stream",
     "text": [
      "\n",
      "llama_print_timings:        load time =  3194.14 ms\n",
      "llama_print_timings:      sample time =    47.93 ms /    86 runs   (    0.56 ms per token,  1794.13 tokens per second)\n",
      "llama_print_timings: prompt eval time =     0.00 ms /     1 tokens (    0.00 ms per token,      inf tokens per second)\n",
      "llama_print_timings:        eval time = 10594.57 ms /    86 runs   (  123.19 ms per token,     8.12 tokens per second)\n",
      "llama_print_timings:       total time = 10848.46 ms\n",
      "Llama.generate: prefix-match hit\n"
     ]
    },
    {
     "name": "stdout",
     "output_type": "stream",
     "text": [
      "{'response': 'A'}\n",
      "Language: portuguese\n",
      "Question: \n",
      "Sobre os músculos oculares externos, assinale a alternativa correta.\n",
      "a)Na lei de Hering, a inervação se distribui igualmente para os músculos agonista e antagonista, para determinada versão.\n",
      "b)Os movimentos persecutórios se dão automaticamente, de maneira lenta, ao deslocamento do ponto de fixação.\n",
      "c)Na lei de Sherrington, o estímulo de contração é distribuído entre os agonistas de ambos os olhos, para que ela ocorra simetricamente.\n",
      "d)Os movimentos sacádicos são caracterizados por movimentos bruscos, descoordenados, de natureza totalmente reflexa.\n",
      "Test #0: \n"
     ]
    },
    {
     "name": "stderr",
     "output_type": "stream",
     "text": [
      "\n",
      "llama_print_timings:        load time =  3194.14 ms\n",
      "llama_print_timings:      sample time =   105.60 ms /   189 runs   (    0.56 ms per token,  1789.76 tokens per second)\n",
      "llama_print_timings: prompt eval time =  2699.12 ms /   178 tokens (   15.16 ms per token,    65.95 tokens per second)\n",
      "llama_print_timings:        eval time = 23183.91 ms /   188 runs   (  123.32 ms per token,     8.11 tokens per second)\n",
      "llama_print_timings:       total time = 26466.00 ms\n",
      "Llama.generate: prefix-match hit\n"
     ]
    },
    {
     "name": "stdout",
     "output_type": "stream",
     "text": [
      "{'response': 'c'}\n",
      "Test #1: \n"
     ]
    },
    {
     "name": "stderr",
     "output_type": "stream",
     "text": [
      "\n",
      "llama_print_timings:        load time =  3194.14 ms\n",
      "llama_print_timings:      sample time =   105.29 ms /   189 runs   (    0.56 ms per token,  1795.09 tokens per second)\n",
      "llama_print_timings: prompt eval time =     0.00 ms /     1 tokens (    0.00 ms per token,      inf tokens per second)\n",
      "llama_print_timings:        eval time = 23322.39 ms /   189 runs   (  123.40 ms per token,     8.10 tokens per second)\n",
      "llama_print_timings:       total time = 23885.72 ms\n",
      "Llama.generate: prefix-match hit\n"
     ]
    },
    {
     "name": "stdout",
     "output_type": "stream",
     "text": [
      "{'response': 'c'}\n",
      "Test #2: \n"
     ]
    },
    {
     "name": "stderr",
     "output_type": "stream",
     "text": [
      "\n",
      "llama_print_timings:        load time =  3194.14 ms\n",
      "llama_print_timings:      sample time =   105.57 ms /   189 runs   (    0.56 ms per token,  1790.32 tokens per second)\n",
      "llama_print_timings: prompt eval time =     0.00 ms /     1 tokens (    0.00 ms per token,      inf tokens per second)\n",
      "llama_print_timings:        eval time = 23200.60 ms /   189 runs   (  122.75 ms per token,     8.15 tokens per second)\n",
      "llama_print_timings:       total time = 23775.20 ms\n",
      "Llama.generate: prefix-match hit\n"
     ]
    },
    {
     "name": "stdout",
     "output_type": "stream",
     "text": [
      "{'response': 'c'}\n",
      "Test #3: \n"
     ]
    },
    {
     "name": "stderr",
     "output_type": "stream",
     "text": [
      "\n",
      "llama_print_timings:        load time =  3194.14 ms\n",
      "llama_print_timings:      sample time =   105.31 ms /   189 runs   (    0.56 ms per token,  1794.70 tokens per second)\n",
      "llama_print_timings: prompt eval time =     0.00 ms /     1 tokens (    0.00 ms per token,      inf tokens per second)\n",
      "llama_print_timings:        eval time = 23356.69 ms /   189 runs   (  123.58 ms per token,     8.09 tokens per second)\n",
      "llama_print_timings:       total time = 23920.61 ms\n",
      "Llama.generate: prefix-match hit\n"
     ]
    },
    {
     "name": "stdout",
     "output_type": "stream",
     "text": [
      "{'response': 'c'}\n",
      "Test #4: \n"
     ]
    },
    {
     "name": "stderr",
     "output_type": "stream",
     "text": [
      "\n",
      "llama_print_timings:        load time =  3194.14 ms\n",
      "llama_print_timings:      sample time =   105.79 ms /   189 runs   (    0.56 ms per token,  1786.54 tokens per second)\n",
      "llama_print_timings: prompt eval time =     0.00 ms /     1 tokens (    0.00 ms per token,      inf tokens per second)\n",
      "llama_print_timings:        eval time = 23385.57 ms /   189 runs   (  123.73 ms per token,     8.08 tokens per second)\n",
      "llama_print_timings:       total time = 23958.53 ms\n",
      "Llama.generate: prefix-match hit\n"
     ]
    },
    {
     "name": "stdout",
     "output_type": "stream",
     "text": [
      "{'response': 'c'}\n",
      "Test #5: \n"
     ]
    },
    {
     "name": "stderr",
     "output_type": "stream",
     "text": [
      "\n",
      "llama_print_timings:        load time =  3194.14 ms\n",
      "llama_print_timings:      sample time =   105.46 ms /   189 runs   (    0.56 ms per token,  1792.15 tokens per second)\n",
      "llama_print_timings: prompt eval time =     0.00 ms /     1 tokens (    0.00 ms per token,      inf tokens per second)\n",
      "llama_print_timings:        eval time = 23213.82 ms /   189 runs   (  122.82 ms per token,     8.14 tokens per second)\n",
      "llama_print_timings:       total time = 23783.17 ms\n",
      "Llama.generate: prefix-match hit\n"
     ]
    },
    {
     "name": "stdout",
     "output_type": "stream",
     "text": [
      "{'response': 'c'}\n",
      "Test #6: \n"
     ]
    },
    {
     "name": "stderr",
     "output_type": "stream",
     "text": [
      "\n",
      "llama_print_timings:        load time =  3194.14 ms\n",
      "llama_print_timings:      sample time =   105.99 ms /   189 runs   (    0.56 ms per token,  1783.12 tokens per second)\n",
      "llama_print_timings: prompt eval time =     0.00 ms /     1 tokens (    0.00 ms per token,      inf tokens per second)\n",
      "llama_print_timings:        eval time = 23195.15 ms /   189 runs   (  122.73 ms per token,     8.15 tokens per second)\n",
      "llama_print_timings:       total time = 23772.67 ms\n",
      "Llama.generate: prefix-match hit\n"
     ]
    },
    {
     "name": "stdout",
     "output_type": "stream",
     "text": [
      "{'response': 'c'}\n",
      "Test #7: \n"
     ]
    },
    {
     "name": "stderr",
     "output_type": "stream",
     "text": [
      "\n",
      "llama_print_timings:        load time =  3194.14 ms\n",
      "llama_print_timings:      sample time =   106.40 ms /   189 runs   (    0.56 ms per token,  1776.37 tokens per second)\n",
      "llama_print_timings: prompt eval time =     0.00 ms /     1 tokens (    0.00 ms per token,      inf tokens per second)\n",
      "llama_print_timings:        eval time = 23264.38 ms /   189 runs   (  123.09 ms per token,     8.12 tokens per second)\n",
      "llama_print_timings:       total time = 23841.63 ms\n",
      "Llama.generate: prefix-match hit\n"
     ]
    },
    {
     "name": "stdout",
     "output_type": "stream",
     "text": [
      "{'response': 'c'}\n",
      "Test #8: \n"
     ]
    },
    {
     "name": "stderr",
     "output_type": "stream",
     "text": [
      "\n",
      "llama_print_timings:        load time =  3194.14 ms\n",
      "llama_print_timings:      sample time =   105.72 ms /   189 runs   (    0.56 ms per token,  1787.69 tokens per second)\n",
      "llama_print_timings: prompt eval time =     0.00 ms /     1 tokens (    0.00 ms per token,      inf tokens per second)\n",
      "llama_print_timings:        eval time = 23249.65 ms /   189 runs   (  123.01 ms per token,     8.13 tokens per second)\n",
      "llama_print_timings:       total time = 23818.88 ms\n",
      "Llama.generate: prefix-match hit\n"
     ]
    },
    {
     "name": "stdout",
     "output_type": "stream",
     "text": [
      "{'response': 'c'}\n",
      "Test #9: \n"
     ]
    },
    {
     "name": "stderr",
     "output_type": "stream",
     "text": [
      "\n",
      "llama_print_timings:        load time =  3194.14 ms\n",
      "llama_print_timings:      sample time =   106.56 ms /   189 runs   (    0.56 ms per token,  1773.65 tokens per second)\n",
      "llama_print_timings: prompt eval time =     0.00 ms /     1 tokens (    0.00 ms per token,      inf tokens per second)\n",
      "llama_print_timings:        eval time = 23134.80 ms /   189 runs   (  122.41 ms per token,     8.17 tokens per second)\n",
      "llama_print_timings:       total time = 23708.61 ms\n",
      "Llama.generate: prefix-match hit\n"
     ]
    },
    {
     "name": "stdout",
     "output_type": "stream",
     "text": [
      "{'response': 'c'}\n",
      "**************************************************\n",
      "**************************************************\n",
      "Question 7: \n",
      "Language: english\n",
      "Question: \n",
      "About the cornea, it is correct to state. a) The arrangement of corneal collagen fibrils is unrelated to its transparency. b) Pleomorphism of endothelial cells is characterized by the variation in the size of these cells. c) anterior stroma have a large number of mitochondria, responsible for the production of energy that supplies the endothelial pump. d) The endothelium behaves as a permeable non-selective barrier between the aqueous humor and the substantia propria.\n",
      "Test #0: \n"
     ]
    },
    {
     "name": "stderr",
     "output_type": "stream",
     "text": [
      "\n",
      "llama_print_timings:        load time =  3194.14 ms\n",
      "llama_print_timings:      sample time =    40.61 ms /    71 runs   (    0.57 ms per token,  1748.42 tokens per second)\n",
      "llama_print_timings: prompt eval time =  2027.11 ms /   127 tokens (   15.96 ms per token,    62.65 tokens per second)\n",
      "llama_print_timings:        eval time =  8519.21 ms /    70 runs   (  121.70 ms per token,     8.22 tokens per second)\n",
      "llama_print_timings:       total time = 10760.16 ms\n",
      "Llama.generate: prefix-match hit\n"
     ]
    },
    {
     "name": "stdout",
     "output_type": "stream",
     "text": [
      "{'response': 'd'}\n",
      "Test #1: \n"
     ]
    },
    {
     "name": "stderr",
     "output_type": "stream",
     "text": [
      "\n",
      "llama_print_timings:        load time =  3194.14 ms\n",
      "llama_print_timings:      sample time =    40.44 ms /    71 runs   (    0.57 ms per token,  1755.90 tokens per second)\n",
      "llama_print_timings: prompt eval time =     0.00 ms /     1 tokens (    0.00 ms per token,      inf tokens per second)\n",
      "llama_print_timings:        eval time =  8584.21 ms /    71 runs   (  120.90 ms per token,     8.27 tokens per second)\n",
      "llama_print_timings:       total time =  8794.19 ms\n",
      "Llama.generate: prefix-match hit\n"
     ]
    },
    {
     "name": "stdout",
     "output_type": "stream",
     "text": [
      "{'response': 'd'}\n",
      "Test #2: \n"
     ]
    },
    {
     "name": "stderr",
     "output_type": "stream",
     "text": [
      "\n",
      "llama_print_timings:        load time =  3194.14 ms\n",
      "llama_print_timings:      sample time =    39.83 ms /    71 runs   (    0.56 ms per token,  1782.62 tokens per second)\n",
      "llama_print_timings: prompt eval time =     0.00 ms /     1 tokens (    0.00 ms per token,      inf tokens per second)\n",
      "llama_print_timings:        eval time =  8694.52 ms /    71 runs   (  122.46 ms per token,     8.17 tokens per second)\n",
      "llama_print_timings:       total time =  8901.72 ms\n",
      "Llama.generate: prefix-match hit\n"
     ]
    },
    {
     "name": "stdout",
     "output_type": "stream",
     "text": [
      "{'response': 'd'}\n",
      "Test #3: \n"
     ]
    },
    {
     "name": "stderr",
     "output_type": "stream",
     "text": [
      "\n",
      "llama_print_timings:        load time =  3194.14 ms\n",
      "llama_print_timings:      sample time =    39.75 ms /    71 runs   (    0.56 ms per token,  1786.07 tokens per second)\n",
      "llama_print_timings: prompt eval time =     0.00 ms /     1 tokens (    0.00 ms per token,      inf tokens per second)\n",
      "llama_print_timings:        eval time =  8632.52 ms /    71 runs   (  121.58 ms per token,     8.22 tokens per second)\n",
      "llama_print_timings:       total time =  8837.77 ms\n",
      "Llama.generate: prefix-match hit\n"
     ]
    },
    {
     "name": "stdout",
     "output_type": "stream",
     "text": [
      "{'response': 'd'}\n",
      "Test #4: \n"
     ]
    },
    {
     "name": "stderr",
     "output_type": "stream",
     "text": [
      "\n",
      "llama_print_timings:        load time =  3194.14 ms\n",
      "llama_print_timings:      sample time =    39.78 ms /    71 runs   (    0.56 ms per token,  1784.77 tokens per second)\n",
      "llama_print_timings: prompt eval time =     0.00 ms /     1 tokens (    0.00 ms per token,      inf tokens per second)\n",
      "llama_print_timings:        eval time =  8737.48 ms /    71 runs   (  123.06 ms per token,     8.13 tokens per second)\n",
      "llama_print_timings:       total time =  8945.41 ms\n",
      "Llama.generate: prefix-match hit\n"
     ]
    },
    {
     "name": "stdout",
     "output_type": "stream",
     "text": [
      "{'response': 'd'}\n",
      "Test #5: \n"
     ]
    },
    {
     "name": "stderr",
     "output_type": "stream",
     "text": [
      "\n",
      "llama_print_timings:        load time =  3194.14 ms\n",
      "llama_print_timings:      sample time =    40.62 ms /    71 runs   (    0.57 ms per token,  1747.91 tokens per second)\n",
      "llama_print_timings: prompt eval time =     0.00 ms /     1 tokens (    0.00 ms per token,      inf tokens per second)\n",
      "llama_print_timings:        eval time =  8693.51 ms /    71 runs   (  122.44 ms per token,     8.17 tokens per second)\n",
      "llama_print_timings:       total time =  8903.91 ms\n",
      "Llama.generate: prefix-match hit\n"
     ]
    },
    {
     "name": "stdout",
     "output_type": "stream",
     "text": [
      "{'response': 'd'}\n",
      "Test #6: \n"
     ]
    },
    {
     "name": "stderr",
     "output_type": "stream",
     "text": [
      "\n",
      "llama_print_timings:        load time =  3194.14 ms\n",
      "llama_print_timings:      sample time =    39.67 ms /    71 runs   (    0.56 ms per token,  1789.90 tokens per second)\n",
      "llama_print_timings: prompt eval time =     0.00 ms /     1 tokens (    0.00 ms per token,      inf tokens per second)\n",
      "llama_print_timings:        eval time =  8664.44 ms /    71 runs   (  122.03 ms per token,     8.19 tokens per second)\n",
      "llama_print_timings:       total time =  8872.13 ms\n",
      "Llama.generate: prefix-match hit\n"
     ]
    },
    {
     "name": "stdout",
     "output_type": "stream",
     "text": [
      "{'response': 'd'}\n",
      "Test #7: \n"
     ]
    },
    {
     "name": "stderr",
     "output_type": "stream",
     "text": [
      "\n",
      "llama_print_timings:        load time =  3194.14 ms\n",
      "llama_print_timings:      sample time =    39.90 ms /    71 runs   (    0.56 ms per token,  1779.49 tokens per second)\n",
      "llama_print_timings: prompt eval time =     0.00 ms /     1 tokens (    0.00 ms per token,      inf tokens per second)\n",
      "llama_print_timings:        eval time =  8601.01 ms /    71 runs   (  121.14 ms per token,     8.25 tokens per second)\n",
      "llama_print_timings:       total time =  8808.98 ms\n",
      "Llama.generate: prefix-match hit\n"
     ]
    },
    {
     "name": "stdout",
     "output_type": "stream",
     "text": [
      "{'response': 'd'}\n",
      "Test #8: \n"
     ]
    },
    {
     "name": "stderr",
     "output_type": "stream",
     "text": [
      "\n",
      "llama_print_timings:        load time =  3194.14 ms\n",
      "llama_print_timings:      sample time =    39.69 ms /    71 runs   (    0.56 ms per token,  1788.82 tokens per second)\n",
      "llama_print_timings: prompt eval time =     0.00 ms /     1 tokens (    0.00 ms per token,      inf tokens per second)\n",
      "llama_print_timings:        eval time =  8635.18 ms /    71 runs   (  121.62 ms per token,     8.22 tokens per second)\n",
      "llama_print_timings:       total time =  8842.58 ms\n",
      "Llama.generate: prefix-match hit\n"
     ]
    },
    {
     "name": "stdout",
     "output_type": "stream",
     "text": [
      "{'response': 'd'}\n",
      "Test #9: \n",
      "{'response': 'd'}\n",
      "Language: portuguese\n",
      "Question: \n",
      "Sobre a córnea, é correto afirmar:\n",
      "a)A disposição das fibrilas de colágeno corneanas não tem relação com a sua transparência.\n",
      "b)Pleomorfismo das células endoteliais é caracterizado pela variação do tamanho dessas células.\n",
      "c)As células do estroma anterior possuem grande quantidade de mitocôndrias, responsáveis pela produção de energia que supre a bomba endotelial.\n",
      "d)O endotélio comporta-se como uma barreira permeável não-seletiva entre o humor aquoso e a substância própria.\n",
      "Test #0: \n"
     ]
    },
    {
     "name": "stderr",
     "output_type": "stream",
     "text": [
      "\n",
      "llama_print_timings:        load time =  3194.14 ms\n",
      "llama_print_timings:      sample time =    40.60 ms /    71 runs   (    0.57 ms per token,  1748.73 tokens per second)\n",
      "llama_print_timings: prompt eval time =     0.00 ms /     1 tokens (    0.00 ms per token,      inf tokens per second)\n",
      "llama_print_timings:        eval time =  8696.04 ms /    71 runs   (  122.48 ms per token,     8.16 tokens per second)\n",
      "llama_print_timings:       total time =  8906.30 ms\n",
      "Llama.generate: prefix-match hit\n"
     ]
    },
    {
     "name": "stdout",
     "output_type": "stream",
     "text": [
      "{'response': 'c'}\n",
      "Test #1: \n"
     ]
    },
    {
     "name": "stderr",
     "output_type": "stream",
     "text": [
      "\n",
      "llama_print_timings:        load time =  3194.14 ms\n",
      "llama_print_timings:      sample time =     3.96 ms /     7 runs   (    0.57 ms per token,  1768.57 tokens per second)\n",
      "llama_print_timings: prompt eval time =  3045.51 ms /   162 tokens (   18.80 ms per token,    53.19 tokens per second)\n",
      "llama_print_timings:        eval time =   722.23 ms /     6 runs   (  120.37 ms per token,     8.31 tokens per second)\n",
      "llama_print_timings:       total time =  3788.09 ms\n",
      "Llama.generate: prefix-match hit\n"
     ]
    },
    {
     "name": "stdout",
     "output_type": "stream",
     "text": [
      "{'response': 'c'}\n",
      "Test #2: \n"
     ]
    },
    {
     "name": "stderr",
     "output_type": "stream",
     "text": [
      "\n",
      "llama_print_timings:        load time =  3194.14 ms\n",
      "llama_print_timings:      sample time =     3.92 ms /     7 runs   (    0.56 ms per token,  1787.08 tokens per second)\n",
      "llama_print_timings: prompt eval time =     0.00 ms /     1 tokens (    0.00 ms per token,      inf tokens per second)\n",
      "llama_print_timings:        eval time =   846.02 ms /     7 runs   (  120.86 ms per token,     8.27 tokens per second)\n",
      "llama_print_timings:       total time =   866.56 ms\n",
      "Llama.generate: prefix-match hit\n",
      "\n",
      "llama_print_timings:        load time =  3194.14 ms\n",
      "llama_print_timings:      sample time =     3.94 ms /     7 runs   (    0.56 ms per token,  1778.91 tokens per second)\n",
      "llama_print_timings: prompt eval time =     0.00 ms /     1 tokens (    0.00 ms per token,      inf tokens per second)\n",
      "llama_print_timings:        eval time =   842.21 ms /     7 runs   (  120.32 ms per token,     8.31 tokens per second)\n",
      "llama_print_timings:       total time =   862.58 ms\n",
      "Llama.generate: prefix-match hit\n"
     ]
    },
    {
     "name": "stdout",
     "output_type": "stream",
     "text": [
      "{'response': 'c'}\n",
      "Test #3: \n"
     ]
    },
    {
     "name": "stderr",
     "output_type": "stream",
     "text": [
      "\n",
      "llama_print_timings:        load time =  3194.14 ms\n",
      "llama_print_timings:      sample time =     3.91 ms /     7 runs   (    0.56 ms per token,  1792.11 tokens per second)\n",
      "llama_print_timings: prompt eval time =     0.00 ms /     1 tokens (    0.00 ms per token,      inf tokens per second)\n",
      "llama_print_timings:        eval time =   846.13 ms /     7 runs   (  120.88 ms per token,     8.27 tokens per second)\n",
      "llama_print_timings:       total time =   866.05 ms\n",
      "Llama.generate: prefix-match hit\n"
     ]
    },
    {
     "name": "stdout",
     "output_type": "stream",
     "text": [
      "{'response': 'c'}\n",
      "Test #4: \n"
     ]
    },
    {
     "name": "stderr",
     "output_type": "stream",
     "text": [
      "\n",
      "llama_print_timings:        load time =  3194.14 ms\n",
      "llama_print_timings:      sample time =     3.97 ms /     7 runs   (    0.57 ms per token,  1765.45 tokens per second)\n",
      "llama_print_timings: prompt eval time =     0.00 ms /     1 tokens (    0.00 ms per token,      inf tokens per second)\n",
      "llama_print_timings:        eval time =   840.21 ms /     7 runs   (  120.03 ms per token,     8.33 tokens per second)\n",
      "llama_print_timings:       total time =   860.96 ms\n",
      "Llama.generate: prefix-match hit\n"
     ]
    },
    {
     "name": "stdout",
     "output_type": "stream",
     "text": [
      "{'response': 'c'}\n",
      "Test #5: \n"
     ]
    },
    {
     "name": "stderr",
     "output_type": "stream",
     "text": [
      "\n",
      "llama_print_timings:        load time =  3194.14 ms\n",
      "llama_print_timings:      sample time =     3.90 ms /     7 runs   (    0.56 ms per token,  1794.41 tokens per second)\n",
      "llama_print_timings: prompt eval time =     0.00 ms /     1 tokens (    0.00 ms per token,      inf tokens per second)\n",
      "llama_print_timings:        eval time =   847.53 ms /     7 runs   (  121.08 ms per token,     8.26 tokens per second)\n",
      "llama_print_timings:       total time =   867.84 ms\n",
      "Llama.generate: prefix-match hit\n"
     ]
    },
    {
     "name": "stdout",
     "output_type": "stream",
     "text": [
      "{'response': 'c'}\n",
      "Test #6: \n",
      "{'response': 'c'}\n",
      "Test #7: \n"
     ]
    },
    {
     "name": "stderr",
     "output_type": "stream",
     "text": [
      "\n",
      "llama_print_timings:        load time =  3194.14 ms\n",
      "llama_print_timings:      sample time =     3.90 ms /     7 runs   (    0.56 ms per token,  1795.33 tokens per second)\n",
      "llama_print_timings: prompt eval time =     0.00 ms /     1 tokens (    0.00 ms per token,      inf tokens per second)\n",
      "llama_print_timings:        eval time =   865.53 ms /     7 runs   (  123.65 ms per token,     8.09 tokens per second)\n",
      "llama_print_timings:       total time =   886.48 ms\n",
      "Llama.generate: prefix-match hit\n",
      "\n",
      "llama_print_timings:        load time =  3194.14 ms\n",
      "llama_print_timings:      sample time =     3.89 ms /     7 runs   (    0.56 ms per token,  1799.02 tokens per second)\n",
      "llama_print_timings: prompt eval time =     0.00 ms /     1 tokens (    0.00 ms per token,      inf tokens per second)\n",
      "llama_print_timings:        eval time =   851.16 ms /     7 runs   (  121.59 ms per token,     8.22 tokens per second)\n",
      "llama_print_timings:       total time =   871.62 ms\n",
      "Llama.generate: prefix-match hit\n"
     ]
    },
    {
     "name": "stdout",
     "output_type": "stream",
     "text": [
      "{'response': 'c'}\n",
      "Test #8: \n"
     ]
    },
    {
     "name": "stderr",
     "output_type": "stream",
     "text": [
      "\n",
      "llama_print_timings:        load time =  3194.14 ms\n",
      "llama_print_timings:      sample time =     3.89 ms /     7 runs   (    0.56 ms per token,  1798.10 tokens per second)\n",
      "llama_print_timings: prompt eval time =     0.00 ms /     1 tokens (    0.00 ms per token,      inf tokens per second)\n",
      "llama_print_timings:        eval time =   841.46 ms /     7 runs   (  120.21 ms per token,     8.32 tokens per second)\n",
      "llama_print_timings:       total time =   862.05 ms\n",
      "Llama.generate: prefix-match hit\n"
     ]
    },
    {
     "name": "stdout",
     "output_type": "stream",
     "text": [
      "{'response': 'c'}\n",
      "Test #9: \n"
     ]
    },
    {
     "name": "stderr",
     "output_type": "stream",
     "text": [
      "\n",
      "llama_print_timings:        load time =  3194.14 ms\n",
      "llama_print_timings:      sample time =     4.06 ms /     7 runs   (    0.58 ms per token,  1724.56 tokens per second)\n",
      "llama_print_timings: prompt eval time =     0.00 ms /     1 tokens (    0.00 ms per token,      inf tokens per second)\n",
      "llama_print_timings:        eval time =   860.88 ms /     7 runs   (  122.98 ms per token,     8.13 tokens per second)\n",
      "llama_print_timings:       total time =   881.18 ms\n",
      "Llama.generate: prefix-match hit\n"
     ]
    },
    {
     "name": "stdout",
     "output_type": "stream",
     "text": [
      "{'response': 'c'}\n",
      "**************************************************\n",
      "**************************************************\n",
      "Question 8: \n",
      "Language: english\n",
      "Question: \n",
      "Choose the alternative that correctly fills in the gaps. Levocycloversion corresponds to ____________ of the right eye and ________ of the left eye and is triggered when the head is tilted towards the shoulder___________.\n",
      "a) Excicloduction / incicloduction / left.\n",
      "b) Incicloduction / excicloduction / left.\n",
      "c) Excicloduction / incicloduction / law.\n",
      "d) Incicloduction / excicloduction / right.\n",
      "Test #0: \n"
     ]
    },
    {
     "name": "stderr",
     "output_type": "stream",
     "text": [
      "\n",
      "llama_print_timings:        load time =  3194.14 ms\n",
      "llama_print_timings:      sample time =    13.05 ms /    24 runs   (    0.54 ms per token,  1839.64 tokens per second)\n",
      "llama_print_timings: prompt eval time =  2847.91 ms /   126 tokens (   22.60 ms per token,    44.24 tokens per second)\n",
      "llama_print_timings:        eval time =  2832.03 ms /    23 runs   (  123.13 ms per token,     8.12 tokens per second)\n",
      "llama_print_timings:       total time =  5750.77 ms\n",
      "Llama.generate: prefix-match hit\n"
     ]
    },
    {
     "name": "stdout",
     "output_type": "stream",
     "text": [
      "{'response': 'b'}\n",
      "Test #1: \n"
     ]
    },
    {
     "name": "stderr",
     "output_type": "stream",
     "text": [
      "\n",
      "llama_print_timings:        load time =  3194.14 ms\n",
      "llama_print_timings:      sample time =    12.84 ms /    24 runs   (    0.53 ms per token,  1869.30 tokens per second)\n",
      "llama_print_timings: prompt eval time =     0.00 ms /     1 tokens (    0.00 ms per token,      inf tokens per second)\n",
      "llama_print_timings:        eval time =  2925.28 ms /    24 runs   (  121.89 ms per token,     8.20 tokens per second)\n",
      "llama_print_timings:       total time =  2995.34 ms\n",
      "Llama.generate: prefix-match hit\n"
     ]
    },
    {
     "name": "stdout",
     "output_type": "stream",
     "text": [
      "{'response': 'b'}\n",
      "Test #2: \n"
     ]
    },
    {
     "name": "stderr",
     "output_type": "stream",
     "text": [
      "\n",
      "llama_print_timings:        load time =  3194.14 ms\n",
      "llama_print_timings:      sample time =    12.69 ms /    24 runs   (    0.53 ms per token,  1891.85 tokens per second)\n",
      "llama_print_timings: prompt eval time =     0.00 ms /     1 tokens (    0.00 ms per token,      inf tokens per second)\n",
      "llama_print_timings:        eval time =  2993.31 ms /    24 runs   (  124.72 ms per token,     8.02 tokens per second)\n",
      "llama_print_timings:       total time =  3062.40 ms\n",
      "Llama.generate: prefix-match hit\n"
     ]
    },
    {
     "name": "stdout",
     "output_type": "stream",
     "text": [
      "{'response': 'b'}\n",
      "Test #3: \n"
     ]
    },
    {
     "name": "stderr",
     "output_type": "stream",
     "text": [
      "\n",
      "llama_print_timings:        load time =  3194.14 ms\n",
      "llama_print_timings:      sample time =    12.85 ms /    24 runs   (    0.54 ms per token,  1867.85 tokens per second)\n",
      "llama_print_timings: prompt eval time =     0.00 ms /     1 tokens (    0.00 ms per token,      inf tokens per second)\n",
      "llama_print_timings:        eval time =  2945.19 ms /    24 runs   (  122.72 ms per token,     8.15 tokens per second)\n",
      "llama_print_timings:       total time =  3013.91 ms\n",
      "Llama.generate: prefix-match hit\n"
     ]
    },
    {
     "name": "stdout",
     "output_type": "stream",
     "text": [
      "{'response': 'b'}\n",
      "Test #4: \n"
     ]
    },
    {
     "name": "stderr",
     "output_type": "stream",
     "text": [
      "\n",
      "llama_print_timings:        load time =  3194.14 ms\n",
      "llama_print_timings:      sample time =    12.90 ms /    24 runs   (    0.54 ms per token,  1860.75 tokens per second)\n",
      "llama_print_timings: prompt eval time =     0.00 ms /     1 tokens (    0.00 ms per token,      inf tokens per second)\n",
      "llama_print_timings:        eval time =  2921.28 ms /    24 runs   (  121.72 ms per token,     8.22 tokens per second)\n",
      "llama_print_timings:       total time =  2990.73 ms\n",
      "Llama.generate: prefix-match hit\n"
     ]
    },
    {
     "name": "stdout",
     "output_type": "stream",
     "text": [
      "{'response': 'b'}\n",
      "Test #5: \n"
     ]
    },
    {
     "name": "stderr",
     "output_type": "stream",
     "text": [
      "\n",
      "llama_print_timings:        load time =  3194.14 ms\n",
      "llama_print_timings:      sample time =    13.26 ms /    24 runs   (    0.55 ms per token,  1809.68 tokens per second)\n",
      "llama_print_timings: prompt eval time =     0.00 ms /     1 tokens (    0.00 ms per token,      inf tokens per second)\n",
      "llama_print_timings:        eval time =  2920.38 ms /    24 runs   (  121.68 ms per token,     8.22 tokens per second)\n",
      "llama_print_timings:       total time =  2989.81 ms\n",
      "Llama.generate: prefix-match hit\n"
     ]
    },
    {
     "name": "stdout",
     "output_type": "stream",
     "text": [
      "{'response': 'b'}\n",
      "Test #6: \n"
     ]
    },
    {
     "name": "stderr",
     "output_type": "stream",
     "text": [
      "\n",
      "llama_print_timings:        load time =  3194.14 ms\n",
      "llama_print_timings:      sample time =    13.15 ms /    24 runs   (    0.55 ms per token,  1824.54 tokens per second)\n",
      "llama_print_timings: prompt eval time =     0.00 ms /     1 tokens (    0.00 ms per token,      inf tokens per second)\n",
      "llama_print_timings:        eval time =  2932.32 ms /    24 runs   (  122.18 ms per token,     8.18 tokens per second)\n",
      "llama_print_timings:       total time =  3002.55 ms\n",
      "Llama.generate: prefix-match hit\n"
     ]
    },
    {
     "name": "stdout",
     "output_type": "stream",
     "text": [
      "{'response': 'b'}\n",
      "Test #7: \n"
     ]
    },
    {
     "name": "stderr",
     "output_type": "stream",
     "text": [
      "\n",
      "llama_print_timings:        load time =  3194.14 ms\n",
      "llama_print_timings:      sample time =    14.98 ms /    24 runs   (    0.62 ms per token,  1602.24 tokens per second)\n",
      "llama_print_timings: prompt eval time =     0.00 ms /     1 tokens (    0.00 ms per token,      inf tokens per second)\n",
      "llama_print_timings:        eval time =  2897.96 ms /    24 runs   (  120.75 ms per token,     8.28 tokens per second)\n",
      "llama_print_timings:       total time =  2972.23 ms\n",
      "Llama.generate: prefix-match hit\n"
     ]
    },
    {
     "name": "stdout",
     "output_type": "stream",
     "text": [
      "{'response': 'b'}\n",
      "Test #8: \n"
     ]
    },
    {
     "name": "stderr",
     "output_type": "stream",
     "text": [
      "\n",
      "llama_print_timings:        load time =  3194.14 ms\n",
      "llama_print_timings:      sample time =    12.82 ms /    24 runs   (    0.53 ms per token,  1872.37 tokens per second)\n",
      "llama_print_timings: prompt eval time =     0.00 ms /     1 tokens (    0.00 ms per token,      inf tokens per second)\n",
      "llama_print_timings:        eval time =  2985.72 ms /    24 runs   (  124.40 ms per token,     8.04 tokens per second)\n",
      "llama_print_timings:       total time =  3055.87 ms\n",
      "Llama.generate: prefix-match hit\n"
     ]
    },
    {
     "name": "stdout",
     "output_type": "stream",
     "text": [
      "{'response': 'b'}\n",
      "Test #9: \n"
     ]
    },
    {
     "name": "stderr",
     "output_type": "stream",
     "text": [
      "\n",
      "llama_print_timings:        load time =  3194.14 ms\n",
      "llama_print_timings:      sample time =    12.65 ms /    24 runs   (    0.53 ms per token,  1896.63 tokens per second)\n",
      "llama_print_timings: prompt eval time =     0.00 ms /     1 tokens (    0.00 ms per token,      inf tokens per second)\n",
      "llama_print_timings:        eval time =  2908.84 ms /    24 runs   (  121.20 ms per token,     8.25 tokens per second)\n",
      "llama_print_timings:       total time =  2978.08 ms\n",
      "Llama.generate: prefix-match hit\n"
     ]
    },
    {
     "name": "stdout",
     "output_type": "stream",
     "text": [
      "{'response': 'b'}\n",
      "Language: portuguese\n",
      "Question: \n",
      "Assinale a alternativa que preenche corretamente as lacunas. A levocicloversão corresponde a ____________ do olho direito e ________ do olho esquerdo e é desencadeada quando se inclina a cabeça para o ombro___________.\n",
      "a)Exciclodução / inciclodução / esquerdo.\n",
      "b)Inciclodução / exciclodução / esquerdo.\n",
      "c)Exciclodução / inciclodução / direito.\n",
      "d)Inciclodução / exciclodução / direito.\n",
      "Test #0: \n"
     ]
    },
    {
     "name": "stderr",
     "output_type": "stream",
     "text": [
      "\n",
      "llama_print_timings:        load time =  3194.14 ms\n",
      "llama_print_timings:      sample time =    28.44 ms /    51 runs   (    0.56 ms per token,  1793.12 tokens per second)\n",
      "llama_print_timings: prompt eval time =  3575.79 ms /   149 tokens (   24.00 ms per token,    41.67 tokens per second)\n",
      "llama_print_timings:        eval time =  6105.20 ms /    50 runs   (  122.10 ms per token,     8.19 tokens per second)\n",
      "llama_print_timings:       total time =  9834.69 ms\n",
      "Llama.generate: prefix-match hit\n"
     ]
    },
    {
     "name": "stdout",
     "output_type": "stream",
     "text": [
      "{'response': 'b'}\n",
      "Test #1: \n"
     ]
    },
    {
     "name": "stderr",
     "output_type": "stream",
     "text": [
      "\n",
      "llama_print_timings:        load time =  3194.14 ms\n",
      "llama_print_timings:      sample time =    28.03 ms /    51 runs   (    0.55 ms per token,  1819.22 tokens per second)\n",
      "llama_print_timings: prompt eval time =     0.00 ms /     1 tokens (    0.00 ms per token,      inf tokens per second)\n",
      "llama_print_timings:        eval time =  6209.82 ms /    51 runs   (  121.76 ms per token,     8.21 tokens per second)\n",
      "llama_print_timings:       total time =  6359.69 ms\n",
      "Llama.generate: prefix-match hit\n"
     ]
    },
    {
     "name": "stdout",
     "output_type": "stream",
     "text": [
      "{'response': 'b'}\n",
      "Test #2: \n"
     ]
    },
    {
     "name": "stderr",
     "output_type": "stream",
     "text": [
      "\n",
      "llama_print_timings:        load time =  3194.14 ms\n",
      "llama_print_timings:      sample time =    28.07 ms /    51 runs   (    0.55 ms per token,  1816.56 tokens per second)\n",
      "llama_print_timings: prompt eval time =     0.00 ms /     1 tokens (    0.00 ms per token,      inf tokens per second)\n",
      "llama_print_timings:        eval time =  6289.71 ms /    51 runs   (  123.33 ms per token,     8.11 tokens per second)\n",
      "llama_print_timings:       total time =  6440.73 ms\n",
      "Llama.generate: prefix-match hit\n"
     ]
    },
    {
     "name": "stdout",
     "output_type": "stream",
     "text": [
      "{'response': 'b'}\n",
      "Test #3: \n"
     ]
    },
    {
     "name": "stderr",
     "output_type": "stream",
     "text": [
      "\n",
      "llama_print_timings:        load time =  3194.14 ms\n",
      "llama_print_timings:      sample time =    28.10 ms /    51 runs   (    0.55 ms per token,  1814.75 tokens per second)\n",
      "llama_print_timings: prompt eval time =     0.00 ms /     1 tokens (    0.00 ms per token,      inf tokens per second)\n",
      "llama_print_timings:        eval time =  6205.88 ms /    51 runs   (  121.68 ms per token,     8.22 tokens per second)\n",
      "llama_print_timings:       total time =  6356.39 ms\n",
      "Llama.generate: prefix-match hit\n"
     ]
    },
    {
     "name": "stdout",
     "output_type": "stream",
     "text": [
      "{'response': 'b'}\n",
      "Test #4: \n"
     ]
    },
    {
     "name": "stderr",
     "output_type": "stream",
     "text": [
      "\n",
      "llama_print_timings:        load time =  3194.14 ms\n",
      "llama_print_timings:      sample time =    27.94 ms /    51 runs   (    0.55 ms per token,  1825.67 tokens per second)\n",
      "llama_print_timings: prompt eval time =     0.00 ms /     1 tokens (    0.00 ms per token,      inf tokens per second)\n",
      "llama_print_timings:        eval time =  6228.48 ms /    51 runs   (  122.13 ms per token,     8.19 tokens per second)\n",
      "llama_print_timings:       total time =  6378.92 ms\n",
      "Llama.generate: prefix-match hit\n"
     ]
    },
    {
     "name": "stdout",
     "output_type": "stream",
     "text": [
      "{'response': 'b'}\n",
      "Test #5: \n"
     ]
    },
    {
     "name": "stderr",
     "output_type": "stream",
     "text": [
      "\n",
      "llama_print_timings:        load time =  3194.14 ms\n",
      "llama_print_timings:      sample time =    28.10 ms /    51 runs   (    0.55 ms per token,  1814.69 tokens per second)\n",
      "llama_print_timings: prompt eval time =     0.00 ms /     1 tokens (    0.00 ms per token,      inf tokens per second)\n",
      "llama_print_timings:        eval time =  6291.71 ms /    51 runs   (  123.37 ms per token,     8.11 tokens per second)\n",
      "llama_print_timings:       total time =  6441.55 ms\n",
      "Llama.generate: prefix-match hit\n"
     ]
    },
    {
     "name": "stdout",
     "output_type": "stream",
     "text": [
      "{'response': 'b'}\n",
      "Test #6: \n"
     ]
    },
    {
     "name": "stderr",
     "output_type": "stream",
     "text": [
      "\n",
      "llama_print_timings:        load time =  3194.14 ms\n",
      "llama_print_timings:      sample time =    28.15 ms /    51 runs   (    0.55 ms per token,  1811.66 tokens per second)\n",
      "llama_print_timings: prompt eval time =     0.00 ms /     1 tokens (    0.00 ms per token,      inf tokens per second)\n",
      "llama_print_timings:        eval time =  6209.29 ms /    51 runs   (  121.75 ms per token,     8.21 tokens per second)\n",
      "llama_print_timings:       total time =  6358.22 ms\n",
      "Llama.generate: prefix-match hit\n"
     ]
    },
    {
     "name": "stdout",
     "output_type": "stream",
     "text": [
      "{'response': 'b'}\n",
      "Test #7: \n"
     ]
    },
    {
     "name": "stderr",
     "output_type": "stream",
     "text": [
      "\n",
      "llama_print_timings:        load time =  3194.14 ms\n",
      "llama_print_timings:      sample time =    28.26 ms /    51 runs   (    0.55 ms per token,  1804.61 tokens per second)\n",
      "llama_print_timings: prompt eval time =     0.00 ms /     1 tokens (    0.00 ms per token,      inf tokens per second)\n",
      "llama_print_timings:        eval time =  6249.60 ms /    51 runs   (  122.54 ms per token,     8.16 tokens per second)\n",
      "llama_print_timings:       total time =  6397.98 ms\n",
      "Llama.generate: prefix-match hit\n"
     ]
    },
    {
     "name": "stdout",
     "output_type": "stream",
     "text": [
      "{'response': 'b'}\n",
      "Test #8: \n"
     ]
    },
    {
     "name": "stderr",
     "output_type": "stream",
     "text": [
      "\n",
      "llama_print_timings:        load time =  3194.14 ms\n",
      "llama_print_timings:      sample time =    28.06 ms /    51 runs   (    0.55 ms per token,  1817.66 tokens per second)\n",
      "llama_print_timings: prompt eval time =     0.00 ms /     1 tokens (    0.00 ms per token,      inf tokens per second)\n",
      "llama_print_timings:        eval time =  6198.70 ms /    51 runs   (  121.54 ms per token,     8.23 tokens per second)\n",
      "llama_print_timings:       total time =  6348.19 ms\n",
      "Llama.generate: prefix-match hit\n"
     ]
    },
    {
     "name": "stdout",
     "output_type": "stream",
     "text": [
      "{'response': 'b'}\n",
      "Test #9: \n"
     ]
    },
    {
     "name": "stderr",
     "output_type": "stream",
     "text": [
      "\n",
      "llama_print_timings:        load time =  3194.14 ms\n",
      "llama_print_timings:      sample time =    28.03 ms /    51 runs   (    0.55 ms per token,  1819.48 tokens per second)\n",
      "llama_print_timings: prompt eval time =     0.00 ms /     1 tokens (    0.00 ms per token,      inf tokens per second)\n",
      "llama_print_timings:        eval time =  6235.01 ms /    51 runs   (  122.26 ms per token,     8.18 tokens per second)\n",
      "llama_print_timings:       total time =  6383.29 ms\n",
      "Llama.generate: prefix-match hit\n"
     ]
    },
    {
     "name": "stdout",
     "output_type": "stream",
     "text": [
      "{'response': 'b'}\n",
      "**************************************************\n",
      "**************************************************\n",
      "Question 9: \n",
      "Language: english\n",
      "Question: \n",
      "Regarding the vitreous body cells, mark the correct alternative.\n",
      "a) They are more numerous in the adult than in the embryonic vitreous.\n",
      "b) They are mainly represented by lymphocytes and mature neutrophils.\n",
      "c) They are abundant in the region of the vitreous base.\n",
      "d) They are absent in the newborn.\n",
      "Test #0: \n"
     ]
    },
    {
     "name": "stderr",
     "output_type": "stream",
     "text": [
      "\n",
      "llama_print_timings:        load time =  3194.14 ms\n",
      "llama_print_timings:      sample time =    14.24 ms /    25 runs   (    0.57 ms per token,  1755.49 tokens per second)\n",
      "llama_print_timings: prompt eval time =  1946.35 ms /    87 tokens (   22.37 ms per token,    44.70 tokens per second)\n",
      "llama_print_timings:        eval time =  2987.83 ms /    24 runs   (  124.49 ms per token,     8.03 tokens per second)\n",
      "llama_print_timings:       total time =  5007.37 ms\n",
      "Llama.generate: prefix-match hit\n"
     ]
    },
    {
     "name": "stdout",
     "output_type": "stream",
     "text": [
      "{'response': 'b'}\n",
      "Test #1: \n",
      "{'response': 'b'}\n",
      "Test #2: \n"
     ]
    },
    {
     "name": "stderr",
     "output_type": "stream",
     "text": [
      "\n",
      "llama_print_timings:        load time =  3194.14 ms\n",
      "llama_print_timings:      sample time =    14.22 ms /    25 runs   (    0.57 ms per token,  1757.47 tokens per second)\n",
      "llama_print_timings: prompt eval time =     0.00 ms /     1 tokens (    0.00 ms per token,      inf tokens per second)\n",
      "llama_print_timings:        eval time =  3056.55 ms /    25 runs   (  122.26 ms per token,     8.18 tokens per second)\n",
      "llama_print_timings:       total time =  3129.61 ms\n",
      "Llama.generate: prefix-match hit\n"
     ]
    },
    {
     "name": "stdout",
     "output_type": "stream",
     "text": [
      "{'response': 'b'}\n",
      "Test #3: \n"
     ]
    },
    {
     "name": "stderr",
     "output_type": "stream",
     "text": [
      "\n",
      "llama_print_timings:        load time =  3194.14 ms\n",
      "llama_print_timings:      sample time =    13.96 ms /    25 runs   (    0.56 ms per token,  1791.22 tokens per second)\n",
      "llama_print_timings: prompt eval time =     0.00 ms /     1 tokens (    0.00 ms per token,      inf tokens per second)\n",
      "llama_print_timings:        eval time =  3040.63 ms /    25 runs   (  121.63 ms per token,     8.22 tokens per second)\n",
      "llama_print_timings:       total time =  3112.27 ms\n",
      "Llama.generate: prefix-match hit\n",
      "\n",
      "llama_print_timings:        load time =  3194.14 ms\n",
      "llama_print_timings:      sample time =    13.96 ms /    25 runs   (    0.56 ms per token,  1790.70 tokens per second)\n",
      "llama_print_timings: prompt eval time =     0.00 ms /     1 tokens (    0.00 ms per token,      inf tokens per second)\n",
      "llama_print_timings:        eval time =  3039.17 ms /    25 runs   (  121.57 ms per token,     8.23 tokens per second)\n",
      "llama_print_timings:       total time =  3110.83 ms\n",
      "Llama.generate: prefix-match hit\n"
     ]
    },
    {
     "name": "stdout",
     "output_type": "stream",
     "text": [
      "{'response': 'b'}\n",
      "Test #4: \n"
     ]
    },
    {
     "name": "stderr",
     "output_type": "stream",
     "text": [
      "\n",
      "llama_print_timings:        load time =  3194.14 ms\n",
      "llama_print_timings:      sample time =    14.05 ms /    25 runs   (    0.56 ms per token,  1779.23 tokens per second)\n",
      "llama_print_timings: prompt eval time =     0.00 ms /     1 tokens (    0.00 ms per token,      inf tokens per second)\n",
      "llama_print_timings:        eval time =  3034.29 ms /    25 runs   (  121.37 ms per token,     8.24 tokens per second)\n",
      "llama_print_timings:       total time =  3105.08 ms\n",
      "Llama.generate: prefix-match hit\n"
     ]
    },
    {
     "name": "stdout",
     "output_type": "stream",
     "text": [
      "{'response': 'b'}\n",
      "Test #5: \n"
     ]
    },
    {
     "name": "stderr",
     "output_type": "stream",
     "text": [
      "\n",
      "llama_print_timings:        load time =  3194.14 ms\n",
      "llama_print_timings:      sample time =    13.97 ms /    25 runs   (    0.56 ms per token,  1789.81 tokens per second)\n",
      "llama_print_timings: prompt eval time =     0.00 ms /     1 tokens (    0.00 ms per token,      inf tokens per second)\n",
      "llama_print_timings:        eval time =  3039.71 ms /    25 runs   (  121.59 ms per token,     8.22 tokens per second)\n",
      "llama_print_timings:       total time =  3110.20 ms\n",
      "Llama.generate: prefix-match hit\n"
     ]
    },
    {
     "name": "stdout",
     "output_type": "stream",
     "text": [
      "{'response': 'b'}\n",
      "Test #6: \n"
     ]
    },
    {
     "name": "stderr",
     "output_type": "stream",
     "text": [
      "\n",
      "llama_print_timings:        load time =  3194.14 ms\n",
      "llama_print_timings:      sample time =    13.99 ms /    25 runs   (    0.56 ms per token,  1786.48 tokens per second)\n",
      "llama_print_timings: prompt eval time =     0.00 ms /     1 tokens (    0.00 ms per token,      inf tokens per second)\n",
      "llama_print_timings:        eval time =  3018.91 ms /    25 runs   (  120.76 ms per token,     8.28 tokens per second)\n",
      "llama_print_timings:       total time =  3088.83 ms\n",
      "Llama.generate: prefix-match hit\n"
     ]
    },
    {
     "name": "stdout",
     "output_type": "stream",
     "text": [
      "{'response': 'b'}\n",
      "Test #7: \n"
     ]
    },
    {
     "name": "stderr",
     "output_type": "stream",
     "text": [
      "\n",
      "llama_print_timings:        load time =  3194.14 ms\n",
      "llama_print_timings:      sample time =    14.01 ms /    25 runs   (    0.56 ms per token,  1784.57 tokens per second)\n",
      "llama_print_timings: prompt eval time =     0.00 ms /     1 tokens (    0.00 ms per token,      inf tokens per second)\n",
      "llama_print_timings:        eval time =  3048.93 ms /    25 runs   (  121.96 ms per token,     8.20 tokens per second)\n",
      "llama_print_timings:       total time =  3119.78 ms\n",
      "Llama.generate: prefix-match hit\n"
     ]
    },
    {
     "name": "stdout",
     "output_type": "stream",
     "text": [
      "{'response': 'b'}\n",
      "Test #8: \n"
     ]
    },
    {
     "name": "stderr",
     "output_type": "stream",
     "text": [
      "\n",
      "llama_print_timings:        load time =  3194.14 ms\n",
      "llama_print_timings:      sample time =    13.89 ms /    25 runs   (    0.56 ms per token,  1799.47 tokens per second)\n",
      "llama_print_timings: prompt eval time =     0.00 ms /     1 tokens (    0.00 ms per token,      inf tokens per second)\n",
      "llama_print_timings:        eval time =  3018.23 ms /    25 runs   (  120.73 ms per token,     8.28 tokens per second)\n",
      "llama_print_timings:       total time =  3089.82 ms\n",
      "Llama.generate: prefix-match hit\n"
     ]
    },
    {
     "name": "stdout",
     "output_type": "stream",
     "text": [
      "{'response': 'b'}\n",
      "Test #9: \n",
      "{'response': 'b'}\n",
      "Language: portuguese\n",
      "Question: \n",
      "Com relação às células do corpo vítreo, assinale a alternativa correta.\n",
      "a)São mais numerosos no adulto, comparativamente às do vítreo embrionário.\n",
      "b)São representadas principalmente por linfócitos e neutrófilos maduros.\n",
      "c)São abundantes na região da base vítrea.\n",
      "d)Estão ausentes no recém-nascido.\n",
      "Test #0: \n"
     ]
    },
    {
     "name": "stderr",
     "output_type": "stream",
     "text": [
      "\n",
      "llama_print_timings:        load time =  3194.14 ms\n",
      "llama_print_timings:      sample time =    14.18 ms /    25 runs   (    0.57 ms per token,  1763.17 tokens per second)\n",
      "llama_print_timings: prompt eval time =     0.00 ms /     1 tokens (    0.00 ms per token,      inf tokens per second)\n",
      "llama_print_timings:        eval time =  3040.68 ms /    25 runs   (  121.63 ms per token,     8.22 tokens per second)\n",
      "llama_print_timings:       total time =  3111.27 ms\n",
      "Llama.generate: prefix-match hit\n",
      "\n",
      "llama_print_timings:        load time =  3194.14 ms\n",
      "llama_print_timings:      sample time =    25.62 ms /    46 runs   (    0.56 ms per token,  1795.33 tokens per second)\n",
      "llama_print_timings: prompt eval time =  2397.43 ms /   108 tokens (   22.20 ms per token,    45.05 tokens per second)\n",
      "llama_print_timings:        eval time =  5515.46 ms /    45 runs   (  122.57 ms per token,     8.16 tokens per second)\n",
      "llama_print_timings:       total time =  8045.87 ms\n",
      "Llama.generate: prefix-match hit\n"
     ]
    },
    {
     "name": "stdout",
     "output_type": "stream",
     "text": [
      "{'response': 'c'}\n",
      "Test #1: \n"
     ]
    },
    {
     "name": "stderr",
     "output_type": "stream",
     "text": [
      "\n",
      "llama_print_timings:        load time =  3194.14 ms\n",
      "llama_print_timings:      sample time =    25.64 ms /    46 runs   (    0.56 ms per token,  1794.14 tokens per second)\n",
      "llama_print_timings: prompt eval time =     0.00 ms /     1 tokens (    0.00 ms per token,      inf tokens per second)\n",
      "llama_print_timings:        eval time =  5556.60 ms /    46 runs   (  120.80 ms per token,     8.28 tokens per second)\n",
      "llama_print_timings:       total time =  5688.21 ms\n",
      "Llama.generate: prefix-match hit\n"
     ]
    },
    {
     "name": "stdout",
     "output_type": "stream",
     "text": [
      "{'response': 'c'}\n",
      "Test #2: \n"
     ]
    },
    {
     "name": "stderr",
     "output_type": "stream",
     "text": [
      "\n",
      "llama_print_timings:        load time =  3194.14 ms\n",
      "llama_print_timings:      sample time =    25.69 ms /    46 runs   (    0.56 ms per token,  1790.86 tokens per second)\n",
      "llama_print_timings: prompt eval time =     0.00 ms /     1 tokens (    0.00 ms per token,      inf tokens per second)\n",
      "llama_print_timings:        eval time =  5586.95 ms /    46 runs   (  121.46 ms per token,     8.23 tokens per second)\n",
      "llama_print_timings:       total time =  5719.77 ms\n",
      "Llama.generate: prefix-match hit\n"
     ]
    },
    {
     "name": "stdout",
     "output_type": "stream",
     "text": [
      "{'response': 'c'}\n",
      "Test #3: \n"
     ]
    },
    {
     "name": "stderr",
     "output_type": "stream",
     "text": [
      "\n",
      "llama_print_timings:        load time =  3194.14 ms\n",
      "llama_print_timings:      sample time =    25.72 ms /    46 runs   (    0.56 ms per token,  1788.49 tokens per second)\n",
      "llama_print_timings: prompt eval time =     0.00 ms /     1 tokens (    0.00 ms per token,      inf tokens per second)\n",
      "llama_print_timings:        eval time =  5694.73 ms /    46 runs   (  123.80 ms per token,     8.08 tokens per second)\n",
      "llama_print_timings:       total time =  5827.91 ms\n",
      "Llama.generate: prefix-match hit\n"
     ]
    },
    {
     "name": "stdout",
     "output_type": "stream",
     "text": [
      "{'response': 'c'}\n",
      "Test #4: \n"
     ]
    },
    {
     "name": "stderr",
     "output_type": "stream",
     "text": [
      "\n",
      "llama_print_timings:        load time =  3194.14 ms\n",
      "llama_print_timings:      sample time =    26.09 ms /    46 runs   (    0.57 ms per token,  1763.40 tokens per second)\n",
      "llama_print_timings: prompt eval time =     0.00 ms /     1 tokens (    0.00 ms per token,      inf tokens per second)\n",
      "llama_print_timings:        eval time =  5659.87 ms /    46 runs   (  123.04 ms per token,     8.13 tokens per second)\n",
      "llama_print_timings:       total time =  5795.76 ms\n",
      "Llama.generate: prefix-match hit\n"
     ]
    },
    {
     "name": "stdout",
     "output_type": "stream",
     "text": [
      "{'response': 'c'}\n",
      "Test #5: \n"
     ]
    },
    {
     "name": "stderr",
     "output_type": "stream",
     "text": [
      "\n",
      "llama_print_timings:        load time =  3194.14 ms\n",
      "llama_print_timings:      sample time =    25.66 ms /    46 runs   (    0.56 ms per token,  1792.32 tokens per second)\n",
      "llama_print_timings: prompt eval time =     0.00 ms /     1 tokens (    0.00 ms per token,      inf tokens per second)\n",
      "llama_print_timings:        eval time =  5579.19 ms /    46 runs   (  121.29 ms per token,     8.24 tokens per second)\n",
      "llama_print_timings:       total time =  5710.31 ms\n",
      "Llama.generate: prefix-match hit\n"
     ]
    },
    {
     "name": "stdout",
     "output_type": "stream",
     "text": [
      "{'response': 'c'}\n",
      "Test #6: \n"
     ]
    },
    {
     "name": "stderr",
     "output_type": "stream",
     "text": [
      "\n",
      "llama_print_timings:        load time =  3194.14 ms\n",
      "llama_print_timings:      sample time =    25.58 ms /    46 runs   (    0.56 ms per token,  1798.07 tokens per second)\n",
      "llama_print_timings: prompt eval time =     0.00 ms /     1 tokens (    0.00 ms per token,      inf tokens per second)\n",
      "llama_print_timings:        eval time =  5573.00 ms /    46 runs   (  121.15 ms per token,     8.25 tokens per second)\n",
      "llama_print_timings:       total time =  5703.75 ms\n",
      "Llama.generate: prefix-match hit\n"
     ]
    },
    {
     "name": "stdout",
     "output_type": "stream",
     "text": [
      "{'response': 'c'}\n",
      "Test #7: \n"
     ]
    },
    {
     "name": "stderr",
     "output_type": "stream",
     "text": [
      "\n",
      "llama_print_timings:        load time =  3194.14 ms\n",
      "llama_print_timings:      sample time =    25.65 ms /    46 runs   (    0.56 ms per token,  1793.44 tokens per second)\n",
      "llama_print_timings: prompt eval time =     0.00 ms /     1 tokens (    0.00 ms per token,      inf tokens per second)\n",
      "llama_print_timings:        eval time =  5571.06 ms /    46 runs   (  121.11 ms per token,     8.26 tokens per second)\n",
      "llama_print_timings:       total time =  5703.38 ms\n",
      "Llama.generate: prefix-match hit\n"
     ]
    },
    {
     "name": "stdout",
     "output_type": "stream",
     "text": [
      "{'response': 'c'}\n",
      "Test #8: \n"
     ]
    },
    {
     "name": "stderr",
     "output_type": "stream",
     "text": [
      "\n",
      "llama_print_timings:        load time =  3194.14 ms\n",
      "llama_print_timings:      sample time =    25.49 ms /    46 runs   (    0.55 ms per token,  1804.77 tokens per second)\n",
      "llama_print_timings: prompt eval time =     0.00 ms /     1 tokens (    0.00 ms per token,      inf tokens per second)\n",
      "llama_print_timings:        eval time =  5570.43 ms /    46 runs   (  121.10 ms per token,     8.26 tokens per second)\n",
      "llama_print_timings:       total time =  5701.33 ms\n",
      "Llama.generate: prefix-match hit\n"
     ]
    },
    {
     "name": "stdout",
     "output_type": "stream",
     "text": [
      "{'response': 'c'}\n",
      "Test #9: \n"
     ]
    },
    {
     "name": "stderr",
     "output_type": "stream",
     "text": [
      "\n",
      "llama_print_timings:        load time =  3194.14 ms\n",
      "llama_print_timings:      sample time =    25.63 ms /    46 runs   (    0.56 ms per token,  1794.77 tokens per second)\n",
      "llama_print_timings: prompt eval time =     0.00 ms /     1 tokens (    0.00 ms per token,      inf tokens per second)\n",
      "llama_print_timings:        eval time =  5639.51 ms /    46 runs   (  122.60 ms per token,     8.16 tokens per second)\n",
      "llama_print_timings:       total time =  5771.46 ms\n",
      "Llama.generate: prefix-match hit\n"
     ]
    },
    {
     "name": "stdout",
     "output_type": "stream",
     "text": [
      "{'response': 'c'}\n",
      "**************************************************\n",
      "**************************************************\n",
      "Question 10: \n",
      "Language: english\n",
      "Question: \n",
      "Regarding the physiology of the oculomotor muscles, mark the correct alternative.\n",
      "a) Muscle contraction is independent of calcium availability.\n",
      "b) The muscle fiber is a multinucleated cell.\n",
      "c) Each muscle contraction is the result of a unique cycle of formation and destruction of actin-myosin bridges.\n",
      "d) Muscle relaxation rely mainly on sodium availability.\n",
      "Test #0: \n"
     ]
    },
    {
     "name": "stderr",
     "output_type": "stream",
     "text": [
      "\n",
      "llama_print_timings:        load time =  3194.14 ms\n",
      "llama_print_timings:      sample time =    15.93 ms /    27 runs   (    0.59 ms per token,  1694.49 tokens per second)\n",
      "llama_print_timings: prompt eval time =  2234.84 ms /   102 tokens (   21.91 ms per token,    45.64 tokens per second)\n",
      "llama_print_timings:        eval time =  3274.68 ms /    26 runs   (  125.95 ms per token,     7.94 tokens per second)\n",
      "llama_print_timings:       total time =  5589.24 ms\n",
      "Llama.generate: prefix-match hit\n"
     ]
    },
    {
     "name": "stdout",
     "output_type": "stream",
     "text": [
      "{'response': 'c'}\n",
      "Test #1: \n"
     ]
    },
    {
     "name": "stderr",
     "output_type": "stream",
     "text": [
      "\n",
      "llama_print_timings:        load time =  3194.14 ms\n",
      "llama_print_timings:      sample time =    15.81 ms /    27 runs   (    0.59 ms per token,  1707.46 tokens per second)\n",
      "llama_print_timings: prompt eval time =     0.00 ms /     1 tokens (    0.00 ms per token,      inf tokens per second)\n",
      "llama_print_timings:        eval time =  3257.38 ms /    27 runs   (  120.64 ms per token,     8.29 tokens per second)\n",
      "llama_print_timings:       total time =  3336.04 ms\n",
      "Llama.generate: prefix-match hit\n"
     ]
    },
    {
     "name": "stdout",
     "output_type": "stream",
     "text": [
      "{'response': 'c'}\n",
      "Test #2: \n"
     ]
    },
    {
     "name": "stderr",
     "output_type": "stream",
     "text": [
      "\n",
      "llama_print_timings:        load time =  3194.14 ms\n",
      "llama_print_timings:      sample time =    15.25 ms /    27 runs   (    0.56 ms per token,  1770.49 tokens per second)\n",
      "llama_print_timings: prompt eval time =     0.00 ms /     1 tokens (    0.00 ms per token,      inf tokens per second)\n",
      "llama_print_timings:        eval time =  3301.69 ms /    27 runs   (  122.28 ms per token,     8.18 tokens per second)\n",
      "llama_print_timings:       total time =  3380.43 ms\n",
      "Llama.generate: prefix-match hit\n"
     ]
    },
    {
     "name": "stdout",
     "output_type": "stream",
     "text": [
      "{'response': 'c'}\n",
      "Test #3: \n"
     ]
    },
    {
     "name": "stderr",
     "output_type": "stream",
     "text": [
      "\n",
      "llama_print_timings:        load time =  3194.14 ms\n",
      "llama_print_timings:      sample time =    15.75 ms /    27 runs   (    0.58 ms per token,  1714.83 tokens per second)\n",
      "llama_print_timings: prompt eval time =     0.00 ms /     1 tokens (    0.00 ms per token,      inf tokens per second)\n",
      "llama_print_timings:        eval time =  3268.52 ms /    27 runs   (  121.06 ms per token,     8.26 tokens per second)\n",
      "llama_print_timings:       total time =  3348.53 ms\n",
      "Llama.generate: prefix-match hit\n"
     ]
    },
    {
     "name": "stdout",
     "output_type": "stream",
     "text": [
      "{'response': 'c'}\n",
      "Test #4: \n"
     ]
    },
    {
     "name": "stderr",
     "output_type": "stream",
     "text": [
      "\n",
      "llama_print_timings:        load time =  3194.14 ms\n",
      "llama_print_timings:      sample time =    15.17 ms /    27 runs   (    0.56 ms per token,  1779.83 tokens per second)\n",
      "llama_print_timings: prompt eval time =     0.00 ms /     1 tokens (    0.00 ms per token,      inf tokens per second)\n",
      "llama_print_timings:        eval time =  3271.06 ms /    27 runs   (  121.15 ms per token,     8.25 tokens per second)\n",
      "llama_print_timings:       total time =  3351.25 ms\n",
      "Llama.generate: prefix-match hit\n"
     ]
    },
    {
     "name": "stdout",
     "output_type": "stream",
     "text": [
      "{'response': 'c'}\n",
      "Test #5: \n"
     ]
    },
    {
     "name": "stderr",
     "output_type": "stream",
     "text": [
      "\n",
      "llama_print_timings:        load time =  3194.14 ms\n",
      "llama_print_timings:      sample time =    15.29 ms /    27 runs   (    0.57 ms per token,  1765.28 tokens per second)\n",
      "llama_print_timings: prompt eval time =     0.00 ms /     1 tokens (    0.00 ms per token,      inf tokens per second)\n",
      "llama_print_timings:        eval time =  3248.18 ms /    27 runs   (  120.30 ms per token,     8.31 tokens per second)\n",
      "llama_print_timings:       total time =  3327.84 ms\n",
      "Llama.generate: prefix-match hit\n"
     ]
    },
    {
     "name": "stdout",
     "output_type": "stream",
     "text": [
      "{'response': 'c'}\n",
      "Test #6: \n"
     ]
    },
    {
     "name": "stderr",
     "output_type": "stream",
     "text": [
      "\n",
      "llama_print_timings:        load time =  3194.14 ms\n",
      "llama_print_timings:      sample time =    15.31 ms /    27 runs   (    0.57 ms per token,  1763.21 tokens per second)\n",
      "llama_print_timings: prompt eval time =     0.00 ms /     1 tokens (    0.00 ms per token,      inf tokens per second)\n",
      "llama_print_timings:        eval time =  3231.52 ms /    27 runs   (  119.69 ms per token,     8.36 tokens per second)\n",
      "llama_print_timings:       total time =  3308.84 ms\n",
      "Llama.generate: prefix-match hit\n"
     ]
    },
    {
     "name": "stdout",
     "output_type": "stream",
     "text": [
      "{'response': 'c'}\n",
      "Test #7: \n"
     ]
    },
    {
     "name": "stderr",
     "output_type": "stream",
     "text": [
      "\n",
      "llama_print_timings:        load time =  3194.14 ms\n",
      "llama_print_timings:      sample time =    15.23 ms /    27 runs   (    0.56 ms per token,  1773.05 tokens per second)\n",
      "llama_print_timings: prompt eval time =     0.00 ms /     1 tokens (    0.00 ms per token,      inf tokens per second)\n",
      "llama_print_timings:        eval time =  3296.20 ms /    27 runs   (  122.08 ms per token,     8.19 tokens per second)\n",
      "llama_print_timings:       total time =  3374.75 ms\n",
      "Llama.generate: prefix-match hit\n"
     ]
    },
    {
     "name": "stdout",
     "output_type": "stream",
     "text": [
      "{'response': 'c'}\n",
      "Test #8: \n"
     ]
    },
    {
     "name": "stderr",
     "output_type": "stream",
     "text": [
      "\n",
      "llama_print_timings:        load time =  3194.14 ms\n",
      "llama_print_timings:      sample time =    15.22 ms /    27 runs   (    0.56 ms per token,  1774.33 tokens per second)\n",
      "llama_print_timings: prompt eval time =     0.00 ms /     1 tokens (    0.00 ms per token,      inf tokens per second)\n",
      "llama_print_timings:        eval time =  3311.74 ms /    27 runs   (  122.66 ms per token,     8.15 tokens per second)\n",
      "llama_print_timings:       total time =  3389.98 ms\n",
      "Llama.generate: prefix-match hit\n"
     ]
    },
    {
     "name": "stdout",
     "output_type": "stream",
     "text": [
      "{'response': 'c'}\n",
      "Test #9: \n"
     ]
    },
    {
     "name": "stderr",
     "output_type": "stream",
     "text": [
      "\n",
      "llama_print_timings:        load time =  3194.14 ms\n",
      "llama_print_timings:      sample time =    15.02 ms /    27 runs   (    0.56 ms per token,  1797.24 tokens per second)\n",
      "llama_print_timings: prompt eval time =     0.00 ms /     1 tokens (    0.00 ms per token,      inf tokens per second)\n",
      "llama_print_timings:        eval time =  3263.76 ms /    27 runs   (  120.88 ms per token,     8.27 tokens per second)\n",
      "llama_print_timings:       total time =  3339.39 ms\n",
      "Llama.generate: prefix-match hit\n"
     ]
    },
    {
     "name": "stdout",
     "output_type": "stream",
     "text": [
      "{'response': 'c'}\n",
      "Language: portuguese\n",
      "Question: \n",
      "Com relação à fisiologia dos músculos oculomotores, assinale a alternativa correta.\n",
      "a)A contração muscular independe da disponibilidade de cálcio.\n",
      "b)A fibra muscular é uma célula multinucleada.\n",
      "c)Cada contração muscular é resultado de um ciclo único de formação e destruição de pontes de actina-miosina.\n",
      "d)O relaxamento muscular depende principalmente da disponibilidade de sódio.\n",
      "Test #0: \n"
     ]
    }
   ],
   "source": [
    "# Run evaluation:\n",
    "llm_language_evaluation(path=PATH, model=MODEL, temperature=TEMPERATURE, n_repetitions=N_REPETITIONS, reasoning=REASONING, languages=LANGUAGES)"
   ]
  },
  {
   "cell_type": "markdown",
   "id": "bbaa1599",
   "metadata": {},
   "source": [
    "#### See the results"
   ]
  },
  {
   "cell_type": "code",
   "execution_count": null,
   "id": "37d264a6",
   "metadata": {
    "height": 30
   },
   "outputs": [],
   "source": [
    "if N_REPETITIONS > 1:\n",
    "    df = pd.read_csv(f\"responses/{MODEL}_Temperature{str(TEMPERATURE).replace('.', '_')}_{N_REPETITIONS}Repetitions.csv\")\n",
    "else:\n",
    "    df = pd.read_csv(f\"responses/{MODEL}_Temperature{str(TEMPERATURE).replace('.', '_')}.csv\")\n",
    "\n",
    "df"
   ]
  },
  {
   "cell_type": "markdown",
   "id": "c1ec5f59",
   "metadata": {},
   "source": [
    "### Data Analysis"
   ]
  },
  {
   "cell_type": "code",
   "execution_count": null,
   "id": "78842782",
   "metadata": {},
   "outputs": [],
   "source": [
    "TEMPERATURE = str(TEMPERATURE).replace('.', '_')\n",
    "\n",
    "run_analysis(model=MODEL, temperature=TEMPERATURE, n_repetitions=N_REPETITIONS, languages=LANGUAGES)"
   ]
  },
  {
   "cell_type": "code",
   "execution_count": null,
   "id": "12375020",
   "metadata": {},
   "outputs": [],
   "source": [
    "N_REPETITIONS = 1 if N_REPETITIONS < 1 else N_REPETITIONS\n",
    "pd.read_csv(f'results/results_{MODEL}_Temperature{TEMPERATURE}_Repetitions{N_REPETITIONS}/matches_results_{MODEL}.csv')"
   ]
  },
  {
   "cell_type": "code",
   "execution_count": null,
   "id": "ae008352",
   "metadata": {},
   "outputs": [],
   "source": [
    "N_REPETITIONS = 1 if N_REPETITIONS < 1 else N_REPETITIONS\n",
    "pd.read_csv(f'results/results_{MODEL}_Temperature{TEMPERATURE}_Repetitions{N_REPETITIONS}/matches_by_theme_{MODEL}.csv')"
   ]
  },
  {
   "cell_type": "code",
   "execution_count": null,
   "id": "6e023791",
   "metadata": {},
   "outputs": [],
   "source": []
  }
 ],
 "metadata": {
  "kernelspec": {
   "display_name": "Python [conda env:nlp_bias_vpython=3_8_15]",
   "language": "python",
   "name": "conda-env-nlp_bias_vpython_3_8_15-py"
  },
  "language_info": {
   "codemirror_mode": {
    "name": "ipython",
    "version": 3
   },
   "file_extension": ".py",
   "mimetype": "text/x-python",
   "name": "python",
   "nbconvert_exporter": "python",
   "pygments_lexer": "ipython3",
   "version": "3.8.15"
  }
 },
 "nbformat": 4,
 "nbformat_minor": 5
}
